{
 "cells": [
  {
   "cell_type": "code",
   "execution_count": 1,
   "id": "478b9b0e",
   "metadata": {
    "ExecuteTime": {
     "end_time": "2022-07-11T08:07:05.782444Z",
     "start_time": "2022-07-11T08:07:05.768617Z"
    }
   },
   "outputs": [],
   "source": [
    "class Neuron:\n",
    "\n",
    "    def __init__(self):\n",
    "        self.w = 1.0  # 가중치를 초기화합니다\n",
    "        self.b = 1.0  # 절편을 초기화합니다\n",
    "\n",
    "    def forpass(self, x):\n",
    "        y_hat = x * self.w + self.b  # 직선 방정식을 계산합니다\n",
    "        return y_hat\n",
    "\n",
    "    def backprop(self, x, err):\n",
    "        w_grad = x * err  # 가중치에 대한 그래디언트를 계산합니다\n",
    "        b_grad = 1 * err  # 절편에 대한 그래디언트를 계산합니다\n",
    "        return w_grad, b_grad\n",
    "\n",
    "    def fit(self, x, y, epochs=1):\n",
    "        for i in range(epochs):  # 에포크만큼 반복합니다\n",
    "            for x_i, y_i in zip(x, y):  # 모든 샘플에 대해 반복합니다\n",
    "                y_hat = self.forpass(x_i)  # 정방향 계산\n",
    "                err = -(y_i - y_hat)  # 오차 계산\n",
    "                w_grad, b_grad = self.backprop(x_i, err)  # 역방향 계산\n",
    "                self.w -= w_grad  # 가중치 업데이트\n",
    "                self.b -= b_grad  # 절편 업데이트"
   ]
  },
  {
   "cell_type": "code",
   "execution_count": 8,
   "id": "e0494a23",
   "metadata": {
    "ExecuteTime": {
     "end_time": "2022-07-11T08:19:01.566078Z",
     "start_time": "2022-07-11T08:19:01.557011Z"
    }
   },
   "outputs": [
    {
     "data": {
      "text/plain": [
       "(array([  19.,  828., 8619.,   19.,   19.,  828.]),\n",
       " array([  12.,  361., 3790.,   12.,   12.,  361.]))"
      ]
     },
     "execution_count": 8,
     "metadata": {},
     "output_type": "execute_result"
    }
   ],
   "source": [
    "import numpy as np\n",
    "\n",
    "x = np.array([1, 2, 3, 1, 1, 2])\n",
    "y = np.array([1, 2, 1, 1, 1, 1])\n",
    "\n",
    "# neuron = Neuron()\n",
    "# neuron.fit(x, y)\n",
    "\n",
    "self_w = 1.  # 가중치 초기화\n",
    "self_b = 1.\n",
    "\n",
    "batch_size = 2\n",
    "start = 0\n",
    "cnt = 0\n",
    "for batch_count in range(len(x) / batch_size):\n",
    "    for x_i, y_i in zip(x, y):  # 모든 샘플에 대해 반복합니다.\n",
    "        y_hat = x * self_w + self_b  # 정방향계산, 직선 방정식을 계산합니다.\n",
    "        err = -(y_i - y_hat)\n",
    "\n",
    "        w_grad = x_i * err  # 역방향 미분\n",
    "        b_grad = 1 * err  # 역방향 미분\n",
    "\n",
    "        self_w -= w_grad\n",
    "        self_b -= b_grad\n",
    "        start += batch_size\n",
    "        cnt += 1\n",
    "\n",
    "print(cnt)\n",
    "self_w, self_b"
   ]
  },
  {
   "cell_type": "markdown",
   "id": "79902ffc",
   "metadata": {
    "ExecuteTime": {
     "end_time": "2022-07-11T08:08:29.942605Z",
     "start_time": "2022-07-11T08:08:29.484561Z"
    }
   },
   "source": [
    "- batch_size는 한번에 불러오는 데이터의 갯수이고, 이 batch_size 단위로 w, b의 갱신이 이루어짐\n",
    "- x_data가 6개일 때 batch_size=1이면 1개의 데이터 읽어서 오차계산 w, b 갱신하고 2, 3, 4, ... 총 6번의 갱신\n",
    "- batch_size=3이면 총 2번의 w, b의 갱신이 이루어짐\n",
    "- epoch 한번 당 w, b갱신이 이루어짐"
   ]
  },
  {
   "cell_type": "code",
   "execution_count": 9,
   "id": "eebfe010",
   "metadata": {
    "ExecuteTime": {
     "end_time": "2022-07-11T08:33:55.960607Z",
     "start_time": "2022-07-11T08:33:55.085961Z"
    }
   },
   "outputs": [],
   "source": [
    "from sklearn.datasets import load_diabetes\n",
    "\n",
    "diabetes = load_diabetes()"
   ]
  },
  {
   "cell_type": "code",
   "execution_count": 10,
   "id": "b56f7653",
   "metadata": {
    "ExecuteTime": {
     "end_time": "2022-07-11T08:34:10.586960Z",
     "start_time": "2022-07-11T08:34:10.574947Z"
    }
   },
   "outputs": [
    {
     "name": "stdout",
     "output_type": "stream",
     "text": [
      "(442, 10) (442,)\n"
     ]
    }
   ],
   "source": [
    "print(diabetes.data.shape, diabetes.target.shape)"
   ]
  },
  {
   "cell_type": "code",
   "execution_count": 11,
   "id": "d7ade989",
   "metadata": {
    "ExecuteTime": {
     "end_time": "2022-07-11T08:34:17.895232Z",
     "start_time": "2022-07-11T08:34:17.884553Z"
    }
   },
   "outputs": [
    {
     "data": {
      "text/plain": [
       "array([[ 0.03807591,  0.05068012,  0.06169621,  0.02187239, -0.0442235 ,\n",
       "        -0.03482076, -0.04340085, -0.00259226,  0.01990749, -0.01764613],\n",
       "       [-0.00188202, -0.04464164, -0.05147406, -0.02632753, -0.00844872,\n",
       "        -0.01916334,  0.07441156, -0.03949338, -0.06833155, -0.09220405],\n",
       "       [ 0.08529891,  0.05068012,  0.04445121, -0.00567042, -0.04559945,\n",
       "        -0.03419447, -0.03235593, -0.00259226,  0.00286131, -0.02593034]])"
      ]
     },
     "execution_count": 11,
     "metadata": {},
     "output_type": "execute_result"
    }
   ],
   "source": [
    "diabetes.data[0:3]"
   ]
  },
  {
   "cell_type": "code",
   "execution_count": 12,
   "id": "4ca71bc2",
   "metadata": {
    "ExecuteTime": {
     "end_time": "2022-07-11T08:34:51.594823Z",
     "start_time": "2022-07-11T08:34:51.587931Z"
    }
   },
   "outputs": [],
   "source": [
    "import matplotlib.pyplot as plt"
   ]
  },
  {
   "cell_type": "code",
   "execution_count": 13,
   "id": "222826d5",
   "metadata": {
    "ExecuteTime": {
     "end_time": "2022-07-11T08:34:55.724598Z",
     "start_time": "2022-07-11T08:34:55.652509Z"
    }
   },
   "outputs": [
    {
     "data": {
      "image/png": "[encoded data removed]",
      "text/plain": [
       "<Figure size 432x288 with 1 Axes>"
      ]
     },
     "metadata": {
      "needs_background": "light"
     },
     "output_type": "display_data"
    }
   ],
   "source": [
    "plt.scatter(diabetes.data[:, 2], diabetes.target)\n",
    "plt.xlabel('x')\n",
    "plt.ylabel('y')\n",
    "plt.show()"
   ]
  },
  {
   "cell_type": "code",
   "execution_count": 14,
   "id": "455a7de1",
   "metadata": {
    "ExecuteTime": {
     "end_time": "2022-07-11T08:35:30.656338Z",
     "start_time": "2022-07-11T08:35:30.646339Z"
    }
   },
   "outputs": [],
   "source": [
    "x = diabetes.data[:, 2]\n",
    "y = diabetes.target"
   ]
  },
  {
   "cell_type": "code",
   "execution_count": 15,
   "id": "775cacdf",
   "metadata": {
    "ExecuteTime": {
     "end_time": "2022-07-11T08:35:37.052624Z",
     "start_time": "2022-07-11T08:35:37.043650Z"
    }
   },
   "outputs": [
    {
     "name": "stdout",
     "output_type": "stream",
     "text": [
      "[-0.06440781  0.01750591 -0.04500719  0.02828403  0.04121778  0.06492964\n",
      " -0.03207344 -0.07626374  0.04984027  0.04552903] (10,)\n"
     ]
    }
   ],
   "source": [
    "x_sample = x[99:109]\n",
    "print(x_sample, x_sample.shape)"
   ]
  },
  {
   "cell_type": "code",
   "execution_count": null,
   "id": "e20c0e1b",
   "metadata": {},
   "outputs": [],
   "source": []
  }
 ],
 "metadata": {
  "kernelspec": {
   "display_name": "Python 3 (ipykernel)",
   "language": "python",
   "name": "python3"
  },
  "language_info": {
   "codemirror_mode": {
    "name": "ipython",
    "version": 3
   },
   "file_extension": ".py",
   "mimetype": "text/x-python",
   "name": "python",
   "nbconvert_exporter": "python",
   "pygments_lexer": "ipython3",
   "version": "3.9.12"
  },
  "varInspector": {
   "cols": {
    "lenName": 16,
    "lenType": 16,
    "lenVar": 40
   },
   "kernels_config": {
    "python": {
     "delete_cmd_postfix": "",
     "delete_cmd_prefix": "del ",
     "library": "var_list.py",
     "varRefreshCmd": "print(var_dic_list())"
    },
    "r": {
     "delete_cmd_postfix": ") ",
     "delete_cmd_prefix": "rm(",
     "library": "var_list.r",
     "varRefreshCmd": "cat(var_dic_list()) "
    }
   },
   "types_to_exclude": [
    "module",
    "function",
    "builtin_function_or_method",
    "instance",
    "_Feature"
   ],
   "window_display": false
  }
 },
 "nbformat": 4,
 "nbformat_minor": 5
}
