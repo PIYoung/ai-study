{
 "cells": [
  {
   "cell_type": "code",
   "execution_count": 4,
   "id": "0f30be59",
   "metadata": {
    "ExecuteTime": {
     "end_time": "2022-07-12T03:53:07.844328Z",
     "start_time": "2022-07-12T03:53:07.780817Z"
    }
   },
   "outputs": [
    {
     "name": "stdout",
     "output_type": "stream",
     "text": [
      "[0.5621765008857981, 0.9990889488055994, 0.9998766054240137, 0.9999999979388463]\n"
     ]
    },
    {
     "data": {
      "text/plain": [
       "[<matplotlib.lines.Line2D at 0x28df451a550>]"
      ]
     },
     "execution_count": 4,
     "metadata": {},
     "output_type": "execute_result"
    },
    {
     "data": {
      "image/png": "[encoded data removed]",
      "text/plain": [
       "<Figure size 432x288 with 1 Axes>"
      ]
     },
     "metadata": {
      "needs_background": "light"
     },
     "output_type": "display_data"
    }
   ],
   "source": [
    "import numpy as np\n",
    "import matplotlib.pyplot as plt\n",
    "\n",
    "xList = [0.25, 7, 9, 20]\n",
    "yList = []\n",
    "\n",
    "for x in xList:\n",
    "    yList.append(1 / (1 + np.exp(-x)))\n",
    "\n",
    "print(yList)\n",
    "\n",
    "plt.plot(xList, yList)"
   ]
  },
  {
   "cell_type": "code",
   "execution_count": 14,
   "id": "16464e8e",
   "metadata": {
    "ExecuteTime": {
     "end_time": "2022-07-12T03:57:13.349488Z",
     "start_time": "2022-07-12T03:57:13.324502Z"
    }
   },
   "outputs": [
    {
     "data": {
      "text/html": [
       "<div>\n",
       "<style scoped>\n",
       "    .dataframe tbody tr th:only-of-type {\n",
       "        vertical-align: middle;\n",
       "    }\n",
       "\n",
       "    .dataframe tbody tr th {\n",
       "        vertical-align: top;\n",
       "    }\n",
       "\n",
       "    .dataframe thead th {\n",
       "        text-align: right;\n",
       "    }\n",
       "</style>\n",
       "<table border=\"1\" class=\"dataframe\">\n",
       "  <thead>\n",
       "    <tr style=\"text-align: right;\">\n",
       "      <th></th>\n",
       "      <th>방갯수</th>\n",
       "      <th>건축년도</th>\n",
       "      <th>재건축여부</th>\n",
       "    </tr>\n",
       "  </thead>\n",
       "  <tbody>\n",
       "    <tr>\n",
       "      <th>0</th>\n",
       "      <td>1</td>\n",
       "      <td>1</td>\n",
       "      <td>1</td>\n",
       "    </tr>\n",
       "    <tr>\n",
       "      <th>1</th>\n",
       "      <td>2</td>\n",
       "      <td>0</td>\n",
       "      <td>0</td>\n",
       "    </tr>\n",
       "    <tr>\n",
       "      <th>2</th>\n",
       "      <td>1</td>\n",
       "      <td>0</td>\n",
       "      <td>0</td>\n",
       "    </tr>\n",
       "    <tr>\n",
       "      <th>3</th>\n",
       "      <td>1</td>\n",
       "      <td>1</td>\n",
       "      <td>1</td>\n",
       "    </tr>\n",
       "    <tr>\n",
       "      <th>4</th>\n",
       "      <td>2</td>\n",
       "      <td>0</td>\n",
       "      <td>1</td>\n",
       "    </tr>\n",
       "    <tr>\n",
       "      <th>5</th>\n",
       "      <td>1</td>\n",
       "      <td>0</td>\n",
       "      <td>1</td>\n",
       "    </tr>\n",
       "    <tr>\n",
       "      <th>6</th>\n",
       "      <td>3</td>\n",
       "      <td>1</td>\n",
       "      <td>1</td>\n",
       "    </tr>\n",
       "    <tr>\n",
       "      <th>7</th>\n",
       "      <td>4</td>\n",
       "      <td>1</td>\n",
       "      <td>0</td>\n",
       "    </tr>\n",
       "  </tbody>\n",
       "</table>\n",
       "</div>"
      ],
      "text/plain": [
       "   방갯수  건축년도  재건축여부\n",
       "0    1     1      1\n",
       "1    2     0      0\n",
       "2    1     0      0\n",
       "3    1     1      1\n",
       "4    2     0      1\n",
       "5    1     0      1\n",
       "6    3     1      1\n",
       "7    4     1      0"
      ]
     },
     "execution_count": 14,
     "metadata": {},
     "output_type": "execute_result"
    }
   ],
   "source": [
    "import pandas as pd\n",
    "\n",
    "roomCnt = [1, 2, 1, 1, 2, 1, 3, 4]  # 방 갯수\n",
    "year = [2001, 1997, 1998, 2020, 1994, 1999, 2000, 2010]  # 건축년도\n",
    "isRebuild = [1, 0, 0, 1, 1, 1, 1, 0]  # 재건축여부\n",
    "\n",
    "df = pd.DataFrame({'방갯수': roomCnt, '건축년도': year, '재건축여부': isRebuild})\n",
    "\n",
    "df['건축년도'] = df['건축년도'] / 2000  # scaling\n",
    "df['건축년도'] = df['건축년도'].astype('int32')  # casting to int32\n",
    "\n",
    "x = df[['방갯수', '건축년도']].values\n",
    "y = df['재건축여부'].values\n",
    "df"
   ]
  },
  {
   "cell_type": "code",
   "execution_count": 16,
   "id": "2ac71fc5",
   "metadata": {
    "ExecuteTime": {
     "end_time": "2022-07-12T03:59:55.268943Z",
     "start_time": "2022-07-12T03:59:54.960533Z"
    }
   },
   "outputs": [
    {
     "name": "stdout",
     "output_type": "stream",
     "text": [
      "1/1 [==============================] - 0s 225ms/step - loss: 0.7385 - accuracy: 0.2500\n",
      "<keras.callbacks.History object at 0x0000028DA6BDAA90>\n",
      "Model: \"sequential\"\n",
      "_________________________________________________________________\n",
      " Layer (type)                Output Shape              Param #   \n",
      "=================================================================\n",
      " dense (Dense)               (None, 1)                 3         \n",
      "                                                                 \n",
      "=================================================================\n",
      "Total params: 3\n",
      "Trainable params: 3\n",
      "Non-trainable params: 0\n",
      "_________________________________________________________________\n"
     ]
    }
   ],
   "source": [
    "import tensorflow as tf\n",
    "from tensorflow import keras\n",
    "from tensorflow.keras import layers\n",
    "\n",
    "tf.random.set_seed(1234)  # w값 바꾸지 않기 위해 사용함\n",
    "input_layer = tf.keras.layers.InputLayer(input_shape=(2, ))\n",
    "output_layer = tf.keras.layers.Dense(units=1, activation='sigmoid')\n",
    "\n",
    "model = keras.Sequential([input_layer, output_layer])\n",
    "model.compile(loss='binary_crossentropy', metrics=['accuracy'])\n",
    "print(model.fit(x, y))\n",
    "model.summary()"
   ]
  },
  {
   "cell_type": "code",
   "execution_count": 17,
   "id": "60221803",
   "metadata": {
    "ExecuteTime": {
     "end_time": "2022-07-12T04:00:50.430181Z",
     "start_time": "2022-07-12T04:00:50.419864Z"
    }
   },
   "outputs": [
    {
     "data": {
      "text/plain": [
       "<tf.Tensor: shape=(8, 1), dtype=float32, numpy=\n",
       "array([[0.43392915],\n",
       "       [0.55593234],\n",
       "       [0.5284483 ],\n",
       "       [0.43392915],\n",
       "       [0.55593234],\n",
       "       [0.5284483 ],\n",
       "       [0.48891923],\n",
       "       [0.5165998 ]], dtype=float32)>"
      ]
     },
     "execution_count": 17,
     "metadata": {},
     "output_type": "execute_result"
    }
   ],
   "source": [
    "tmp = tf.keras.Model(inputs=model.input, outputs=model.layers[0].output)(x)\n",
    "tmp"
   ]
  },
  {
   "cell_type": "code",
   "execution_count": 18,
   "id": "56131e7a",
   "metadata": {
    "ExecuteTime": {
     "end_time": "2022-07-12T04:01:04.343043Z",
     "start_time": "2022-07-12T04:01:04.322871Z"
    }
   },
   "outputs": [
    {
     "data": {
      "text/plain": [
       "[array([[ 0.11075377],\n",
       "        [-0.37975395]], dtype=float32),\n",
       " array([0.00316227], dtype=float32)]"
      ]
     },
     "execution_count": 18,
     "metadata": {},
     "output_type": "execute_result"
    }
   ],
   "source": [
    "model.get_weights()"
   ]
  },
  {
   "cell_type": "code",
   "execution_count": 19,
   "id": "85ed9057",
   "metadata": {
    "ExecuteTime": {
     "end_time": "2022-07-12T04:01:15.874513Z",
     "start_time": "2022-07-12T04:01:15.867415Z"
    }
   },
   "outputs": [
    {
     "data": {
      "text/plain": [
       "{'name': 'sequential',\n",
       " 'layers': [{'class_name': 'InputLayer',\n",
       "   'config': {'batch_input_shape': (None, 2),\n",
       "    'dtype': 'float32',\n",
       "    'sparse': False,\n",
       "    'ragged': False,\n",
       "    'name': 'input_2'}},\n",
       "  {'class_name': 'Dense',\n",
       "   'config': {'name': 'dense',\n",
       "    'trainable': True,\n",
       "    'dtype': 'float32',\n",
       "    'units': 1,\n",
       "    'activation': 'sigmoid',\n",
       "    'use_bias': True,\n",
       "    'kernel_initializer': {'class_name': 'GlorotUniform',\n",
       "     'config': {'seed': None}},\n",
       "    'bias_initializer': {'class_name': 'Zeros', 'config': {}},\n",
       "    'kernel_regularizer': None,\n",
       "    'bias_regularizer': None,\n",
       "    'activity_regularizer': None,\n",
       "    'kernel_constraint': None,\n",
       "    'bias_constraint': None}}]}"
      ]
     },
     "execution_count": 19,
     "metadata": {},
     "output_type": "execute_result"
    }
   ],
   "source": [
    "model.get_config()"
   ]
  },
  {
   "cell_type": "code",
   "execution_count": 21,
   "id": "8929b0fc",
   "metadata": {
    "ExecuteTime": {
     "end_time": "2022-07-12T04:02:19.053889Z",
     "start_time": "2022-07-12T04:02:19.043762Z"
    }
   },
   "outputs": [
    {
     "data": {
      "text/plain": [
       "array([[0.43392917],\n",
       "       [0.55593238],\n",
       "       [0.52844825],\n",
       "       [0.43392917],\n",
       "       [0.55593238],\n",
       "       [0.52844825],\n",
       "       [0.48891922],\n",
       "       [0.51659974]])"
      ]
     },
     "execution_count": 21,
     "metadata": {},
     "output_type": "execute_result"
    }
   ],
   "source": [
    "w = model.get_weights()[0]\n",
    "b = model.get_weights()[1]\n",
    "\n",
    "1 / (1 + np.exp(-(np.dot(x, w) + b)))"
   ]
  },
  {
   "cell_type": "code",
   "execution_count": 24,
   "id": "0cd1bbe4",
   "metadata": {
    "ExecuteTime": {
     "end_time": "2022-07-12T04:03:20.677833Z",
     "start_time": "2022-07-12T04:03:20.403667Z"
    }
   },
   "outputs": [
    {
     "name": "stdout",
     "output_type": "stream",
     "text": [
      "1/1 [==============================] - 0s 216ms/step - loss: 0.6920 - accuracy: 0.3750\n",
      "<keras.callbacks.History object at 0x0000028DA99FE940>\n",
      "Model: \"sequential_3\"\n",
      "_________________________________________________________________\n",
      " Layer (type)                Output Shape              Param #   \n",
      "=================================================================\n",
      " dense_5 (Dense)             (None, 1)                 3         \n",
      "                                                                 \n",
      " dense_6 (Dense)             (None, 1)                 2         \n",
      "                                                                 \n",
      "=================================================================\n",
      "Total params: 5\n",
      "Trainable params: 5\n",
      "Non-trainable params: 0\n",
      "_________________________________________________________________\n"
     ]
    }
   ],
   "source": [
    "import tensorflow as tf\n",
    "from tensorflow import keras\n",
    "from tensorflow.keras import layers\n",
    "\n",
    "tf.random.set_seed(1234)  # w값 바꾸지 않기 위해 사용함\n",
    "input_layer = tf.keras.layers.InputLayer(input_shape=(2, ))\n",
    "hidden_layer = tf.keras.layers.Dense(units=1, activation='relu')\n",
    "output_layer = tf.keras.layers.Dense(units=1, activation='sigmoid')\n",
    "\n",
    "model = keras.Sequential([input_layer, hidden_layer, output_layer])\n",
    "model.compile(loss='binary_crossentropy', metrics=['accuracy'])\n",
    "print(model.fit(x, y))\n",
    "model.summary()"
   ]
  },
  {
   "cell_type": "code",
   "execution_count": 25,
   "id": "57e48583",
   "metadata": {
    "ExecuteTime": {
     "end_time": "2022-07-12T04:03:40.913941Z",
     "start_time": "2022-07-12T04:03:40.891405Z"
    }
   },
   "outputs": [
    {
     "data": {
      "text/plain": [
       "<tf.Tensor: shape=(8, 1), dtype=float32, numpy=\n",
       "array([[0.        ],\n",
       "       [0.22466981],\n",
       "       [0.11391602],\n",
       "       [0.        ],\n",
       "       [0.22466981],\n",
       "       [0.11391602],\n",
       "       [0.        ],\n",
       "       [0.06642342]], dtype=float32)>"
      ]
     },
     "execution_count": 25,
     "metadata": {},
     "output_type": "execute_result"
    }
   ],
   "source": [
    "tmp = tf.keras.Model(inputs=model.input, outputs=model.layers[0].output)(x)\n",
    "tmp"
   ]
  },
  {
   "cell_type": "code",
   "execution_count": 26,
   "id": "c81de0ff",
   "metadata": {
    "ExecuteTime": {
     "end_time": "2022-07-12T04:03:53.526155Z",
     "start_time": "2022-07-12T04:03:53.509308Z"
    }
   },
   "outputs": [
    {
     "data": {
      "text/plain": [
       "[array([[ 0.11075378],\n",
       "        [-0.37975395]], dtype=float32),\n",
       " array([0.00316224], dtype=float32),\n",
       " array([[-0.60811526]], dtype=float32),\n",
       " array([0.00316227], dtype=float32)]"
      ]
     },
     "execution_count": 26,
     "metadata": {},
     "output_type": "execute_result"
    }
   ],
   "source": [
    "model.get_weights()"
   ]
  },
  {
   "cell_type": "code",
   "execution_count": 27,
   "id": "f4c52227",
   "metadata": {
    "ExecuteTime": {
     "end_time": "2022-07-12T04:04:14.332298Z",
     "start_time": "2022-07-12T04:04:14.322891Z"
    }
   },
   "outputs": [
    {
     "data": {
      "text/plain": [
       "<tf.Tensor: shape=(8, 1), dtype=float32, numpy=\n",
       "array([[0.5007906 ],\n",
       "       [0.46668372],\n",
       "       [0.48347807],\n",
       "       [0.5007906 ],\n",
       "       [0.46668372],\n",
       "       [0.48347807],\n",
       "       [0.5007906 ],\n",
       "       [0.49069336]], dtype=float32)>"
      ]
     },
     "execution_count": 27,
     "metadata": {},
     "output_type": "execute_result"
    }
   ],
   "source": [
    "tmp = tf.keras.Model(inputs=model.input, outputs=model.layers[1].output)(x)\n",
    "tmp"
   ]
  },
  {
   "cell_type": "code",
   "execution_count": 28,
   "id": "bc209023",
   "metadata": {
    "ExecuteTime": {
     "end_time": "2022-07-12T04:04:37.766933Z",
     "start_time": "2022-07-12T04:04:37.699297Z"
    }
   },
   "outputs": [
    {
     "name": "stdout",
     "output_type": "stream",
     "text": [
      "1/1 [==============================] - 0s 44ms/step\n"
     ]
    },
    {
     "data": {
      "text/plain": [
       "array([[0.5007906 ],\n",
       "       [0.46668372],\n",
       "       [0.48347807],\n",
       "       [0.5007906 ],\n",
       "       [0.46668372],\n",
       "       [0.48347807],\n",
       "       [0.5007906 ],\n",
       "       [0.49069336]], dtype=float32)"
      ]
     },
     "execution_count": 28,
     "metadata": {},
     "output_type": "execute_result"
    }
   ],
   "source": [
    "model.predict(x)"
   ]
  },
  {
   "cell_type": "code",
   "execution_count": 29,
   "id": "7987eaad",
   "metadata": {
    "ExecuteTime": {
     "end_time": "2022-07-12T04:04:47.940122Z",
     "start_time": "2022-07-12T04:04:47.822090Z"
    }
   },
   "outputs": [
    {
     "name": "stdout",
     "output_type": "stream",
     "text": [
      "1/1 [==============================] - 0s 75ms/step - loss: 0.6909 - accuracy: 0.7500\n"
     ]
    },
    {
     "data": {
      "text/plain": [
       "[0.6909422874450684, 0.75]"
      ]
     },
     "execution_count": 29,
     "metadata": {},
     "output_type": "execute_result"
    }
   ],
   "source": [
    "model.evaluate(x, y)"
   ]
  },
  {
   "cell_type": "code",
   "execution_count": 30,
   "id": "5a03ad57",
   "metadata": {
    "ExecuteTime": {
     "end_time": "2022-07-12T04:05:33.090663Z",
     "start_time": "2022-07-12T04:05:33.050883Z"
    }
   },
   "outputs": [
    {
     "name": "stdout",
     "output_type": "stream",
     "text": [
      "1/1 [==============================] - 0s 10ms/step\n"
     ]
    },
    {
     "data": {
      "text/plain": [
       "0.6909422129392624"
      ]
     },
     "execution_count": 30,
     "metadata": {},
     "output_type": "execute_result"
    }
   ],
   "source": [
    "yhat = model.predict(x)\n",
    "y = y.reshape(8, 1)\n",
    "err = y * np.log(yhat) + (1 - y) * np.log(1 - yhat)\n",
    "-np.mean(err)"
   ]
  }
 ],
 "metadata": {
  "kernelspec": {
   "display_name": "Python 3 (ipykernel)",
   "language": "python",
   "name": "python3"
  },
  "language_info": {
   "codemirror_mode": {
    "name": "ipython",
    "version": 3
   },
   "file_extension": ".py",
   "mimetype": "text/x-python",
   "name": "python",
   "nbconvert_exporter": "python",
   "pygments_lexer": "ipython3",
   "version": "3.9.12"
  },
  "varInspector": {
   "cols": {
    "lenName": 16,
    "lenType": 16,
    "lenVar": 40
   },
   "kernels_config": {
    "python": {
     "delete_cmd_postfix": "",
     "delete_cmd_prefix": "del ",
     "library": "var_list.py",
     "varRefreshCmd": "print(var_dic_list())"
    },
    "r": {
     "delete_cmd_postfix": ") ",
     "delete_cmd_prefix": "rm(",
     "library": "var_list.r",
     "varRefreshCmd": "cat(var_dic_list()) "
    }
   },
   "types_to_exclude": [
    "module",
    "function",
    "builtin_function_or_method",
    "instance",
    "_Feature"
   ],
   "window_display": false
  }
 },
 "nbformat": 4,
 "nbformat_minor": 5
}
