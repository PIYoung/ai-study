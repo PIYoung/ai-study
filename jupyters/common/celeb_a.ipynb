{
 "cells": [
  {
   "cell_type": "code",
   "execution_count": 1,
   "id": "b6f0a07b",
   "metadata": {
    "ExecuteTime": {
     "end_time": "2022-06-28T02:34:48.012283Z",
     "start_time": "2022-06-28T02:34:39.701431Z"
    }
   },
   "outputs": [
    {
     "name": "stdout",
     "output_type": "stream",
     "text": [
      "Collecting pandas\n",
      "  Downloading pandas-1.4.3-cp39-cp39-win_amd64.whl (10.6 MB)\n",
      "Collecting pytz>=2020.1\n",
      "  Downloading pytz-2022.1-py2.py3-none-any.whl (503 kB)\n",
      "Requirement already satisfied: numpy>=1.18.5 in c:\\users\\hp\\miniconda3\\lib\\site-packages (from pandas) (1.23.0)\n",
      "Requirement already satisfied: python-dateutil>=2.8.1 in c:\\users\\hp\\miniconda3\\lib\\site-packages (from pandas) (2.8.2)\n",
      "Requirement already satisfied: six>=1.5 in c:\\users\\hp\\miniconda3\\lib\\site-packages (from python-dateutil>=2.8.1->pandas) (1.16.0)\n",
      "Installing collected packages: pytz, pandas\n",
      "Successfully installed pandas-1.4.3 pytz-2022.1\n"
     ]
    }
   ],
   "source": [
    "!pip install pandas"
   ]
  },
  {
   "cell_type": "code",
   "execution_count": 6,
   "id": "26f24292",
   "metadata": {
    "ExecuteTime": {
     "end_time": "2022-06-28T02:36:19.411348Z",
     "start_time": "2022-06-28T02:36:18.988436Z"
    }
   },
   "outputs": [],
   "source": [
    "import pandas as pd\n",
    "\n",
    "df = pd.read_csv('./archive/list_attr_celeba.csv')"
   ]
  },
  {
   "cell_type": "code",
   "execution_count": 11,
   "id": "3eba67f9",
   "metadata": {
    "ExecuteTime": {
     "end_time": "2022-06-28T02:40:58.609844Z",
     "start_time": "2022-06-28T02:40:58.568828Z"
    }
   },
   "outputs": [],
   "source": [
    "import os\n",
    "\n",
    "for column in df.columns:\n",
    "    path = 'attributes/' + column\n",
    "    try:\n",
    "        if not os.path.exists(path):\n",
    "            os.makedirs(path)\n",
    "            os.makedirs(path + '/-1')\n",
    "            os.makedirs(path + '/1')\n",
    "    except OSError:\n",
    "        print('error')"
   ]
  },
  {
   "cell_type": "code",
   "execution_count": 47,
   "id": "f31c351e",
   "metadata": {
    "ExecuteTime": {
     "end_time": "2022-06-28T05:33:28.484345Z",
     "start_time": "2022-06-28T05:33:26.840274Z"
    }
   },
   "outputs": [
    {
     "name": "stdout",
     "output_type": "stream",
     "text": [
      "Requirement already satisfied: tqdm in c:\\users\\hp\\miniconda3\\lib\\site-packages (4.63.0)\n",
      "Requirement already satisfied: colorama in c:\\users\\hp\\miniconda3\\lib\\site-packages (from tqdm) (0.4.4)\n"
     ]
    }
   ],
   "source": [
    "# for문 progress bar 아래 코드블록 참조\n",
    "!pip install tqdm"
   ]
  },
  {
   "cell_type": "code",
   "execution_count": 30,
   "id": "715749c6",
   "metadata": {
    "ExecuteTime": {
     "end_time": "2022-06-28T04:10:03.600193Z",
     "start_time": "2022-06-28T03:57:43.285926Z"
    }
   },
   "outputs": [],
   "source": [
    "from shutil import copy\n",
    "from tqdm import tqdm\n",
    "\n",
    "s_base_path = 'archive/img_align_celeba/img_align_celeba/'\n",
    "t_base_path = 'attributes/Male/'\n",
    "\n",
    "for image_id, male in tqdm(zip(df['image_id'], df['Male'])):\n",
    "    source_path = s_base_path + image_id\n",
    "    target_path = t_base_path + str(male)\n",
    "    copy(source_path, target_path)"
   ]
  },
  {
   "cell_type": "markdown",
   "id": "b24d9c6a",
   "metadata": {},
   "source": [
    "## 이미지 자료를 x 값으로 male의 성별유무를 y 값으로"
   ]
  },
  {
   "cell_type": "code",
   "execution_count": 45,
   "id": "93eab528",
   "metadata": {
    "ExecuteTime": {
     "end_time": "2022-06-28T05:25:20.828882Z",
     "start_time": "2022-06-28T05:25:20.805000Z"
    }
   },
   "outputs": [],
   "source": [
    "import numpy as np\n",
    "import matplotlib.pyplot as plt\n",
    "from PIL import Image\n",
    "from glob import glob\n",
    "\n",
    "folder = 'archive/img_align_celeba/img_align_celeba/'\n",
    "Xdata = []\n",
    "Ydata = []\n",
    "\n",
    "for fileName, y in zip(df['image_id'][:5], df['Male'][:5]):\n",
    "    img = Image.open(folder + fileName)\n",
    "    img = img.resize((28, 28))\n",
    "    imgArr = np.array(img)\n",
    "    \n",
    "    Xdata.append(imgArr)\n",
    "    Ydata.append(y)\n",
    "    \n",
    "Ydata = np.reshape(Ydata, (5, 1))"
   ]
  },
  {
   "cell_type": "code",
   "execution_count": 46,
   "id": "c965f06e",
   "metadata": {
    "ExecuteTime": {
     "end_time": "2022-06-28T05:25:37.833822Z",
     "start_time": "2022-06-28T05:25:37.817779Z"
    }
   },
   "outputs": [
    {
     "data": {
      "text/plain": [
       "((5, 28, 28, 3), (5, 1))"
      ]
     },
     "execution_count": 46,
     "metadata": {},
     "output_type": "execute_result"
    }
   ],
   "source": [
    "np.shape(Xdata), np.shape(Ydata)"
   ]
  },
  {
   "cell_type": "code",
   "execution_count": null,
   "id": "7dcf26dd",
   "metadata": {},
   "outputs": [],
   "source": [
    "np.savez('aaa.npz', x=Xdata, y=Ydata)"
   ]
  },
  {
   "cell_type": "markdown",
   "id": "a2f0e405",
   "metadata": {},
   "source": [
    "## 시간측정\n",
    "\n",
    "- indexing은 상대적으로 느림\n",
    "- pandas, numpy 등의 고유 기능을 쓰면 속도가 훨씬 빠름"
   ]
  },
  {
   "cell_type": "code",
   "execution_count": 38,
   "id": "8cc1c452",
   "metadata": {
    "ExecuteTime": {
     "end_time": "2022-06-28T05:18:27.112344Z",
     "start_time": "2022-06-28T05:18:26.504528Z"
    }
   },
   "outputs": [
    {
     "name": "stdout",
     "output_type": "stream",
     "text": [
      "0.599815845489502\n"
     ]
    }
   ],
   "source": [
    "import time\n",
    "\n",
    "start = time.time()\n",
    "\n",
    "for x in range(len(df['image_id'])):\n",
    "    df['image_id'][x]\n",
    "    \n",
    "print(time.time() - start)"
   ]
  },
  {
   "cell_type": "code",
   "execution_count": 41,
   "id": "c1d03352",
   "metadata": {
    "ExecuteTime": {
     "end_time": "2022-06-28T05:19:43.576308Z",
     "start_time": "2022-06-28T05:19:43.529064Z"
    }
   },
   "outputs": [
    {
     "name": "stdout",
     "output_type": "stream",
     "text": [
      "0.01609945297241211\n"
     ]
    }
   ],
   "source": [
    "start = time.time()\n",
    "\n",
    "for x in df['image_id']:\n",
    "    x\n",
    "    \n",
    "print(time.time() - start)"
   ]
  },
  {
   "cell_type": "code",
   "execution_count": 48,
   "id": "b46d7245",
   "metadata": {
    "ExecuteTime": {
     "end_time": "2022-06-28T05:36:13.299830Z",
     "start_time": "2022-06-28T05:36:02.205401Z"
    }
   },
   "outputs": [
    {
     "name": "stderr",
     "output_type": "stream",
     "text": [
      "tqdm example: 100%|██████████████████████| 100/100 [00:11<00:00,  9.07it/s]\n"
     ]
    }
   ],
   "source": [
    "import time\n",
    "from tqdm import tqdm\n",
    "\n",
    "for li in tqdm(range(100), desc='tqdm example', mininterval=0.01):\n",
    "    time.sleep(0.1)"
   ]
  }
 ],
 "metadata": {
  "kernelspec": {
   "display_name": "Python 3 (ipykernel)",
   "language": "python",
   "name": "python3"
  },
  "language_info": {
   "codemirror_mode": {
    "name": "ipython",
    "version": 3
   },
   "file_extension": ".py",
   "mimetype": "text/x-python",
   "name": "python",
   "nbconvert_exporter": "python",
   "pygments_lexer": "ipython3",
   "version": "3.9.12"
  },
  "toc": {
   "base_numbering": 1,
   "nav_menu": {},
   "number_sections": true,
   "sideBar": true,
   "skip_h1_title": false,
   "title_cell": "Table of Contents",
   "title_sidebar": "Contents",
   "toc_cell": false,
   "toc_position": {},
   "toc_section_display": true,
   "toc_window_display": false
  },
  "varInspector": {
   "cols": {
    "lenName": 16,
    "lenType": 16,
    "lenVar": 40
   },
   "kernels_config": {
    "python": {
     "delete_cmd_postfix": "",
     "delete_cmd_prefix": "del ",
     "library": "var_list.py",
     "varRefreshCmd": "print(var_dic_list())"
    },
    "r": {
     "delete_cmd_postfix": ") ",
     "delete_cmd_prefix": "rm(",
     "library": "var_list.r",
     "varRefreshCmd": "cat(var_dic_list()) "
    }
   },
   "types_to_exclude": [
    "module",
    "function",
    "builtin_function_or_method",
    "instance",
    "_Feature"
   ],
   "window_display": false
  }
 },
 "nbformat": 4,
 "nbformat_minor": 5
}
