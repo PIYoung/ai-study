{
 "cells": [
  {
   "cell_type": "markdown",
   "id": "d816ad2f",
   "metadata": {},
   "source": [
    "# 도수분포표와 히스토그램"
   ]
  },
  {
   "cell_type": "markdown",
   "id": "6ed62a26",
   "metadata": {},
   "source": [
    "- 도수분포표(frequency table): 데이터를 구간으로 나누어, 각 구간의 빈도를 나타낸 표\n",
    "- 히스토그램(histogram): 도수분포표를 그래프로 그린 것"
   ]
  },
  {
   "cell_type": "markdown",
   "id": "2c15fd32",
   "metadata": {},
   "source": [
    "## 범주 변수"
   ]
  },
  {
   "cell_type": "code",
   "execution_count": 1,
   "id": "105f8140",
   "metadata": {
    "ExecuteTime": {
     "end_time": "2022-06-29T01:59:09.481427Z",
     "start_time": "2022-06-29T01:59:09.477837Z"
    }
   },
   "outputs": [],
   "source": [
    "blood = ['A', 'A', 'A', 'B', 'B', 'AB', 'O']"
   ]
  },
  {
   "cell_type": "markdown",
   "id": "9141c3c7",
   "metadata": {},
   "source": [
    "### 넘파이를 이용한 도수 분포표"
   ]
  },
  {
   "cell_type": "code",
   "execution_count": 9,
   "id": "ec72a64a",
   "metadata": {
    "ExecuteTime": {
     "end_time": "2022-06-29T02:00:39.884398Z",
     "start_time": "2022-06-29T02:00:39.869623Z"
    }
   },
   "outputs": [],
   "source": [
    "import numpy as np\n",
    "\n",
    "tmp = np.unique(blood, return_counts=True)"
   ]
  },
  {
   "cell_type": "code",
   "execution_count": 12,
   "id": "c678bc93",
   "metadata": {
    "ExecuteTime": {
     "end_time": "2022-06-29T02:02:15.833555Z",
     "start_time": "2022-06-29T02:02:15.822546Z"
    }
   },
   "outputs": [
    {
     "data": {
      "text/plain": [
       "[array(['A', 'AB', 'B', 'O'], dtype='<U2'),\n",
       " array([3, 1, 2, 1], dtype=int64),\n",
       " array([0.42857143, 0.14285714, 0.28571429, 0.14285714])]"
      ]
     },
     "execution_count": 12,
     "metadata": {},
     "output_type": "execute_result"
    }
   ],
   "source": [
    "tmp = list(tmp)\n",
    "tmp.append(tmp[1] / np.sum(tmp[1]))\n",
    "tmp"
   ]
  },
  {
   "cell_type": "markdown",
   "id": "a1d93606",
   "metadata": {},
   "source": [
    "### pandas를 이용하는 방법"
   ]
  },
  {
   "cell_type": "code",
   "execution_count": 48,
   "id": "0928683b",
   "metadata": {
    "ExecuteTime": {
     "end_time": "2022-06-29T02:13:02.933415Z",
     "start_time": "2022-06-29T02:13:02.839487Z"
    }
   },
   "outputs": [
    {
     "data": {
      "text/plain": [
       "<BarContainer object of 4 artists>"
      ]
     },
     "execution_count": 48,
     "metadata": {},
     "output_type": "execute_result"
    },
    {
     "data": {
      "image/png": "[encoded data removed]",
      "text/plain": [
       "<Figure size 432x288 with 1 Axes>"
      ]
     },
     "metadata": {
      "needs_background": "light"
     },
     "output_type": "display_data"
    }
   ],
   "source": [
    "import pandas as pd\n",
    "\n",
    "df = pd.Series(blood).value_counts()\n",
    "\n",
    "import matplotlib.pyplot as plt\n",
    "\n",
    "plt.bar(df.keys(), df)"
   ]
  },
  {
   "cell_type": "code",
   "execution_count": 49,
   "id": "3eb5d2e7",
   "metadata": {
    "ExecuteTime": {
     "end_time": "2022-06-29T02:13:52.196902Z",
     "start_time": "2022-06-29T02:13:47.559062Z"
    }
   },
   "outputs": [
    {
     "name": "stdout",
     "output_type": "stream",
     "text": [
      "Collecting seaborn\n",
      "  Downloading seaborn-0.11.2-py3-none-any.whl (292 kB)\n",
      "Requirement already satisfied: matplotlib>=2.2 in c:\\users\\hp\\miniconda3\\lib\\site-packages (from seaborn) (3.5.2)\n",
      "Requirement already satisfied: numpy>=1.15 in c:\\users\\hp\\miniconda3\\lib\\site-packages (from seaborn) (1.23.0)\n",
      "Collecting scipy>=1.0\n",
      "  Downloading scipy-1.8.1-cp39-cp39-win_amd64.whl (36.9 MB)\n",
      "Requirement already satisfied: pandas>=0.23 in c:\\users\\hp\\miniconda3\\lib\\site-packages (from seaborn) (1.4.3)\n",
      "Requirement already satisfied: python-dateutil>=2.7 in c:\\users\\hp\\miniconda3\\lib\\site-packages (from matplotlib>=2.2->seaborn) (2.8.2)\n",
      "Requirement already satisfied: pyparsing>=2.2.1 in c:\\users\\hp\\miniconda3\\lib\\site-packages (from matplotlib>=2.2->seaborn) (3.0.4)\n",
      "Requirement already satisfied: cycler>=0.10 in c:\\users\\hp\\miniconda3\\lib\\site-packages (from matplotlib>=2.2->seaborn) (0.11.0)\n",
      "Requirement already satisfied: kiwisolver>=1.0.1 in c:\\users\\hp\\miniconda3\\lib\\site-packages (from matplotlib>=2.2->seaborn) (1.4.3)\n",
      "Requirement already satisfied: fonttools>=4.22.0 in c:\\users\\hp\\miniconda3\\lib\\site-packages (from matplotlib>=2.2->seaborn) (4.33.3)\n",
      "Requirement already satisfied: pillow>=6.2.0 in c:\\users\\hp\\miniconda3\\lib\\site-packages (from matplotlib>=2.2->seaborn) (9.1.1)\n",
      "Requirement already satisfied: packaging>=20.0 in c:\\users\\hp\\miniconda3\\lib\\site-packages (from matplotlib>=2.2->seaborn) (21.3)\n",
      "Requirement already satisfied: pytz>=2020.1 in c:\\users\\hp\\miniconda3\\lib\\site-packages (from pandas>=0.23->seaborn) (2022.1)\n",
      "Requirement already satisfied: six>=1.5 in c:\\users\\hp\\miniconda3\\lib\\site-packages (from python-dateutil>=2.7->matplotlib>=2.2->seaborn) (1.16.0)\n",
      "Installing collected packages: scipy, seaborn\n",
      "Successfully installed scipy-1.8.1 seaborn-0.11.2\n"
     ]
    }
   ],
   "source": [
    "!pip install seaborn"
   ]
  },
  {
   "cell_type": "markdown",
   "id": "04600bfa",
   "metadata": {},
   "source": [
    "## 연속 변수"
   ]
  },
  {
   "cell_type": "code",
   "execution_count": 61,
   "id": "ebee8b65",
   "metadata": {
    "ExecuteTime": {
     "end_time": "2022-06-29T02:19:56.908484Z",
     "start_time": "2022-06-29T02:19:56.840523Z"
    }
   },
   "outputs": [
    {
     "name": "stdout",
     "output_type": "stream",
     "text": [
      "[ 1.  4.  7. 10. 13.]\n",
      "[6 1 2 1]\n"
     ]
    },
    {
     "data": {
      "text/plain": [
       "<AxesSubplot:>"
      ]
     },
     "execution_count": 61,
     "metadata": {},
     "output_type": "execute_result"
    },
    {
     "data": {
      "image/png": "[encoded data removed]",
      "text/plain": [
       "<Figure size 432x288 with 1 Axes>"
      ]
     },
     "metadata": {
      "needs_background": "light"
     },
     "output_type": "display_data"
    }
   ],
   "source": [
    "import seaborn as sns\n",
    "\n",
    "x = [1, 1, 1, 2, 3, 3, 5, 7, 8, 13]\n",
    "\n",
    "# 데이터의 범위를 4구간으로 나눔\n",
    "hist, edges = np.histogram(x, 4)\n",
    "\n",
    "# 먼저 각 구간의 경계는 1, 3, 5, 7, 9임\n",
    "# 1이상 3미만, 3이상 5미만, 등등으로 구간이 정해짐\n",
    "print(edges)\n",
    "# 첫번째 구간 1 ~ 3의 빈도는 4, 두번째 3 ~ 5의 빈도는 1 등등\n",
    "print(hist)\n",
    "\n",
    "# 시각화\n",
    "sns.distplot(x, bins=4, kde=False)"
   ]
  },
  {
   "cell_type": "markdown",
   "id": "8bd9f116",
   "metadata": {},
   "source": [
    "## 데이터 분석\n",
    "\n",
    "- 패턴이 있는 자료(정규분포인가)\n",
    "- (데이터 갯수가 작을 때: 예 10만건, 가설검증(귀무가설, 대립가설), pvalue를 함)\n",
    "- 빅데이터(히스토그램으로 대강 봄)\n",
    "- 에서 기존자료의 패턴을 예측하거나 분류해서 \n",
    "- 미래의 데이터에 적용하는 것"
   ]
  },
  {
   "cell_type": "code",
   "execution_count": 177,
   "id": "9fdee816",
   "metadata": {
    "ExecuteTime": {
     "end_time": "2022-06-29T02:50:22.601640Z",
     "start_time": "2022-06-29T02:50:22.497421Z"
    }
   },
   "outputs": [
    {
     "name": "stdout",
     "output_type": "stream",
     "text": [
      "0.4988219307182318 0.2956684747421081 -0.019167645804450937 1.0535746903987822\n"
     ]
    },
    {
     "data": {
      "text/plain": [
       "(array([  2.,   4.,  22.,  69., 107., 121., 107.,  51.,  13.,   4.]),\n",
       " array([-3.76719147, -3.06669625, -2.36620102, -1.66570579, -0.96521057,\n",
       "        -0.26471534,  0.43577989,  1.13627511,  1.83677034,  2.53726557,\n",
       "         3.2377608 ]),\n",
       " <BarContainer object of 10 artists>)"
      ]
     },
     "execution_count": 177,
     "metadata": {},
     "output_type": "execute_result"
    },
    {
     "data": {
      "image/png": "[encoded data removed]",
      "text/plain": [
       "<Figure size 432x288 with 2 Axes>"
      ]
     },
     "metadata": {
      "needs_background": "light"
     },
     "output_type": "display_data"
    }
   ],
   "source": [
    "# 랜덤함수에서 정규분포 난수를 발생\n",
    "import numpy as np\n",
    "\n",
    "a = np.random.rand(500) # 일반 난수 발생기\n",
    "b = np.random.standard_normal(500) # 표준정규분포 난수 발생기\n",
    "\n",
    "# np.mean 평균\n",
    "# np.std 표준편차\n",
    "print(np.mean(a), np.std(a), np.mean(b), np.std(b))\n",
    "\n",
    "plt.subplot(1, 2, 1)\n",
    "plt.hist(a)\n",
    "\n",
    "plt.subplot(1, 2, 2)\n",
    "plt.hist(b)"
   ]
  },
  {
   "cell_type": "code",
   "execution_count": 178,
   "id": "2fb455eb",
   "metadata": {
    "ExecuteTime": {
     "end_time": "2022-06-29T04:27:08.945391Z",
     "start_time": "2022-06-29T04:27:07.844802Z"
    }
   },
   "outputs": [
    {
     "name": "stdout",
     "output_type": "stream",
     "text": [
      "Collecting yapf\n",
      "  Downloading yapf-0.32.0-py2.py3-none-any.whl (190 kB)\n",
      "Installing collected packages: yapf\n",
      "Successfully installed yapf-0.32.0\n"
     ]
    }
   ],
   "source": [
    "!pip install yapf"
   ]
  },
  {
   "cell_type": "markdown",
   "id": "d7f0668e",
   "metadata": {},
   "source": [
    "## 케비넷 자리 랜덤 추출"
   ]
  },
  {
   "cell_type": "code",
   "execution_count": 407,
   "id": "a247ad94",
   "metadata": {
    "ExecuteTime": {
     "end_time": "2022-06-29T06:18:42.202454Z",
     "start_time": "2022-06-29T06:18:42.188500Z"
    }
   },
   "outputs": [
    {
     "name": "stdout",
     "output_type": "stream",
     "text": [
      "[5, 26, 31, 1, 23, 10, 24, 3, 28, 25, 11, 9, 21, 29, 4, 18, 32, 20, 13, 8, 16, 22, 30, 15, 6, 17, 14, 19, 7, 12, 27, 2]\n",
      "1 32\n",
      "(array([ 1,  2,  3,  4,  5,  6,  7,  8,  9, 10, 11, 12, 13, 14, 15, 16, 17,\n",
      "       18, 19, 20, 21, 22, 23, 24, 25, 26, 27, 28, 29, 30, 31, 32]), array([1, 1, 1, 1, 1, 1, 1, 1, 1, 1, 1, 1, 1, 1, 1, 1, 1, 1, 1, 1, 1, 1,\n",
      "       1, 1, 1, 1, 1, 1, 1, 1, 1, 1], dtype=int64))\n"
     ]
    },
    {
     "data": {
      "text/plain": [
       "array([[ 5, 26, 31,  1, 23, 10, 24,  3, 28],\n",
       "       [25, 11,  9, 21, 29,  4, 18, 32, 20],\n",
       "       [13,  8, 16, 22, 30, 15,  6, 17, 14],\n",
       "       [19,  7, 12, 27,  2,  0,  0,  0,  0]])"
      ]
     },
     "execution_count": 407,
     "metadata": {},
     "output_type": "execute_result"
    }
   ],
   "source": [
    "# 정규분포: 무작위로 뽑아서 평균을 계산했을 떄 기존의 평균과 비슷\n",
    "b = np.arange(32)\n",
    "caNum = []\n",
    "count = len(b)\n",
    "for cnt in range(32):\n",
    "    random_index = int(np.random.rand() * (count - cnt))\n",
    "    caNum.append(b[random_index] + 1)\n",
    "    b = np.delete(b, random_index)\n",
    "\n",
    "print(caNum)\n",
    "print(np.min(caNum), np.max(caNum))\n",
    "print(np.unique(caNum, return_counts=True))\n",
    "\n",
    "b.all()\n",
    "\n",
    "caNum.append(0)\n",
    "caNum.append(0)\n",
    "caNum.append(0)\n",
    "caNum.append(0)\n",
    "\n",
    "np.reshape(caNum, (4, 9))"
   ]
  },
  {
   "cell_type": "code",
   "execution_count": 411,
   "id": "5ffff9ae",
   "metadata": {
    "ExecuteTime": {
     "end_time": "2022-06-29T06:24:28.573244Z",
     "start_time": "2022-06-29T06:24:28.483043Z"
    }
   },
   "outputs": [
    {
     "data": {
      "text/plain": [
       "(array([4., 1., 1., 1., 1., 1., 1., 1., 1., 1., 1., 1., 1., 1., 1., 1., 1.,\n",
       "        1., 1., 1., 1., 1., 1., 1., 1., 1., 1., 1., 1., 1., 1., 1., 1.]),\n",
       " array([ 0.        ,  0.96969697,  1.93939394,  2.90909091,  3.87878788,\n",
       "         4.84848485,  5.81818182,  6.78787879,  7.75757576,  8.72727273,\n",
       "         9.6969697 , 10.66666667, 11.63636364, 12.60606061, 13.57575758,\n",
       "        14.54545455, 15.51515152, 16.48484848, 17.45454545, 18.42424242,\n",
       "        19.39393939, 20.36363636, 21.33333333, 22.3030303 , 23.27272727,\n",
       "        24.24242424, 25.21212121, 26.18181818, 27.15151515, 28.12121212,\n",
       "        29.09090909, 30.06060606, 31.03030303, 32.        ]),\n",
       " <BarContainer object of 33 artists>)"
      ]
     },
     "execution_count": 411,
     "metadata": {},
     "output_type": "execute_result"
    },
    {
     "data": {
      "image/png": "[encoded data removed]",
      "text/plain": [
       "<Figure size 432x288 with 1 Axes>"
      ]
     },
     "metadata": {
      "needs_background": "light"
     },
     "output_type": "display_data"
    }
   ],
   "source": [
    "plt.hist(caNum, bins=count + 1)"
   ]
  },
  {
   "cell_type": "code",
   "execution_count": 426,
   "id": "cf5d86f4",
   "metadata": {
    "ExecuteTime": {
     "end_time": "2022-06-29T06:32:06.126390Z",
     "start_time": "2022-06-29T06:32:06.116426Z"
    }
   },
   "outputs": [
    {
     "data": {
      "text/plain": [
       "array(['rrr', 'aaa', 's'], dtype='<U5')"
      ]
     },
     "execution_count": 426,
     "metadata": {},
     "output_type": "execute_result"
    }
   ],
   "source": [
    "a = np.array(['rk', 's', 'r', 'sww', 'h', 'aaa', 'rrr', 'rawrr'])\n",
    "bunList = []\n",
    "\n",
    "for x in range(5):\n",
    "    bun = int(np.random.rand() * 7)\n",
    "    if bun not in bunList:\n",
    "        bunList.append(bun)\n",
    "        \n",
    "a[bunList]"
   ]
  }
 ],
 "metadata": {
  "kernelspec": {
   "display_name": "Python 3 (ipykernel)",
   "language": "python",
   "name": "python3"
  },
  "language_info": {
   "codemirror_mode": {
    "name": "ipython",
    "version": 3
   },
   "file_extension": ".py",
   "mimetype": "text/x-python",
   "name": "python",
   "nbconvert_exporter": "python",
   "pygments_lexer": "ipython3",
   "version": "3.9.12"
  },
  "toc": {
   "base_numbering": 1,
   "nav_menu": {},
   "number_sections": true,
   "sideBar": true,
   "skip_h1_title": false,
   "title_cell": "Table of Contents",
   "title_sidebar": "Contents",
   "toc_cell": false,
   "toc_position": {},
   "toc_section_display": true,
   "toc_window_display": false
  },
  "varInspector": {
   "cols": {
    "lenName": 16,
    "lenType": 16,
    "lenVar": 40
   },
   "kernels_config": {
    "python": {
     "delete_cmd_postfix": "",
     "delete_cmd_prefix": "del ",
     "library": "var_list.py",
     "varRefreshCmd": "print(var_dic_list())"
    },
    "r": {
     "delete_cmd_postfix": ") ",
     "delete_cmd_prefix": "rm(",
     "library": "var_list.r",
     "varRefreshCmd": "cat(var_dic_list()) "
    }
   },
   "types_to_exclude": [
    "module",
    "function",
    "builtin_function_or_method",
    "instance",
    "_Feature"
   ],
   "window_display": false
  }
 },
 "nbformat": 4,
 "nbformat_minor": 5
}
