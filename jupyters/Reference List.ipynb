{
 "cells": [
  {
   "cell_type": "markdown",
   "id": "fe2f43c5",
   "metadata": {},
   "source": [
    "# 인공지능"
   ]
  },
  {
   "cell_type": "markdown",
   "id": "a39276bb",
   "metadata": {},
   "source": [
    "[T-검정](https://bioinformaticsandme.tistory.com/80)\n",
    "<br />\n",
    "[라쏘(Lasso)](https://inistory.tistory.com/41)\n",
    "<br />\n",
    "[p-value](https://adnoctum.tistory.com/332)\n",
    "<br />\n",
    "[귀무가설과 대립가설이란 무엇인가?](https://drhongdatanote.tistory.com/59)\n",
    "<br />\n",
    "[평균, 편차, 분산, 표준편차](https://hsm-edu.tistory.com/1182)\n",
    "<br />\n",
    "[KoBERT](https://tech-diary.tistory.com/31)\n",
    "<br />\n",
    "[평균제곱오차(MSE), 평균절대오차(MAE)](https://velog.io/@yuns_u/%ED%8F%89%EA%B7%A0%EC%A0%9C%EA%B3%B1%EC%98%A4%EC%B0%A8MSE-%ED%8F%89%EA%B7%A0%EC%A0%88%EB%8C%80%EC%98%A4%EC%B0%A8MAE)\n",
    "<br />\n",
    "[MinMaxScaler](https://m.blog.naver.com/wideeyed/221614354947)\n",
    "<br />\n",
    "[정규화(Normalization) vs 표준화(Standardization)](https://heeya-stupidbutstudying.tistory.com/32)\n",
    "<br />\n",
    "[Grid Search](https://huidea.tistory.com/32)\n",
    "<br />\n",
    "[다차원 배열의 계산: 행렬의 내적(행렬 곱)](https://m.blog.naver.com/PostView.naver?isHttpsRedirect=true&blogId=cni1577&logNo=221754216275)\n",
    "<br />\n",
    "[머신러닝에서의 Bias와 Variance](https://gaussian37.github.io/machine-learning-concept-bias_and_variance/)\n",
    "<br />\n",
    "[TeX_및_LaTeX_수식_문법](http://tomoyo.ivyro.net/123/wiki.php/TeX_%EB%B0%8F_LaTeX_%EC%88%98%EC%8B%9D_%EB%AC%B8%EB%B2%95)\n",
    "<br />\n",
    "[가중치 규제 (regularization) L1, L2 란 야나두 딥러닝](https://rdmkyg.blogspot.com/2021/06/regularization-l1.html)\n",
    "<br />\n",
    "[데이터 사이언스 스쿨](https://datascienceschool.net/01%20python/03.04%20%EA%B8%B0%EC%88%A0%20%ED%86%B5%EA%B3%84.html)\n",
    "<br />\n",
    "[ROC 분석](https://m.blog.naver.com/sharp_kiss/221599009671)\n",
    "<br />\n",
    "[[ML/DL] 정밀도와 재현율의 트레이드 오프 정의와 구현](https://continuous-development.tistory.com/m/171)\n",
    "<br />\n",
    "[상관계수 구하는 법](https://bkshin.tistory.com/entry/DATA-20-%EB%8B%A4%EC%A4%91%EA%B3%B5%EC%84%A0%EC%84%B1%EA%B3%BC-VIF)\n",
    "<br />\n",
    "[하이퍼파라미터 튜닝](https://velog.io/@emseoyk/%ED%95%98%EC%9D%B4%ED%8D%BC%ED%8C%8C%EB%9D%BC%EB%AF%B8%ED%84%B0-%ED%8A%9C%EB%8B%9D)\n",
    "<br />\n",
    "[로지스틱 회귀](https://ratsgo.github.io/machine%20learning/2017/04/02/logistic/)\n",
    "<br />\n",
    "[Decision Tree](https://leedakyeong.tistory.com/entry/Decision-Tree%EB%9E%80-ID3-%EC%95%8C%EA%B3%A0%EB%A6%AC%EC%A6%98)\n",
    "<br />\n",
    "[K-Fold Cross Validation](https://nonmeyet.tistory.com/entry/KFold-Cross-Validation%EA%B5%90%EC%B0%A8%EA%B2%80%EC%A6%9D-%EC%A0%95%EC%9D%98-%EB%B0%8F-%EC%84%A4%EB%AA%85)\n",
    "<br />\n",
    "[잔차분석](https://ysyblog.tistory.com/120)\n",
    "<br />\n",
    "[더빈-왓슨 검정법](https://m.blog.naver.com/PostView.naver?isHttpsRedirect=true&blogId=jahyone20&logNo=220935609080)\n",
    "<br />\n",
    "[다중공선성과 변수 선택](https://datascienceschool.net/03%20machine%20learning/06.04%20%EB%8B%A4%EC%A4%91%EA%B3%B5%EC%84%A0%EC%84%B1%EA%B3%BC%20%EB%B3%80%EC%88%98%20%EC%84%A0%ED%83%9D.html)\n",
    "<br />\n",
    "[다중공선성(Multicollinearity)과 VIF(Variance Inflation Factors)\n",
    "](https://bkshin.tistory.com/entry/DATA-20-%EB%8B%A4%EC%A4%91%EA%B3%B5%EC%84%A0%EC%84%B1%EA%B3%BC-VIF)\n",
    "<br />\n",
    "[Relu(Rectified Linear Unit](https://mongxmongx2.tistory.com/25)\n",
    "<br />\n",
    "[회귀분석 (Regression analysis)](https://bioinformaticsandme.tistory.com/70)\n",
    "<br />\n",
    "[회귀의 종류 및 회귀계수](https://heung-bae-lee.github.io/2020/01/04/machine_learning_01/)\n",
    "<br />\n",
    "[딥러닝 - 활성화 함수(Activation) 종류 및 비교](https://m.blog.naver.com/PostView.naver?isHttpsRedirect=true&blogId=handuelly&logNo=221824080339)\n",
    "<br />\n",
    "[SVM으로 MNIST 분류하기](https://yeoulcoding.me/106)\n",
    "<br />\n",
    "[전진 선택(Forward Selection)과 후진 제거(Backward Elimination)](https://yngie-c.github.io/machine%20learning/2020/09/06/fs_be/)\n",
    "<br />\n",
    "[피어슨 상관관계(유사도) 이해 및 파이썬 구현하기](https://needjarvis.tistory.com/722)\n",
    "<br />\n",
    "[왜도(skewness) 첨도(kurtosis)](https://m.blog.naver.com/yk60park/222100758577)\n",
    "<br />\n",
    "[NLR / PLR/ RFE 란?](https://meme2.tistory.com/124)\n",
    "<br />\n",
    "[딥러닝을 위한 Norm, 노름](http://taewan.kim/post/norm/)\n",
    "<br />\n",
    "[맨하탄 거리(Manhattan Distance) 개념과 구현해보기](https://needjarvis.tistory.com/455)\n",
    "<br />\n",
    "[L1, L2 regularization, Ridge와 Lasso의 차이점](https://huidea.tistory.com/154)\n",
    "<br />\n",
    "[[NLP] 문서 유사도 분석: (2) 유클리디안 거리(Euclidean Distance)](https://heytech.tistory.com/357)\n",
    "<br />\n",
    "[앙상블(Ensemble)모형 / Bagging과 Boosting](https://ybeaning.tistory.com/17)\n",
    "<br />\n",
    "[XGBoost 알고리즘의 개념 이해](https://bcho.tistory.com/1354)\n",
    "<br />\n",
    "[모델 상관없이 변수 중요도의 파악](https://soohee410.github.io/iml_permutation_importance)\n",
    "<br />\n",
    "[주성분분석(PCA)의 이해와 활용](https://darkpgmr.tistory.com/110)\n",
    "<br />\n",
    "[머신러닝 - 2. 서포트 벡터 머신 (SVM) 개념](https://bkshin.tistory.com/entry/%EB%A8%B8%EC%8B%A0%EB%9F%AC%EB%8B%9D-2%EC%84%9C%ED%8F%AC%ED%8A%B8-%EB%B2%A1%ED%84%B0-%EB%A8%B8%EC%8B%A0-SVM)\n",
    "<br />\n",
    "[[ML] PCA, 주성분의 개수는 어떤 기준으로 설정할까?](https://techblog-history-younghunjo1.tistory.com/134)\n",
    "<br />\n",
    "[타이타닉 데이터로 해보는 PCA와 kNN](https://hmkim312.github.io/posts/%ED%83%80%EC%9D%B4%ED%83%80%EB%8B%89_%EB%8D%B0%EC%9D%B4%ED%84%B0%EB%A1%9C_%ED%95%B4%EB%B3%B4%EB%8A%94_PCA%EC%99%80_kNN/)\n",
    "<br />"
   ]
  },
  {
   "cell_type": "markdown",
   "id": "dbd4a3b0",
   "metadata": {},
   "source": [
    "# 수학"
   ]
  },
  {
   "cell_type": "markdown",
   "id": "5aeaa385",
   "metadata": {},
   "source": [
    "[[선형대수학] 놈(norm)이란 무엇인가?](https://bskyvision.com/825)\n",
    "<br />\n",
    "[[Python NumPy] 선형대수 함수 (Linear Algebra)](https://rfriend.tistory.com/380)\n",
    "<br />\n",
    "[[Python NumPy] 행렬의 행과 열 바꾸기, 축 바꾸기, 전치행렬 : a.T, np.transpose(a), np.swapaxes(a,0,1)](https://rfriend.tistory.com/289)\n",
    "<br />\n",
    "[모두의 인공지능 기초 수학](https://thebook.io/080246)\n",
    "<br />\n",
    "[python zip 함수를 이용한 transpose](http://pyengine.blogspot.com/2016/11/python-zip-transpose.html)\n",
    "<br />\n",
    "[행렬식(Determinant), 외적(Cross Product)](https://blog.naver.com/spin898/221145110501)\n",
    "<br />\n",
    "[[선형대수] 내적(inner product) 의미](https://losskatsu.github.io/linear-algebra/innerproduct/#)\n",
    "<br />\n",
    "[어휘 빈도- 문서 역빈도 분석](https://pastime2532.tistory.com/98)\n",
    "<br />\n",
    "[공분산과 공분산 행렬(covariance)](https://kh-mo.github.io/notation/2021/01/02/covariance/)\n",
    "<br />\n"
   ]
  }
 ],
 "metadata": {
  "kernelspec": {
   "display_name": "Python 3 (ipykernel)",
   "language": "python",
   "name": "python3"
  },
  "language_info": {
   "codemirror_mode": {
    "name": "ipython",
    "version": 3
   },
   "file_extension": ".py",
   "mimetype": "text/x-python",
   "name": "python",
   "nbconvert_exporter": "python",
   "pygments_lexer": "ipython3",
   "version": "3.9.12"
  },
  "toc": {
   "base_numbering": 1,
   "nav_menu": {},
   "number_sections": true,
   "sideBar": true,
   "skip_h1_title": false,
   "title_cell": "Table of Contents",
   "title_sidebar": "Contents",
   "toc_cell": false,
   "toc_position": {},
   "toc_section_display": true,
   "toc_window_display": false
  },
  "varInspector": {
   "cols": {
    "lenName": 16,
    "lenType": 16,
    "lenVar": 40
   },
   "kernels_config": {
    "python": {
     "delete_cmd_postfix": "",
     "delete_cmd_prefix": "del ",
     "library": "var_list.py",
     "varRefreshCmd": "print(var_dic_list())"
    },
    "r": {
     "delete_cmd_postfix": ") ",
     "delete_cmd_prefix": "rm(",
     "library": "var_list.r",
     "varRefreshCmd": "cat(var_dic_list()) "
    }
   },
   "types_to_exclude": [
    "module",
    "function",
    "builtin_function_or_method",
    "instance",
    "_Feature"
   ],
   "window_display": false
  }
 },
 "nbformat": 4,
 "nbformat_minor": 5
}
