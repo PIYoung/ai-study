{
 "cells": [
  {
   "cell_type": "markdown",
   "id": "d9d0c092",
   "metadata": {},
   "source": [
    "# 데이터분석 목적\n",
    "\n",
    "- 지도학습(y값: 레이블을 제공)\n",
    "    - 베이스공식: wx + b => 회귀분석\n",
    "    - 베이스공식 + (0 ~ 1 사이 값으로만 출력) => 이항분류\n",
    "    - 베이스공식 + 이항분류 + 확률값계산 => 다항분류\n",
    "        - AI에서는 다항분류의 softmax의 output값은 y값의 유니크 갯수로 지정\n",
    "- 사이킷런은 이항분류/다항분류 모두 => 다항분류로 나옴\n",
    "    - y 예측값이 2개 일 때는 [확률1 ,확률2]\n",
    "    - y 예측값이 4개 일 때는 [확률1, 확률2, 확률3, 확률4]\n",
    "    - 가장 큰 확률값의 위치를 찾으면 y 예측값이 됨\n",
    "- 인공신경망은 이항분류는 sigmoid, output 1개 / 다항분류는 softmax, output y의 유니크 갯수 값\n",
    "\n",
    "## 회귀분석에서 예측값 공식\n",
    "\n",
    "$\\hat{y} = wx + b$ 예상\n",
    "<br />\n",
    "$y = \\hat{y} + err$ 실제"
   ]
  }
 ],
 "metadata": {
  "kernelspec": {
   "display_name": "Python 3 (ipykernel)",
   "language": "python",
   "name": "python3"
  },
  "language_info": {
   "codemirror_mode": {
    "name": "ipython",
    "version": 3
   },
   "file_extension": ".py",
   "mimetype": "text/x-python",
   "name": "python",
   "nbconvert_exporter": "python",
   "pygments_lexer": "ipython3",
   "version": "3.9.12"
  },
  "toc": {
   "base_numbering": 1,
   "nav_menu": {},
   "number_sections": true,
   "sideBar": true,
   "skip_h1_title": false,
   "title_cell": "Table of Contents",
   "title_sidebar": "Contents",
   "toc_cell": false,
   "toc_position": {},
   "toc_section_display": true,
   "toc_window_display": false
  },
  "varInspector": {
   "cols": {
    "lenName": 16,
    "lenType": 16,
    "lenVar": 40
   },
   "kernels_config": {
    "python": {
     "delete_cmd_postfix": "",
     "delete_cmd_prefix": "del ",
     "library": "var_list.py",
     "varRefreshCmd": "print(var_dic_list())"
    },
    "r": {
     "delete_cmd_postfix": ") ",
     "delete_cmd_prefix": "rm(",
     "library": "var_list.r",
     "varRefreshCmd": "cat(var_dic_list()) "
    }
   },
   "types_to_exclude": [
    "module",
    "function",
    "builtin_function_or_method",
    "instance",
    "_Feature"
   ],
   "window_display": false
  }
 },
 "nbformat": 4,
 "nbformat_minor": 5
}
