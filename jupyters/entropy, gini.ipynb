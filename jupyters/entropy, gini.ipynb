{
 "cells": [
  {
   "cell_type": "markdown",
   "id": "46cecf29",
   "metadata": {},
   "source": [
    "[참고](https://wyatt37.tistory.com/9)"
   ]
  },
  {
   "cell_type": "code",
   "execution_count": 1,
   "id": "ccf4941c",
   "metadata": {
    "ExecuteTime": {
     "end_time": "2022-06-30T08:25:26.292822Z",
     "start_time": "2022-06-30T08:25:25.688224Z"
    }
   },
   "outputs": [],
   "source": [
    "import random\n",
    "import math\n",
    "import numpy as np\n",
    "import pandas as pd\n",
    "import matplotlib.pyplot as plt"
   ]
  },
  {
   "cell_type": "code",
   "execution_count": 3,
   "id": "0885c02b",
   "metadata": {
    "ExecuteTime": {
     "end_time": "2022-06-30T08:27:03.189787Z",
     "start_time": "2022-06-30T08:27:03.175790Z"
    }
   },
   "outputs": [],
   "source": [
    "# Gini Function\n",
    "# a and b are the quantities of each class\n",
    "\n",
    "\n",
    "def gini(a, b):\n",
    "    # a의 등장확률\n",
    "    a1 = (a / (a + b))**2\n",
    "    # b의 등장확률\n",
    "    b1 = (b / (a + b))**2\n",
    "\n",
    "    # return gini\n",
    "    return 1 - (a1 + b1)"
   ]
  },
  {
   "cell_type": "code",
   "execution_count": 14,
   "id": "f83b275f",
   "metadata": {
    "ExecuteTime": {
     "end_time": "2022-06-30T08:32:53.399065Z",
     "start_time": "2022-06-30T08:32:53.362301Z"
    }
   },
   "outputs": [
    {
     "data": {
      "text/html": [
       "<div>\n",
       "<style scoped>\n",
       "    .dataframe tbody tr th:only-of-type {\n",
       "        vertical-align: middle;\n",
       "    }\n",
       "\n",
       "    .dataframe tbody tr th {\n",
       "        vertical-align: top;\n",
       "    }\n",
       "\n",
       "    .dataframe thead th {\n",
       "        text-align: right;\n",
       "    }\n",
       "</style>\n",
       "<table border=\"1\" class=\"dataframe\">\n",
       "  <thead>\n",
       "    <tr style=\"text-align: right;\">\n",
       "      <th></th>\n",
       "      <th>Blue</th>\n",
       "      <th>Red</th>\n",
       "      <th>Gini Score</th>\n",
       "      <th>Probability of Blue</th>\n",
       "    </tr>\n",
       "  </thead>\n",
       "  <tbody>\n",
       "    <tr>\n",
       "      <th>0</th>\n",
       "      <td>1.810611</td>\n",
       "      <td>2.189389</td>\n",
       "      <td>0.495516</td>\n",
       "      <td>0.452653</td>\n",
       "    </tr>\n",
       "    <tr>\n",
       "      <th>1</th>\n",
       "      <td>0.542378</td>\n",
       "      <td>3.457622</td>\n",
       "      <td>0.234417</td>\n",
       "      <td>0.135594</td>\n",
       "    </tr>\n",
       "    <tr>\n",
       "      <th>2</th>\n",
       "      <td>3.016829</td>\n",
       "      <td>0.983171</td>\n",
       "      <td>0.370757</td>\n",
       "      <td>0.754207</td>\n",
       "    </tr>\n",
       "    <tr>\n",
       "      <th>3</th>\n",
       "      <td>1.090097</td>\n",
       "      <td>2.909903</td>\n",
       "      <td>0.396509</td>\n",
       "      <td>0.272524</td>\n",
       "    </tr>\n",
       "    <tr>\n",
       "      <th>4</th>\n",
       "      <td>1.100185</td>\n",
       "      <td>2.899815</td>\n",
       "      <td>0.398792</td>\n",
       "      <td>0.275046</td>\n",
       "    </tr>\n",
       "    <tr>\n",
       "      <th>...</th>\n",
       "      <td>...</td>\n",
       "      <td>...</td>\n",
       "      <td>...</td>\n",
       "      <td>...</td>\n",
       "    </tr>\n",
       "    <tr>\n",
       "      <th>9995</th>\n",
       "      <td>2.543644</td>\n",
       "      <td>1.456356</td>\n",
       "      <td>0.463056</td>\n",
       "      <td>0.635911</td>\n",
       "    </tr>\n",
       "    <tr>\n",
       "      <th>9996</th>\n",
       "      <td>1.968387</td>\n",
       "      <td>2.031613</td>\n",
       "      <td>0.499875</td>\n",
       "      <td>0.492097</td>\n",
       "    </tr>\n",
       "    <tr>\n",
       "      <th>9997</th>\n",
       "      <td>0.083239</td>\n",
       "      <td>3.916761</td>\n",
       "      <td>0.040753</td>\n",
       "      <td>0.020810</td>\n",
       "    </tr>\n",
       "    <tr>\n",
       "      <th>9998</th>\n",
       "      <td>3.207879</td>\n",
       "      <td>0.792121</td>\n",
       "      <td>0.317629</td>\n",
       "      <td>0.801970</td>\n",
       "    </tr>\n",
       "    <tr>\n",
       "      <th>9999</th>\n",
       "      <td>2.331862</td>\n",
       "      <td>1.668138</td>\n",
       "      <td>0.486233</td>\n",
       "      <td>0.582966</td>\n",
       "    </tr>\n",
       "  </tbody>\n",
       "</table>\n",
       "<p>10000 rows × 4 columns</p>\n",
       "</div>"
      ],
      "text/plain": [
       "          Blue       Red  Gini Score  Probability of Blue\n",
       "0     1.810611  2.189389    0.495516             0.452653\n",
       "1     0.542378  3.457622    0.234417             0.135594\n",
       "2     3.016829  0.983171    0.370757             0.754207\n",
       "3     1.090097  2.909903    0.396509             0.272524\n",
       "4     1.100185  2.899815    0.398792             0.275046\n",
       "...        ...       ...         ...                  ...\n",
       "9995  2.543644  1.456356    0.463056             0.635911\n",
       "9996  1.968387  2.031613    0.499875             0.492097\n",
       "9997  0.083239  3.916761    0.040753             0.020810\n",
       "9998  3.207879  0.792121    0.317629             0.801970\n",
       "9999  2.331862  1.668138    0.486233             0.582966\n",
       "\n",
       "[10000 rows x 4 columns]"
      ]
     },
     "execution_count": 14,
     "metadata": {},
     "output_type": "execute_result"
    }
   ],
   "source": [
    "gini_list = []\n",
    "blue_list = []\n",
    "red_list = []\n",
    "blue_prob_list = []\n",
    "\n",
    "for x in range(10000):\n",
    "    blue = random.uniform(0, 4)\n",
    "    red = abs(4 - blue)\n",
    "\n",
    "    a = gini(red, blue)\n",
    "    b = blue / (blue + red)\n",
    "\n",
    "    gini_list.append(a)\n",
    "    blue_list.append(blue)\n",
    "    red_list.append(red)\n",
    "    blue_prob_list.append(b)\n",
    "\n",
    "df = pd.DataFrame({\n",
    "    \"Blue\": blue_list,\n",
    "    \"Red\": red_list,\n",
    "    \"Gini Score\": gini_list,\n",
    "    \"Probability of Blue\": blue_prob_list\n",
    "})\n",
    "df"
   ]
  },
  {
   "cell_type": "code",
   "execution_count": 15,
   "id": "1af4accb",
   "metadata": {
    "ExecuteTime": {
     "end_time": "2022-06-30T08:32:54.958745Z",
     "start_time": "2022-06-30T08:32:54.843118Z"
    }
   },
   "outputs": [
    {
     "data": {
      "text/plain": [
       "Text(0.5, 1.0, 'Gini Curve')"
      ]
     },
     "execution_count": 15,
     "metadata": {},
     "output_type": "execute_result"
    },
    {
     "data": {
      "image/png": "[encoded data removed]",
      "text/plain": [
       "<Figure size 432x288 with 1 Axes>"
      ]
     },
     "metadata": {
      "needs_background": "light"
     },
     "output_type": "display_data"
    }
   ],
   "source": [
    "plt.scatter(blue_prob_list, gini_list)\n",
    "plt.xlabel('Probability of Blue Gumball %')\n",
    "plt.ylabel('Gini')\n",
    "plt.title('Gini Curve')"
   ]
  },
  {
   "cell_type": "code",
   "execution_count": 19,
   "id": "38df25f6",
   "metadata": {
    "ExecuteTime": {
     "end_time": "2022-06-30T08:37:55.416513Z",
     "start_time": "2022-06-30T08:37:55.400517Z"
    }
   },
   "outputs": [],
   "source": [
    "def entropy(base, a, b):\n",
    "    try:\n",
    "        var = abs(((a) / (a + b)) * math.log(\n",
    "            ((a) / (a + b)), base)) - (((b) / (a + b)) * math.log(\n",
    "                ((b) / (a + b)), base))\n",
    "\n",
    "        return var\n",
    "    except ValueError:\n",
    "        return 0"
   ]
  },
  {
   "cell_type": "code",
   "execution_count": 21,
   "id": "e207a75b",
   "metadata": {
    "ExecuteTime": {
     "end_time": "2022-06-30T08:39:59.613470Z",
     "start_time": "2022-06-30T08:39:59.568758Z"
    }
   },
   "outputs": [
    {
     "data": {
      "text/html": [
       "<div>\n",
       "<style scoped>\n",
       "    .dataframe tbody tr th:only-of-type {\n",
       "        vertical-align: middle;\n",
       "    }\n",
       "\n",
       "    .dataframe tbody tr th {\n",
       "        vertical-align: top;\n",
       "    }\n",
       "\n",
       "    .dataframe thead th {\n",
       "        text-align: right;\n",
       "    }\n",
       "</style>\n",
       "<table border=\"1\" class=\"dataframe\">\n",
       "  <thead>\n",
       "    <tr style=\"text-align: right;\">\n",
       "      <th></th>\n",
       "      <th>Blue</th>\n",
       "      <th>Red</th>\n",
       "      <th>Entropy</th>\n",
       "      <th>Probability of Blue</th>\n",
       "    </tr>\n",
       "  </thead>\n",
       "  <tbody>\n",
       "    <tr>\n",
       "      <th>0</th>\n",
       "      <td>0.613425</td>\n",
       "      <td>3.386575</td>\n",
       "      <td>0.618176</td>\n",
       "      <td>0.153356</td>\n",
       "    </tr>\n",
       "    <tr>\n",
       "      <th>1</th>\n",
       "      <td>0.237810</td>\n",
       "      <td>3.762190</td>\n",
       "      <td>0.325267</td>\n",
       "      <td>0.059452</td>\n",
       "    </tr>\n",
       "    <tr>\n",
       "      <th>2</th>\n",
       "      <td>2.864383</td>\n",
       "      <td>1.135617</td>\n",
       "      <td>0.860716</td>\n",
       "      <td>0.716096</td>\n",
       "    </tr>\n",
       "    <tr>\n",
       "      <th>3</th>\n",
       "      <td>2.862474</td>\n",
       "      <td>1.137526</td>\n",
       "      <td>0.861352</td>\n",
       "      <td>0.715618</td>\n",
       "    </tr>\n",
       "    <tr>\n",
       "      <th>4</th>\n",
       "      <td>2.206058</td>\n",
       "      <td>1.793942</td>\n",
       "      <td>0.992329</td>\n",
       "      <td>0.551514</td>\n",
       "    </tr>\n",
       "    <tr>\n",
       "      <th>...</th>\n",
       "      <td>...</td>\n",
       "      <td>...</td>\n",
       "      <td>...</td>\n",
       "      <td>...</td>\n",
       "    </tr>\n",
       "    <tr>\n",
       "      <th>9995</th>\n",
       "      <td>1.073538</td>\n",
       "      <td>2.926462</td>\n",
       "      <td>0.839137</td>\n",
       "      <td>0.268384</td>\n",
       "    </tr>\n",
       "    <tr>\n",
       "      <th>9996</th>\n",
       "      <td>1.268879</td>\n",
       "      <td>2.731121</td>\n",
       "      <td>0.901332</td>\n",
       "      <td>0.317220</td>\n",
       "    </tr>\n",
       "    <tr>\n",
       "      <th>9997</th>\n",
       "      <td>3.270223</td>\n",
       "      <td>0.729777</td>\n",
       "      <td>0.685395</td>\n",
       "      <td>0.817556</td>\n",
       "    </tr>\n",
       "    <tr>\n",
       "      <th>9998</th>\n",
       "      <td>3.938790</td>\n",
       "      <td>0.061210</td>\n",
       "      <td>0.114183</td>\n",
       "      <td>0.984697</td>\n",
       "    </tr>\n",
       "    <tr>\n",
       "      <th>9999</th>\n",
       "      <td>1.096035</td>\n",
       "      <td>2.903965</td>\n",
       "      <td>0.847158</td>\n",
       "      <td>0.274009</td>\n",
       "    </tr>\n",
       "  </tbody>\n",
       "</table>\n",
       "<p>10000 rows × 4 columns</p>\n",
       "</div>"
      ],
      "text/plain": [
       "          Blue       Red   Entropy  Probability of Blue\n",
       "0     0.613425  3.386575  0.618176             0.153356\n",
       "1     0.237810  3.762190  0.325267             0.059452\n",
       "2     2.864383  1.135617  0.860716             0.716096\n",
       "3     2.862474  1.137526  0.861352             0.715618\n",
       "4     2.206058  1.793942  0.992329             0.551514\n",
       "...        ...       ...       ...                  ...\n",
       "9995  1.073538  2.926462  0.839137             0.268384\n",
       "9996  1.268879  2.731121  0.901332             0.317220\n",
       "9997  3.270223  0.729777  0.685395             0.817556\n",
       "9998  3.938790  0.061210  0.114183             0.984697\n",
       "9999  1.096035  2.903965  0.847158             0.274009\n",
       "\n",
       "[10000 rows x 4 columns]"
      ]
     },
     "execution_count": 21,
     "metadata": {},
     "output_type": "execute_result"
    }
   ],
   "source": [
    "ent_list = []\n",
    "blue_list = []\n",
    "red_list = []\n",
    "blue_prob_list2 = []\n",
    "\n",
    "for x in range(10000):\n",
    "    blue = random.uniform(0, 4)\n",
    "    red = abs(4 - blue)\n",
    "    a = entropy(2, red, blue)\n",
    "    b = blue / (blue + red)\n",
    "    \n",
    "    ent_list.append(a)\n",
    "    blue_list.append(blue)\n",
    "    red_list.append(red)\n",
    "    blue_prob_list2.append(b)\n",
    "    \n",
    "    \n",
    "df = pd.DataFrame({\n",
    "    \"Blue\": blue_list,\n",
    "    \"Red\": red_list,\n",
    "    \"Entropy\": ent_list,\n",
    "    \"Probability of Blue\": blue_prob_list2\n",
    "})\n",
    "df"
   ]
  },
  {
   "cell_type": "code",
   "execution_count": 22,
   "id": "2e10f7f2",
   "metadata": {
    "ExecuteTime": {
     "end_time": "2022-06-30T08:40:33.736584Z",
     "start_time": "2022-06-30T08:40:33.586829Z"
    }
   },
   "outputs": [
    {
     "data": {
      "text/plain": [
       "Text(0.5, 1.0, 'Entropy Curve')"
      ]
     },
     "execution_count": 22,
     "metadata": {},
     "output_type": "execute_result"
    },
    {
     "data": {
      "image/png": "[encoded data removed]",
      "text/plain": [
       "<Figure size 432x288 with 1 Axes>"
      ]
     },
     "metadata": {
      "needs_background": "light"
     },
     "output_type": "display_data"
    }
   ],
   "source": [
    "plt.scatter(blue_prob_list2, ent_list)\n",
    "plt.xlabel('Probability of Blue Gumball %')\n",
    "plt.ylabel('Entropy')\n",
    "plt.title('Entropy Curve')"
   ]
  },
  {
   "cell_type": "code",
   "execution_count": 25,
   "id": "b9ad1ec5",
   "metadata": {
    "ExecuteTime": {
     "end_time": "2022-06-30T08:41:15.539739Z",
     "start_time": "2022-06-30T08:41:15.383612Z"
    }
   },
   "outputs": [
    {
     "data": {
      "text/plain": [
       "Text(0.5, 1.0, 'Both Curve')"
      ]
     },
     "execution_count": 25,
     "metadata": {},
     "output_type": "execute_result"
    },
    {
     "data": {
      "image/png": "[encoded data removed]",
      "text/plain": [
       "<Figure size 432x288 with 1 Axes>"
      ]
     },
     "metadata": {
      "needs_background": "light"
     },
     "output_type": "display_data"
    }
   ],
   "source": [
    "plt.scatter(blue_prob_list, gini_list)\n",
    "plt.scatter(blue_prob_list2, ent_list)\n",
    "plt.xlabel('Probability of Blue Gumball %')\n",
    "plt.ylabel('Value')\n",
    "plt.title('Both Curve')"
   ]
  },
  {
   "cell_type": "code",
   "execution_count": 26,
   "id": "730f39a2",
   "metadata": {
    "ExecuteTime": {
     "end_time": "2022-06-30T08:42:04.932712Z",
     "start_time": "2022-06-30T08:42:04.752498Z"
    }
   },
   "outputs": [
    {
     "data": {
      "text/plain": [
       "Text(0.5, 1.0, 'Both Curve')"
      ]
     },
     "execution_count": 26,
     "metadata": {},
     "output_type": "execute_result"
    },
    {
     "data": {
      "image/png": "[encoded data removed]",
      "text/plain": [
       "<Figure size 432x288 with 1 Axes>"
      ]
     },
     "metadata": {
      "needs_background": "light"
     },
     "output_type": "display_data"
    }
   ],
   "source": [
    "plt.scatter(blue_prob_list, np.array(gini_list) * 2)\n",
    "plt.scatter(blue_prob_list2, ent_list)\n",
    "plt.xlabel('Probability of Blue Gumball %')\n",
    "plt.ylabel('Value')\n",
    "plt.title('Both Curve')"
   ]
  },
  {
   "cell_type": "markdown",
   "id": "4850c89f",
   "metadata": {},
   "source": [
    "## Gini vs Entropy\n",
    "\n",
    "- 보통의 경우 지니보다 엔트로피가 성능을 냄\n",
    "- 지니 인덱스 커브는 엔트로피 커브보다 경사가 더 급해서\n",
    "- 즉, 극단값을 제외하고서는 엔트로피가 지니 인덱스보다 평가에 더 가혹하다.\n",
    "- 반면에, 연산 속도는 지니가 엔트로피보다 빠름\n",
    "- 엔트로피는 로그를 사용해서\n",
    "- 더 나은 성능 => 엔트로피\n",
    "- 더 빠른 계산 => 지니"
   ]
  }
 ],
 "metadata": {
  "kernelspec": {
   "display_name": "Python 3 (ipykernel)",
   "language": "python",
   "name": "python3"
  },
  "language_info": {
   "codemirror_mode": {
    "name": "ipython",
    "version": 3
   },
   "file_extension": ".py",
   "mimetype": "text/x-python",
   "name": "python",
   "nbconvert_exporter": "python",
   "pygments_lexer": "ipython3",
   "version": "3.9.12"
  },
  "toc": {
   "base_numbering": 1,
   "nav_menu": {},
   "number_sections": true,
   "sideBar": true,
   "skip_h1_title": false,
   "title_cell": "Table of Contents",
   "title_sidebar": "Contents",
   "toc_cell": false,
   "toc_position": {},
   "toc_section_display": true,
   "toc_window_display": false
  },
  "varInspector": {
   "cols": {
    "lenName": 16,
    "lenType": 16,
    "lenVar": 40
   },
   "kernels_config": {
    "python": {
     "delete_cmd_postfix": "",
     "delete_cmd_prefix": "del ",
     "library": "var_list.py",
     "varRefreshCmd": "print(var_dic_list())"
    },
    "r": {
     "delete_cmd_postfix": ") ",
     "delete_cmd_prefix": "rm(",
     "library": "var_list.r",
     "varRefreshCmd": "cat(var_dic_list()) "
    }
   },
   "types_to_exclude": [
    "module",
    "function",
    "builtin_function_or_method",
    "instance",
    "_Feature"
   ],
   "window_display": false
  }
 },
 "nbformat": 4,
 "nbformat_minor": 5
}
