{
 "cells": [
  {
   "cell_type": "markdown",
   "id": "0323bada",
   "metadata": {},
   "source": [
    "# 모델기반 추천 시스템의 개요"
   ]
  },
  {
   "cell_type": "markdown",
   "id": "2b8a9e63",
   "metadata": {},
   "source": [
    "## 모델기반 협업 필터링\n",
    "\n",
    "- 머신러닝을 가장 잘 활용한 추천알고리즘의 일종\n",
    "- 주어진 데이터를 활용하여 모델이 패턴을 학습\n",
    "- 데이터 크기 또는 특징을 동적으로 활용 가능\n",
    "- 데이터의 잠재적 특성을 파악하는 모델(Latent Factor Model)"
   ]
  },
  {
   "cell_type": "markdown",
   "id": "ed02da8a",
   "metadata": {},
   "source": [
    "## 모델기반 협업 필터링의 장점\n",
    "\n",
    "- 추천모델의 크기를 줄일 수 있음(데이터를 Matrix로 만들어서 가능)\n",
    "- 데이터 전처리와 학습과정으로 준비된 모델로 예측 가능함\n",
    "- 추천모델의 과적합 방지가 가능함"
   ]
  },
  {
   "cell_type": "markdown",
   "id": "6d4e3f2c",
   "metadata": {},
   "source": [
    "## 모델기반 협업 필터링 종류\n",
    "\n",
    "- Association Rule Mining\n",
    "- Matrix Factorization(SVD, ALS)\n",
    "- Probabilistic Models\n",
    "- SVM, Regression methods(Logistic Regression), Deep Learning"
   ]
  },
  {
   "cell_type": "markdown",
   "id": "a94a03be",
   "metadata": {},
   "source": [
    "# 특이값 분해 추천 시스템(SVD) 정리"
   ]
  },
  {
   "cell_type": "markdown",
   "id": "27d17520",
   "metadata": {},
   "source": [
    "## SVD(Singular Vector Decomposition)\n",
    "\n",
    "- 일반적으로 잘 알려진 행렬 분할 방법으로, 강력한 성능을 자랑하여 아직까지도 많은 곳에서 사용하고 있는 모델이다.\n",
    "- 본래 고유값 분해(Eigen Value Decomposition)를 이용한 행렬분해의 경우, 정방행렬(n x n)에 이어야 하지만, SVD를 이용한다면 m x n 행렬로도 대각행렬을 통한 특이값 분해가 가능하기 때문에 유저, 아이템의 행과 열의 개수가 다른 추천모델에도 적합하다.\n",
    "- 고유값 분해\n",
    "    - n x n 의 정방행렬에 대해 선형변환 후의 벡터가 얼마나 커지거나 작아졌는지를 파악하기 위한 방법이자, 3개의 행렬로 분할하는 방법이다.\n",
    "- 특이값 분해\n",
    "    - SVD는 특이값 분해로, m x n으로 이뤄진 A행렬에 대한 행렬분해를 하는 것을 의미한다.\n",
    "기하학에서 선형변환 시 여전히 직교하지만 얼마만큼의 크기 변화가 있는지를 파악하는 것을 의미한다."
   ]
  },
  {
   "cell_type": "markdown",
   "id": "99920c55",
   "metadata": {},
   "source": [
    "## Numpy로 SVD 구현"
   ]
  },
  {
   "cell_type": "code",
   "execution_count": 1,
   "id": "1cf3294d",
   "metadata": {
    "ExecuteTime": {
     "end_time": "2022-08-04T01:42:01.385382Z",
     "start_time": "2022-08-04T01:42:01.370382Z"
    }
   },
   "outputs": [],
   "source": [
    "import numpy as np\n",
    "from numpy.linalg import svd"
   ]
  },
  {
   "cell_type": "code",
   "execution_count": 2,
   "id": "a67120b4",
   "metadata": {
    "ExecuteTime": {
     "end_time": "2022-08-04T01:42:13.742386Z",
     "start_time": "2022-08-04T01:42:13.720917Z"
    }
   },
   "outputs": [
    {
     "name": "stdout",
     "output_type": "stream",
     "text": [
      "[[ 0.497 -0.138  0.648  1.523]\n",
      " [-0.234 -0.234  1.579  0.767]\n",
      " [-0.469  0.543 -0.463 -0.466]\n",
      " [ 0.242 -1.913 -1.725 -0.562]]\n"
     ]
    }
   ],
   "source": [
    "# 4 x 4 행렬 생성\n",
    "np.random.seed(42)\n",
    "a = np.random.randn(4, 4)  # 평균 0, 표준편차 1의 가우시간 난수 생성\n",
    "print(np.round(a, 3))"
   ]
  },
  {
   "cell_type": "code",
   "execution_count": 3,
   "id": "3674675d",
   "metadata": {
    "ExecuteTime": {
     "end_time": "2022-08-04T01:42:34.586230Z",
     "start_time": "2022-08-04T01:42:34.536575Z"
    }
   },
   "outputs": [
    {
     "name": "stdout",
     "output_type": "stream",
     "text": [
      "U: [[-0.373 -0.598  0.642 -0.302]\n",
      " [-0.488 -0.35  -0.745 -0.289]\n",
      " [ 0.113  0.444  0.062 -0.887]\n",
      " [ 0.781 -0.568 -0.168 -0.197]]\n",
      "Sigma: [3.08  1.926 0.92  0.342]\n",
      "Vt: [[ 0.021 -0.412 -0.783 -0.466]\n",
      " [-0.291  0.775 -0.086 -0.554]\n",
      " [ 0.461  0.479 -0.544  0.512]\n",
      " [ 0.838  0.017  0.289 -0.462]]\n"
     ]
    }
   ],
   "source": [
    "# 이렇게 임의의 4 x 4 매트릭스를 생성한 뒤,\n",
    "# Numpy SVD를 통해3개의 행렬로 분할해본다.\n",
    "U, Sigma, Vt = svd(a)\n",
    "print('U:', np.round(U, 3))\n",
    "print('Sigma:',\n",
    "      np.round(Sigma, 3))  # 시그마의 경우, 대각행렬의 요소값인 Singular Value를 내림차순으로 가져온다.\n",
    "print('Vt:', np.round(Vt, 3))"
   ]
  },
  {
   "cell_type": "code",
   "execution_count": 4,
   "id": "1bc378ca",
   "metadata": {
    "ExecuteTime": {
     "end_time": "2022-08-04T01:43:18.937627Z",
     "start_time": "2022-08-04T01:43:18.914625Z"
    }
   },
   "outputs": [
    {
     "name": "stdout",
     "output_type": "stream",
     "text": [
      "Sigma : [[3.08  0.    0.    0.   ]\n",
      " [0.    1.926 0.    0.   ]\n",
      " [0.    0.    0.92  0.   ]\n",
      " [0.    0.    0.    0.342]]\n"
     ]
    }
   ],
   "source": [
    "# 시그마의 대각행렬을 원상복구 해주는 방법: np.diag\n",
    "Sigma_matrix = np.diag(Sigma)\n",
    "print('Sigma :', np.round(Sigma_matrix, 3))"
   ]
  },
  {
   "cell_type": "code",
   "execution_count": 5,
   "id": "f736d1bb",
   "metadata": {
    "ExecuteTime": {
     "end_time": "2022-08-04T01:43:44.624249Z",
     "start_time": "2022-08-04T01:43:44.599264Z"
    }
   },
   "outputs": [
    {
     "name": "stdout",
     "output_type": "stream",
     "text": [
      "[[ 0.497 -0.138  0.648  1.523]\n",
      " [-0.234 -0.234  1.579  0.767]\n",
      " [-0.469  0.543 -0.463 -0.466]\n",
      " [ 0.242 -1.913 -1.725 -0.562]]\n"
     ]
    }
   ],
   "source": [
    "a_ = np.dot(np.dot(U, Sigma_matrix), Vt)\n",
    "print(np.round(a, 3))  # 맨 처음의 매트릭스 a와 같음을 확인할 수 있다."
   ]
  },
  {
   "cell_type": "markdown",
   "id": "b9dc1ffb",
   "metadata": {},
   "source": [
    "## sklearn을 이용해 영화 추천 구현"
   ]
  },
  {
   "cell_type": "code",
   "execution_count": 42,
   "id": "2eab054f",
   "metadata": {
    "ExecuteTime": {
     "end_time": "2022-08-04T02:10:37.805322Z",
     "start_time": "2022-08-04T02:10:37.793178Z"
    }
   },
   "outputs": [],
   "source": [
    "from surprise import SVD\n",
    "from surprise import Dataset\n",
    "from surprise.model_selection import cross_validate, train_test_split"
   ]
  },
  {
   "cell_type": "code",
   "execution_count": 34,
   "id": "07d12b8b",
   "metadata": {
    "ExecuteTime": {
     "end_time": "2022-08-04T02:00:49.193910Z",
     "start_time": "2022-08-04T02:00:49.082860Z"
    }
   },
   "outputs": [
    {
     "data": {
      "text/plain": [
       "[('196', '242', 3.0, '881250949'),\n",
       " ('186', '302', 3.0, '891717742'),\n",
       " ('22', '377', 1.0, '878887116'),\n",
       " ('244', '51', 2.0, '880606923'),\n",
       " ('166', '346', 1.0, '886397596'),\n",
       " ('298', '474', 4.0, '884182806'),\n",
       " ('115', '265', 2.0, '881171488'),\n",
       " ('253', '465', 5.0, '891628467'),\n",
       " ('305', '451', 3.0, '886324817'),\n",
       " ('6', '86', 3.0, '883603013')]"
      ]
     },
     "execution_count": 34,
     "metadata": {},
     "output_type": "execute_result"
    }
   ],
   "source": [
    "# 패키지 내에서 유용하게 사용할 수 있는 무비렌즈 데이터 불러오기\n",
    "data = Dataset.load_builtin('ml-100k', prompt=False)\n",
    "data.raw_ratings[:10]"
   ]
  },
  {
   "cell_type": "code",
   "execution_count": 43,
   "id": "dffa9ed8",
   "metadata": {
    "ExecuteTime": {
     "end_time": "2022-08-04T02:10:51.975293Z",
     "start_time": "2022-08-04T02:10:51.897558Z"
    }
   },
   "outputs": [],
   "source": [
    "trainset, testset = train_test_split(data, test_size=0.25, random_state=0)"
   ]
  },
  {
   "cell_type": "code",
   "execution_count": 35,
   "id": "1a2fbb55",
   "metadata": {
    "ExecuteTime": {
     "end_time": "2022-08-04T02:01:08.368561Z",
     "start_time": "2022-08-04T02:01:08.353572Z"
    }
   },
   "outputs": [],
   "source": [
    "model = SVD()"
   ]
  },
  {
   "cell_type": "code",
   "execution_count": 36,
   "id": "3f9fcd92",
   "metadata": {
    "ExecuteTime": {
     "end_time": "2022-08-04T02:01:46.125016Z",
     "start_time": "2022-08-04T02:01:31.969702Z"
    }
   },
   "outputs": [
    {
     "name": "stdout",
     "output_type": "stream",
     "text": [
      "Evaluating RMSE, MSE of algorithm SVD on 5 split(s).\n",
      "\n",
      "                  Fold 1  Fold 2  Fold 3  Fold 4  Fold 5  Mean    Std     \n",
      "RMSE (testset)    0.9347  0.9419  0.9382  0.9318  0.9350  0.9363  0.0034  \n",
      "MSE (testset)     0.8737  0.8871  0.8802  0.8682  0.8742  0.8767  0.0064  \n",
      "Fit time          2.65    2.66    2.62    2.64    2.65    2.64    0.01    \n",
      "Test time         0.08    0.07    0.07    0.15    0.07    0.09    0.03    \n"
     ]
    },
    {
     "data": {
      "text/plain": [
       "{'test_rmse': array([0.93473125, 0.94185324, 0.93816438, 0.93178786, 0.93500753]),\n",
       " 'test_mse': array([0.8737225 , 0.88708752, 0.88015241, 0.86822861, 0.87423909]),\n",
       " 'fit_time': (2.6533565521240234,\n",
       "  2.6630873680114746,\n",
       "  2.620145082473755,\n",
       "  2.639962673187256,\n",
       "  2.6477153301239014),\n",
       " 'test_time': (0.08394169807434082,\n",
       "  0.06861495971679688,\n",
       "  0.06999588012695312,\n",
       "  0.14923334121704102,\n",
       "  0.06807947158813477)}"
      ]
     },
     "execution_count": 36,
     "metadata": {},
     "output_type": "execute_result"
    }
   ],
   "source": [
    "cross_validate(model, data, measures=['rmse', 'mse'], cv=5, verbose=True)"
   ]
  },
  {
   "cell_type": "code",
   "execution_count": 44,
   "id": "883a9133",
   "metadata": {
    "ExecuteTime": {
     "end_time": "2022-08-04T02:11:11.128252Z",
     "start_time": "2022-08-04T02:11:08.497393Z"
    }
   },
   "outputs": [
    {
     "data": {
      "text/plain": [
       "<surprise.prediction_algorithms.matrix_factorization.SVD at 0x2bc33c74288>"
      ]
     },
     "execution_count": 44,
     "metadata": {},
     "output_type": "execute_result"
    }
   ],
   "source": [
    "model.fit(trainset)"
   ]
  },
  {
   "cell_type": "code",
   "execution_count": 46,
   "id": "d7f4cec5",
   "metadata": {
    "ExecuteTime": {
     "end_time": "2022-08-04T02:11:21.191797Z",
     "start_time": "2022-08-04T02:11:21.096573Z"
    }
   },
   "outputs": [
    {
     "name": "stdout",
     "output_type": "stream",
     "text": [
      "prediction type :  <class 'list'> size :  25000\n",
      "prediction 결과의 최초 5개 추출\n"
     ]
    },
    {
     "data": {
      "text/plain": [
       "[Prediction(uid='120', iid='282', r_ui=4.0, est=3.599439175192738, details={'was_impossible': False}),\n",
       " Prediction(uid='882', iid='291', r_ui=4.0, est=3.4401446990224875, details={'was_impossible': False}),\n",
       " Prediction(uid='535', iid='507', r_ui=5.0, est=3.880640926021253, details={'was_impossible': False}),\n",
       " Prediction(uid='697', iid='244', r_ui=5.0, est=3.6788704821857974, details={'was_impossible': False}),\n",
       " Prediction(uid='751', iid='385', r_ui=4.0, est=3.6020911932053616, details={'was_impossible': False})]"
      ]
     },
     "execution_count": 46,
     "metadata": {},
     "output_type": "execute_result"
    }
   ],
   "source": [
    "# uid : 유저 아이디\n",
    "# iid : 아이템 아이디(영화 아이디)\n",
    "# r_ui : 실제 평점\n",
    "# est : 예측 평점\n",
    "predictions = model.test(testset)\n",
    "print('prediction type : ', type(predictions), 'size : ', len(predictions))\n",
    "print('prediction 결과의 최초 5개 추출')\n",
    "predictions[:5]"
   ]
  },
  {
   "cell_type": "code",
   "execution_count": 47,
   "id": "eece2b70",
   "metadata": {
    "ExecuteTime": {
     "end_time": "2022-08-04T02:11:36.252493Z",
     "start_time": "2022-08-04T02:11:36.245493Z"
    }
   },
   "outputs": [
    {
     "data": {
      "text/plain": [
       "[('120', '282', 3.599439175192738),\n",
       " ('882', '291', 3.4401446990224875),\n",
       " ('535', '507', 3.880640926021253)]"
      ]
     },
     "execution_count": 47,
     "metadata": {},
     "output_type": "execute_result"
    }
   ],
   "source": [
    "[(pred.uid, pred.iid, pred.est) for pred in predictions[:3]]"
   ]
  },
  {
   "cell_type": "code",
   "execution_count": 49,
   "id": "28ef9e0f",
   "metadata": {
    "ExecuteTime": {
     "end_time": "2022-08-04T02:12:46.508533Z",
     "start_time": "2022-08-04T02:12:46.490859Z"
    }
   },
   "outputs": [
    {
     "name": "stdout",
     "output_type": "stream",
     "text": [
      "user: 196        item: 302        r_ui = None   est = 4.16   {'was_impossible': False}\n"
     ]
    }
   ],
   "source": [
    "uid = str(196)\n",
    "iid = str(302)\n",
    "pred = model.predict(uid, iid)\n",
    "print(pred)"
   ]
  },
  {
   "cell_type": "markdown",
   "id": "13fa7510",
   "metadata": {},
   "source": [
    "# 추천 시스템 사례"
   ]
  },
  {
   "cell_type": "markdown",
   "id": "d8445157",
   "metadata": {},
   "source": [
    "## 카카오\n",
    "\n",
    "- https://tech.kakao.com/2021/03/11/kakao-ai"
   ]
  },
  {
   "cell_type": "markdown",
   "id": "5c666d9a",
   "metadata": {},
   "source": [
    "## 네이버\n",
    "\n",
    "- https://m.blog.naver.com/naver_diary/220936643956"
   ]
  },
  {
   "cell_type": "markdown",
   "id": "004b341e",
   "metadata": {},
   "source": [
    "## 넷플릭스\n",
    "\n",
    "- https://brunch.co.kr/@cysstory/159"
   ]
  },
  {
   "cell_type": "markdown",
   "id": "5957e568",
   "metadata": {},
   "source": [
    "## 멜론\n",
    "\n",
    "- https://brunch.co.kr/@kakao-it/342"
   ]
  }
 ],
 "metadata": {
  "kernelspec": {
   "display_name": "Python 3 (ipykernel)",
   "language": "python",
   "name": "python3"
  },
  "language_info": {
   "codemirror_mode": {
    "name": "ipython",
    "version": 3
   },
   "file_extension": ".py",
   "mimetype": "text/x-python",
   "name": "python",
   "nbconvert_exporter": "python",
   "pygments_lexer": "ipython3",
   "version": "3.7.13"
  },
  "toc": {
   "base_numbering": 1,
   "nav_menu": {},
   "number_sections": true,
   "sideBar": true,
   "skip_h1_title": false,
   "title_cell": "Table of Contents",
   "title_sidebar": "Contents",
   "toc_cell": false,
   "toc_position": {},
   "toc_section_display": true,
   "toc_window_display": false
  },
  "varInspector": {
   "cols": {
    "lenName": 16,
    "lenType": 16,
    "lenVar": 40
   },
   "kernels_config": {
    "python": {
     "delete_cmd_postfix": "",
     "delete_cmd_prefix": "del ",
     "library": "var_list.py",
     "varRefreshCmd": "print(var_dic_list())"
    },
    "r": {
     "delete_cmd_postfix": ") ",
     "delete_cmd_prefix": "rm(",
     "library": "var_list.r",
     "varRefreshCmd": "cat(var_dic_list()) "
    }
   },
   "types_to_exclude": [
    "module",
    "function",
    "builtin_function_or_method",
    "instance",
    "_Feature"
   ],
   "window_display": false
  }
 },
 "nbformat": 4,
 "nbformat_minor": 5
}
