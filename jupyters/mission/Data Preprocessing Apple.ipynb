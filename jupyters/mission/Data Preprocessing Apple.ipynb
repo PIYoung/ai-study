{
 "cells": [
  {
   "cell_type": "code",
   "execution_count": 1,
   "id": "0fb8058b",
   "metadata": {
    "ExecuteTime": {
     "end_time": "2022-07-20T05:51:46.052251Z",
     "start_time": "2022-07-20T05:51:45.395792Z"
    }
   },
   "outputs": [],
   "source": [
    "import numpy as np\n",
    "import pandas as pd\n",
    "import matplotlib.pyplot as plt\n",
    "import json\n",
    "import os\n",
    "from glob import glob\n",
    "from PIL import Image, ImageOps, ImageFile\n",
    "from tqdm import tqdm\n",
    "\n",
    "ImageFile.LOAD_TRUNCATED_IMAGES = True"
   ]
  },
  {
   "cell_type": "code",
   "execution_count": 2,
   "id": "0b815dd8",
   "metadata": {
    "ExecuteTime": {
     "end_time": "2022-07-20T05:51:46.082961Z",
     "start_time": "2022-07-20T05:51:46.068227Z"
    }
   },
   "outputs": [],
   "source": [
    "def create_folder(folder_path):\n",
    "    if not os.path.exists(folder_path):\n",
    "        os.mkdir(folder_path)\n",
    "\n",
    "\n",
    "def get_json(json_path):\n",
    "    f1 = open(json_path, 'r', encoding='UTF8')\n",
    "    data = json.loads(f1.read())\n",
    "\n",
    "    return data\n",
    "\n",
    "\n",
    "def get_image(source_path):\n",
    "    img = Image.open(source_path)\n",
    "    img = ImageOps.exif_transpose(img)\n",
    "\n",
    "    return img\n",
    "\n",
    "\n",
    "def get_meta_list(data, kind, apple_class):\n",
    "    temp = []\n",
    "    temp.append(data[\"images\"][\"img_file_name\"])  # 파일이름\n",
    "    temp.append(f'{kind}/{apple_class}')  # 파일경로\n",
    "    temp.append(data[\"annotations\"][\"sugar_grade\"])  # 사과 당도 품질 클래스\n",
    "    temp.append(data[\"collection\"][\"apple_kind\"])  # 품종\n",
    "    temp.append(data[\"collection\"][\"sugar_content\"])  # 착즙당도\n",
    "    temp.append(data[\"collection\"][\"sugar_content_nir\"])  # 비파괴당도\n",
    "    temp.append(data[\"collection\"][\"soil_ec\"])  # 토양 전기전도도\n",
    "    temp.append(data[\"collection\"][\"soil_temper\"])  # 토양 온도\n",
    "    temp.append(data[\"collection\"][\"soil_humidty\"])  # 토양 습도\n",
    "    temp.append(data[\"collection\"][\"soil_potential\"])  # 토양 수분장력\n",
    "    temp.append(data[\"collection\"][\"temperature\"])  # 온도\n",
    "    temp.append(data[\"collection\"][\"humidity\"])  # 습도\n",
    "    temp.append(data[\"collection\"][\"sunshine\"])  # 일사량\n",
    "    \n",
    "    return temp"
   ]
  },
  {
   "cell_type": "code",
   "execution_count": 5,
   "id": "2813c837",
   "metadata": {
    "ExecuteTime": {
     "end_time": "2022-07-20T06:28:42.779672Z",
     "start_time": "2022-07-20T05:53:26.731015Z"
    },
    "scrolled": false
   },
   "outputs": [
    {
     "name": "stderr",
     "output_type": "stream",
     "text": [
      "100%|█████████████████████████████████████████████████████████████████████████████████████████████████████████████████████████████████████| 4/4 [35:15<00:00, 528.96s/it]"
     ]
    },
    {
     "name": "stdout",
     "output_type": "stream",
     "text": [
      "----------------------------------------------------------------------------------------------------\n",
      "total image count: 48020\n",
      "apple.csv successfully saved!!\n"
     ]
    },
    {
     "name": "stderr",
     "output_type": "stream",
     "text": [
      "\n"
     ]
    }
   ],
   "source": [
    "kind_list = ['시나노골드', '아리수', '홍로', '후지']\n",
    "apple_class_list = ['당도A등급', '당도B등급', '당도C등급']\n",
    "base_path = 'C:/Users/HP/Downloads/146.전북 장수 사과 당도 품질 데이터/01.데이터/2.Validation'\n",
    "label_base_path = f'{base_path}/라벨링데이터'\n",
    "source_base_path = f'{base_path}/원천데이터'\n",
    "\n",
    "if not os.path.exists('apple_bbox'):\n",
    "    os.mkdir('apple_bbox')\n",
    "\n",
    "test = False\n",
    "cnt = 0\n",
    "columns = [\n",
    "    \"파일이름\", \"파일경로\", \"사과_당도_품질_클래스\", \"품종\", \"착즙당도\", \"비파괴당도\", \"토양_전기전도도\", \"토양_온도\",\n",
    "    \"토양_습도\", \"토양_수분장력\", \"온도\", \"습도\", \"일사량\"\n",
    "]\n",
    "result = [columns]\n",
    "for kind in tqdm(kind_list):\n",
    "    kind_path = f'apple_bbox/{kind}'\n",
    "    create_folder(kind_path)\n",
    "\n",
    "    for apple_class in apple_class_list:\n",
    "        label_list = glob(f'{label_base_path}/{kind}/{apple_class}/*.json')\n",
    "\n",
    "        class_path = f'{kind_path}/{apple_class}'\n",
    "        create_folder(class_path)\n",
    "\n",
    "        for json_path in label_list:\n",
    "            try:\n",
    "                data = get_json(json_path)\n",
    "                filename = data['images']['img_file_name']\n",
    "                bbox = data['annotations']['bbox']\n",
    "                area = data['annotations']['area']\n",
    "                top, left, bottom, right = bbox\n",
    "                img_path = f'{source_base_path}/{kind}/{apple_class}/{filename}'\n",
    "\n",
    "                img = get_image(img_path)\n",
    "                img2 = img.crop(\n",
    "                    (left - 500, top - 300, right + 700, bottom + 850))\n",
    "                img2.save(f'{class_path}/{filename}')\n",
    "\n",
    "                result.append(get_meta_list(data, kind, apple_class))\n",
    "            except:\n",
    "                continue\n",
    "\n",
    "            cnt += 1\n",
    "            if test: break\n",
    "        if test: break\n",
    "    if test: break\n",
    "\n",
    "\n",
    "df = pd.DataFrame(result)\n",
    "df.to_csv('apple.csv', index=False)\n",
    "\n",
    "print('-' * 100)\n",
    "print(f'total image count: {cnt}')\n",
    "print('apple.csv successfully saved!!')"
   ]
  }
 ],
 "metadata": {
  "kernelspec": {
   "display_name": "Python 3 (ipykernel)",
   "language": "python",
   "name": "python3"
  },
  "language_info": {
   "codemirror_mode": {
    "name": "ipython",
    "version": 3
   },
   "file_extension": ".py",
   "mimetype": "text/x-python",
   "name": "python",
   "nbconvert_exporter": "python",
   "pygments_lexer": "ipython3",
   "version": "3.9.12"
  },
  "toc": {
   "base_numbering": 1,
   "nav_menu": {},
   "number_sections": true,
   "sideBar": true,
   "skip_h1_title": false,
   "title_cell": "Table of Contents",
   "title_sidebar": "Contents",
   "toc_cell": false,
   "toc_position": {},
   "toc_section_display": true,
   "toc_window_display": false
  },
  "varInspector": {
   "cols": {
    "lenName": 16,
    "lenType": 16,
    "lenVar": 40
   },
   "kernels_config": {
    "python": {
     "delete_cmd_postfix": "",
     "delete_cmd_prefix": "del ",
     "library": "var_list.py",
     "varRefreshCmd": "print(var_dic_list())"
    },
    "r": {
     "delete_cmd_postfix": ") ",
     "delete_cmd_prefix": "rm(",
     "library": "var_list.r",
     "varRefreshCmd": "cat(var_dic_list()) "
    }
   },
   "types_to_exclude": [
    "module",
    "function",
    "builtin_function_or_method",
    "instance",
    "_Feature"
   ],
   "window_display": false
  }
 },
 "nbformat": 4,
 "nbformat_minor": 5
}
