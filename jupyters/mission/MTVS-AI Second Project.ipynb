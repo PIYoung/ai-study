{
 "cells": [
  {
   "cell_type": "markdown",
   "id": "408124f8",
   "metadata": {},
   "source": [
    "### 목표\n",
    "\n",
    "- 품종, 등급 예측하기"
   ]
  },
  {
   "cell_type": "code",
   "execution_count": 1,
   "id": "a5f4a72e",
   "metadata": {
    "ExecuteTime": {
     "end_time": "2022-07-22T00:28:46.278948Z",
     "start_time": "2022-07-22T00:28:43.702196Z"
    }
   },
   "outputs": [],
   "source": [
    "import os\n",
    "import shutil\n",
    "import logging\n",
    "import numpy as np\n",
    "import pandas as pd\n",
    "import matplotlib.pyplot as plt, cv2\n",
    "import matplotlib.font_manager as fm\n",
    "import seaborn as sns\n",
    "from PIL import Image\n",
    "from tqdm import tqdm\n",
    "\n",
    "import tensorflow as tf\n",
    "import tensorflow.keras as keras\n",
    "import tensorflow.keras.layers as layers\n",
    "from tensorflow.keras.preprocessing.image import ImageDataGenerator\n",
    "from tensorflow.keras.callbacks import ModelCheckpoint\n",
    "\n",
    "from sklearn.model_selection import train_test_split\n",
    "\n",
    "logging.getLogger(\"tensorflow\").setLevel(logging.ERROR)\n",
    "font_name = fm.FontProperties(fname=\"C:/Windows/Fonts/malgun.ttf\").get_name()\n",
    "plt.rc('font', family=font_name)\n",
    "plt.rcParams['axes.facecolor'] = 'white'\n",
    "plt.rcParams['figure.facecolor'] = 'white'"
   ]
  },
  {
   "cell_type": "code",
   "execution_count": 2,
   "id": "63697c18",
   "metadata": {
    "ExecuteTime": {
     "end_time": "2022-07-22T00:28:46.356493Z",
     "start_time": "2022-07-22T00:28:46.280140Z"
    }
   },
   "outputs": [
    {
     "data": {
      "text/html": [
       "<div>\n",
       "<style scoped>\n",
       "    .dataframe tbody tr th:only-of-type {\n",
       "        vertical-align: middle;\n",
       "    }\n",
       "\n",
       "    .dataframe tbody tr th {\n",
       "        vertical-align: top;\n",
       "    }\n",
       "\n",
       "    .dataframe thead th {\n",
       "        text-align: right;\n",
       "    }\n",
       "</style>\n",
       "<table border=\"1\" class=\"dataframe\">\n",
       "  <thead>\n",
       "    <tr style=\"text-align: right;\">\n",
       "      <th></th>\n",
       "      <th>파일이름</th>\n",
       "      <th>파일경로</th>\n",
       "      <th>사과_당도_품질_클래스</th>\n",
       "      <th>품종</th>\n",
       "      <th>착즙당도</th>\n",
       "      <th>비파괴당도</th>\n",
       "      <th>토양_전기전도도</th>\n",
       "      <th>토양_온도</th>\n",
       "      <th>토양_습도</th>\n",
       "      <th>토양_수분장력</th>\n",
       "      <th>온도</th>\n",
       "      <th>습도</th>\n",
       "      <th>일사량</th>\n",
       "    </tr>\n",
       "  </thead>\n",
       "  <tbody>\n",
       "    <tr>\n",
       "      <th>14006</th>\n",
       "      <td>20210829_RGB_10.8_F01_HR_03_007_02_0_A.jpg</td>\n",
       "      <td>홍로/당도B등급</td>\n",
       "      <td>C</td>\n",
       "      <td>HR</td>\n",
       "      <td>NaN</td>\n",
       "      <td>10.8</td>\n",
       "      <td>0.35</td>\n",
       "      <td>21.42</td>\n",
       "      <td>64.40</td>\n",
       "      <td>-0.1</td>\n",
       "      <td>22.49</td>\n",
       "      <td>90.38</td>\n",
       "      <td>70.0</td>\n",
       "    </tr>\n",
       "    <tr>\n",
       "      <th>20605</th>\n",
       "      <td>20210912_RGB_09.1_F06_HR_04_041_07_45_H.jpg</td>\n",
       "      <td>홍로/당도C등급</td>\n",
       "      <td>C</td>\n",
       "      <td>HR</td>\n",
       "      <td>NaN</td>\n",
       "      <td>9.1</td>\n",
       "      <td>0.74</td>\n",
       "      <td>18.80</td>\n",
       "      <td>27.30</td>\n",
       "      <td>-0.1</td>\n",
       "      <td>20.99</td>\n",
       "      <td>90.26</td>\n",
       "      <td>546.0</td>\n",
       "    </tr>\n",
       "    <tr>\n",
       "      <th>18649</th>\n",
       "      <td>20210912_RGB_11.8_F04_HR_06_014_09_90_H.jpg</td>\n",
       "      <td>홍로/당도B등급</td>\n",
       "      <td>C</td>\n",
       "      <td>HR</td>\n",
       "      <td>13.0</td>\n",
       "      <td>11.8</td>\n",
       "      <td>0.43</td>\n",
       "      <td>20.98</td>\n",
       "      <td>28.21</td>\n",
       "      <td>-0.2</td>\n",
       "      <td>20.48</td>\n",
       "      <td>86.00</td>\n",
       "      <td>422.0</td>\n",
       "    </tr>\n",
       "    <tr>\n",
       "      <th>30169</th>\n",
       "      <td>20211030_RGB_14.8_F13_HJ_10_113_13_0_H.jpg</td>\n",
       "      <td>후지/당도A등급</td>\n",
       "      <td>A</td>\n",
       "      <td>HJ</td>\n",
       "      <td>NaN</td>\n",
       "      <td>14.8</td>\n",
       "      <td>1.77</td>\n",
       "      <td>10.10</td>\n",
       "      <td>12.21</td>\n",
       "      <td>-51.0</td>\n",
       "      <td>10.55</td>\n",
       "      <td>85.18</td>\n",
       "      <td>256.0</td>\n",
       "    </tr>\n",
       "    <tr>\n",
       "      <th>34766</th>\n",
       "      <td>20210926_RGB_13.7_F14_HJ_07_001_03_0_A.jpg</td>\n",
       "      <td>후지/당도B등급</td>\n",
       "      <td>B</td>\n",
       "      <td>HJ</td>\n",
       "      <td>NaN</td>\n",
       "      <td>13.7</td>\n",
       "      <td>0.86</td>\n",
       "      <td>19.92</td>\n",
       "      <td>12.60</td>\n",
       "      <td>-0.1</td>\n",
       "      <td>20.21</td>\n",
       "      <td>82.73</td>\n",
       "      <td>343.0</td>\n",
       "    </tr>\n",
       "  </tbody>\n",
       "</table>\n",
       "</div>"
      ],
      "text/plain": [
       "                                              파일이름      파일경로 사과_당도_품질_클래스  품종  \\\n",
       "14006   20210829_RGB_10.8_F01_HR_03_007_02_0_A.jpg  홍로/당도B등급            C  HR   \n",
       "20605  20210912_RGB_09.1_F06_HR_04_041_07_45_H.jpg  홍로/당도C등급            C  HR   \n",
       "18649  20210912_RGB_11.8_F04_HR_06_014_09_90_H.jpg  홍로/당도B등급            C  HR   \n",
       "30169   20211030_RGB_14.8_F13_HJ_10_113_13_0_H.jpg  후지/당도A등급            A  HJ   \n",
       "34766   20210926_RGB_13.7_F14_HJ_07_001_03_0_A.jpg  후지/당도B등급            B  HJ   \n",
       "\n",
       "       착즙당도  비파괴당도  토양_전기전도도  토양_온도  토양_습도  토양_수분장력     온도     습도    일사량  \n",
       "14006   NaN   10.8      0.35  21.42  64.40     -0.1  22.49  90.38   70.0  \n",
       "20605   NaN    9.1      0.74  18.80  27.30     -0.1  20.99  90.26  546.0  \n",
       "18649  13.0   11.8      0.43  20.98  28.21     -0.2  20.48  86.00  422.0  \n",
       "30169   NaN   14.8      1.77  10.10  12.21    -51.0  10.55  85.18  256.0  \n",
       "34766   NaN   13.7      0.86  19.92  12.60     -0.1  20.21  82.73  343.0  "
      ]
     },
     "execution_count": 2,
     "metadata": {},
     "output_type": "execute_result"
    }
   ],
   "source": [
    "df = pd.read_csv('apple.csv')\n",
    "df.sample(5)"
   ]
  },
  {
   "cell_type": "code",
   "execution_count": 3,
   "id": "4f23b458",
   "metadata": {
    "ExecuteTime": {
     "end_time": "2022-07-22T00:28:46.387596Z",
     "start_time": "2022-07-22T00:28:46.357390Z"
    }
   },
   "outputs": [
    {
     "name": "stdout",
     "output_type": "stream",
     "text": [
      "<class 'pandas.core.frame.DataFrame'>\n",
      "RangeIndex: 48020 entries, 0 to 48019\n",
      "Data columns (total 13 columns):\n",
      " #   Column        Non-Null Count  Dtype  \n",
      "---  ------        --------------  -----  \n",
      " 0   파일이름          48020 non-null  object \n",
      " 1   파일경로          48020 non-null  object \n",
      " 2   사과_당도_품질_클래스  48020 non-null  object \n",
      " 3   품종            48020 non-null  object \n",
      " 4   착즙당도          10153 non-null  float64\n",
      " 5   비파괴당도         48020 non-null  float64\n",
      " 6   토양_전기전도도      48020 non-null  float64\n",
      " 7   토양_온도         48020 non-null  float64\n",
      " 8   토양_습도         48020 non-null  float64\n",
      " 9   토양_수분장력       48020 non-null  float64\n",
      " 10  온도            48020 non-null  float64\n",
      " 11  습도            48020 non-null  float64\n",
      " 12  일사량           48020 non-null  float64\n",
      "dtypes: float64(9), object(4)\n",
      "memory usage: 4.8+ MB\n"
     ]
    }
   ],
   "source": [
    "df.info()"
   ]
  },
  {
   "cell_type": "code",
   "execution_count": 4,
   "id": "3849c971",
   "metadata": {
    "ExecuteTime": {
     "end_time": "2022-07-22T00:28:46.418231Z",
     "start_time": "2022-07-22T00:28:46.388347Z"
    }
   },
   "outputs": [
    {
     "data": {
      "text/html": [
       "<div>\n",
       "<style scoped>\n",
       "    .dataframe tbody tr th:only-of-type {\n",
       "        vertical-align: middle;\n",
       "    }\n",
       "\n",
       "    .dataframe tbody tr th {\n",
       "        vertical-align: top;\n",
       "    }\n",
       "\n",
       "    .dataframe thead th {\n",
       "        text-align: right;\n",
       "    }\n",
       "</style>\n",
       "<table border=\"1\" class=\"dataframe\">\n",
       "  <thead>\n",
       "    <tr style=\"text-align: right;\">\n",
       "      <th></th>\n",
       "      <th>착즙당도</th>\n",
       "      <th>비파괴당도</th>\n",
       "      <th>토양_전기전도도</th>\n",
       "      <th>토양_온도</th>\n",
       "      <th>토양_습도</th>\n",
       "      <th>토양_수분장력</th>\n",
       "      <th>온도</th>\n",
       "      <th>습도</th>\n",
       "      <th>일사량</th>\n",
       "    </tr>\n",
       "  </thead>\n",
       "  <tbody>\n",
       "    <tr>\n",
       "      <th>count</th>\n",
       "      <td>10153.000000</td>\n",
       "      <td>48020.000000</td>\n",
       "      <td>48020.000000</td>\n",
       "      <td>48020.000000</td>\n",
       "      <td>48020.000000</td>\n",
       "      <td>48020.000000</td>\n",
       "      <td>48020.000000</td>\n",
       "      <td>48020.00000</td>\n",
       "      <td>48020.000000</td>\n",
       "    </tr>\n",
       "    <tr>\n",
       "      <th>mean</th>\n",
       "      <td>13.369743</td>\n",
       "      <td>13.080877</td>\n",
       "      <td>1.020875</td>\n",
       "      <td>14.856226</td>\n",
       "      <td>20.762857</td>\n",
       "      <td>-27.926826</td>\n",
       "      <td>17.239501</td>\n",
       "      <td>79.11844</td>\n",
       "      <td>360.188317</td>\n",
       "    </tr>\n",
       "    <tr>\n",
       "      <th>std</th>\n",
       "      <td>1.358879</td>\n",
       "      <td>1.983554</td>\n",
       "      <td>0.567566</td>\n",
       "      <td>5.207573</td>\n",
       "      <td>10.247156</td>\n",
       "      <td>55.833452</td>\n",
       "      <td>5.984801</td>\n",
       "      <td>11.49900</td>\n",
       "      <td>128.672372</td>\n",
       "    </tr>\n",
       "    <tr>\n",
       "      <th>min</th>\n",
       "      <td>7.000000</td>\n",
       "      <td>9.000000</td>\n",
       "      <td>0.030000</td>\n",
       "      <td>7.280000</td>\n",
       "      <td>0.010000</td>\n",
       "      <td>-407.300000</td>\n",
       "      <td>1.200000</td>\n",
       "      <td>38.73000</td>\n",
       "      <td>3.000000</td>\n",
       "    </tr>\n",
       "    <tr>\n",
       "      <th>25%</th>\n",
       "      <td>12.500000</td>\n",
       "      <td>11.600000</td>\n",
       "      <td>0.610000</td>\n",
       "      <td>9.660000</td>\n",
       "      <td>12.210000</td>\n",
       "      <td>-51.000000</td>\n",
       "      <td>11.540000</td>\n",
       "      <td>72.66000</td>\n",
       "      <td>269.000000</td>\n",
       "    </tr>\n",
       "    <tr>\n",
       "      <th>50%</th>\n",
       "      <td>13.400000</td>\n",
       "      <td>13.000000</td>\n",
       "      <td>0.980000</td>\n",
       "      <td>17.830000</td>\n",
       "      <td>21.580000</td>\n",
       "      <td>-5.400000</td>\n",
       "      <td>19.890000</td>\n",
       "      <td>78.69000</td>\n",
       "      <td>356.000000</td>\n",
       "    </tr>\n",
       "    <tr>\n",
       "      <th>75%</th>\n",
       "      <td>14.300000</td>\n",
       "      <td>14.300000</td>\n",
       "      <td>1.330000</td>\n",
       "      <td>19.260000</td>\n",
       "      <td>28.590000</td>\n",
       "      <td>-0.100000</td>\n",
       "      <td>22.800000</td>\n",
       "      <td>89.64000</td>\n",
       "      <td>460.000000</td>\n",
       "    </tr>\n",
       "    <tr>\n",
       "      <th>max</th>\n",
       "      <td>19.200000</td>\n",
       "      <td>19.000000</td>\n",
       "      <td>4.610000</td>\n",
       "      <td>24.170000</td>\n",
       "      <td>76.640000</td>\n",
       "      <td>-0.100000</td>\n",
       "      <td>28.910000</td>\n",
       "      <td>99.99000</td>\n",
       "      <td>798.000000</td>\n",
       "    </tr>\n",
       "  </tbody>\n",
       "</table>\n",
       "</div>"
      ],
      "text/plain": [
       "               착즙당도         비파괴당도      토양_전기전도도         토양_온도         토양_습도  \\\n",
       "count  10153.000000  48020.000000  48020.000000  48020.000000  48020.000000   \n",
       "mean      13.369743     13.080877      1.020875     14.856226     20.762857   \n",
       "std        1.358879      1.983554      0.567566      5.207573     10.247156   \n",
       "min        7.000000      9.000000      0.030000      7.280000      0.010000   \n",
       "25%       12.500000     11.600000      0.610000      9.660000     12.210000   \n",
       "50%       13.400000     13.000000      0.980000     17.830000     21.580000   \n",
       "75%       14.300000     14.300000      1.330000     19.260000     28.590000   \n",
       "max       19.200000     19.000000      4.610000     24.170000     76.640000   \n",
       "\n",
       "            토양_수분장력            온도           습도           일사량  \n",
       "count  48020.000000  48020.000000  48020.00000  48020.000000  \n",
       "mean     -27.926826     17.239501     79.11844    360.188317  \n",
       "std       55.833452      5.984801     11.49900    128.672372  \n",
       "min     -407.300000      1.200000     38.73000      3.000000  \n",
       "25%      -51.000000     11.540000     72.66000    269.000000  \n",
       "50%       -5.400000     19.890000     78.69000    356.000000  \n",
       "75%       -0.100000     22.800000     89.64000    460.000000  \n",
       "max       -0.100000     28.910000     99.99000    798.000000  "
      ]
     },
     "execution_count": 4,
     "metadata": {},
     "output_type": "execute_result"
    }
   ],
   "source": [
    "df.describe()"
   ]
  },
  {
   "cell_type": "code",
   "execution_count": 5,
   "id": "9ee7c8aa",
   "metadata": {
    "ExecuteTime": {
     "end_time": "2022-07-22T00:28:46.481610Z",
     "start_time": "2022-07-22T00:28:46.419193Z"
    },
    "scrolled": false
   },
   "outputs": [
    {
     "name": "stderr",
     "output_type": "stream",
     "text": [
      "C:\\Users\\HP\\AppData\\Local\\Temp\\ipykernel_39404\\3291231370.py:5: FutureWarning: this method is deprecated in favour of `Styler.format(precision=..)`\n",
      "  (corr.style.background_gradient(cmap='coolwarm', axis=None,\n"
     ]
    },
    {
     "data": {
      "text/html": [
       "<style type=\"text/css\">\n",
       "#T_2b80c_row0_col0, #T_2b80c_row0_col1, #T_2b80c_row0_col2, #T_2b80c_row0_col3, #T_2b80c_row0_col4, #T_2b80c_row0_col5, #T_2b80c_row0_col6, #T_2b80c_row0_col7, #T_2b80c_row0_col8, #T_2b80c_row1_col1, #T_2b80c_row1_col2, #T_2b80c_row1_col3, #T_2b80c_row1_col4, #T_2b80c_row1_col5, #T_2b80c_row1_col6, #T_2b80c_row1_col7, #T_2b80c_row1_col8, #T_2b80c_row2_col2, #T_2b80c_row2_col3, #T_2b80c_row2_col4, #T_2b80c_row2_col5, #T_2b80c_row2_col6, #T_2b80c_row2_col7, #T_2b80c_row2_col8, #T_2b80c_row3_col3, #T_2b80c_row3_col4, #T_2b80c_row3_col5, #T_2b80c_row3_col6, #T_2b80c_row3_col7, #T_2b80c_row3_col8, #T_2b80c_row4_col4, #T_2b80c_row4_col5, #T_2b80c_row4_col6, #T_2b80c_row4_col7, #T_2b80c_row4_col8, #T_2b80c_row5_col5, #T_2b80c_row5_col6, #T_2b80c_row5_col7, #T_2b80c_row5_col8, #T_2b80c_row6_col6, #T_2b80c_row6_col7, #T_2b80c_row6_col8, #T_2b80c_row7_col7, #T_2b80c_row7_col8, #T_2b80c_row8_col8 {\n",
       "  background-color: #000000;\n",
       "  color: #f1f1f1;\n",
       "  background-color: #f1f1f1;\n",
       "}\n",
       "#T_2b80c_row1_col0 {\n",
       "  background-color: #f59c7d;\n",
       "  color: #000000;\n",
       "}\n",
       "#T_2b80c_row2_col0 {\n",
       "  background-color: #f0cdbb;\n",
       "  color: #000000;\n",
       "}\n",
       "#T_2b80c_row2_col1, #T_2b80c_row4_col0 {\n",
       "  background-color: #d9dce1;\n",
       "  color: #000000;\n",
       "}\n",
       "#T_2b80c_row3_col0 {\n",
       "  background-color: #c9d7f0;\n",
       "  color: #000000;\n",
       "}\n",
       "#T_2b80c_row3_col1 {\n",
       "  background-color: #8caffe;\n",
       "  color: #000000;\n",
       "}\n",
       "#T_2b80c_row3_col2 {\n",
       "  background-color: #ead4c8;\n",
       "  color: #000000;\n",
       "}\n",
       "#T_2b80c_row4_col1, #T_2b80c_row8_col1 {\n",
       "  background-color: #cbd8ee;\n",
       "  color: #000000;\n",
       "}\n",
       "#T_2b80c_row4_col2 {\n",
       "  background-color: #c1d4f4;\n",
       "  color: #000000;\n",
       "}\n",
       "#T_2b80c_row4_col3, #T_2b80c_row8_col4 {\n",
       "  background-color: #ecd3c5;\n",
       "  color: #000000;\n",
       "}\n",
       "#T_2b80c_row5_col0 {\n",
       "  background-color: #cfdaea;\n",
       "  color: #000000;\n",
       "}\n",
       "#T_2b80c_row5_col1 {\n",
       "  background-color: #c5d6f2;\n",
       "  color: #000000;\n",
       "}\n",
       "#T_2b80c_row5_col2 {\n",
       "  background-color: #efcfbf;\n",
       "  color: #000000;\n",
       "}\n",
       "#T_2b80c_row5_col3 {\n",
       "  background-color: #f6bfa6;\n",
       "  color: #000000;\n",
       "}\n",
       "#T_2b80c_row5_col4 {\n",
       "  background-color: #f7a98b;\n",
       "  color: #000000;\n",
       "}\n",
       "#T_2b80c_row6_col0 {\n",
       "  background-color: #d1dae9;\n",
       "  color: #000000;\n",
       "}\n",
       "#T_2b80c_row6_col1 {\n",
       "  background-color: #9bbcff;\n",
       "  color: #000000;\n",
       "}\n",
       "#T_2b80c_row6_col2 {\n",
       "  background-color: #f3c8b2;\n",
       "  color: #000000;\n",
       "}\n",
       "#T_2b80c_row6_col3 {\n",
       "  background-color: #c53334;\n",
       "  color: #f1f1f1;\n",
       "}\n",
       "#T_2b80c_row6_col4 {\n",
       "  background-color: #dddcdc;\n",
       "  color: #000000;\n",
       "}\n",
       "#T_2b80c_row6_col5 {\n",
       "  background-color: #eed0c0;\n",
       "  color: #000000;\n",
       "}\n",
       "#T_2b80c_row7_col0 {\n",
       "  background-color: #bcd2f7;\n",
       "  color: #000000;\n",
       "}\n",
       "#T_2b80c_row7_col1 {\n",
       "  background-color: #b5cdfa;\n",
       "  color: #000000;\n",
       "}\n",
       "#T_2b80c_row7_col2 {\n",
       "  background-color: #c3d5f4;\n",
       "  color: #000000;\n",
       "}\n",
       "#T_2b80c_row7_col3 {\n",
       "  background-color: #f7ac8e;\n",
       "  color: #000000;\n",
       "}\n",
       "#T_2b80c_row7_col4 {\n",
       "  background-color: #f2c9b4;\n",
       "  color: #000000;\n",
       "}\n",
       "#T_2b80c_row7_col5 {\n",
       "  background-color: #f7ba9f;\n",
       "  color: #000000;\n",
       "}\n",
       "#T_2b80c_row7_col6 {\n",
       "  background-color: #efcebd;\n",
       "  color: #000000;\n",
       "}\n",
       "#T_2b80c_row8_col0 {\n",
       "  background-color: #d7dce3;\n",
       "  color: #000000;\n",
       "}\n",
       "#T_2b80c_row8_col2 {\n",
       "  background-color: #f2cab5;\n",
       "  color: #000000;\n",
       "}\n",
       "#T_2b80c_row8_col3 {\n",
       "  background-color: #f4c5ad;\n",
       "  color: #000000;\n",
       "}\n",
       "#T_2b80c_row8_col5 {\n",
       "  background-color: #f6bda2;\n",
       "  color: #000000;\n",
       "}\n",
       "#T_2b80c_row8_col6 {\n",
       "  background-color: #f7b497;\n",
       "  color: #000000;\n",
       "}\n",
       "#T_2b80c_row8_col7 {\n",
       "  background-color: #c0d4f5;\n",
       "  color: #000000;\n",
       "}\n",
       "</style>\n",
       "<table id=\"T_2b80c\">\n",
       "  <thead>\n",
       "    <tr>\n",
       "      <th class=\"blank level0\" >&nbsp;</th>\n",
       "      <th id=\"T_2b80c_level0_col0\" class=\"col_heading level0 col0\" >착즙당도</th>\n",
       "      <th id=\"T_2b80c_level0_col1\" class=\"col_heading level0 col1\" >비파괴당도</th>\n",
       "      <th id=\"T_2b80c_level0_col2\" class=\"col_heading level0 col2\" >토양_전기전도도</th>\n",
       "      <th id=\"T_2b80c_level0_col3\" class=\"col_heading level0 col3\" >토양_온도</th>\n",
       "      <th id=\"T_2b80c_level0_col4\" class=\"col_heading level0 col4\" >토양_습도</th>\n",
       "      <th id=\"T_2b80c_level0_col5\" class=\"col_heading level0 col5\" >토양_수분장력</th>\n",
       "      <th id=\"T_2b80c_level0_col6\" class=\"col_heading level0 col6\" >온도</th>\n",
       "      <th id=\"T_2b80c_level0_col7\" class=\"col_heading level0 col7\" >습도</th>\n",
       "      <th id=\"T_2b80c_level0_col8\" class=\"col_heading level0 col8\" >일사량</th>\n",
       "    </tr>\n",
       "  </thead>\n",
       "  <tbody>\n",
       "    <tr>\n",
       "      <th id=\"T_2b80c_level0_row0\" class=\"row_heading level0 row0\" >착즙당도</th>\n",
       "      <td id=\"T_2b80c_row0_col0\" class=\"data row0 col0\" >nan</td>\n",
       "      <td id=\"T_2b80c_row0_col1\" class=\"data row0 col1\" >nan</td>\n",
       "      <td id=\"T_2b80c_row0_col2\" class=\"data row0 col2\" >nan</td>\n",
       "      <td id=\"T_2b80c_row0_col3\" class=\"data row0 col3\" >nan</td>\n",
       "      <td id=\"T_2b80c_row0_col4\" class=\"data row0 col4\" >nan</td>\n",
       "      <td id=\"T_2b80c_row0_col5\" class=\"data row0 col5\" >nan</td>\n",
       "      <td id=\"T_2b80c_row0_col6\" class=\"data row0 col6\" >nan</td>\n",
       "      <td id=\"T_2b80c_row0_col7\" class=\"data row0 col7\" >nan</td>\n",
       "      <td id=\"T_2b80c_row0_col8\" class=\"data row0 col8\" >nan</td>\n",
       "    </tr>\n",
       "    <tr>\n",
       "      <th id=\"T_2b80c_level0_row1\" class=\"row_heading level0 row1\" >비파괴당도</th>\n",
       "      <td id=\"T_2b80c_row1_col0\" class=\"data row1 col0\" >0.49</td>\n",
       "      <td id=\"T_2b80c_row1_col1\" class=\"data row1 col1\" >nan</td>\n",
       "      <td id=\"T_2b80c_row1_col2\" class=\"data row1 col2\" >nan</td>\n",
       "      <td id=\"T_2b80c_row1_col3\" class=\"data row1 col3\" >nan</td>\n",
       "      <td id=\"T_2b80c_row1_col4\" class=\"data row1 col4\" >nan</td>\n",
       "      <td id=\"T_2b80c_row1_col5\" class=\"data row1 col5\" >nan</td>\n",
       "      <td id=\"T_2b80c_row1_col6\" class=\"data row1 col6\" >nan</td>\n",
       "      <td id=\"T_2b80c_row1_col7\" class=\"data row1 col7\" >nan</td>\n",
       "      <td id=\"T_2b80c_row1_col8\" class=\"data row1 col8\" >nan</td>\n",
       "    </tr>\n",
       "    <tr>\n",
       "      <th id=\"T_2b80c_level0_row2\" class=\"row_heading level0 row2\" >토양_전기전도도</th>\n",
       "      <td id=\"T_2b80c_row2_col0\" class=\"data row2 col0\" >0.18</td>\n",
       "      <td id=\"T_2b80c_row2_col1\" class=\"data row2 col1\" >-0.03</td>\n",
       "      <td id=\"T_2b80c_row2_col2\" class=\"data row2 col2\" >nan</td>\n",
       "      <td id=\"T_2b80c_row2_col3\" class=\"data row2 col3\" >nan</td>\n",
       "      <td id=\"T_2b80c_row2_col4\" class=\"data row2 col4\" >nan</td>\n",
       "      <td id=\"T_2b80c_row2_col5\" class=\"data row2 col5\" >nan</td>\n",
       "      <td id=\"T_2b80c_row2_col6\" class=\"data row2 col6\" >nan</td>\n",
       "      <td id=\"T_2b80c_row2_col7\" class=\"data row2 col7\" >nan</td>\n",
       "      <td id=\"T_2b80c_row2_col8\" class=\"data row2 col8\" >nan</td>\n",
       "    </tr>\n",
       "    <tr>\n",
       "      <th id=\"T_2b80c_level0_row3\" class=\"row_heading level0 row3\" >토양_온도</th>\n",
       "      <td id=\"T_2b80c_row3_col0\" class=\"data row3 col0\" >-0.14</td>\n",
       "      <td id=\"T_2b80c_row3_col1\" class=\"data row3 col1\" >-0.51</td>\n",
       "      <td id=\"T_2b80c_row3_col2\" class=\"data row3 col2\" >0.12</td>\n",
       "      <td id=\"T_2b80c_row3_col3\" class=\"data row3 col3\" >nan</td>\n",
       "      <td id=\"T_2b80c_row3_col4\" class=\"data row3 col4\" >nan</td>\n",
       "      <td id=\"T_2b80c_row3_col5\" class=\"data row3 col5\" >nan</td>\n",
       "      <td id=\"T_2b80c_row3_col6\" class=\"data row3 col6\" >nan</td>\n",
       "      <td id=\"T_2b80c_row3_col7\" class=\"data row3 col7\" >nan</td>\n",
       "      <td id=\"T_2b80c_row3_col8\" class=\"data row3 col8\" >nan</td>\n",
       "    </tr>\n",
       "    <tr>\n",
       "      <th id=\"T_2b80c_level0_row4\" class=\"row_heading level0 row4\" >토양_습도</th>\n",
       "      <td id=\"T_2b80c_row4_col0\" class=\"data row4 col0\" >-0.03</td>\n",
       "      <td id=\"T_2b80c_row4_col1\" class=\"data row4 col1\" >-0.13</td>\n",
       "      <td id=\"T_2b80c_row4_col2\" class=\"data row4 col2\" >-0.19</td>\n",
       "      <td id=\"T_2b80c_row4_col3\" class=\"data row4 col3\" >0.13</td>\n",
       "      <td id=\"T_2b80c_row4_col4\" class=\"data row4 col4\" >nan</td>\n",
       "      <td id=\"T_2b80c_row4_col5\" class=\"data row4 col5\" >nan</td>\n",
       "      <td id=\"T_2b80c_row4_col6\" class=\"data row4 col6\" >nan</td>\n",
       "      <td id=\"T_2b80c_row4_col7\" class=\"data row4 col7\" >nan</td>\n",
       "      <td id=\"T_2b80c_row4_col8\" class=\"data row4 col8\" >nan</td>\n",
       "    </tr>\n",
       "    <tr>\n",
       "      <th id=\"T_2b80c_level0_row5\" class=\"row_heading level0 row5\" >토양_수분장력</th>\n",
       "      <td id=\"T_2b80c_row5_col0\" class=\"data row5 col0\" >-0.10</td>\n",
       "      <td id=\"T_2b80c_row5_col1\" class=\"data row5 col1\" >-0.17</td>\n",
       "      <td id=\"T_2b80c_row5_col2\" class=\"data row5 col2\" >0.16</td>\n",
       "      <td id=\"T_2b80c_row5_col3\" class=\"data row5 col3\" >0.28</td>\n",
       "      <td id=\"T_2b80c_row5_col4\" class=\"data row5 col4\" >0.42</td>\n",
       "      <td id=\"T_2b80c_row5_col5\" class=\"data row5 col5\" >nan</td>\n",
       "      <td id=\"T_2b80c_row5_col6\" class=\"data row5 col6\" >nan</td>\n",
       "      <td id=\"T_2b80c_row5_col7\" class=\"data row5 col7\" >nan</td>\n",
       "      <td id=\"T_2b80c_row5_col8\" class=\"data row5 col8\" >nan</td>\n",
       "    </tr>\n",
       "    <tr>\n",
       "      <th id=\"T_2b80c_level0_row6\" class=\"row_heading level0 row6\" >온도</th>\n",
       "      <td id=\"T_2b80c_row6_col0\" class=\"data row6 col0\" >-0.09</td>\n",
       "      <td id=\"T_2b80c_row6_col1\" class=\"data row6 col1\" >-0.42</td>\n",
       "      <td id=\"T_2b80c_row6_col2\" class=\"data row6 col2\" >0.22</td>\n",
       "      <td id=\"T_2b80c_row6_col3\" class=\"data row6 col3\" >0.90</td>\n",
       "      <td id=\"T_2b80c_row6_col4\" class=\"data row6 col4\" >0.00</td>\n",
       "      <td id=\"T_2b80c_row6_col5\" class=\"data row6 col5\" >0.15</td>\n",
       "      <td id=\"T_2b80c_row6_col6\" class=\"data row6 col6\" >nan</td>\n",
       "      <td id=\"T_2b80c_row6_col7\" class=\"data row6 col7\" >nan</td>\n",
       "      <td id=\"T_2b80c_row6_col8\" class=\"data row6 col8\" >nan</td>\n",
       "    </tr>\n",
       "    <tr>\n",
       "      <th id=\"T_2b80c_level0_row7\" class=\"row_heading level0 row7\" >습도</th>\n",
       "      <td id=\"T_2b80c_row7_col0\" class=\"data row7 col0\" >-0.22</td>\n",
       "      <td id=\"T_2b80c_row7_col1\" class=\"data row7 col1\" >-0.27</td>\n",
       "      <td id=\"T_2b80c_row7_col2\" class=\"data row7 col2\" >-0.18</td>\n",
       "      <td id=\"T_2b80c_row7_col3\" class=\"data row7 col3\" >0.40</td>\n",
       "      <td id=\"T_2b80c_row7_col4\" class=\"data row7 col4\" >0.21</td>\n",
       "      <td id=\"T_2b80c_row7_col5\" class=\"data row7 col5\" >0.32</td>\n",
       "      <td id=\"T_2b80c_row7_col6\" class=\"data row7 col6\" >0.17</td>\n",
       "      <td id=\"T_2b80c_row7_col7\" class=\"data row7 col7\" >nan</td>\n",
       "      <td id=\"T_2b80c_row7_col8\" class=\"data row7 col8\" >nan</td>\n",
       "    </tr>\n",
       "    <tr>\n",
       "      <th id=\"T_2b80c_level0_row8\" class=\"row_heading level0 row8\" >일사량</th>\n",
       "      <td id=\"T_2b80c_row8_col0\" class=\"data row8 col0\" >-0.05</td>\n",
       "      <td id=\"T_2b80c_row8_col1\" class=\"data row8 col1\" >-0.13</td>\n",
       "      <td id=\"T_2b80c_row8_col2\" class=\"data row8 col2\" >0.21</td>\n",
       "      <td id=\"T_2b80c_row8_col3\" class=\"data row8 col3\" >0.25</td>\n",
       "      <td id=\"T_2b80c_row8_col4\" class=\"data row8 col4\" >0.13</td>\n",
       "      <td id=\"T_2b80c_row8_col5\" class=\"data row8 col5\" >0.30</td>\n",
       "      <td id=\"T_2b80c_row8_col6\" class=\"data row8 col6\" >0.35</td>\n",
       "      <td id=\"T_2b80c_row8_col7\" class=\"data row8 col7\" >-0.20</td>\n",
       "      <td id=\"T_2b80c_row8_col8\" class=\"data row8 col8\" >nan</td>\n",
       "    </tr>\n",
       "  </tbody>\n",
       "</table>\n"
      ],
      "text/plain": [
       "<pandas.io.formats.style.Styler at 0x18e3805c070>"
      ]
     },
     "execution_count": 5,
     "metadata": {},
     "output_type": "execute_result"
    }
   ],
   "source": [
    "corr = df.corr()\n",
    "mask = np.zeros_like(corr, dtype=bool)\n",
    "mask[np.triu_indices_from(mask)] = True\n",
    "corr[mask] = np.nan\n",
    "(corr.style.background_gradient(cmap='coolwarm', axis=None,\n",
    "                                vmin=-1, vmax=1).highlight_null(\n",
    "                                    null_color='#f1f1f1')  # Color NaNs grey\n",
    " .set_precision(2))"
   ]
  },
  {
   "cell_type": "code",
   "execution_count": 6,
   "id": "5df409ca",
   "metadata": {
    "ExecuteTime": {
     "end_time": "2022-07-22T00:28:46.497661Z",
     "start_time": "2022-07-22T00:28:46.482637Z"
    }
   },
   "outputs": [],
   "source": [
    "df = df.drop(['착즙당도', '온도'], axis=1)"
   ]
  },
  {
   "cell_type": "code",
   "execution_count": 7,
   "id": "63db46fb",
   "metadata": {
    "ExecuteTime": {
     "end_time": "2022-07-22T00:28:46.512938Z",
     "start_time": "2022-07-22T00:28:46.498322Z"
    }
   },
   "outputs": [],
   "source": [
    "df = pd.get_dummies(df, columns=['사과_당도_품질_클래스', '품종'])"
   ]
  },
  {
   "cell_type": "code",
   "execution_count": 8,
   "id": "bee56f59",
   "metadata": {
    "ExecuteTime": {
     "end_time": "2022-07-22T00:28:46.528942Z",
     "start_time": "2022-07-22T00:28:46.513946Z"
    }
   },
   "outputs": [],
   "source": [
    "X = df[[\n",
    "    '파일이름', '파일경로', '비파괴당도', '토양_전기전도도', '토양_온도', '토양_습도', '토양_수분장력', '습도',\n",
    "    '일사량'\n",
    "]]\n",
    "y = df[[\n",
    "    '사과_당도_품질_클래스_A', '사과_당도_품질_클래스_B', '사과_당도_품질_클래스_C', '품종_AR', '품종_HJ',\n",
    "    '품종_HR', '품종_SG'\n",
    "]]"
   ]
  },
  {
   "cell_type": "code",
   "execution_count": 9,
   "id": "35cf8948",
   "metadata": {
    "ExecuteTime": {
     "end_time": "2022-07-22T00:28:46.732713Z",
     "start_time": "2022-07-22T00:28:46.529956Z"
    }
   },
   "outputs": [],
   "source": [
    "X_train_df, X_test_df, y_train_df, y_test_df = train_test_split(\n",
    "    X, y, test_size=0.2, random_state=527, stratify=y)"
   ]
  },
  {
   "cell_type": "code",
   "execution_count": 10,
   "id": "c77bfaf4",
   "metadata": {
    "ExecuteTime": {
     "end_time": "2022-07-22T00:28:46.748363Z",
     "start_time": "2022-07-22T00:28:46.733881Z"
    }
   },
   "outputs": [],
   "source": [
    "def create_dir(path):\n",
    "    if not os.path.exists(path):\n",
    "        os.makedirs(path)\n",
    "\n",
    "\n",
    "def copy_file_to_target(x, target):\n",
    "    cnt = 1\n",
    "    for path, name in tqdm(zip(x['파일경로'], x['파일이름'])):\n",
    "        source_path = f'apple_bbox/{path}/{name}'\n",
    "        target_path = f'apple_bbox/{target}'\n",
    "\n",
    "        create_dir(target_path)\n",
    "        shutil.copy(source_path, target_path)\n",
    "        filename = str(cnt).rjust(5, '0')\n",
    "        os.rename(f'{target_path}/{name}', f'{target_path}/{filename}.jpg')\n",
    "\n",
    "        cnt += 1"
   ]
  },
  {
   "cell_type": "code",
   "execution_count": 11,
   "id": "b57fa7da",
   "metadata": {
    "ExecuteTime": {
     "end_time": "2022-07-22T00:28:46.763826Z",
     "start_time": "2022-07-22T00:28:46.749310Z"
    }
   },
   "outputs": [
    {
     "name": "stderr",
     "output_type": "stream",
     "text": [
      "0it [00:00, ?it/s]\n"
     ]
    }
   ],
   "source": [
    "try:\n",
    "    copy_file_to_target(X_train_df, 'train')\n",
    "    copy_file_to_target(X_test_df, 'validation')\n",
    "except:\n",
    "    pass"
   ]
  },
  {
   "cell_type": "code",
   "execution_count": 12,
   "id": "aed001f3",
   "metadata": {
    "ExecuteTime": {
     "end_time": "2022-07-22T00:28:46.778838Z",
     "start_time": "2022-07-22T00:28:46.764905Z"
    }
   },
   "outputs": [],
   "source": [
    "X_train_df = X_train_df.drop(['파일이름', '파일경로'], axis=1)\n",
    "X_test_df = X_test_df.drop(['파일이름', '파일경로'], axis=1)"
   ]
  },
  {
   "cell_type": "code",
   "execution_count": 13,
   "id": "be167004",
   "metadata": {
    "ExecuteTime": {
     "end_time": "2022-07-22T00:28:49.617256Z",
     "start_time": "2022-07-22T00:28:46.779532Z"
    }
   },
   "outputs": [
    {
     "name": "stdout",
     "output_type": "stream",
     "text": [
      "Found 38417 files belonging to 1 classes.\n",
      "Found 9604 files belonging to 1 classes.\n"
     ]
    }
   ],
   "source": [
    "IMG_SIZE = 220\n",
    "BATCH_SIZE = 128\n",
    "\n",
    "X_train_img = tf.keras.utils.image_dataset_from_directory(\n",
    "    'apple_bbox/train',\n",
    "    label_mode=None,\n",
    "    image_size=(IMG_SIZE, IMG_SIZE),\n",
    "    batch_size=BATCH_SIZE)\n",
    "\n",
    "X_test_img = tf.keras.utils.image_dataset_from_directory(\n",
    "    'apple_bbox/validation',\n",
    "    label_mode=None,\n",
    "    image_size=(IMG_SIZE, IMG_SIZE),\n",
    "    batch_size=BATCH_SIZE)"
   ]
  },
  {
   "cell_type": "code",
   "execution_count": 14,
   "id": "e60338d1",
   "metadata": {
    "ExecuteTime": {
     "end_time": "2022-07-22T00:28:49.648120Z",
     "start_time": "2022-07-22T00:28:49.617709Z"
    },
    "scrolled": false
   },
   "outputs": [],
   "source": [
    "X_train_df = tf.data.Dataset.from_tensor_slices(X_train_df).batch(BATCH_SIZE)\n",
    "X_test_df = tf.data.Dataset.from_tensor_slices(X_test_df).batch(BATCH_SIZE)\n",
    "y_train_df = tf.data.Dataset.from_tensor_slices(y_train_df).batch(BATCH_SIZE)\n",
    "y_test_df = tf.data.Dataset.from_tensor_slices(y_test_df).batch(BATCH_SIZE)"
   ]
  },
  {
   "cell_type": "code",
   "execution_count": 15,
   "id": "f19207bb",
   "metadata": {
    "ExecuteTime": {
     "end_time": "2022-07-22T00:28:49.663490Z",
     "start_time": "2022-07-22T00:28:49.649002Z"
    }
   },
   "outputs": [],
   "source": [
    "img_data_shape = (IMG_SIZE, IMG_SIZE, 3)\n",
    "csv_data_shape = (7, )\n",
    "num_classes = 7\n",
    "\n",
    "# define two inputs layers\n",
    "img_input = layers.Input(shape=img_data_shape, name=\"image\")\n",
    "csv_input = layers.Input(shape=csv_data_shape, name=\"csv\")"
   ]
  },
  {
   "cell_type": "code",
   "execution_count": 16,
   "id": "f41a7a75",
   "metadata": {
    "ExecuteTime": {
     "end_time": "2022-07-22T00:28:49.709471Z",
     "start_time": "2022-07-22T00:28:49.664511Z"
    }
   },
   "outputs": [],
   "source": [
    "# define layers for image data\n",
    "x1 = layers.experimental.preprocessing.Rescaling(1. / 255)(img_input)\n",
    "x1 = layers.Conv2D(16, 3, activation='relu', name=\"conv1_img\")(x1)\n",
    "x1 = layers.MaxPooling2D(name=\"mxp1_img\")(x1)\n",
    "x1 = layers.Conv2D(32, 3, activation='relu', name=\"conv2_img\")(x1)\n",
    "x1 = layers.MaxPooling2D(name=\"mxp2_img\")(x1)\n",
    "x1 = layers.Conv2D(64, 3, activation='relu', name=\"conv3_img\")(x1)\n",
    "x1 = layers.MaxPooling2D(name=\"mxp3_img\")(x1)\n",
    "x1 = layers.Flatten(name=\"flatten_img\")(x1)"
   ]
  },
  {
   "cell_type": "code",
   "execution_count": 17,
   "id": "163b256a",
   "metadata": {
    "ExecuteTime": {
     "end_time": "2022-07-22T00:28:49.741502Z",
     "start_time": "2022-07-22T00:28:49.710346Z"
    }
   },
   "outputs": [],
   "source": [
    "# define layers for csv data\n",
    "x2 = layers.Flatten(name=\"flatten_csv\")(csv_input)\n",
    "x2 = layers.Dense(16, activation='relu', name=\"dense1_csv\")(x2)\n",
    "x2 = layers.Dense(32, activation='relu', name=\"dense2_csv\")(x2)\n",
    "x2 = layers.Dense(64, activation='relu', name=\"dense3_csv\")(x2)"
   ]
  },
  {
   "cell_type": "code",
   "execution_count": 18,
   "id": "95912bea",
   "metadata": {
    "ExecuteTime": {
     "end_time": "2022-07-22T00:28:49.772116Z",
     "start_time": "2022-07-22T00:28:49.742382Z"
    }
   },
   "outputs": [],
   "source": [
    "# merge layers\n",
    "x = layers.concatenate([x1, x2], name=\"concat_csv_img\")\n",
    "x = layers.Dense(128, activation='relu', name=\"dense1_csv_img\")(x)\n",
    "output = layers.Dense(num_classes, name=\"softmax\")(x)"
   ]
  },
  {
   "cell_type": "code",
   "execution_count": 19,
   "id": "0c09831e",
   "metadata": {
    "ExecuteTime": {
     "end_time": "2022-07-22T00:28:49.788076Z",
     "start_time": "2022-07-22T00:28:49.773267Z"
    }
   },
   "outputs": [],
   "source": [
    "# make model with 2 inputs and 1 output\n",
    "model = tf.keras.models.Model(inputs=[img_input, csv_input], outputs=output)\n",
    "\n",
    "model.compile(\n",
    "    optimizer=tf.keras.optimizers.Adam(learning_rate=0.001),\n",
    "    loss='categorical_crossentropy',\n",
    "    metrics=['accuracy'],\n",
    ")"
   ]
  },
  {
   "cell_type": "code",
   "execution_count": 20,
   "id": "9ab68737",
   "metadata": {
    "ExecuteTime": {
     "end_time": "2022-07-22T00:28:49.818524Z",
     "start_time": "2022-07-22T00:28:49.789038Z"
    }
   },
   "outputs": [
    {
     "name": "stdout",
     "output_type": "stream",
     "text": [
      "Model: \"model\"\n",
      "__________________________________________________________________________________________________\n",
      " Layer (type)                   Output Shape         Param #     Connected to                     \n",
      "==================================================================================================\n",
      " image (InputLayer)             [(None, 220, 220, 3  0           []                               \n",
      "                                )]                                                                \n",
      "                                                                                                  \n",
      " rescaling (Rescaling)          (None, 220, 220, 3)  0           ['image[0][0]']                  \n",
      "                                                                                                  \n",
      " conv1_img (Conv2D)             (None, 218, 218, 16  448         ['rescaling[0][0]']              \n",
      "                                )                                                                 \n",
      "                                                                                                  \n",
      " mxp1_img (MaxPooling2D)        (None, 109, 109, 16  0           ['conv1_img[0][0]']              \n",
      "                                )                                                                 \n",
      "                                                                                                  \n",
      " conv2_img (Conv2D)             (None, 107, 107, 32  4640        ['mxp1_img[0][0]']               \n",
      "                                )                                                                 \n",
      "                                                                                                  \n",
      " csv (InputLayer)               [(None, 7)]          0           []                               \n",
      "                                                                                                  \n",
      " mxp2_img (MaxPooling2D)        (None, 53, 53, 32)   0           ['conv2_img[0][0]']              \n",
      "                                                                                                  \n",
      " flatten_csv (Flatten)          (None, 7)            0           ['csv[0][0]']                    \n",
      "                                                                                                  \n",
      " conv3_img (Conv2D)             (None, 51, 51, 64)   18496       ['mxp2_img[0][0]']               \n",
      "                                                                                                  \n",
      " dense1_csv (Dense)             (None, 16)           128         ['flatten_csv[0][0]']            \n",
      "                                                                                                  \n",
      " mxp3_img (MaxPooling2D)        (None, 25, 25, 64)   0           ['conv3_img[0][0]']              \n",
      "                                                                                                  \n",
      " dense2_csv (Dense)             (None, 32)           544         ['dense1_csv[0][0]']             \n",
      "                                                                                                  \n",
      " flatten_img (Flatten)          (None, 40000)        0           ['mxp3_img[0][0]']               \n",
      "                                                                                                  \n",
      " dense3_csv (Dense)             (None, 64)           2112        ['dense2_csv[0][0]']             \n",
      "                                                                                                  \n",
      " concat_csv_img (Concatenate)   (None, 40064)        0           ['flatten_img[0][0]',            \n",
      "                                                                  'dense3_csv[0][0]']             \n",
      "                                                                                                  \n",
      " dense1_csv_img (Dense)         (None, 128)          5128320     ['concat_csv_img[0][0]']         \n",
      "                                                                                                  \n",
      " softmax (Dense)                (None, 7)            903         ['dense1_csv_img[0][0]']         \n",
      "                                                                                                  \n",
      "==================================================================================================\n",
      "Total params: 5,155,591\n",
      "Trainable params: 5,155,591\n",
      "Non-trainable params: 0\n",
      "__________________________________________________________________________________________________\n"
     ]
    }
   ],
   "source": [
    "model.summary()"
   ]
  },
  {
   "cell_type": "code",
   "execution_count": 21,
   "id": "f5bfbca5",
   "metadata": {
    "ExecuteTime": {
     "end_time": "2022-07-22T00:28:49.834526Z",
     "start_time": "2022-07-22T00:28:49.819524Z"
    }
   },
   "outputs": [
    {
     "data": {
      "text/plain": [
       "(301, 301, 301)"
      ]
     },
     "execution_count": 21,
     "metadata": {},
     "output_type": "execute_result"
    }
   ],
   "source": [
    "len(X_train_img), len(X_train_df), len(y_train_df)"
   ]
  },
  {
   "cell_type": "code",
   "execution_count": 22,
   "id": "43128d8e",
   "metadata": {
    "ExecuteTime": {
     "end_time": "2022-07-22T00:28:49.850015Z",
     "start_time": "2022-07-22T00:28:49.836317Z"
    }
   },
   "outputs": [],
   "source": [
    "def my_gen(subset):\n",
    "    while True:\n",
    "        if subset == \"training\":\n",
    "            for i in X_train_img.take(1):\n",
    "                img_batch = i\n",
    "            for j in X_train_df.take(1):\n",
    "                csv_batch = j\n",
    "            for k in y_train_df.take(1):\n",
    "                labels_batch = k\n",
    "        else:\n",
    "            for i in X_test_img.take(1):\n",
    "                img_batch = i\n",
    "            for j in X_test_df.take(1):\n",
    "                csv_batch = j\n",
    "            for k in y_test_df.take(1):\n",
    "                labels_batch = k\n",
    "\n",
    "        yield ((img_batch, csv_batch), labels_batch)\n",
    "\n",
    "\n",
    "gen_train = my_gen(\"training\")\n",
    "gen_valid = my_gen(\"validation\")"
   ]
  },
  {
   "cell_type": "code",
   "execution_count": 23,
   "id": "3b6318b1",
   "metadata": {
    "ExecuteTime": {
     "end_time": "2022-07-22T01:35:01.733810Z",
     "start_time": "2022-07-22T00:28:49.850992Z"
    },
    "scrolled": false
   },
   "outputs": [
    {
     "name": "stdout",
     "output_type": "stream",
     "text": [
      "Epoch 1/10\n",
      "301/301 [==============================] - ETA: 0s - loss: 11.0198 - accuracy: 0.3979\n",
      "Epoch 1: saving model to ./mpg/model/all\\001-0.3979.hdf5\n",
      "301/301 [==============================] - 453s 1s/step - loss: 11.0198 - accuracy: 0.3979\n",
      "Epoch 2/10\n",
      "301/301 [==============================] - ETA: 0s - loss: 9.1924 - accuracy: 0.3984\n",
      "Epoch 2: saving model to ./mpg/model/all\\002-0.3984.hdf5\n",
      "301/301 [==============================] - 411s 1s/step - loss: 9.1924 - accuracy: 0.3984\n",
      "Epoch 3/10\n",
      "301/301 [==============================] - ETA: 0s - loss: 9.1924 - accuracy: 0.3984\n",
      "Epoch 3: saving model to ./mpg/model/all\\003-0.3984.hdf5\n",
      "301/301 [==============================] - 433s 1s/step - loss: 9.1924 - accuracy: 0.3984\n",
      "Epoch 4/10\n",
      "301/301 [==============================] - ETA: 0s - loss: 9.1924 - accuracy: 0.3984\n",
      "Epoch 4: saving model to ./mpg/model/all\\004-0.3984.hdf5\n",
      "301/301 [==============================] - 405s 1s/step - loss: 9.1924 - accuracy: 0.3984\n",
      "Epoch 5/10\n",
      "301/301 [==============================] - ETA: 0s - loss: 9.1924 - accuracy: 0.3984\n",
      "Epoch 5: saving model to ./mpg/model/all\\005-0.3984.hdf5\n",
      "301/301 [==============================] - 371s 1s/step - loss: 9.1924 - accuracy: 0.3984\n",
      "Epoch 6/10\n",
      "301/301 [==============================] - ETA: 0s - loss: 9.1924 - accuracy: 0.3984\n",
      "Epoch 6: saving model to ./mpg/model/all\\006-0.3984.hdf5\n",
      "301/301 [==============================] - 375s 1s/step - loss: 9.1924 - accuracy: 0.3984\n",
      "Epoch 7/10\n",
      "301/301 [==============================] - ETA: 0s - loss: 9.1924 - accuracy: 0.3984\n",
      "Epoch 7: saving model to ./mpg/model/all\\007-0.3984.hdf5\n",
      "301/301 [==============================] - 393s 1s/step - loss: 9.1924 - accuracy: 0.3984\n",
      "Epoch 8/10\n",
      "301/301 [==============================] - ETA: 0s - loss: 9.1924 - accuracy: 0.3984\n",
      "Epoch 8: saving model to ./mpg/model/all\\008-0.3984.hdf5\n",
      "301/301 [==============================] - 384s 1s/step - loss: 9.1924 - accuracy: 0.3984\n",
      "Epoch 9/10\n",
      "301/301 [==============================] - ETA: 0s - loss: 9.1924 - accuracy: 0.3984\n",
      "Epoch 9: saving model to ./mpg/model/all\\009-0.3984.hdf5\n",
      "301/301 [==============================] - 373s 1s/step - loss: 9.1924 - accuracy: 0.3984\n",
      "Epoch 10/10\n",
      "301/301 [==============================] - ETA: 0s - loss: 9.1924 - accuracy: 0.3984\n",
      "Epoch 10: saving model to ./mpg/model/all\\010-0.3984.hdf5\n",
      "301/301 [==============================] - 372s 1s/step - loss: 9.1924 - accuracy: 0.3984\n"
     ]
    }
   ],
   "source": [
    "modelpath = \"./mpg/model/all/{epoch:03d}-{accuracy:.4f}.hdf5\"\n",
    "checkpointer = ModelCheckpoint(filepath=modelpath, verbose=1)\n",
    "\n",
    "hist = model.fit(gen_train,\n",
    "                 epochs=10,\n",
    "                 steps_per_epoch=301,\n",
    "                 verbose=1,\n",
    "                 callbacks=[checkpointer])"
   ]
  },
  {
   "cell_type": "code",
   "execution_count": 26,
   "id": "b930502e",
   "metadata": {
    "ExecuteTime": {
     "end_time": "2022-07-22T03:16:42.750355Z",
     "start_time": "2022-07-22T03:15:07.594751Z"
    }
   },
   "outputs": [
    {
     "name": "stdout",
     "output_type": "stream",
     "text": [
      "76/76 [==============================] - 93s 1s/step\n"
     ]
    },
    {
     "data": {
      "text/plain": [
       "array([[-317.1862 ,  391.2189 , -311.76593, ..., -204.22757, -224.17372,\n",
       "         251.41994],\n",
       "       [-420.60403,  507.599  , -404.0326 , ..., -264.87897, -279.5936 ,\n",
       "         319.1264 ],\n",
       "       [-234.17801,  282.6082 , -229.94583, ..., -154.24205, -164.4489 ,\n",
       "         174.58665],\n",
       "       ...,\n",
       "       [-292.74985,  350.5939 , -284.89893, ..., -189.71933, -198.47758,\n",
       "         214.93901],\n",
       "       [-433.363  ,  537.3455 , -437.95782, ..., -290.25513, -320.7369 ,\n",
       "         349.22824],\n",
       "       [-342.0918 ,  418.60858, -338.93155, ..., -224.80486, -242.52678,\n",
       "         266.26505]], dtype=float32)"
      ]
     },
     "execution_count": 26,
     "metadata": {},
     "output_type": "execute_result"
    }
   ],
   "source": [
    "model.predict(gen_valid, steps=76)"
   ]
  }
 ],
 "metadata": {
  "kernelspec": {
   "display_name": "Python 3 (ipykernel)",
   "language": "python",
   "name": "python3"
  },
  "language_info": {
   "codemirror_mode": {
    "name": "ipython",
    "version": 3
   },
   "file_extension": ".py",
   "mimetype": "text/x-python",
   "name": "python",
   "nbconvert_exporter": "python",
   "pygments_lexer": "ipython3",
   "version": "3.9.12"
  },
  "toc": {
   "base_numbering": 1,
   "nav_menu": {},
   "number_sections": true,
   "sideBar": true,
   "skip_h1_title": false,
   "title_cell": "Table of Contents",
   "title_sidebar": "Contents",
   "toc_cell": false,
   "toc_position": {},
   "toc_section_display": true,
   "toc_window_display": false
  },
  "varInspector": {
   "cols": {
    "lenName": 16,
    "lenType": 16,
    "lenVar": 40
   },
   "kernels_config": {
    "python": {
     "delete_cmd_postfix": "",
     "delete_cmd_prefix": "del ",
     "library": "var_list.py",
     "varRefreshCmd": "print(var_dic_list())"
    },
    "r": {
     "delete_cmd_postfix": ") ",
     "delete_cmd_prefix": "rm(",
     "library": "var_list.r",
     "varRefreshCmd": "cat(var_dic_list()) "
    }
   },
   "position": {
    "height": "927.622px",
    "left": "1111.3px",
    "right": "20px",
    "top": "13.9896px",
    "width": "800px"
   },
   "types_to_exclude": [
    "module",
    "function",
    "builtin_function_or_method",
    "instance",
    "_Feature"
   ],
   "window_display": false
  }
 },
 "nbformat": 4,
 "nbformat_minor": 5
}
