{
 "cells": [
  {
   "cell_type": "markdown",
   "id": "888e6d0c",
   "metadata": {},
   "source": [
    "# 폴더별 자료 저장"
   ]
  },
  {
   "cell_type": "markdown",
   "id": "f65c93ae",
   "metadata": {},
   "source": [
    "## 참고 폴더생성 및 삭제"
   ]
  },
  {
   "cell_type": "code",
   "execution_count": 1,
   "id": "261a982d",
   "metadata": {
    "ExecuteTime": {
     "end_time": "2022-07-01T06:12:37.621246Z",
     "start_time": "2022-07-01T06:12:37.595406Z"
    }
   },
   "outputs": [],
   "source": [
    "# 현재 작업경로에  down  폴더제작\n",
    "# 이미 폴더가 제작되어 있으면 에러가 나옴, 에러 나올시 pass 하는 예외처리 해도 됨\n",
    "import os\n",
    "try:\n",
    "    os.mkdir('down')\n",
    "except:\n",
    "    pass"
   ]
  },
  {
   "cell_type": "code",
   "execution_count": null,
   "id": "aae82afd",
   "metadata": {},
   "outputs": [],
   "source": [
    "# 현재 작업경로에  down  폴더제작\n",
    "# glob 로 하여도 됨. 다양한 방법이 있음\n",
    "\n",
    "from glob import glob\n",
    "\n",
    "dirList = glob('*')\n",
    "newDir = 'down'\n",
    "if newDir not in dirList:\n",
    "    os.mkdir(newDir)"
   ]
  },
  {
   "cell_type": "code",
   "execution_count": null,
   "id": "5bd7cc05",
   "metadata": {},
   "outputs": [],
   "source": [
    "# 폴더가 있어도  makedirs 명령어의  옵션 exist_ok=True 를 설정하면 에러없이 폴더를 생성하지 않음\n",
    "os.makedirs('down', exist_ok=True)\n",
    "\n",
    "# - https://minimin2.tistory.com/40\n",
    "# - https://great-woman-hoseung.tistory.com/8"
   ]
  },
  {
   "cell_type": "code",
   "execution_count": null,
   "id": "0b9e7956",
   "metadata": {},
   "outputs": [],
   "source": [
    "# 폴더가 있는경우 아래와 같이 작업도 가능함.\n",
    "if os.path.exists(newDir):\n",
    "    pass"
   ]
  },
  {
   "cell_type": "code",
   "execution_count": 2,
   "id": "2b83bb86",
   "metadata": {
    "ExecuteTime": {
     "end_time": "2022-07-01T06:13:11.752746Z",
     "start_time": "2022-07-01T06:13:11.744749Z"
    }
   },
   "outputs": [
    {
     "name": "stdout",
     "output_type": "stream",
     "text": [
      "폴더가 이미 존재 하며 삭제한뒤 재 작성합니다.\n"
     ]
    }
   ],
   "source": [
    "# 있는 폴더 삭제하고 폴더 생성\n",
    "# 디렉토리 삭제 : https://jvvp.tistory.com/981\n",
    "\n",
    "os.mkdir('down\\\\a')  # down폴더내의  a폴더 하위 제작함.\n",
    "import shutil\n",
    "\n",
    "newDir = 'down'\n",
    "if os.path.exists(newDir):\n",
    "    print('폴더가 이미 존재 하며 삭제한뒤 재 작성합니다.')\n",
    "    #os.remove(newDir)  # 폴더내의 하위자료 없을때\n",
    "    shutil.rmtree(newDir)  # 폴더내의 하위자료 있을때\n",
    "    os.mkdir(newDir)"
   ]
  },
  {
   "cell_type": "markdown",
   "id": "04e64cdb",
   "metadata": {},
   "source": [
    "# 폴더내의 자료 배분\n",
    "\n",
    "- down폴더에 모든 object형 자료를 배분하고\n",
    "- 폴더별 자료의 갯수를 다음과 같이 화면에 출력합니다.\n",
    "- 문자의 자릿수를 맞추어서 출력(ljust) / 숫자,문자의 자릿수를 맞추어서 나머지 0으로 채워서 출력 (str.zfill)\n",
    "- https://www.delftstack.com/ko/howto/python/python-pad-string-with-spaces/"
   ]
  },
  {
   "cell_type": "code",
   "execution_count": 5,
   "id": "699182d1",
   "metadata": {
    "ExecuteTime": {
     "end_time": "2022-07-01T06:15:14.428428Z",
     "start_time": "2022-07-01T06:15:14.408473Z"
    }
   },
   "outputs": [
    {
     "data": {
      "text/plain": [
       "Index(['gender', 'NationalITy', 'PlaceofBirth', 'StageID', 'GradeID',\n",
       "       'SectionID', 'Topic', 'Semester', 'Relation', 'ParentAnsweringSurvey',\n",
       "       'ParentschoolSatisfaction', 'StudentAbsenceDays', 'Class'],\n",
       "      dtype='object')"
      ]
     },
     "execution_count": 5,
     "metadata": {},
     "output_type": "execute_result"
    }
   ],
   "source": [
    "import pandas as pd\n",
    "\n",
    "df = pd.read_csv('csvs/xAPI-Edu-Data.csv')\n",
    "\n",
    "# object 타입 자료의 필드명만 추출\n",
    "objectTypeField = df.dtypes[df.dtypes == 'object'].index\n",
    "objectTypeField"
   ]
  },
  {
   "cell_type": "code",
   "execution_count": 6,
   "id": "9fd91c9c",
   "metadata": {
    "ExecuteTime": {
     "end_time": "2022-07-01T06:17:01.779451Z",
     "start_time": "2022-07-01T06:17:01.762495Z"
    }
   },
   "outputs": [],
   "source": [
    " ### down폴더 하단에 object형 자료 생성\n",
    "\n",
    "for field in objectTypeField:\n",
    "    try:\n",
    "        os.mkdir(f'down/{field}')\n",
    "    except:\n",
    "        pass"
   ]
  },
  {
   "cell_type": "code",
   "execution_count": 21,
   "id": "6f58ccb2",
   "metadata": {
    "ExecuteTime": {
     "end_time": "2022-07-01T06:31:04.474408Z",
     "start_time": "2022-07-01T06:31:04.329993Z"
    }
   },
   "outputs": [
    {
     "name": "stdout",
     "output_type": "stream",
     "text": [
      "▶gender                         002개 파일 저장완료\n",
      "▶NationalITy                    014개 파일 저장완료\n",
      "▶PlaceofBirth                   014개 파일 저장완료\n",
      "▶StageID                        003개 파일 저장완료\n",
      "▶GradeID                        010개 파일 저장완료\n",
      "▶SectionID                      003개 파일 저장완료\n",
      "▶Topic                          012개 파일 저장완료\n",
      "▶Semester                       002개 파일 저장완료\n",
      "▶Relation                       002개 파일 저장완료\n",
      "▶ParentAnsweringSurvey          002개 파일 저장완료\n",
      "▶ParentschoolSatisfaction       002개 파일 저장완료\n",
      "▶StudentAbsenceDays             002개 파일 저장완료\n",
      "▶Class                          003개 파일 저장완료\n"
     ]
    }
   ],
   "source": [
    " ### 폴더별 자료 배분, 아래와 같이 출력될수 있도록 지정\n",
    "test = False\n",
    "for field in objectTypeField:\n",
    "    count = 0\n",
    "    \n",
    "    for value in df[field].unique():\n",
    "        df[df[field] == value].to_csv(f'down/{field}/{field}_{value}.csv')\n",
    "        count += 1\n",
    "        \n",
    "    print(f'▶{field.ljust(30)} {str(count).zfill(3)}개 파일 저장완료')\n",
    "    if test:\n",
    "        break"
   ]
  },
  {
   "cell_type": "markdown",
   "id": "8f6f82a2",
   "metadata": {},
   "source": [
    "# 참고 폴더내의 img 자료의 정보 csv로 저장\n",
    "\n",
    "- 구글검색: 파일크기 확인"
   ]
  },
  {
   "cell_type": "code",
   "execution_count": null,
   "id": "b9d5362e",
   "metadata": {},
   "outputs": [],
   "source": [
    "from PIL import Image\n",
    "from glob import glob\n",
    "import os\n",
    "import time\n",
    "\n",
    "imgList=glob('.\\\\img\\\\*.jpg') # 이미지 폴더에 jpg 파일이 있을때\n",
    "fileListinfo=[]\n",
    "\n",
    "for imgFile in imgList:\n",
    "   \n",
    "    img=Image.open(imgFile)\n",
    "        \n",
    "    fileListinfo.append({'FileName':img.filename.split('\\\\')[2],\n",
    "                         'width':img.width,\n",
    "                         'height':img.height,\n",
    "                         'formatName':img.format,\n",
    "                         'file_size':os.path.getsize(imgFile) ,\n",
    "                         'file_time':time.ctime(os.path.getmtime(imgFile))}) # - 참고: 파일생성날짜 확인 https://appia.tistory.com/666\n",
    "pd.DataFrame(fileListinfo).to_csv('a.csv',index=False)"
   ]
  }
 ],
 "metadata": {
  "kernelspec": {
   "display_name": "Python 3 (ipykernel)",
   "language": "python",
   "name": "python3"
  },
  "language_info": {
   "codemirror_mode": {
    "name": "ipython",
    "version": 3
   },
   "file_extension": ".py",
   "mimetype": "text/x-python",
   "name": "python",
   "nbconvert_exporter": "python",
   "pygments_lexer": "ipython3",
   "version": "3.9.12"
  },
  "toc": {
   "base_numbering": 1,
   "nav_menu": {},
   "number_sections": true,
   "sideBar": true,
   "skip_h1_title": false,
   "title_cell": "Table of Contents",
   "title_sidebar": "Contents",
   "toc_cell": false,
   "toc_position": {},
   "toc_section_display": true,
   "toc_window_display": false
  },
  "varInspector": {
   "cols": {
    "lenName": 16,
    "lenType": 16,
    "lenVar": 40
   },
   "kernels_config": {
    "python": {
     "delete_cmd_postfix": "",
     "delete_cmd_prefix": "del ",
     "library": "var_list.py",
     "varRefreshCmd": "print(var_dic_list())"
    },
    "r": {
     "delete_cmd_postfix": ") ",
     "delete_cmd_prefix": "rm(",
     "library": "var_list.r",
     "varRefreshCmd": "cat(var_dic_list()) "
    }
   },
   "types_to_exclude": [
    "module",
    "function",
    "builtin_function_or_method",
    "instance",
    "_Feature"
   ],
   "window_display": false
  }
 },
 "nbformat": 4,
 "nbformat_minor": 5
}
