{
 "cells": [
  {
   "cell_type": "code",
   "execution_count": 1,
   "id": "1c7161a6",
   "metadata": {
    "ExecuteTime": {
     "end_time": "2022-08-03T10:19:18.246430Z",
     "start_time": "2022-08-03T10:19:16.704268Z"
    }
   },
   "outputs": [],
   "source": [
    "import warnings\n",
    "import math\n",
    "import numpy as np\n",
    "import pandas as pd\n",
    "import seaborn as sns\n",
    "import matplotlib.pyplot as plt\n",
    "import matplotlib.colors as mcl\n",
    "import networkx as nx\n",
    "from matplotlib import font_manager, rc\n",
    "from wordcloud import WordCloud\n",
    "from tqdm import tqdm\n",
    "from mlxtend.preprocessing import TransactionEncoder\n",
    "from mlxtend.frequent_patterns import apriori, association_rules\n",
    "\n",
    "warnings.filterwarnings('ignore')\n",
    "font_path = \"C:/Windows/Fonts/Malgun.TTF\"\n",
    "font = font_manager.FontProperties(fname=font_path).get_name()\n",
    "rc('font', family=font)"
   ]
  },
  {
   "cell_type": "code",
   "execution_count": 2,
   "id": "757c9c17",
   "metadata": {
    "ExecuteTime": {
     "end_time": "2022-08-03T10:19:18.808806Z",
     "start_time": "2022-08-03T10:19:18.248413Z"
    }
   },
   "outputs": [
    {
     "data": {
      "text/html": [
       "<div>\n",
       "<style scoped>\n",
       "    .dataframe tbody tr th:only-of-type {\n",
       "        vertical-align: middle;\n",
       "    }\n",
       "\n",
       "    .dataframe tbody tr th {\n",
       "        vertical-align: top;\n",
       "    }\n",
       "\n",
       "    .dataframe thead th {\n",
       "        text-align: right;\n",
       "    }\n",
       "</style>\n",
       "<table border=\"1\" class=\"dataframe\">\n",
       "  <thead>\n",
       "    <tr style=\"text-align: right;\">\n",
       "      <th></th>\n",
       "      <th>CUST_SERIAL_NO</th>\n",
       "      <th>SEX</th>\n",
       "      <th>AGE</th>\n",
       "      <th>REG_DATE</th>\n",
       "      <th>ORDER_DATE</th>\n",
       "      <th>ORDER_HOUR</th>\n",
       "      <th>ORDER_WEEKDAY</th>\n",
       "      <th>IS_WEEKEND</th>\n",
       "      <th>GOODS_CODE</th>\n",
       "      <th>LGROUP</th>\n",
       "      <th>MGROUP</th>\n",
       "      <th>SGROUP</th>\n",
       "      <th>DGROUP</th>\n",
       "      <th>GOODS_NAME</th>\n",
       "      <th>PRICE</th>\n",
       "      <th>QTY</th>\n",
       "    </tr>\n",
       "  </thead>\n",
       "  <tbody>\n",
       "    <tr>\n",
       "      <th>0</th>\n",
       "      <td>1000000023</td>\n",
       "      <td>F</td>\n",
       "      <td>40</td>\n",
       "      <td>2011-07</td>\n",
       "      <td>2011-11-14</td>\n",
       "      <td>[0, 3[</td>\n",
       "      <td>토</td>\n",
       "      <td>T</td>\n",
       "      <td>20261</td>\n",
       "      <td>20</td>\n",
       "      <td>2</td>\n",
       "      <td>1</td>\n",
       "      <td>1</td>\n",
       "      <td>더무료체험</td>\n",
       "      <td>61500</td>\n",
       "      <td>1</td>\n",
       "    </tr>\n",
       "    <tr>\n",
       "      <th>1</th>\n",
       "      <td>1000000023</td>\n",
       "      <td>F</td>\n",
       "      <td>40</td>\n",
       "      <td>2011-07</td>\n",
       "      <td>2012-05-28</td>\n",
       "      <td>[0, 3[</td>\n",
       "      <td>토</td>\n",
       "      <td>T</td>\n",
       "      <td>20728</td>\n",
       "      <td>10</td>\n",
       "      <td>10</td>\n",
       "      <td>3</td>\n",
       "      <td>1</td>\n",
       "      <td>메쉬런닝화 + 슈즈 2종 여성</td>\n",
       "      <td>42500</td>\n",
       "      <td>1</td>\n",
       "    </tr>\n",
       "    <tr>\n",
       "      <th>2</th>\n",
       "      <td>1000000023</td>\n",
       "      <td>F</td>\n",
       "      <td>40</td>\n",
       "      <td>2011-07</td>\n",
       "      <td>2012-05-28</td>\n",
       "      <td>[0, 3[</td>\n",
       "      <td>토</td>\n",
       "      <td>T</td>\n",
       "      <td>20729</td>\n",
       "      <td>10</td>\n",
       "      <td>10</td>\n",
       "      <td>1</td>\n",
       "      <td>1</td>\n",
       "      <td>메쉬런닝화 +  슈즈 2종  남성</td>\n",
       "      <td>42500</td>\n",
       "      <td>1</td>\n",
       "    </tr>\n",
       "    <tr>\n",
       "      <th>3</th>\n",
       "      <td>1000000014</td>\n",
       "      <td>F</td>\n",
       "      <td>60</td>\n",
       "      <td>2011-07</td>\n",
       "      <td>2011-08-30</td>\n",
       "      <td>[0, 3[</td>\n",
       "      <td>일</td>\n",
       "      <td>T</td>\n",
       "      <td>20062</td>\n",
       "      <td>70</td>\n",
       "      <td>2</td>\n",
       "      <td>1</td>\n",
       "      <td>4</td>\n",
       "      <td>왕만두 16봉 구성 +추가구성 참치</td>\n",
       "      <td>53400</td>\n",
       "      <td>1</td>\n",
       "    </tr>\n",
       "    <tr>\n",
       "      <th>4</th>\n",
       "      <td>1000000014</td>\n",
       "      <td>F</td>\n",
       "      <td>60</td>\n",
       "      <td>2011-07</td>\n",
       "      <td>2011-08-30</td>\n",
       "      <td>[0, 3[</td>\n",
       "      <td>일</td>\n",
       "      <td>T</td>\n",
       "      <td>20133</td>\n",
       "      <td>70</td>\n",
       "      <td>2</td>\n",
       "      <td>1</td>\n",
       "      <td>11</td>\n",
       "      <td>베스트셀러 5종</td>\n",
       "      <td>33400</td>\n",
       "      <td>1</td>\n",
       "    </tr>\n",
       "  </tbody>\n",
       "</table>\n",
       "</div>"
      ],
      "text/plain": [
       "   CUST_SERIAL_NO SEX AGE REG_DATE  ORDER_DATE ORDER_HOUR ORDER_WEEKDAY  \\\n",
       "0      1000000023   F  40  2011-07  2011-11-14     [0, 3[             토   \n",
       "1      1000000023   F  40  2011-07  2012-05-28     [0, 3[             토   \n",
       "2      1000000023   F  40  2011-07  2012-05-28     [0, 3[             토   \n",
       "3      1000000014   F  60  2011-07  2011-08-30     [0, 3[             일   \n",
       "4      1000000014   F  60  2011-07  2011-08-30     [0, 3[             일   \n",
       "\n",
       "  IS_WEEKEND  GOODS_CODE  LGROUP  MGROUP  SGROUP  DGROUP           GOODS_NAME  \\\n",
       "0          T       20261      20       2       1       1                더무료체험   \n",
       "1          T       20728      10      10       3       1     메쉬런닝화 + 슈즈 2종 여성   \n",
       "2          T       20729      10      10       1       1   메쉬런닝화 +  슈즈 2종  남성   \n",
       "3          T       20062      70       2       1       4  왕만두 16봉 구성 +추가구성 참치   \n",
       "4          T       20133      70       2       1      11             베스트셀러 5종   \n",
       "\n",
       "   PRICE  QTY  \n",
       "0  61500    1  \n",
       "1  42500    1  \n",
       "2  42500    1  \n",
       "3  53400    1  \n",
       "4  33400    1  "
      ]
     },
     "execution_count": 2,
     "metadata": {},
     "output_type": "execute_result"
    }
   ],
   "source": [
    "data_path = '../R/.R연관분석/data'\n",
    "\n",
    "df = pd.read_csv(f\"{data_path}/CUST_ORDER_OUTPUT2.utf8.csv\")\n",
    "df.head()"
   ]
  },
  {
   "cell_type": "code",
   "execution_count": 3,
   "id": "e659a612",
   "metadata": {
    "ExecuteTime": {
     "end_time": "2022-08-03T10:19:18.917441Z",
     "start_time": "2022-08-03T10:19:18.810807Z"
    }
   },
   "outputs": [
    {
     "name": "stdout",
     "output_type": "stream",
     "text": [
      "<class 'pandas.core.frame.DataFrame'>\n",
      "RangeIndex: 510470 entries, 0 to 510469\n",
      "Data columns (total 16 columns):\n",
      " #   Column          Non-Null Count   Dtype \n",
      "---  ------          --------------   ----- \n",
      " 0   CUST_SERIAL_NO  510470 non-null  int64 \n",
      " 1   SEX             510470 non-null  object\n",
      " 2   AGE             510470 non-null  object\n",
      " 3   REG_DATE        510470 non-null  object\n",
      " 4   ORDER_DATE      510470 non-null  object\n",
      " 5   ORDER_HOUR      510470 non-null  object\n",
      " 6   ORDER_WEEKDAY   510470 non-null  object\n",
      " 7   IS_WEEKEND      510470 non-null  object\n",
      " 8   GOODS_CODE      510470 non-null  int64 \n",
      " 9   LGROUP          510470 non-null  int64 \n",
      " 10  MGROUP          510470 non-null  int64 \n",
      " 11  SGROUP          510470 non-null  int64 \n",
      " 12  DGROUP          510470 non-null  int64 \n",
      " 13  GOODS_NAME      510470 non-null  object\n",
      " 14  PRICE           510470 non-null  int64 \n",
      " 15  QTY             510470 non-null  int64 \n",
      "dtypes: int64(8), object(8)\n",
      "memory usage: 62.3+ MB\n"
     ]
    }
   ],
   "source": [
    "df.info()"
   ]
  },
  {
   "cell_type": "code",
   "execution_count": 4,
   "id": "354d7643",
   "metadata": {
    "ExecuteTime": {
     "end_time": "2022-08-03T10:19:19.026146Z",
     "start_time": "2022-08-03T10:19:18.919040Z"
    }
   },
   "outputs": [
    {
     "data": {
      "text/html": [
       "<div>\n",
       "<style scoped>\n",
       "    .dataframe tbody tr th:only-of-type {\n",
       "        vertical-align: middle;\n",
       "    }\n",
       "\n",
       "    .dataframe tbody tr th {\n",
       "        vertical-align: top;\n",
       "    }\n",
       "\n",
       "    .dataframe thead th {\n",
       "        text-align: right;\n",
       "    }\n",
       "</style>\n",
       "<table border=\"1\" class=\"dataframe\">\n",
       "  <thead>\n",
       "    <tr style=\"text-align: right;\">\n",
       "      <th></th>\n",
       "      <th>CUST_SERIAL_NO</th>\n",
       "      <th>GOODS_CODE</th>\n",
       "      <th>LGROUP</th>\n",
       "      <th>MGROUP</th>\n",
       "      <th>SGROUP</th>\n",
       "      <th>DGROUP</th>\n",
       "      <th>PRICE</th>\n",
       "      <th>QTY</th>\n",
       "    </tr>\n",
       "  </thead>\n",
       "  <tbody>\n",
       "    <tr>\n",
       "      <th>count</th>\n",
       "      <td>5.104700e+05</td>\n",
       "      <td>510470.000000</td>\n",
       "      <td>510470.000000</td>\n",
       "      <td>510470.000000</td>\n",
       "      <td>510470.000000</td>\n",
       "      <td>510470.000000</td>\n",
       "      <td>5.104700e+05</td>\n",
       "      <td>510470.000000</td>\n",
       "    </tr>\n",
       "    <tr>\n",
       "      <th>mean</th>\n",
       "      <td>1.000195e+09</td>\n",
       "      <td>20514.289880</td>\n",
       "      <td>44.490646</td>\n",
       "      <td>3.908124</td>\n",
       "      <td>7.230333</td>\n",
       "      <td>4.170921</td>\n",
       "      <td>7.996262e+04</td>\n",
       "      <td>1.059608</td>\n",
       "    </tr>\n",
       "    <tr>\n",
       "      <th>std</th>\n",
       "      <td>1.210115e+05</td>\n",
       "      <td>237.792786</td>\n",
       "      <td>25.044587</td>\n",
       "      <td>4.203214</td>\n",
       "      <td>5.630811</td>\n",
       "      <td>3.367291</td>\n",
       "      <td>6.446042e+04</td>\n",
       "      <td>0.391599</td>\n",
       "    </tr>\n",
       "    <tr>\n",
       "      <th>min</th>\n",
       "      <td>1.000000e+09</td>\n",
       "      <td>20001.000000</td>\n",
       "      <td>10.000000</td>\n",
       "      <td>1.000000</td>\n",
       "      <td>1.000000</td>\n",
       "      <td>1.000000</td>\n",
       "      <td>0.000000e+00</td>\n",
       "      <td>1.000000</td>\n",
       "    </tr>\n",
       "    <tr>\n",
       "      <th>25%</th>\n",
       "      <td>1.000089e+09</td>\n",
       "      <td>20313.000000</td>\n",
       "      <td>20.000000</td>\n",
       "      <td>1.000000</td>\n",
       "      <td>2.000000</td>\n",
       "      <td>2.000000</td>\n",
       "      <td>4.430000e+04</td>\n",
       "      <td>1.000000</td>\n",
       "    </tr>\n",
       "    <tr>\n",
       "      <th>50%</th>\n",
       "      <td>1.000189e+09</td>\n",
       "      <td>20517.000000</td>\n",
       "      <td>50.000000</td>\n",
       "      <td>2.000000</td>\n",
       "      <td>6.000000</td>\n",
       "      <td>3.000000</td>\n",
       "      <td>6.340000e+04</td>\n",
       "      <td>1.000000</td>\n",
       "    </tr>\n",
       "    <tr>\n",
       "      <th>75%</th>\n",
       "      <td>1.000297e+09</td>\n",
       "      <td>20729.000000</td>\n",
       "      <td>70.000000</td>\n",
       "      <td>4.000000</td>\n",
       "      <td>11.000000</td>\n",
       "      <td>5.000000</td>\n",
       "      <td>9.950000e+04</td>\n",
       "      <td>1.000000</td>\n",
       "    </tr>\n",
       "    <tr>\n",
       "      <th>max</th>\n",
       "      <td>1.000419e+09</td>\n",
       "      <td>20981.000000</td>\n",
       "      <td>85.000000</td>\n",
       "      <td>14.000000</td>\n",
       "      <td>27.000000</td>\n",
       "      <td>26.000000</td>\n",
       "      <td>3.979500e+06</td>\n",
       "      <td>10.000000</td>\n",
       "    </tr>\n",
       "  </tbody>\n",
       "</table>\n",
       "</div>"
      ],
      "text/plain": [
       "       CUST_SERIAL_NO     GOODS_CODE         LGROUP         MGROUP  \\\n",
       "count    5.104700e+05  510470.000000  510470.000000  510470.000000   \n",
       "mean     1.000195e+09   20514.289880      44.490646       3.908124   \n",
       "std      1.210115e+05     237.792786      25.044587       4.203214   \n",
       "min      1.000000e+09   20001.000000      10.000000       1.000000   \n",
       "25%      1.000089e+09   20313.000000      20.000000       1.000000   \n",
       "50%      1.000189e+09   20517.000000      50.000000       2.000000   \n",
       "75%      1.000297e+09   20729.000000      70.000000       4.000000   \n",
       "max      1.000419e+09   20981.000000      85.000000      14.000000   \n",
       "\n",
       "              SGROUP         DGROUP         PRICE            QTY  \n",
       "count  510470.000000  510470.000000  5.104700e+05  510470.000000  \n",
       "mean        7.230333       4.170921  7.996262e+04       1.059608  \n",
       "std         5.630811       3.367291  6.446042e+04       0.391599  \n",
       "min         1.000000       1.000000  0.000000e+00       1.000000  \n",
       "25%         2.000000       2.000000  4.430000e+04       1.000000  \n",
       "50%         6.000000       3.000000  6.340000e+04       1.000000  \n",
       "75%        11.000000       5.000000  9.950000e+04       1.000000  \n",
       "max        27.000000      26.000000  3.979500e+06      10.000000  "
      ]
     },
     "execution_count": 4,
     "metadata": {},
     "output_type": "execute_result"
    }
   ],
   "source": [
    "df.describe()"
   ]
  },
  {
   "cell_type": "code",
   "execution_count": 5,
   "id": "5735e3ce",
   "metadata": {
    "ExecuteTime": {
     "end_time": "2022-08-03T10:19:19.105796Z",
     "start_time": "2022-08-03T10:19:19.028045Z"
    }
   },
   "outputs": [
    {
     "data": {
      "text/plain": [
       "array(['F', 'M'], dtype=object)"
      ]
     },
     "execution_count": 5,
     "metadata": {},
     "output_type": "execute_result"
    }
   ],
   "source": [
    "df = df[df['SEX'] != '*']\n",
    "pd.unique(df['SEX'])"
   ]
  },
  {
   "cell_type": "code",
   "execution_count": 6,
   "id": "f5035909",
   "metadata": {
    "ExecuteTime": {
     "end_time": "2022-08-03T10:19:19.212583Z",
     "start_time": "2022-08-03T10:19:19.107449Z"
    }
   },
   "outputs": [
    {
     "name": "stdout",
     "output_type": "stream",
     "text": [
      "<class 'pandas.core.frame.DataFrame'>\n",
      "Int64Index: 507352 entries, 0 to 507351\n",
      "Data columns (total 16 columns):\n",
      " #   Column          Non-Null Count   Dtype \n",
      "---  ------          --------------   ----- \n",
      " 0   CUST_SERIAL_NO  507352 non-null  int64 \n",
      " 1   SEX             507352 non-null  object\n",
      " 2   AGE             507352 non-null  object\n",
      " 3   REG_DATE        507352 non-null  object\n",
      " 4   ORDER_DATE      507352 non-null  object\n",
      " 5   ORDER_HOUR      507352 non-null  object\n",
      " 6   ORDER_WEEKDAY   507352 non-null  object\n",
      " 7   IS_WEEKEND      507352 non-null  object\n",
      " 8   GOODS_CODE      507352 non-null  int64 \n",
      " 9   LGROUP          507352 non-null  int64 \n",
      " 10  MGROUP          507352 non-null  int64 \n",
      " 11  SGROUP          507352 non-null  int64 \n",
      " 12  DGROUP          507352 non-null  int64 \n",
      " 13  GOODS_NAME      507352 non-null  object\n",
      " 14  PRICE           507352 non-null  int64 \n",
      " 15  QTY             507352 non-null  int64 \n",
      "dtypes: int64(8), object(8)\n",
      "memory usage: 65.8+ MB\n"
     ]
    }
   ],
   "source": [
    "df.info()"
   ]
  },
  {
   "cell_type": "code",
   "execution_count": 7,
   "id": "99964317",
   "metadata": {
    "ExecuteTime": {
     "end_time": "2022-08-03T10:19:19.227903Z",
     "start_time": "2022-08-03T10:19:19.213886Z"
    }
   },
   "outputs": [
    {
     "data": {
      "text/html": [
       "<div>\n",
       "<style scoped>\n",
       "    .dataframe tbody tr th:only-of-type {\n",
       "        vertical-align: middle;\n",
       "    }\n",
       "\n",
       "    .dataframe tbody tr th {\n",
       "        vertical-align: top;\n",
       "    }\n",
       "\n",
       "    .dataframe thead th {\n",
       "        text-align: right;\n",
       "    }\n",
       "</style>\n",
       "<table border=\"1\" class=\"dataframe\">\n",
       "  <thead>\n",
       "    <tr style=\"text-align: right;\">\n",
       "      <th></th>\n",
       "      <th>ORDER_DATE</th>\n",
       "      <th>SEX</th>\n",
       "      <th>QTY</th>\n",
       "    </tr>\n",
       "  </thead>\n",
       "  <tbody>\n",
       "    <tr>\n",
       "      <th>0</th>\n",
       "      <td>2011-11-14</td>\n",
       "      <td>F</td>\n",
       "      <td>1</td>\n",
       "    </tr>\n",
       "    <tr>\n",
       "      <th>1</th>\n",
       "      <td>2012-05-28</td>\n",
       "      <td>F</td>\n",
       "      <td>1</td>\n",
       "    </tr>\n",
       "    <tr>\n",
       "      <th>2</th>\n",
       "      <td>2012-05-28</td>\n",
       "      <td>F</td>\n",
       "      <td>1</td>\n",
       "    </tr>\n",
       "    <tr>\n",
       "      <th>3</th>\n",
       "      <td>2011-08-30</td>\n",
       "      <td>F</td>\n",
       "      <td>1</td>\n",
       "    </tr>\n",
       "    <tr>\n",
       "      <th>4</th>\n",
       "      <td>2011-08-30</td>\n",
       "      <td>F</td>\n",
       "      <td>1</td>\n",
       "    </tr>\n",
       "  </tbody>\n",
       "</table>\n",
       "</div>"
      ],
      "text/plain": [
       "   ORDER_DATE SEX  QTY\n",
       "0  2011-11-14   F    1\n",
       "1  2012-05-28   F    1\n",
       "2  2012-05-28   F    1\n",
       "3  2011-08-30   F    1\n",
       "4  2011-08-30   F    1"
      ]
     },
     "execution_count": 7,
     "metadata": {},
     "output_type": "execute_result"
    }
   ],
   "source": [
    "# 구매일자, 성별, 구매 건수만 추출하여 별도의 데이터 프레임을 만든다.\n",
    "sex1 = df[['ORDER_DATE', 'SEX', 'QTY']]\n",
    "sex1.head()"
   ]
  },
  {
   "cell_type": "code",
   "execution_count": 8,
   "id": "8b0ee6a9",
   "metadata": {
    "ExecuteTime": {
     "end_time": "2022-08-03T10:19:19.371145Z",
     "start_time": "2022-08-03T10:19:19.229203Z"
    }
   },
   "outputs": [
    {
     "data": {
      "text/html": [
       "<div>\n",
       "<style scoped>\n",
       "    .dataframe tbody tr th:only-of-type {\n",
       "        vertical-align: middle;\n",
       "    }\n",
       "\n",
       "    .dataframe tbody tr th {\n",
       "        vertical-align: top;\n",
       "    }\n",
       "\n",
       "    .dataframe thead th {\n",
       "        text-align: right;\n",
       "    }\n",
       "</style>\n",
       "<table border=\"1\" class=\"dataframe\">\n",
       "  <thead>\n",
       "    <tr style=\"text-align: right;\">\n",
       "      <th></th>\n",
       "      <th>ORDER_DATE</th>\n",
       "      <th>SEX</th>\n",
       "      <th>QTY</th>\n",
       "      <th>month</th>\n",
       "    </tr>\n",
       "  </thead>\n",
       "  <tbody>\n",
       "    <tr>\n",
       "      <th>0</th>\n",
       "      <td>2011-11-14</td>\n",
       "      <td>F</td>\n",
       "      <td>1</td>\n",
       "      <td>11</td>\n",
       "    </tr>\n",
       "    <tr>\n",
       "      <th>1</th>\n",
       "      <td>2012-05-28</td>\n",
       "      <td>F</td>\n",
       "      <td>1</td>\n",
       "      <td>5</td>\n",
       "    </tr>\n",
       "    <tr>\n",
       "      <th>2</th>\n",
       "      <td>2012-05-28</td>\n",
       "      <td>F</td>\n",
       "      <td>1</td>\n",
       "      <td>5</td>\n",
       "    </tr>\n",
       "    <tr>\n",
       "      <th>3</th>\n",
       "      <td>2011-08-30</td>\n",
       "      <td>F</td>\n",
       "      <td>1</td>\n",
       "      <td>8</td>\n",
       "    </tr>\n",
       "    <tr>\n",
       "      <th>4</th>\n",
       "      <td>2011-08-30</td>\n",
       "      <td>F</td>\n",
       "      <td>1</td>\n",
       "      <td>8</td>\n",
       "    </tr>\n",
       "  </tbody>\n",
       "</table>\n",
       "</div>"
      ],
      "text/plain": [
       "   ORDER_DATE SEX  QTY  month\n",
       "0  2011-11-14   F    1     11\n",
       "1  2012-05-28   F    1      5\n",
       "2  2012-05-28   F    1      5\n",
       "3  2011-08-30   F    1      8\n",
       "4  2011-08-30   F    1      8"
      ]
     },
     "execution_count": 8,
     "metadata": {},
     "output_type": "execute_result"
    }
   ],
   "source": [
    "# ORDER_DATE 열에 저장되어 있는 날짜를 이용하여 month 함수로 월만 추출해서 month 라는 새로운 열을 추가한다.\n",
    "sex2 = sex1.copy()\n",
    "sex2['month'] = pd.DatetimeIndex(sex1['ORDER_DATE']).month\n",
    "sex2.head()"
   ]
  },
  {
   "cell_type": "code",
   "execution_count": 9,
   "id": "c1e4cfcc",
   "metadata": {
    "ExecuteTime": {
     "end_time": "2022-08-03T10:19:19.418416Z",
     "start_time": "2022-08-03T10:19:19.374153Z"
    }
   },
   "outputs": [
    {
     "data": {
      "text/html": [
       "<div>\n",
       "<style scoped>\n",
       "    .dataframe tbody tr th:only-of-type {\n",
       "        vertical-align: middle;\n",
       "    }\n",
       "\n",
       "    .dataframe tbody tr th {\n",
       "        vertical-align: top;\n",
       "    }\n",
       "\n",
       "    .dataframe thead th {\n",
       "        text-align: right;\n",
       "    }\n",
       "</style>\n",
       "<table border=\"1\" class=\"dataframe\">\n",
       "  <thead>\n",
       "    <tr style=\"text-align: right;\">\n",
       "      <th>SEX</th>\n",
       "      <th>F</th>\n",
       "      <th>M</th>\n",
       "    </tr>\n",
       "    <tr>\n",
       "      <th>month</th>\n",
       "      <th></th>\n",
       "      <th></th>\n",
       "    </tr>\n",
       "  </thead>\n",
       "  <tbody>\n",
       "    <tr>\n",
       "      <th>1</th>\n",
       "      <td>29851</td>\n",
       "      <td>15168</td>\n",
       "    </tr>\n",
       "    <tr>\n",
       "      <th>2</th>\n",
       "      <td>26487</td>\n",
       "      <td>11039</td>\n",
       "    </tr>\n",
       "    <tr>\n",
       "      <th>3</th>\n",
       "      <td>27142</td>\n",
       "      <td>12254</td>\n",
       "    </tr>\n",
       "    <tr>\n",
       "      <th>4</th>\n",
       "      <td>37208</td>\n",
       "      <td>17452</td>\n",
       "    </tr>\n",
       "    <tr>\n",
       "      <th>5</th>\n",
       "      <td>54211</td>\n",
       "      <td>30301</td>\n",
       "    </tr>\n",
       "    <tr>\n",
       "      <th>6</th>\n",
       "      <td>44600</td>\n",
       "      <td>29998</td>\n",
       "    </tr>\n",
       "    <tr>\n",
       "      <th>7</th>\n",
       "      <td>51767</td>\n",
       "      <td>40917</td>\n",
       "    </tr>\n",
       "    <tr>\n",
       "      <th>8</th>\n",
       "      <td>19478</td>\n",
       "      <td>11186</td>\n",
       "    </tr>\n",
       "    <tr>\n",
       "      <th>9</th>\n",
       "      <td>5168</td>\n",
       "      <td>1870</td>\n",
       "    </tr>\n",
       "    <tr>\n",
       "      <th>10</th>\n",
       "      <td>3949</td>\n",
       "      <td>1235</td>\n",
       "    </tr>\n",
       "    <tr>\n",
       "      <th>11</th>\n",
       "      <td>20347</td>\n",
       "      <td>9346</td>\n",
       "    </tr>\n",
       "    <tr>\n",
       "      <th>12</th>\n",
       "      <td>22722</td>\n",
       "      <td>13860</td>\n",
       "    </tr>\n",
       "  </tbody>\n",
       "</table>\n",
       "</div>"
      ],
      "text/plain": [
       "SEX        F      M\n",
       "month              \n",
       "1      29851  15168\n",
       "2      26487  11039\n",
       "3      27142  12254\n",
       "4      37208  17452\n",
       "5      54211  30301\n",
       "6      44600  29998\n",
       "7      51767  40917\n",
       "8      19478  11186\n",
       "9       5168   1870\n",
       "10      3949   1235\n",
       "11     20347   9346\n",
       "12     22722  13860"
      ]
     },
     "execution_count": 9,
     "metadata": {},
     "output_type": "execute_result"
    }
   ],
   "source": [
    "# 성별로 구분하여 월별 구매 건수의 총합을 구해서 확인한다.\n",
    "tmp = sex2.groupby(['month', 'SEX'])['QTY'].sum()\n",
    "tmp1 = tmp.unstack()\n",
    "tmp1"
   ]
  },
  {
   "cell_type": "code",
   "execution_count": 10,
   "id": "b1e293e6",
   "metadata": {
    "ExecuteTime": {
     "end_time": "2022-08-03T10:19:19.480211Z",
     "start_time": "2022-08-03T10:19:19.420414Z"
    }
   },
   "outputs": [
    {
     "data": {
      "text/plain": [
       "array(['female', 'male'], dtype=object)"
      ]
     },
     "execution_count": 10,
     "metadata": {},
     "output_type": "execute_result"
    }
   ],
   "source": [
    "# F나 M 대신 female, male이라고 표시하기 위해서 변환 함수를 만들어서 적용하여 gender라는 열을 추가한다.\n",
    "def change_gender(x):\n",
    "    if x == 'M':\n",
    "        return 'male'\n",
    "    else:\n",
    "        return 'female'\n",
    "\n",
    "\n",
    "sex2['gender'] = sex2['SEX'].apply(lambda x: change_gender(x))\n",
    "pd.unique(sex2['gender'])"
   ]
  },
  {
   "cell_type": "code",
   "execution_count": 11,
   "id": "84307584",
   "metadata": {
    "ExecuteTime": {
     "end_time": "2022-08-03T10:19:19.652579Z",
     "start_time": "2022-08-03T10:19:19.482069Z"
    },
    "scrolled": false
   },
   "outputs": [
    {
     "data": {
      "text/plain": [
       "<AxesSubplot:xlabel='month'>"
      ]
     },
     "execution_count": 11,
     "metadata": {},
     "output_type": "execute_result"
    },
    {
     "data": {
      "image/png": "[encoded data removed]",
      "text/plain": [
       "<Figure size 720x504 with 1 Axes>"
      ]
     },
     "metadata": {
      "needs_background": "light"
     },
     "output_type": "display_data"
    }
   ],
   "source": [
    "# 성별 별로 월별 구매 건수를 누적 막대 그래프로 표시한다.\n",
    "tmp1.plot(kind='bar', stacked=True, figsize=(10, 7))"
   ]
  },
  {
   "cell_type": "code",
   "execution_count": 12,
   "id": "628db5d5",
   "metadata": {
    "ExecuteTime": {
     "end_time": "2022-08-03T10:19:19.859072Z",
     "start_time": "2022-08-03T10:19:19.654228Z"
    }
   },
   "outputs": [
    {
     "data": {
      "text/plain": [
       "<AxesSubplot:title={'center':'male'}, xlabel='month'>"
      ]
     },
     "execution_count": 12,
     "metadata": {},
     "output_type": "execute_result"
    },
    {
     "data": {
      "image/png": "[encoded data removed]",
      "text/plain": [
       "<Figure size 720x576 with 2 Axes>"
      ]
     },
     "metadata": {
      "needs_background": "light"
     },
     "output_type": "display_data"
    }
   ],
   "source": [
    "# 성별 별로 월별 구매 건수를 별도의 막대 그래프로 표시한다.\n",
    "plt.figure(figsize=(10, 8))\n",
    "plt.subplot(1, 2, 1)\n",
    "plt.title('female')\n",
    "sex2[sex2['gender'] == 'female'].groupby(['month'\n",
    "                                          ])['QTY'].sum().plot(kind='bar')\n",
    "\n",
    "plt.subplot(1, 2, 2)\n",
    "plt.title('male')\n",
    "sex2[sex2['gender'] == 'male'].groupby(['month'])['QTY'].sum().plot(kind='bar')"
   ]
  },
  {
   "cell_type": "code",
   "execution_count": 13,
   "id": "85665336",
   "metadata": {
    "ExecuteTime": {
     "end_time": "2022-08-03T10:19:19.874902Z",
     "start_time": "2022-08-03T10:19:19.861397Z"
    }
   },
   "outputs": [
    {
     "data": {
      "text/html": [
       "<div>\n",
       "<style scoped>\n",
       "    .dataframe tbody tr th:only-of-type {\n",
       "        vertical-align: middle;\n",
       "    }\n",
       "\n",
       "    .dataframe tbody tr th {\n",
       "        vertical-align: top;\n",
       "    }\n",
       "\n",
       "    .dataframe thead th {\n",
       "        text-align: right;\n",
       "    }\n",
       "</style>\n",
       "<table border=\"1\" class=\"dataframe\">\n",
       "  <thead>\n",
       "    <tr style=\"text-align: right;\">\n",
       "      <th></th>\n",
       "      <th>ORDER_DATE</th>\n",
       "      <th>AGE</th>\n",
       "      <th>QTY</th>\n",
       "    </tr>\n",
       "  </thead>\n",
       "  <tbody>\n",
       "    <tr>\n",
       "      <th>0</th>\n",
       "      <td>2011-11-14</td>\n",
       "      <td>40</td>\n",
       "      <td>1</td>\n",
       "    </tr>\n",
       "    <tr>\n",
       "      <th>1</th>\n",
       "      <td>2012-05-28</td>\n",
       "      <td>40</td>\n",
       "      <td>1</td>\n",
       "    </tr>\n",
       "    <tr>\n",
       "      <th>2</th>\n",
       "      <td>2012-05-28</td>\n",
       "      <td>40</td>\n",
       "      <td>1</td>\n",
       "    </tr>\n",
       "    <tr>\n",
       "      <th>3</th>\n",
       "      <td>2011-08-30</td>\n",
       "      <td>60</td>\n",
       "      <td>1</td>\n",
       "    </tr>\n",
       "    <tr>\n",
       "      <th>4</th>\n",
       "      <td>2011-08-30</td>\n",
       "      <td>60</td>\n",
       "      <td>1</td>\n",
       "    </tr>\n",
       "  </tbody>\n",
       "</table>\n",
       "</div>"
      ],
      "text/plain": [
       "   ORDER_DATE AGE  QTY\n",
       "0  2011-11-14  40    1\n",
       "1  2012-05-28  40    1\n",
       "2  2012-05-28  40    1\n",
       "3  2011-08-30  60    1\n",
       "4  2011-08-30  60    1"
      ]
     },
     "execution_count": 13,
     "metadata": {},
     "output_type": "execute_result"
    }
   ],
   "source": [
    "# 연령대 구매 건수\n",
    "# 구매일자, 나이, 구매 건수 만 추출하여 별도의 데이터 프레임을 만든다.\n",
    "age1 = df[[\"ORDER_DATE\", \"AGE\", \"QTY\"]]\n",
    "age1.head()"
   ]
  },
  {
   "cell_type": "code",
   "execution_count": 14,
   "id": "7838c095",
   "metadata": {
    "ExecuteTime": {
     "end_time": "2022-08-03T10:19:20.031099Z",
     "start_time": "2022-08-03T10:19:19.876787Z"
    }
   },
   "outputs": [
    {
     "data": {
      "text/html": [
       "<div>\n",
       "<style scoped>\n",
       "    .dataframe tbody tr th:only-of-type {\n",
       "        vertical-align: middle;\n",
       "    }\n",
       "\n",
       "    .dataframe tbody tr th {\n",
       "        vertical-align: top;\n",
       "    }\n",
       "\n",
       "    .dataframe thead th {\n",
       "        text-align: right;\n",
       "    }\n",
       "</style>\n",
       "<table border=\"1\" class=\"dataframe\">\n",
       "  <thead>\n",
       "    <tr style=\"text-align: right;\">\n",
       "      <th></th>\n",
       "      <th>ORDER_DATE</th>\n",
       "      <th>AGE</th>\n",
       "      <th>QTY</th>\n",
       "      <th>month</th>\n",
       "    </tr>\n",
       "  </thead>\n",
       "  <tbody>\n",
       "    <tr>\n",
       "      <th>0</th>\n",
       "      <td>2011-11-14</td>\n",
       "      <td>40</td>\n",
       "      <td>1</td>\n",
       "      <td>11</td>\n",
       "    </tr>\n",
       "    <tr>\n",
       "      <th>1</th>\n",
       "      <td>2012-05-28</td>\n",
       "      <td>40</td>\n",
       "      <td>1</td>\n",
       "      <td>5</td>\n",
       "    </tr>\n",
       "    <tr>\n",
       "      <th>2</th>\n",
       "      <td>2012-05-28</td>\n",
       "      <td>40</td>\n",
       "      <td>1</td>\n",
       "      <td>5</td>\n",
       "    </tr>\n",
       "    <tr>\n",
       "      <th>3</th>\n",
       "      <td>2011-08-30</td>\n",
       "      <td>60</td>\n",
       "      <td>1</td>\n",
       "      <td>8</td>\n",
       "    </tr>\n",
       "    <tr>\n",
       "      <th>4</th>\n",
       "      <td>2011-08-30</td>\n",
       "      <td>60</td>\n",
       "      <td>1</td>\n",
       "      <td>8</td>\n",
       "    </tr>\n",
       "  </tbody>\n",
       "</table>\n",
       "</div>"
      ],
      "text/plain": [
       "   ORDER_DATE  AGE  QTY  month\n",
       "0  2011-11-14   40    1     11\n",
       "1  2012-05-28   40    1      5\n",
       "2  2012-05-28   40    1      5\n",
       "3  2011-08-30   60    1      8\n",
       "4  2011-08-30   60    1      8"
      ]
     },
     "execution_count": 14,
     "metadata": {},
     "output_type": "execute_result"
    }
   ],
   "source": [
    "# ORDER_DATE 열에 저장되어 있는 날짜를 이용하여 month 함수로 월만 추출해서 month 라는 새로운 열을 추가한다.\n",
    "age2 = age1.copy()\n",
    "age2['AGE'] = age2['AGE'].astype(int)\n",
    "age2['month'] = pd.DatetimeIndex(age1['ORDER_DATE']).month\n",
    "age2.head()"
   ]
  },
  {
   "cell_type": "code",
   "execution_count": 15,
   "id": "241fc652",
   "metadata": {
    "ExecuteTime": {
     "end_time": "2022-08-03T10:19:20.077828Z",
     "start_time": "2022-08-03T10:19:20.031674Z"
    }
   },
   "outputs": [
    {
     "data": {
      "text/html": [
       "<div>\n",
       "<style scoped>\n",
       "    .dataframe tbody tr th:only-of-type {\n",
       "        vertical-align: middle;\n",
       "    }\n",
       "\n",
       "    .dataframe tbody tr th {\n",
       "        vertical-align: top;\n",
       "    }\n",
       "\n",
       "    .dataframe thead th {\n",
       "        text-align: right;\n",
       "    }\n",
       "</style>\n",
       "<table border=\"1\" class=\"dataframe\">\n",
       "  <thead>\n",
       "    <tr style=\"text-align: right;\">\n",
       "      <th>AGE</th>\n",
       "      <th>10</th>\n",
       "      <th>20</th>\n",
       "      <th>30</th>\n",
       "      <th>40</th>\n",
       "      <th>50</th>\n",
       "      <th>60</th>\n",
       "      <th>70</th>\n",
       "      <th>80</th>\n",
       "      <th>90</th>\n",
       "      <th>100</th>\n",
       "    </tr>\n",
       "    <tr>\n",
       "      <th>month</th>\n",
       "      <th></th>\n",
       "      <th></th>\n",
       "      <th></th>\n",
       "      <th></th>\n",
       "      <th></th>\n",
       "      <th></th>\n",
       "      <th></th>\n",
       "      <th></th>\n",
       "      <th></th>\n",
       "      <th></th>\n",
       "    </tr>\n",
       "  </thead>\n",
       "  <tbody>\n",
       "    <tr>\n",
       "      <th>1</th>\n",
       "      <td>NaN</td>\n",
       "      <td>746.0</td>\n",
       "      <td>3929.0</td>\n",
       "      <td>10127.0</td>\n",
       "      <td>17580.0</td>\n",
       "      <td>9092.0</td>\n",
       "      <td>2546.0</td>\n",
       "      <td>294.0</td>\n",
       "      <td>439.0</td>\n",
       "      <td>266.0</td>\n",
       "    </tr>\n",
       "    <tr>\n",
       "      <th>2</th>\n",
       "      <td>NaN</td>\n",
       "      <td>849.0</td>\n",
       "      <td>3737.0</td>\n",
       "      <td>8752.0</td>\n",
       "      <td>14187.0</td>\n",
       "      <td>7045.0</td>\n",
       "      <td>1773.0</td>\n",
       "      <td>175.0</td>\n",
       "      <td>655.0</td>\n",
       "      <td>353.0</td>\n",
       "    </tr>\n",
       "    <tr>\n",
       "      <th>3</th>\n",
       "      <td>NaN</td>\n",
       "      <td>768.0</td>\n",
       "      <td>3708.0</td>\n",
       "      <td>9125.0</td>\n",
       "      <td>14960.0</td>\n",
       "      <td>7657.0</td>\n",
       "      <td>1943.0</td>\n",
       "      <td>188.0</td>\n",
       "      <td>699.0</td>\n",
       "      <td>348.0</td>\n",
       "    </tr>\n",
       "    <tr>\n",
       "      <th>4</th>\n",
       "      <td>NaN</td>\n",
       "      <td>820.0</td>\n",
       "      <td>4005.0</td>\n",
       "      <td>11520.0</td>\n",
       "      <td>21341.0</td>\n",
       "      <td>11589.0</td>\n",
       "      <td>2796.0</td>\n",
       "      <td>264.0</td>\n",
       "      <td>1969.0</td>\n",
       "      <td>356.0</td>\n",
       "    </tr>\n",
       "    <tr>\n",
       "      <th>5</th>\n",
       "      <td>NaN</td>\n",
       "      <td>1229.0</td>\n",
       "      <td>5574.0</td>\n",
       "      <td>17316.0</td>\n",
       "      <td>33268.0</td>\n",
       "      <td>16427.0</td>\n",
       "      <td>4033.0</td>\n",
       "      <td>384.0</td>\n",
       "      <td>3222.0</td>\n",
       "      <td>3059.0</td>\n",
       "    </tr>\n",
       "    <tr>\n",
       "      <th>6</th>\n",
       "      <td>8.0</td>\n",
       "      <td>1226.0</td>\n",
       "      <td>5751.0</td>\n",
       "      <td>15532.0</td>\n",
       "      <td>27510.0</td>\n",
       "      <td>13618.0</td>\n",
       "      <td>3361.0</td>\n",
       "      <td>244.0</td>\n",
       "      <td>4386.0</td>\n",
       "      <td>2962.0</td>\n",
       "    </tr>\n",
       "    <tr>\n",
       "      <th>7</th>\n",
       "      <td>NaN</td>\n",
       "      <td>1735.0</td>\n",
       "      <td>7336.0</td>\n",
       "      <td>18810.0</td>\n",
       "      <td>33338.0</td>\n",
       "      <td>16935.0</td>\n",
       "      <td>4061.0</td>\n",
       "      <td>272.0</td>\n",
       "      <td>6211.0</td>\n",
       "      <td>3986.0</td>\n",
       "    </tr>\n",
       "    <tr>\n",
       "      <th>8</th>\n",
       "      <td>NaN</td>\n",
       "      <td>540.0</td>\n",
       "      <td>2781.0</td>\n",
       "      <td>7098.0</td>\n",
       "      <td>11713.0</td>\n",
       "      <td>5531.0</td>\n",
       "      <td>1182.0</td>\n",
       "      <td>56.0</td>\n",
       "      <td>1310.0</td>\n",
       "      <td>453.0</td>\n",
       "    </tr>\n",
       "    <tr>\n",
       "      <th>9</th>\n",
       "      <td>NaN</td>\n",
       "      <td>131.0</td>\n",
       "      <td>820.0</td>\n",
       "      <td>2041.0</td>\n",
       "      <td>2455.0</td>\n",
       "      <td>1231.0</td>\n",
       "      <td>329.0</td>\n",
       "      <td>10.0</td>\n",
       "      <td>17.0</td>\n",
       "      <td>4.0</td>\n",
       "    </tr>\n",
       "    <tr>\n",
       "      <th>10</th>\n",
       "      <td>NaN</td>\n",
       "      <td>118.0</td>\n",
       "      <td>586.0</td>\n",
       "      <td>1545.0</td>\n",
       "      <td>1885.0</td>\n",
       "      <td>864.0</td>\n",
       "      <td>161.0</td>\n",
       "      <td>19.0</td>\n",
       "      <td>3.0</td>\n",
       "      <td>3.0</td>\n",
       "    </tr>\n",
       "    <tr>\n",
       "      <th>11</th>\n",
       "      <td>11.0</td>\n",
       "      <td>595.0</td>\n",
       "      <td>2440.0</td>\n",
       "      <td>7222.0</td>\n",
       "      <td>12076.0</td>\n",
       "      <td>5618.0</td>\n",
       "      <td>1391.0</td>\n",
       "      <td>121.0</td>\n",
       "      <td>140.0</td>\n",
       "      <td>79.0</td>\n",
       "    </tr>\n",
       "    <tr>\n",
       "      <th>12</th>\n",
       "      <td>50.0</td>\n",
       "      <td>735.0</td>\n",
       "      <td>3200.0</td>\n",
       "      <td>8887.0</td>\n",
       "      <td>14645.0</td>\n",
       "      <td>6809.0</td>\n",
       "      <td>1700.0</td>\n",
       "      <td>147.0</td>\n",
       "      <td>239.0</td>\n",
       "      <td>170.0</td>\n",
       "    </tr>\n",
       "  </tbody>\n",
       "</table>\n",
       "</div>"
      ],
      "text/plain": [
       "AGE     10      20      30       40       50       60      70     80      90   \\\n",
       "month                                                                           \n",
       "1       NaN   746.0  3929.0  10127.0  17580.0   9092.0  2546.0  294.0   439.0   \n",
       "2       NaN   849.0  3737.0   8752.0  14187.0   7045.0  1773.0  175.0   655.0   \n",
       "3       NaN   768.0  3708.0   9125.0  14960.0   7657.0  1943.0  188.0   699.0   \n",
       "4       NaN   820.0  4005.0  11520.0  21341.0  11589.0  2796.0  264.0  1969.0   \n",
       "5       NaN  1229.0  5574.0  17316.0  33268.0  16427.0  4033.0  384.0  3222.0   \n",
       "6       8.0  1226.0  5751.0  15532.0  27510.0  13618.0  3361.0  244.0  4386.0   \n",
       "7       NaN  1735.0  7336.0  18810.0  33338.0  16935.0  4061.0  272.0  6211.0   \n",
       "8       NaN   540.0  2781.0   7098.0  11713.0   5531.0  1182.0   56.0  1310.0   \n",
       "9       NaN   131.0   820.0   2041.0   2455.0   1231.0   329.0   10.0    17.0   \n",
       "10      NaN   118.0   586.0   1545.0   1885.0    864.0   161.0   19.0     3.0   \n",
       "11     11.0   595.0  2440.0   7222.0  12076.0   5618.0  1391.0  121.0   140.0   \n",
       "12     50.0   735.0  3200.0   8887.0  14645.0   6809.0  1700.0  147.0   239.0   \n",
       "\n",
       "AGE       100  \n",
       "month          \n",
       "1       266.0  \n",
       "2       353.0  \n",
       "3       348.0  \n",
       "4       356.0  \n",
       "5      3059.0  \n",
       "6      2962.0  \n",
       "7      3986.0  \n",
       "8       453.0  \n",
       "9         4.0  \n",
       "10        3.0  \n",
       "11       79.0  \n",
       "12      170.0  "
      ]
     },
     "execution_count": 15,
     "metadata": {},
     "output_type": "execute_result"
    }
   ],
   "source": [
    "# 연령별로 구분하여 월별 구매 건수의 총합을 구해서 확인한다.\n",
    "tmp = age2.groupby(['month', 'AGE'])['QTY'].sum()\n",
    "tmp1 = tmp.unstack()\n",
    "tmp1"
   ]
  },
  {
   "cell_type": "code",
   "execution_count": 16,
   "id": "c337b76c",
   "metadata": {
    "ExecuteTime": {
     "end_time": "2022-08-03T10:19:20.250104Z",
     "start_time": "2022-08-03T10:19:20.078603Z"
    }
   },
   "outputs": [
    {
     "data": {
      "text/plain": [
       "<AxesSubplot:xlabel='month'>"
      ]
     },
     "execution_count": 16,
     "metadata": {},
     "output_type": "execute_result"
    },
    {
     "data": {
      "image/png": "[encoded data removed]",
      "text/plain": [
       "<Figure size 720x504 with 1 Axes>"
      ]
     },
     "metadata": {
      "needs_background": "light"
     },
     "output_type": "display_data"
    }
   ],
   "source": [
    "# 연령 별로 월별 구매 건수를 누적 막대 그래프로 표시한다.\n",
    "tmp1.plot(kind='bar', stacked=True, figsize=(10, 7))"
   ]
  },
  {
   "cell_type": "code",
   "execution_count": 17,
   "id": "cfed9b37",
   "metadata": {
    "ExecuteTime": {
     "end_time": "2022-08-03T10:19:20.845728Z",
     "start_time": "2022-08-03T10:19:20.251795Z"
    }
   },
   "outputs": [
    {
     "data": {
      "image/png": "[encoded data removed]",
      "text/plain": [
       "<Figure size 1296x720 with 10 Axes>"
      ]
     },
     "metadata": {
      "needs_background": "light"
     },
     "output_type": "display_data"
    }
   ],
   "source": [
    "# 연령 별로 월별 구매 건수를 별도의 막대 그래프로 표시한다.\n",
    "plt.figure(figsize=(18, 10))\n",
    "\n",
    "for cnt in range(10):\n",
    "    age = (cnt + 1) * 10\n",
    "    plt.subplot(3, 4, cnt + 1)\n",
    "    age2[age2['AGE'] == age].groupby('month')['QTY'].sum().plot(kind='bar')\n",
    "    plt.title(age)\n",
    "    plt.ylim((0, 35000))\n",
    "    plt.grid(True)\n",
    "\n",
    "plt.show()"
   ]
  },
  {
   "cell_type": "code",
   "execution_count": 18,
   "id": "ab778fe0",
   "metadata": {
    "ExecuteTime": {
     "end_time": "2022-08-03T10:19:20.876589Z",
     "start_time": "2022-08-03T10:19:20.847136Z"
    }
   },
   "outputs": [
    {
     "data": {
      "text/html": [
       "<div>\n",
       "<style scoped>\n",
       "    .dataframe tbody tr th:only-of-type {\n",
       "        vertical-align: middle;\n",
       "    }\n",
       "\n",
       "    .dataframe tbody tr th {\n",
       "        vertical-align: top;\n",
       "    }\n",
       "\n",
       "    .dataframe thead th {\n",
       "        text-align: right;\n",
       "    }\n",
       "</style>\n",
       "<table border=\"1\" class=\"dataframe\">\n",
       "  <thead>\n",
       "    <tr style=\"text-align: right;\">\n",
       "      <th></th>\n",
       "      <th>ORDER_DATE</th>\n",
       "      <th>SEX</th>\n",
       "      <th>AGE</th>\n",
       "      <th>QTY</th>\n",
       "    </tr>\n",
       "  </thead>\n",
       "  <tbody>\n",
       "    <tr>\n",
       "      <th>0</th>\n",
       "      <td>2011-11-14</td>\n",
       "      <td>F</td>\n",
       "      <td>40</td>\n",
       "      <td>1</td>\n",
       "    </tr>\n",
       "    <tr>\n",
       "      <th>1</th>\n",
       "      <td>2012-05-28</td>\n",
       "      <td>F</td>\n",
       "      <td>40</td>\n",
       "      <td>1</td>\n",
       "    </tr>\n",
       "    <tr>\n",
       "      <th>2</th>\n",
       "      <td>2012-05-28</td>\n",
       "      <td>F</td>\n",
       "      <td>40</td>\n",
       "      <td>1</td>\n",
       "    </tr>\n",
       "    <tr>\n",
       "      <th>3</th>\n",
       "      <td>2011-08-30</td>\n",
       "      <td>F</td>\n",
       "      <td>60</td>\n",
       "      <td>1</td>\n",
       "    </tr>\n",
       "    <tr>\n",
       "      <th>4</th>\n",
       "      <td>2011-08-30</td>\n",
       "      <td>F</td>\n",
       "      <td>60</td>\n",
       "      <td>1</td>\n",
       "    </tr>\n",
       "  </tbody>\n",
       "</table>\n",
       "</div>"
      ],
      "text/plain": [
       "   ORDER_DATE SEX AGE  QTY\n",
       "0  2011-11-14   F  40    1\n",
       "1  2012-05-28   F  40    1\n",
       "2  2012-05-28   F  40    1\n",
       "3  2011-08-30   F  60    1\n",
       "4  2011-08-30   F  60    1"
      ]
     },
     "execution_count": 18,
     "metadata": {},
     "output_type": "execute_result"
    }
   ],
   "source": [
    "# 성별/연령대 구매 건수\n",
    "# 구매일자, 성별, 나이, 구매 건수만 추출하여 별도의 데이터 프레임을 만든다.\n",
    "sex_age1 = df[[\"ORDER_DATE\", \"SEX\", \"AGE\", \"QTY\"]]\n",
    "sex_age1.head()"
   ]
  },
  {
   "cell_type": "code",
   "execution_count": 19,
   "id": "01ae5571",
   "metadata": {
    "ExecuteTime": {
     "end_time": "2022-08-03T10:19:20.923460Z",
     "start_time": "2022-08-03T10:19:20.878309Z"
    }
   },
   "outputs": [
    {
     "name": "stdout",
     "output_type": "stream",
     "text": [
      "<class 'pandas.core.frame.DataFrame'>\n",
      "Int64Index: 507352 entries, 0 to 507351\n",
      "Data columns (total 4 columns):\n",
      " #   Column      Non-Null Count   Dtype \n",
      "---  ------      --------------   ----- \n",
      " 0   ORDER_DATE  507352 non-null  object\n",
      " 1   SEX         507352 non-null  object\n",
      " 2   AGE         507352 non-null  object\n",
      " 3   QTY         507352 non-null  int64 \n",
      "dtypes: int64(1), object(3)\n",
      "memory usage: 19.4+ MB\n"
     ]
    }
   ],
   "source": [
    "sex_age1.info()"
   ]
  },
  {
   "cell_type": "code",
   "execution_count": 20,
   "id": "68aa630d",
   "metadata": {
    "ExecuteTime": {
     "end_time": "2022-08-03T10:19:21.002931Z",
     "start_time": "2022-08-03T10:19:20.925367Z"
    }
   },
   "outputs": [],
   "source": [
    "# ddply() 함수를 사용하여 날짜, 성별, 나이로 그룹을 지어 구매 수량을 합쳐서 확인한다.\n",
    "sex_age2 = sex_age1.groupby(['ORDER_DATE', 'SEX', 'AGE']).sum().reset_index()\n",
    "sex_age2['AGE'] = sex_age2['AGE'].astype(int)"
   ]
  },
  {
   "cell_type": "code",
   "execution_count": 21,
   "id": "ae5ad858",
   "metadata": {
    "ExecuteTime": {
     "end_time": "2022-08-03T10:19:21.018489Z",
     "start_time": "2022-08-03T10:19:21.004794Z"
    }
   },
   "outputs": [
    {
     "data": {
      "text/html": [
       "<div>\n",
       "<style scoped>\n",
       "    .dataframe tbody tr th:only-of-type {\n",
       "        vertical-align: middle;\n",
       "    }\n",
       "\n",
       "    .dataframe tbody tr th {\n",
       "        vertical-align: top;\n",
       "    }\n",
       "\n",
       "    .dataframe thead th {\n",
       "        text-align: right;\n",
       "    }\n",
       "</style>\n",
       "<table border=\"1\" class=\"dataframe\">\n",
       "  <thead>\n",
       "    <tr style=\"text-align: right;\">\n",
       "      <th></th>\n",
       "      <th>ORDER_DATE</th>\n",
       "      <th>SEX</th>\n",
       "      <th>AGE</th>\n",
       "      <th>QTY</th>\n",
       "      <th>month</th>\n",
       "      <th>ages</th>\n",
       "    </tr>\n",
       "  </thead>\n",
       "  <tbody>\n",
       "    <tr>\n",
       "      <th>0</th>\n",
       "      <td>2011-07-14</td>\n",
       "      <td>F</td>\n",
       "      <td>20</td>\n",
       "      <td>5</td>\n",
       "      <td>7</td>\n",
       "      <td>20대</td>\n",
       "    </tr>\n",
       "    <tr>\n",
       "      <th>1</th>\n",
       "      <td>2011-07-14</td>\n",
       "      <td>M</td>\n",
       "      <td>30</td>\n",
       "      <td>20</td>\n",
       "      <td>7</td>\n",
       "      <td>30대</td>\n",
       "    </tr>\n",
       "    <tr>\n",
       "      <th>2</th>\n",
       "      <td>2011-07-15</td>\n",
       "      <td>F</td>\n",
       "      <td>20</td>\n",
       "      <td>6</td>\n",
       "      <td>7</td>\n",
       "      <td>20대</td>\n",
       "    </tr>\n",
       "    <tr>\n",
       "      <th>3</th>\n",
       "      <td>2011-07-15</td>\n",
       "      <td>M</td>\n",
       "      <td>30</td>\n",
       "      <td>4</td>\n",
       "      <td>7</td>\n",
       "      <td>30대</td>\n",
       "    </tr>\n",
       "    <tr>\n",
       "      <th>4</th>\n",
       "      <td>2011-07-16</td>\n",
       "      <td>F</td>\n",
       "      <td>20</td>\n",
       "      <td>4</td>\n",
       "      <td>7</td>\n",
       "      <td>20대</td>\n",
       "    </tr>\n",
       "  </tbody>\n",
       "</table>\n",
       "</div>"
      ],
      "text/plain": [
       "   ORDER_DATE SEX  AGE  QTY  month ages\n",
       "0  2011-07-14   F   20    5      7  20대\n",
       "1  2011-07-14   M   30   20      7  30대\n",
       "2  2011-07-15   F   20    6      7  20대\n",
       "3  2011-07-15   M   30    4      7  30대\n",
       "4  2011-07-16   F   20    4      7  20대"
      ]
     },
     "execution_count": 21,
     "metadata": {},
     "output_type": "execute_result"
    }
   ],
   "source": [
    "# month() 함수로 월만 추출하여 month 열을 추가하고, ages 열에는 나이에 \"대＂를 붙여서 추가한다.\n",
    "sex_age3 = sex_age2.copy()\n",
    "sex_age3['month'] = pd.DatetimeIndex(sex_age3['ORDER_DATE']).month\n",
    "sex_age3['ages'] = sex_age3['AGE'].astype(str) + '대'\n",
    "sex_age3.head()"
   ]
  },
  {
   "cell_type": "code",
   "execution_count": 22,
   "id": "b0528223",
   "metadata": {
    "ExecuteTime": {
     "end_time": "2022-08-03T10:19:22.080924Z",
     "start_time": "2022-08-03T10:19:21.019248Z"
    }
   },
   "outputs": [
    {
     "data": {
      "image/png": "[encoded data removed]",
      "text/plain": [
       "<Figure size 1440x1440 with 19 Axes>"
      ]
     },
     "metadata": {
      "needs_background": "light"
     },
     "output_type": "display_data"
    }
   ],
   "source": [
    "# 연령 별로 월별 구매 건수를 별도의 막대 그래프로 표시한다.\n",
    "plt.figure(figsize=(20, 20))\n",
    "\n",
    "for cnt in range(20):\n",
    "    if cnt == 10: continue  # 10대 남자 데이터 없음\n",
    "    age = (cnt + 1) * 10\n",
    "    plt.subplot(4, 5, cnt + 1)\n",
    "    sex = 'F'\n",
    "    if cnt > 9:\n",
    "        sex = 'M'\n",
    "        age = (cnt - 9) * 10\n",
    "\n",
    "    sex_age3[(sex_age3['SEX'] == sex)\n",
    "             & (sex_age3['AGE'] == age)].groupby('month')['QTY'].sum().plot(\n",
    "                 kind='bar')\n",
    "    plt.ylim((0, 30000))\n",
    "    plt.title(f'{age} / {sex}')\n",
    "\n",
    "plt.show()"
   ]
  },
  {
   "cell_type": "code",
   "execution_count": 23,
   "id": "27b70026",
   "metadata": {
    "ExecuteTime": {
     "end_time": "2022-08-03T10:19:22.096540Z",
     "start_time": "2022-08-03T10:19:22.082846Z"
    }
   },
   "outputs": [
    {
     "data": {
      "text/html": [
       "<div>\n",
       "<style scoped>\n",
       "    .dataframe tbody tr th:only-of-type {\n",
       "        vertical-align: middle;\n",
       "    }\n",
       "\n",
       "    .dataframe tbody tr th {\n",
       "        vertical-align: top;\n",
       "    }\n",
       "\n",
       "    .dataframe thead th {\n",
       "        text-align: right;\n",
       "    }\n",
       "</style>\n",
       "<table border=\"1\" class=\"dataframe\">\n",
       "  <thead>\n",
       "    <tr style=\"text-align: right;\">\n",
       "      <th></th>\n",
       "      <th>ORDER_DATE</th>\n",
       "      <th>CUST_SERIAL_NO</th>\n",
       "      <th>PRICE</th>\n",
       "    </tr>\n",
       "  </thead>\n",
       "  <tbody>\n",
       "    <tr>\n",
       "      <th>0</th>\n",
       "      <td>2011-11-14</td>\n",
       "      <td>1000000023</td>\n",
       "      <td>61500</td>\n",
       "    </tr>\n",
       "    <tr>\n",
       "      <th>1</th>\n",
       "      <td>2012-05-28</td>\n",
       "      <td>1000000023</td>\n",
       "      <td>42500</td>\n",
       "    </tr>\n",
       "    <tr>\n",
       "      <th>2</th>\n",
       "      <td>2012-05-28</td>\n",
       "      <td>1000000023</td>\n",
       "      <td>42500</td>\n",
       "    </tr>\n",
       "    <tr>\n",
       "      <th>3</th>\n",
       "      <td>2011-08-30</td>\n",
       "      <td>1000000014</td>\n",
       "      <td>53400</td>\n",
       "    </tr>\n",
       "    <tr>\n",
       "      <th>4</th>\n",
       "      <td>2011-08-30</td>\n",
       "      <td>1000000014</td>\n",
       "      <td>33400</td>\n",
       "    </tr>\n",
       "  </tbody>\n",
       "</table>\n",
       "</div>"
      ],
      "text/plain": [
       "   ORDER_DATE  CUST_SERIAL_NO  PRICE\n",
       "0  2011-11-14      1000000023  61500\n",
       "1  2012-05-28      1000000023  42500\n",
       "2  2012-05-28      1000000023  42500\n",
       "3  2011-08-30      1000000014  53400\n",
       "4  2011-08-30      1000000014  33400"
      ]
     },
     "execution_count": 23,
     "metadata": {},
     "output_type": "execute_result"
    }
   ],
   "source": [
    "# 월별 고객단위 구매금액\n",
    "# 구매일자, 고객 번호, 구매 금액 만 추출하여 별도의 데이터 프레임을 만든다.\n",
    "cust1 = df[['ORDER_DATE', 'CUST_SERIAL_NO', 'PRICE']]\n",
    "cust1.head()"
   ]
  },
  {
   "cell_type": "code",
   "execution_count": 24,
   "id": "5d7da49c",
   "metadata": {
    "ExecuteTime": {
     "end_time": "2022-08-03T10:19:22.251381Z",
     "start_time": "2022-08-03T10:19:22.098545Z"
    }
   },
   "outputs": [
    {
     "name": "stdout",
     "output_type": "stream",
     "text": [
      "<class 'pandas.core.frame.DataFrame'>\n",
      "Int64Index: 507352 entries, 0 to 507351\n",
      "Data columns (total 4 columns):\n",
      " #   Column          Non-Null Count   Dtype \n",
      "---  ------          --------------   ----- \n",
      " 0   ORDER_DATE      507352 non-null  object\n",
      " 1   CUST_SERIAL_NO  507352 non-null  int64 \n",
      " 2   PRICE           507352 non-null  int64 \n",
      " 3   month           507352 non-null  int64 \n",
      "dtypes: int64(3), object(1)\n",
      "memory usage: 19.4+ MB\n"
     ]
    }
   ],
   "source": [
    "# month() 함수로 월만 추출하여 month 열을 추가한다.\n",
    "cust2 = cust1.copy()\n",
    "cust2['month'] = pd.DatetimeIndex(cust1['ORDER_DATE']).month\n",
    "cust2.info()"
   ]
  },
  {
   "cell_type": "code",
   "execution_count": 25,
   "id": "4cfc00bc",
   "metadata": {
    "ExecuteTime": {
     "end_time": "2022-08-03T10:19:22.422947Z",
     "start_time": "2022-08-03T10:19:22.252368Z"
    }
   },
   "outputs": [
    {
     "data": {
      "text/html": [
       "<div>\n",
       "<style scoped>\n",
       "    .dataframe tbody tr th:only-of-type {\n",
       "        vertical-align: middle;\n",
       "    }\n",
       "\n",
       "    .dataframe tbody tr th {\n",
       "        vertical-align: top;\n",
       "    }\n",
       "\n",
       "    .dataframe thead th {\n",
       "        text-align: right;\n",
       "    }\n",
       "</style>\n",
       "<table border=\"1\" class=\"dataframe\">\n",
       "  <thead>\n",
       "    <tr style=\"text-align: right;\">\n",
       "      <th></th>\n",
       "      <th>CUST_SERIAL_NO</th>\n",
       "      <th>month</th>\n",
       "      <th>PRICE</th>\n",
       "    </tr>\n",
       "  </thead>\n",
       "  <tbody>\n",
       "    <tr>\n",
       "      <th>0</th>\n",
       "      <td>1000000001</td>\n",
       "      <td>1</td>\n",
       "      <td>431900</td>\n",
       "    </tr>\n",
       "    <tr>\n",
       "      <th>1</th>\n",
       "      <td>1000000001</td>\n",
       "      <td>3</td>\n",
       "      <td>300200</td>\n",
       "    </tr>\n",
       "    <tr>\n",
       "      <th>2</th>\n",
       "      <td>1000000001</td>\n",
       "      <td>4</td>\n",
       "      <td>167900</td>\n",
       "    </tr>\n",
       "    <tr>\n",
       "      <th>3</th>\n",
       "      <td>1000000001</td>\n",
       "      <td>5</td>\n",
       "      <td>259700</td>\n",
       "    </tr>\n",
       "    <tr>\n",
       "      <th>4</th>\n",
       "      <td>1000000001</td>\n",
       "      <td>7</td>\n",
       "      <td>315000</td>\n",
       "    </tr>\n",
       "  </tbody>\n",
       "</table>\n",
       "</div>"
      ],
      "text/plain": [
       "   CUST_SERIAL_NO  month   PRICE\n",
       "0      1000000001      1  431900\n",
       "1      1000000001      3  300200\n",
       "2      1000000001      4  167900\n",
       "3      1000000001      5  259700\n",
       "4      1000000001      7  315000"
      ]
     },
     "execution_count": 25,
     "metadata": {},
     "output_type": "execute_result"
    }
   ],
   "source": [
    "# ddply() 함수를 사용하여 고객 번호와 월로 그룹을 지어 구매 금액을 합쳐서 확인한다.\n",
    "cust3 = cust2.groupby(['CUST_SERIAL_NO', 'month'])['PRICE'].sum().reset_index()\n",
    "cust3.head()"
   ]
  },
  {
   "cell_type": "code",
   "execution_count": 26,
   "id": "7fe2808d",
   "metadata": {
    "ExecuteTime": {
     "end_time": "2022-08-03T10:19:22.737369Z",
     "start_time": "2022-08-03T10:19:22.424707Z"
    }
   },
   "outputs": [
    {
     "name": "stdout",
     "output_type": "stream",
     "text": [
      "<class 'pandas.core.frame.DataFrame'>\n",
      "RangeIndex: 452093 entries, 0 to 452092\n",
      "Data columns (total 3 columns):\n",
      " #   Column          Non-Null Count   Dtype\n",
      "---  ------          --------------   -----\n",
      " 0   CUST_SERIAL_NO  452093 non-null  int64\n",
      " 1   month           452093 non-null  int64\n",
      " 2   PRICE           452093 non-null  int64\n",
      "dtypes: int64(3)\n",
      "memory usage: 10.3 MB\n"
     ]
    }
   ],
   "source": [
    "# aggregate() 함수를 이용하여 고객 번호와 월을 기준으로 구매 금액을 합친다.\n",
    "df2 = df.copy()\n",
    "df2['month'] = pd.DatetimeIndex(df['ORDER_DATE']).month\n",
    "agg_data = df2.groupby(['CUST_SERIAL_NO',\n",
    "                        'month'])['PRICE'].sum().reset_index()\n",
    "agg_data.info()"
   ]
  },
  {
   "cell_type": "code",
   "execution_count": 27,
   "id": "76f3e322",
   "metadata": {
    "ExecuteTime": {
     "end_time": "2022-08-03T10:19:22.974482Z",
     "start_time": "2022-08-03T10:19:22.804416Z"
    }
   },
   "outputs": [
    {
     "data": {
      "text/html": [
       "<div>\n",
       "<style scoped>\n",
       "    .dataframe tbody tr th:only-of-type {\n",
       "        vertical-align: middle;\n",
       "    }\n",
       "\n",
       "    .dataframe tbody tr th {\n",
       "        vertical-align: top;\n",
       "    }\n",
       "\n",
       "    .dataframe thead th {\n",
       "        text-align: right;\n",
       "    }\n",
       "</style>\n",
       "<table border=\"1\" class=\"dataframe\">\n",
       "  <thead>\n",
       "    <tr style=\"text-align: right;\">\n",
       "      <th></th>\n",
       "      <th>CUST_SERIAL_NO</th>\n",
       "      <th>month</th>\n",
       "      <th>PRICE</th>\n",
       "      <th>real_month</th>\n",
       "    </tr>\n",
       "  </thead>\n",
       "  <tbody>\n",
       "    <tr>\n",
       "      <th>0</th>\n",
       "      <td>1000000001</td>\n",
       "      <td>1</td>\n",
       "      <td>431900</td>\n",
       "      <td>1월</td>\n",
       "    </tr>\n",
       "    <tr>\n",
       "      <th>1</th>\n",
       "      <td>1000000001</td>\n",
       "      <td>3</td>\n",
       "      <td>300200</td>\n",
       "      <td>3월</td>\n",
       "    </tr>\n",
       "    <tr>\n",
       "      <th>2</th>\n",
       "      <td>1000000001</td>\n",
       "      <td>4</td>\n",
       "      <td>167900</td>\n",
       "      <td>4월</td>\n",
       "    </tr>\n",
       "    <tr>\n",
       "      <th>3</th>\n",
       "      <td>1000000001</td>\n",
       "      <td>5</td>\n",
       "      <td>259700</td>\n",
       "      <td>5월</td>\n",
       "    </tr>\n",
       "    <tr>\n",
       "      <th>4</th>\n",
       "      <td>1000000001</td>\n",
       "      <td>7</td>\n",
       "      <td>315000</td>\n",
       "      <td>7월</td>\n",
       "    </tr>\n",
       "  </tbody>\n",
       "</table>\n",
       "</div>"
      ],
      "text/plain": [
       "   CUST_SERIAL_NO  month   PRICE real_month\n",
       "0      1000000001      1  431900         1월\n",
       "1      1000000001      3  300200         3월\n",
       "2      1000000001      4  167900         4월\n",
       "3      1000000001      5  259700         5월\n",
       "4      1000000001      7  315000         7월"
      ]
     },
     "execution_count": 27,
     "metadata": {},
     "output_type": "execute_result"
    }
   ],
   "source": [
    "# 그래프의 범례로 사용하기 위해 월에 \"월＂을 붙여서 real_month라는 열을 추가한다.\n",
    "agg_data['real_month'] = agg_data['month'].astype(str) + '월'\n",
    "agg_data.head()"
   ]
  },
  {
   "cell_type": "code",
   "execution_count": 28,
   "id": "d44de18f",
   "metadata": {
    "ExecuteTime": {
     "end_time": "2022-08-03T10:19:23.353111Z",
     "start_time": "2022-08-03T10:19:22.975406Z"
    }
   },
   "outputs": [
    {
     "data": {
      "text/plain": [
       "<AxesSubplot:title={'center':'PRICE'}, xlabel='real_month'>"
      ]
     },
     "execution_count": 28,
     "metadata": {},
     "output_type": "execute_result"
    },
    {
     "data": {
      "image/png": "[encoded data removed]",
      "text/plain": [
       "<Figure size 720x504 with 1 Axes>"
      ]
     },
     "metadata": {
      "needs_background": "light"
     },
     "output_type": "display_data"
    }
   ],
   "source": [
    "###### 월별 총 구매 금액의 최대값과 최소값, 평균값 등을 비교하기 위해 상자 차트로 표시한다.\n",
    "agg_data.boxplot(column=['PRICE'], by='real_month', figsize=(10, 7))"
   ]
  },
  {
   "cell_type": "code",
   "execution_count": 29,
   "id": "2b40e428",
   "metadata": {
    "ExecuteTime": {
     "end_time": "2022-08-03T10:19:23.399151Z",
     "start_time": "2022-08-03T10:19:23.354921Z"
    }
   },
   "outputs": [
    {
     "name": "stdout",
     "output_type": "stream",
     "text": [
      "<class 'pandas.core.frame.DataFrame'>\n",
      "Int64Index: 450218 entries, 0 to 452092\n",
      "Data columns (total 3 columns):\n",
      " #   Column          Non-Null Count   Dtype\n",
      "---  ------          --------------   -----\n",
      " 0   CUST_SERIAL_NO  450218 non-null  int64\n",
      " 1   month           450218 non-null  int64\n",
      " 2   PRICE           450218 non-null  int64\n",
      "dtypes: int64(3)\n",
      "memory usage: 13.7 MB\n"
     ]
    }
   ],
   "source": [
    "# 500,000원 미만으로 Filter\n",
    "# 구매 금액의 총합이 50만원 미만인 고객을 추출하여 고객 수를 확인한다.\n",
    "cust4 = cust3.copy()\n",
    "cust4 = cust3[cust3['PRICE'] < 500000]\n",
    "cust4.info()"
   ]
  },
  {
   "cell_type": "code",
   "execution_count": 30,
   "id": "45958afd",
   "metadata": {
    "ExecuteTime": {
     "end_time": "2022-08-03T10:19:23.758522Z",
     "start_time": "2022-08-03T10:19:23.400165Z"
    }
   },
   "outputs": [
    {
     "data": {
      "text/plain": [
       "<AxesSubplot:title={'center':'PRICE'}, xlabel='real_month'>"
      ]
     },
     "execution_count": 30,
     "metadata": {},
     "output_type": "execute_result"
    },
    {
     "data": {
      "image/png": "[encoded data removed]",
      "text/plain": [
       "<Figure size 720x504 with 1 Axes>"
      ]
     },
     "metadata": {
      "needs_background": "light"
     },
     "output_type": "display_data"
    }
   ],
   "source": [
    "# 월별 총 구매 금액이 50만원 미만인 구매에 대해서 최대값과 최소값, 평균값 등을 비교하기 위해 상자 차트로 표시한다.\n",
    "agg_data[agg_data['PRICE'] < 500000].boxplot(column=['PRICE'],\n",
    "                                             by='real_month',\n",
    "                                             figsize=(10, 7))"
   ]
  },
  {
   "cell_type": "code",
   "execution_count": 31,
   "id": "a76fd429",
   "metadata": {
    "ExecuteTime": {
     "end_time": "2022-08-03T10:19:23.774437Z",
     "start_time": "2022-08-03T10:19:23.760188Z"
    }
   },
   "outputs": [
    {
     "data": {
      "text/html": [
       "<div>\n",
       "<style scoped>\n",
       "    .dataframe tbody tr th:only-of-type {\n",
       "        vertical-align: middle;\n",
       "    }\n",
       "\n",
       "    .dataframe tbody tr th {\n",
       "        vertical-align: top;\n",
       "    }\n",
       "\n",
       "    .dataframe thead th {\n",
       "        text-align: right;\n",
       "    }\n",
       "</style>\n",
       "<table border=\"1\" class=\"dataframe\">\n",
       "  <thead>\n",
       "    <tr style=\"text-align: right;\">\n",
       "      <th></th>\n",
       "      <th>ORDER_WEEKDAY</th>\n",
       "      <th>PRICE</th>\n",
       "    </tr>\n",
       "  </thead>\n",
       "  <tbody>\n",
       "    <tr>\n",
       "      <th>0</th>\n",
       "      <td>토</td>\n",
       "      <td>61500</td>\n",
       "    </tr>\n",
       "    <tr>\n",
       "      <th>1</th>\n",
       "      <td>토</td>\n",
       "      <td>42500</td>\n",
       "    </tr>\n",
       "    <tr>\n",
       "      <th>2</th>\n",
       "      <td>토</td>\n",
       "      <td>42500</td>\n",
       "    </tr>\n",
       "    <tr>\n",
       "      <th>3</th>\n",
       "      <td>일</td>\n",
       "      <td>53400</td>\n",
       "    </tr>\n",
       "    <tr>\n",
       "      <th>4</th>\n",
       "      <td>일</td>\n",
       "      <td>33400</td>\n",
       "    </tr>\n",
       "  </tbody>\n",
       "</table>\n",
       "</div>"
      ],
      "text/plain": [
       "  ORDER_WEEKDAY  PRICE\n",
       "0             토  61500\n",
       "1             토  42500\n",
       "2             토  42500\n",
       "3             일  53400\n",
       "4             일  33400"
      ]
     },
     "execution_count": 31,
     "metadata": {},
     "output_type": "execute_result"
    }
   ],
   "source": [
    "# 요일별 구매 금액 합계\n",
    "# 구매 요일, 구매 건수만 추출하여 별도의 데이터 프레임을 만든다.\n",
    "day1 = df[['ORDER_WEEKDAY', 'PRICE']]\n",
    "day1.head()"
   ]
  },
  {
   "cell_type": "code",
   "execution_count": 32,
   "id": "f6c8f5da",
   "metadata": {
    "ExecuteTime": {
     "end_time": "2022-08-03T10:19:23.806407Z",
     "start_time": "2022-08-03T10:19:23.776194Z"
    }
   },
   "outputs": [
    {
     "data": {
      "text/html": [
       "<div>\n",
       "<style scoped>\n",
       "    .dataframe tbody tr th:only-of-type {\n",
       "        vertical-align: middle;\n",
       "    }\n",
       "\n",
       "    .dataframe tbody tr th {\n",
       "        vertical-align: top;\n",
       "    }\n",
       "\n",
       "    .dataframe thead th {\n",
       "        text-align: right;\n",
       "    }\n",
       "</style>\n",
       "<table border=\"1\" class=\"dataframe\">\n",
       "  <thead>\n",
       "    <tr style=\"text-align: right;\">\n",
       "      <th></th>\n",
       "      <th>ORDER_WEEKDAY</th>\n",
       "      <th>PRICE</th>\n",
       "    </tr>\n",
       "  </thead>\n",
       "  <tbody>\n",
       "    <tr>\n",
       "      <th>0</th>\n",
       "      <td>금</td>\n",
       "      <td>5482837830</td>\n",
       "    </tr>\n",
       "    <tr>\n",
       "      <th>1</th>\n",
       "      <td>목</td>\n",
       "      <td>5172669070</td>\n",
       "    </tr>\n",
       "    <tr>\n",
       "      <th>2</th>\n",
       "      <td>수</td>\n",
       "      <td>5182188030</td>\n",
       "    </tr>\n",
       "    <tr>\n",
       "      <th>3</th>\n",
       "      <td>월</td>\n",
       "      <td>5582784440</td>\n",
       "    </tr>\n",
       "    <tr>\n",
       "      <th>4</th>\n",
       "      <td>일</td>\n",
       "      <td>6875077420</td>\n",
       "    </tr>\n",
       "    <tr>\n",
       "      <th>5</th>\n",
       "      <td>토</td>\n",
       "      <td>6955078820</td>\n",
       "    </tr>\n",
       "    <tr>\n",
       "      <th>6</th>\n",
       "      <td>화</td>\n",
       "      <td>5319236280</td>\n",
       "    </tr>\n",
       "  </tbody>\n",
       "</table>\n",
       "</div>"
      ],
      "text/plain": [
       "  ORDER_WEEKDAY       PRICE\n",
       "0             금  5482837830\n",
       "1             목  5172669070\n",
       "2             수  5182188030\n",
       "3             월  5582784440\n",
       "4             일  6875077420\n",
       "5             토  6955078820\n",
       "6             화  5319236280"
      ]
     },
     "execution_count": 32,
     "metadata": {},
     "output_type": "execute_result"
    }
   ],
   "source": [
    "# ddply() 함수를 사용하여 요일별로 구매 금액을 합쳐서 확인한다.\n",
    "day2 = day1.copy\n",
    "day2 = day1.groupby(['ORDER_WEEKDAY'])['PRICE'].sum().reset_index()\n",
    "day2"
   ]
  },
  {
   "cell_type": "code",
   "execution_count": 33,
   "id": "a0544258",
   "metadata": {
    "ExecuteTime": {
     "end_time": "2022-08-03T10:19:23.821583Z",
     "start_time": "2022-08-03T10:19:23.808303Z"
    }
   },
   "outputs": [
    {
     "data": {
      "text/html": [
       "<div>\n",
       "<style scoped>\n",
       "    .dataframe tbody tr th:only-of-type {\n",
       "        vertical-align: middle;\n",
       "    }\n",
       "\n",
       "    .dataframe tbody tr th {\n",
       "        vertical-align: top;\n",
       "    }\n",
       "\n",
       "    .dataframe thead th {\n",
       "        text-align: right;\n",
       "    }\n",
       "</style>\n",
       "<table border=\"1\" class=\"dataframe\">\n",
       "  <thead>\n",
       "    <tr style=\"text-align: right;\">\n",
       "      <th></th>\n",
       "      <th>ORDER_WEEKDAY</th>\n",
       "      <th>Sum_F</th>\n",
       "    </tr>\n",
       "  </thead>\n",
       "  <tbody>\n",
       "    <tr>\n",
       "      <th>0</th>\n",
       "      <td>금</td>\n",
       "      <td>5482837830</td>\n",
       "    </tr>\n",
       "    <tr>\n",
       "      <th>1</th>\n",
       "      <td>목</td>\n",
       "      <td>5172669070</td>\n",
       "    </tr>\n",
       "    <tr>\n",
       "      <th>2</th>\n",
       "      <td>수</td>\n",
       "      <td>5182188030</td>\n",
       "    </tr>\n",
       "    <tr>\n",
       "      <th>3</th>\n",
       "      <td>월</td>\n",
       "      <td>5582784440</td>\n",
       "    </tr>\n",
       "    <tr>\n",
       "      <th>4</th>\n",
       "      <td>일</td>\n",
       "      <td>6875077420</td>\n",
       "    </tr>\n",
       "    <tr>\n",
       "      <th>5</th>\n",
       "      <td>토</td>\n",
       "      <td>6955078820</td>\n",
       "    </tr>\n",
       "    <tr>\n",
       "      <th>6</th>\n",
       "      <td>화</td>\n",
       "      <td>5319236280</td>\n",
       "    </tr>\n",
       "  </tbody>\n",
       "</table>\n",
       "</div>"
      ],
      "text/plain": [
       "  ORDER_WEEKDAY       Sum_F\n",
       "0             금  5482837830\n",
       "1             목  5172669070\n",
       "2             수  5182188030\n",
       "3             월  5582784440\n",
       "4             일  6875077420\n",
       "5             토  6955078820\n",
       "6             화  5319236280"
      ]
     },
     "execution_count": 33,
     "metadata": {},
     "output_type": "execute_result"
    }
   ],
   "source": [
    "# ddply() 함수를 사용하여 요일별로 구매 금액을 합친 결과를 agg_data_summary에 저장한다.\n",
    "agg_data_summary = day2.copy()\n",
    "agg_data_summary.columns = ['ORDER_WEEKDAY', 'Sum_F']\n",
    "agg_data_summary"
   ]
  },
  {
   "cell_type": "code",
   "execution_count": 34,
   "id": "cc8fc4b4",
   "metadata": {
    "ExecuteTime": {
     "end_time": "2022-08-03T10:19:23.837565Z",
     "start_time": "2022-08-03T10:19:23.823450Z"
    }
   },
   "outputs": [
    {
     "data": {
      "text/html": [
       "<div>\n",
       "<style scoped>\n",
       "    .dataframe tbody tr th:only-of-type {\n",
       "        vertical-align: middle;\n",
       "    }\n",
       "\n",
       "    .dataframe tbody tr th {\n",
       "        vertical-align: top;\n",
       "    }\n",
       "\n",
       "    .dataframe thead th {\n",
       "        text-align: right;\n",
       "    }\n",
       "</style>\n",
       "<table border=\"1\" class=\"dataframe\">\n",
       "  <thead>\n",
       "    <tr style=\"text-align: right;\">\n",
       "      <th></th>\n",
       "      <th>ORDER_WEEKDAY</th>\n",
       "      <th>Sum_F</th>\n",
       "      <th>rday</th>\n",
       "    </tr>\n",
       "  </thead>\n",
       "  <tbody>\n",
       "    <tr>\n",
       "      <th>0</th>\n",
       "      <td>금</td>\n",
       "      <td>5482837830</td>\n",
       "      <td>5_금</td>\n",
       "    </tr>\n",
       "    <tr>\n",
       "      <th>1</th>\n",
       "      <td>목</td>\n",
       "      <td>5172669070</td>\n",
       "      <td>4_목</td>\n",
       "    </tr>\n",
       "    <tr>\n",
       "      <th>2</th>\n",
       "      <td>수</td>\n",
       "      <td>5182188030</td>\n",
       "      <td>3_수</td>\n",
       "    </tr>\n",
       "    <tr>\n",
       "      <th>3</th>\n",
       "      <td>월</td>\n",
       "      <td>5582784440</td>\n",
       "      <td>1_월</td>\n",
       "    </tr>\n",
       "    <tr>\n",
       "      <th>4</th>\n",
       "      <td>일</td>\n",
       "      <td>6875077420</td>\n",
       "      <td>7_일</td>\n",
       "    </tr>\n",
       "    <tr>\n",
       "      <th>5</th>\n",
       "      <td>토</td>\n",
       "      <td>6955078820</td>\n",
       "      <td>6_토</td>\n",
       "    </tr>\n",
       "    <tr>\n",
       "      <th>6</th>\n",
       "      <td>화</td>\n",
       "      <td>5319236280</td>\n",
       "      <td>2_화</td>\n",
       "    </tr>\n",
       "  </tbody>\n",
       "</table>\n",
       "</div>"
      ],
      "text/plain": [
       "  ORDER_WEEKDAY       Sum_F rday\n",
       "0             금  5482837830  5_금\n",
       "1             목  5172669070  4_목\n",
       "2             수  5182188030  3_수\n",
       "3             월  5582784440  1_월\n",
       "4             일  6875077420  7_일\n",
       "5             토  6955078820  6_토\n",
       "6             화  5319236280  2_화"
      ]
     },
     "execution_count": 34,
     "metadata": {},
     "output_type": "execute_result"
    }
   ],
   "source": [
    "# 그래프에 출력될 때 자동으로 정렬해서 출력되도록 요일 앞에 1부터 7까지의 숫자를 붙이는 함수를 만들어서 적용한다.\n",
    "def change_r_day(x):\n",
    "    if x == \"월\":\n",
    "        return (\"1_월\")\n",
    "    elif x == \"화\":\n",
    "        return (\"2_화\")\n",
    "    elif x == \"수\":\n",
    "        return (\"3_수\")\n",
    "    elif x == \"목\":\n",
    "        return (\"4_목\")\n",
    "    elif x == \"금\":\n",
    "        return (\"5_금\")\n",
    "    elif x == \"토\":\n",
    "        return (\"6_토\")\n",
    "    else:\n",
    "        return (\"7_일\")\n",
    "\n",
    "\n",
    "agg_data_summary['rday'] = agg_data_summary['ORDER_WEEKDAY'].apply(\n",
    "    lambda x: change_r_day(x))\n",
    "agg_data_summary"
   ]
  },
  {
   "cell_type": "code",
   "execution_count": 35,
   "id": "44a45a8e",
   "metadata": {
    "ExecuteTime": {
     "end_time": "2022-08-03T10:19:23.915472Z",
     "start_time": "2022-08-03T10:19:23.839271Z"
    }
   },
   "outputs": [
    {
     "data": {
      "text/plain": [
       "Text(0, 0.5, 'Sum_F')"
      ]
     },
     "execution_count": 35,
     "metadata": {},
     "output_type": "execute_result"
    },
    {
     "data": {
      "image/png": "[encoded data removed]",
      "text/plain": [
       "<Figure size 720x504 with 1 Axes>"
      ]
     },
     "metadata": {
      "needs_background": "light"
     },
     "output_type": "display_data"
    }
   ],
   "source": [
    "# 요일별 구매 금액의 총합을 막대 그래프로 표시한다.\n",
    "field = \"rday\"\n",
    "day_order = [\"1_월\", \"2_화\", \"3_수\", \"4_목\", \"5_금\", \"6_토\", \"7_일\"]\n",
    "ax = agg_data_summary.set_index(field).loc[day_order].plot(kind=\"bar\",\n",
    "                                                           legend=False,\n",
    "                                                           figsize=(10, 7))\n",
    "ax.set_ylabel(\"Sum_F\")"
   ]
  },
  {
   "cell_type": "code",
   "execution_count": 36,
   "id": "97d75ef7",
   "metadata": {
    "ExecuteTime": {
     "end_time": "2022-08-03T10:19:23.962743Z",
     "start_time": "2022-08-03T10:19:23.916476Z"
    }
   },
   "outputs": [
    {
     "data": {
      "text/html": [
       "<div>\n",
       "<style scoped>\n",
       "    .dataframe tbody tr th:only-of-type {\n",
       "        vertical-align: middle;\n",
       "    }\n",
       "\n",
       "    .dataframe tbody tr th {\n",
       "        vertical-align: top;\n",
       "    }\n",
       "\n",
       "    .dataframe thead th {\n",
       "        text-align: right;\n",
       "    }\n",
       "</style>\n",
       "<table border=\"1\" class=\"dataframe\">\n",
       "  <thead>\n",
       "    <tr style=\"text-align: right;\">\n",
       "      <th></th>\n",
       "      <th>ORDER_WEEKDAY</th>\n",
       "      <th>Sum_F</th>\n",
       "    </tr>\n",
       "  </thead>\n",
       "  <tbody>\n",
       "    <tr>\n",
       "      <th>0</th>\n",
       "      <td>금</td>\n",
       "      <td>71678</td>\n",
       "    </tr>\n",
       "    <tr>\n",
       "      <th>1</th>\n",
       "      <td>목</td>\n",
       "      <td>69676</td>\n",
       "    </tr>\n",
       "    <tr>\n",
       "      <th>2</th>\n",
       "      <td>수</td>\n",
       "      <td>69839</td>\n",
       "    </tr>\n",
       "    <tr>\n",
       "      <th>3</th>\n",
       "      <td>월</td>\n",
       "      <td>72920</td>\n",
       "    </tr>\n",
       "    <tr>\n",
       "      <th>4</th>\n",
       "      <td>일</td>\n",
       "      <td>89851</td>\n",
       "    </tr>\n",
       "    <tr>\n",
       "      <th>5</th>\n",
       "      <td>토</td>\n",
       "      <td>91848</td>\n",
       "    </tr>\n",
       "    <tr>\n",
       "      <th>6</th>\n",
       "      <td>화</td>\n",
       "      <td>71744</td>\n",
       "    </tr>\n",
       "  </tbody>\n",
       "</table>\n",
       "</div>"
      ],
      "text/plain": [
       "  ORDER_WEEKDAY  Sum_F\n",
       "0             금  71678\n",
       "1             목  69676\n",
       "2             수  69839\n",
       "3             월  72920\n",
       "4             일  89851\n",
       "5             토  91848\n",
       "6             화  71744"
      ]
     },
     "execution_count": 36,
     "metadata": {},
     "output_type": "execute_result"
    }
   ],
   "source": [
    "# 요일별 구매 상품 수\n",
    "# ddply() 함수를 사용하여 요일별로 구매 수량을 합친 결과를 day_amt2에 저장하고, 요일 이름 변경 함수를 적용하여 rday 열을 추가한다. # nolint\n",
    "day_amt1 = df[['ORDER_WEEKDAY', 'QTY']]\n",
    "day_amt2 = day_amt1.groupby(['ORDER_WEEKDAY'])['QTY'].sum().reset_index()\n",
    "day_amt2.columns = ['ORDER_WEEKDAY', 'Sum_F']\n",
    "day_amt2"
   ]
  },
  {
   "cell_type": "code",
   "execution_count": 37,
   "id": "d4ad45be",
   "metadata": {
    "ExecuteTime": {
     "end_time": "2022-08-03T10:19:23.978308Z",
     "start_time": "2022-08-03T10:19:23.964790Z"
    }
   },
   "outputs": [],
   "source": [
    "# 요일별 총 구매 수량이 2개를 초과하는 구매에 대해서 최대값과 최소값, 평균값 등을 비교하기 위해 상자 차트로 표시한다.\n",
    "# day_amt1[day_amt1['QTY'] > 2].boxplot()"
   ]
  },
  {
   "cell_type": "code",
   "execution_count": 38,
   "id": "8a752100",
   "metadata": {
    "ExecuteTime": {
     "end_time": "2022-08-03T10:19:24.025621Z",
     "start_time": "2022-08-03T10:19:23.979285Z"
    }
   },
   "outputs": [
    {
     "name": "stdout",
     "output_type": "stream",
     "text": [
      "<class 'pandas.core.frame.DataFrame'>\n",
      "RangeIndex: 275 entries, 0 to 274\n",
      "Data columns (total 5 columns):\n",
      " #   Column  Non-Null Count  Dtype\n",
      "---  ------  --------------  -----\n",
      " 0   LGROUP  275 non-null    int64\n",
      " 1   MGROUP  275 non-null    int64\n",
      " 2   SGROUP  275 non-null    int64\n",
      " 3   DGROUP  275 non-null    int64\n",
      " 4   QTY     275 non-null    int64\n",
      "dtypes: int64(5)\n",
      "memory usage: 10.9 KB\n"
     ]
    }
   ],
   "source": [
    "# 전체 고객의 구매수량 상위 100개의 세 분류 상품에 대하여 wordcloud 표현\n",
    "# 상품 분류 코드와 구매 수량 데이터만 추출한 다음 동일한 상품 분류 코드에 대한 누적 구매 수량을 구한다.\n",
    "dgroup1 = df[['LGROUP', 'MGROUP', 'SGROUP', 'DGROUP', 'QTY']]\n",
    "dgroup1.head()\n",
    "dgroup2 = dgroup1.groupby(['LGROUP', 'MGROUP', 'SGROUP',\n",
    "                           'DGROUP'])['QTY'].sum().reset_index()\n",
    "dgroup2.info()"
   ]
  },
  {
   "cell_type": "code",
   "execution_count": 39,
   "id": "3cd9f42b",
   "metadata": {
    "ExecuteTime": {
     "end_time": "2022-08-03T10:19:24.041389Z",
     "start_time": "2022-08-03T10:19:24.027382Z"
    }
   },
   "outputs": [],
   "source": [
    "# 조인을 하기 위해서, 4개의 상품 분류 코드를 하나의 문자열로 합친 다음 LMSD_ICODE 열에 저장한다.\n",
    "dgroup2['LMSD_ICODE'] = dgroup2['LGROUP'].astype(str) + \"|\" + dgroup2[\n",
    "    'MGROUP'].astype(str) + \"|\" + dgroup2['SGROUP'].astype(\n",
    "        str) + \"|\" + dgroup2['DGROUP'].astype(str)"
   ]
  },
  {
   "cell_type": "code",
   "execution_count": 40,
   "id": "9c682d0f",
   "metadata": {
    "ExecuteTime": {
     "end_time": "2022-08-03T10:19:24.072914Z",
     "start_time": "2022-08-03T10:19:24.043286Z"
    }
   },
   "outputs": [
    {
     "data": {
      "text/html": [
       "<div>\n",
       "<style scoped>\n",
       "    .dataframe tbody tr th:only-of-type {\n",
       "        vertical-align: middle;\n",
       "    }\n",
       "\n",
       "    .dataframe tbody tr th {\n",
       "        vertical-align: top;\n",
       "    }\n",
       "\n",
       "    .dataframe thead th {\n",
       "        text-align: right;\n",
       "    }\n",
       "</style>\n",
       "<table border=\"1\" class=\"dataframe\">\n",
       "  <thead>\n",
       "    <tr style=\"text-align: right;\">\n",
       "      <th></th>\n",
       "      <th>LGROUP</th>\n",
       "      <th>MGROUP</th>\n",
       "      <th>SGROUP</th>\n",
       "      <th>DGROUP</th>\n",
       "      <th>LGROUP_NAME</th>\n",
       "      <th>MGROUP_NAME</th>\n",
       "      <th>SGROUP_NAME</th>\n",
       "      <th>DGROUP_NAME</th>\n",
       "      <th>LMSD_CODE</th>\n",
       "      <th>LMSD_ICODE</th>\n",
       "    </tr>\n",
       "  </thead>\n",
       "  <tbody>\n",
       "    <tr>\n",
       "      <th>0</th>\n",
       "      <td>70</td>\n",
       "      <td>2</td>\n",
       "      <td>1</td>\n",
       "      <td>2</td>\n",
       "      <td>식품</td>\n",
       "      <td>신선식품/가공식품</td>\n",
       "      <td>간편/즉석식품</td>\n",
       "      <td>기타 간편/즉석식품</td>\n",
       "      <td>70020102</td>\n",
       "      <td>70|2|1|2</td>\n",
       "    </tr>\n",
       "    <tr>\n",
       "      <th>1</th>\n",
       "      <td>70</td>\n",
       "      <td>2</td>\n",
       "      <td>1</td>\n",
       "      <td>3</td>\n",
       "      <td>식품</td>\n",
       "      <td>신선식품/가공식품</td>\n",
       "      <td>간편/즉석식품</td>\n",
       "      <td>덮밥/덮밥소스</td>\n",
       "      <td>70020103</td>\n",
       "      <td>70|2|1|3</td>\n",
       "    </tr>\n",
       "    <tr>\n",
       "      <th>2</th>\n",
       "      <td>70</td>\n",
       "      <td>2</td>\n",
       "      <td>1</td>\n",
       "      <td>4</td>\n",
       "      <td>식품</td>\n",
       "      <td>신선식품/가공식품</td>\n",
       "      <td>간편/즉석식품</td>\n",
       "      <td>만두/딤섬</td>\n",
       "      <td>70020104</td>\n",
       "      <td>70|2|1|4</td>\n",
       "    </tr>\n",
       "    <tr>\n",
       "      <th>3</th>\n",
       "      <td>70</td>\n",
       "      <td>2</td>\n",
       "      <td>1</td>\n",
       "      <td>5</td>\n",
       "      <td>식품</td>\n",
       "      <td>신선식품/가공식품</td>\n",
       "      <td>간편/즉석식품</td>\n",
       "      <td>분말짜장/카레</td>\n",
       "      <td>70020105</td>\n",
       "      <td>70|2|1|5</td>\n",
       "    </tr>\n",
       "    <tr>\n",
       "      <th>4</th>\n",
       "      <td>70</td>\n",
       "      <td>2</td>\n",
       "      <td>1</td>\n",
       "      <td>6</td>\n",
       "      <td>식품</td>\n",
       "      <td>신선식품/가공식품</td>\n",
       "      <td>간편/즉석식품</td>\n",
       "      <td>샐러드</td>\n",
       "      <td>70020106</td>\n",
       "      <td>70|2|1|6</td>\n",
       "    </tr>\n",
       "  </tbody>\n",
       "</table>\n",
       "</div>"
      ],
      "text/plain": [
       "   LGROUP  MGROUP  SGROUP  DGROUP LGROUP_NAME MGROUP_NAME SGROUP_NAME  \\\n",
       "0      70       2       1       2          식품   신선식품/가공식품     간편/즉석식품   \n",
       "1      70       2       1       3          식품   신선식품/가공식품     간편/즉석식품   \n",
       "2      70       2       1       4          식품   신선식품/가공식품     간편/즉석식품   \n",
       "3      70       2       1       5          식품   신선식품/가공식품     간편/즉석식품   \n",
       "4      70       2       1       6          식품   신선식품/가공식품     간편/즉석식품   \n",
       "\n",
       "  DGROUP_NAME  LMSD_CODE LMSD_ICODE  \n",
       "0  기타 간편/즉석식품   70020102   70|2|1|2  \n",
       "1     덮밥/덮밥소스   70020103   70|2|1|3  \n",
       "2       만두/딤섬   70020104   70|2|1|4  \n",
       "3     분말짜장/카레   70020105   70|2|1|5  \n",
       "4         샐러드   70020106   70|2|1|6  "
      ]
     },
     "execution_count": 40,
     "metadata": {},
     "output_type": "execute_result"
    }
   ],
   "source": [
    "# 상품 분류 코드에 따른 분류 이름이 저장된 CSV 파일을 읽은 다음, 역시 조인을 하기 위해서, 4개의 상품 분류 코드를 하나의 문자열로 합친 다음 LMSD_ICODE 열에 저장한다. # nolint\n",
    "vhd = pd.read_csv(f\"{data_path}/VHD_GOODSKIND.csv\")\n",
    "vhd['LMSD_ICODE'] = vhd['LGROUP'].astype(str) + \"|\" + vhd['MGROUP'].astype(\n",
    "    str) + \"|\" + vhd['SGROUP'].astype(str) + \"|\" + vhd['DGROUP'].astype(str)\n",
    "vhd.head()"
   ]
  },
  {
   "cell_type": "code",
   "execution_count": 41,
   "id": "2b1dbe14",
   "metadata": {
    "ExecuteTime": {
     "end_time": "2022-08-03T10:19:24.088502Z",
     "start_time": "2022-08-03T10:19:24.073960Z"
    }
   },
   "outputs": [
    {
     "data": {
      "text/html": [
       "<div>\n",
       "<style scoped>\n",
       "    .dataframe tbody tr th:only-of-type {\n",
       "        vertical-align: middle;\n",
       "    }\n",
       "\n",
       "    .dataframe tbody tr th {\n",
       "        vertical-align: top;\n",
       "    }\n",
       "\n",
       "    .dataframe thead th {\n",
       "        text-align: right;\n",
       "    }\n",
       "</style>\n",
       "<table border=\"1\" class=\"dataframe\">\n",
       "  <thead>\n",
       "    <tr style=\"text-align: right;\">\n",
       "      <th></th>\n",
       "      <th>LGROUP</th>\n",
       "      <th>MGROUP</th>\n",
       "      <th>SGROUP</th>\n",
       "      <th>DGROUP</th>\n",
       "      <th>QTY</th>\n",
       "      <th>LMSD_ICODE</th>\n",
       "      <th>DGROUP_NAME</th>\n",
       "    </tr>\n",
       "  </thead>\n",
       "  <tbody>\n",
       "    <tr>\n",
       "      <th>45</th>\n",
       "      <td>10</td>\n",
       "      <td>14</td>\n",
       "      <td>11</td>\n",
       "      <td>3</td>\n",
       "      <td>27127</td>\n",
       "      <td>10|14|11|3</td>\n",
       "      <td>바지</td>\n",
       "    </tr>\n",
       "    <tr>\n",
       "      <th>140</th>\n",
       "      <td>50</td>\n",
       "      <td>1</td>\n",
       "      <td>2</td>\n",
       "      <td>4</td>\n",
       "      <td>23331</td>\n",
       "      <td>50|1|2|4</td>\n",
       "      <td>드라이버/전동드릴</td>\n",
       "    </tr>\n",
       "    <tr>\n",
       "      <th>239</th>\n",
       "      <td>80</td>\n",
       "      <td>2</td>\n",
       "      <td>9</td>\n",
       "      <td>4</td>\n",
       "      <td>21886</td>\n",
       "      <td>80|2|9|4</td>\n",
       "      <td>세차/외장/편의용품</td>\n",
       "    </tr>\n",
       "    <tr>\n",
       "      <th>136</th>\n",
       "      <td>50</td>\n",
       "      <td>1</td>\n",
       "      <td>1</td>\n",
       "      <td>1</td>\n",
       "      <td>19722</td>\n",
       "      <td>50|1|1|1</td>\n",
       "      <td>건강베개/숙면용품</td>\n",
       "    </tr>\n",
       "    <tr>\n",
       "      <th>46</th>\n",
       "      <td>10</td>\n",
       "      <td>14</td>\n",
       "      <td>11</td>\n",
       "      <td>4</td>\n",
       "      <td>15725</td>\n",
       "      <td>10|14|11|4</td>\n",
       "      <td>반팔</td>\n",
       "    </tr>\n",
       "  </tbody>\n",
       "</table>\n",
       "</div>"
      ],
      "text/plain": [
       "     LGROUP  MGROUP  SGROUP  DGROUP    QTY  LMSD_ICODE DGROUP_NAME\n",
       "45       10      14      11       3  27127  10|14|11|3          바지\n",
       "140      50       1       2       4  23331    50|1|2|4   드라이버/전동드릴\n",
       "239      80       2       9       4  21886    80|2|9|4  세차/외장/편의용품\n",
       "136      50       1       1       1  19722    50|1|1|1   건강베개/숙면용품\n",
       "46       10      14      11       4  15725  10|14|11|4          반팔"
      ]
     },
     "execution_count": 41,
     "metadata": {},
     "output_type": "execute_result"
    }
   ],
   "source": [
    "# 두 개의 데이터 프레임을 LMSD_ICODE 열을 기준으로 조인하여 합치고 구매수량 기준으로 내림차순 정렬을 한다.\n",
    "vhd2 = vhd[['LMSD_ICODE', 'DGROUP_NAME']]\n",
    "dgroup2 = pd.merge(dgroup2, vhd2, on='LMSD_ICODE')\n",
    "dgroup3 = dgroup2.sort_values(by=['QTY'], ascending=False)\n",
    "dgroup3.head()"
   ]
  },
  {
   "cell_type": "code",
   "execution_count": 42,
   "id": "f3246d74",
   "metadata": {
    "ExecuteTime": {
     "end_time": "2022-08-03T10:19:24.103922Z",
     "start_time": "2022-08-03T10:19:24.089501Z"
    }
   },
   "outputs": [
    {
     "data": {
      "text/plain": [
       "[27127, 23331, 21886, 19722, 15725]"
      ]
     },
     "execution_count": 42,
     "metadata": {},
     "output_type": "execute_result"
    }
   ],
   "source": [
    "# dgroup3에서 상위 100개의 합계만 추출하여 별도의 벡터로 만든다.\n",
    "vec1 = []\n",
    "for j in range(100):\n",
    "    vec1.append(dgroup3.iloc[j]['QTY'])\n",
    "\n",
    "vec1[:5]"
   ]
  },
  {
   "cell_type": "code",
   "execution_count": 99,
   "id": "b9a8f5c5",
   "metadata": {
    "ExecuteTime": {
     "end_time": "2022-08-03T10:37:04.761729Z",
     "start_time": "2022-08-03T10:37:04.262785Z"
    }
   },
   "outputs": [
    {
     "data": {
      "image/png": "[encoded data removed]",
      "text/plain": [
       "<Figure size 720x504 with 1 Axes>"
      ]
     },
     "metadata": {
      "needs_background": "light"
     },
     "output_type": "display_data"
    }
   ],
   "source": [
    "# wordcloud를 이용하여 상위 100개의 상품 세 분류 이름을 시각화 한다.\n",
    "products = {}\n",
    "for index, product in enumerate(dgroup3['DGROUP_NAME'][:100]):\n",
    "    if product not in products:\n",
    "        products[product] = vec1[index]\n",
    "\n",
    "palettes = 'Set1'\n",
    "wc = WordCloud(font_path='C:/Windows/Fonts/malgun.ttf',\n",
    "               colormap=palettes,\n",
    "               width=800,\n",
    "               height=600)\n",
    "cloud = wc.generate_from_frequencies(products)\n",
    "\n",
    "plt.figure(figsize=(10, 7))\n",
    "plt.axis('off')\n",
    "plt.tight_layout(pad=1)\n",
    "plt.imshow(cloud)\n",
    "plt.show()"
   ]
  },
  {
   "cell_type": "code",
   "execution_count": 44,
   "id": "e81a7e93",
   "metadata": {
    "ExecuteTime": {
     "end_time": "2022-08-03T10:19:25.108664Z",
     "start_time": "2022-08-03T10:19:24.607937Z"
    }
   },
   "outputs": [
    {
     "name": "stdout",
     "output_type": "stream",
     "text": [
      "<class 'pandas.core.frame.DataFrame'>\n",
      "Int64Index: 143107 entries, 0 to 143106\n",
      "Data columns (total 20 columns):\n",
      " #   Column          Non-Null Count   Dtype \n",
      "---  ------          --------------   ----- \n",
      " 0   CUST_SERIAL_NO  143107 non-null  int64 \n",
      " 1   SEX             143107 non-null  object\n",
      " 2   AGE             143107 non-null  object\n",
      " 3   REG_DATE        143107 non-null  object\n",
      " 4   ORDER_DATE      143107 non-null  object\n",
      " 5   ORDER_HOUR      143107 non-null  object\n",
      " 6   ORDER_WEEKDAY   143107 non-null  object\n",
      " 7   IS_WEEKEND      143107 non-null  object\n",
      " 8   GOODS_CODE      143107 non-null  int64 \n",
      " 9   LGROUP          143107 non-null  int64 \n",
      " 10  MGROUP          143107 non-null  int64 \n",
      " 11  SGROUP          143107 non-null  int64 \n",
      " 12  DGROUP          143107 non-null  int64 \n",
      " 13  GOODS_NAME      143107 non-null  object\n",
      " 14  PRICE           143107 non-null  int64 \n",
      " 15  QTY             143107 non-null  int64 \n",
      " 16  month           143107 non-null  int64 \n",
      " 17  ID              143107 non-null  object\n",
      " 18  LMSD_ICODE      143107 non-null  object\n",
      " 19  DGROUP_NAME     143107 non-null  object\n",
      "dtypes: int64(9), object(11)\n",
      "memory usage: 22.9+ MB\n"
     ]
    }
   ],
   "source": [
    "# 연관성 분석을 통한 상품 추천\n",
    "# 구매 내역 중 \"패션/잡화\"와 \"뷰티\" 대분류에 대한 연관성을 분석한다.\n",
    "# LGROUP이 10(패션/잡화)이거나 20(뷰티)인 항목을 추출하여 anal_df에 저장한다. 고객 번호와 구매 월, 구매 요일을 이용하여 ID를 생성하고 조인을 위해 LMSD_ICODE도 추가한다.  # nolint\n",
    "anal_df = df[(df['LGROUP'] == 10) | (df['LGROUP'] == 20)]\n",
    "anal_df['month'] = pd.DatetimeIndex(anal_df['ORDER_DATE']).month\n",
    "\n",
    "anal_df['ID'] = anal_df['CUST_SERIAL_NO'].astype(str) + ' ' + anal_df[\n",
    "    'month'].astype(str) + ' ' + anal_df['ORDER_WEEKDAY'].astype(str) + ' _'\n",
    "\n",
    "anal_df['LMSD_ICODE'] = anal_df['LGROUP'].astype(str) + \"|\" + anal_df[\n",
    "    'MGROUP'].astype(str) + \"|\" + anal_df['SGROUP'].astype(\n",
    "        str) + \"|\" + anal_df['DGROUP'].astype(str)\n",
    "\n",
    "anal_df = pd.merge(anal_df, vhd2, on=\"LMSD_ICODE\")\n",
    "anal_df.info()"
   ]
  },
  {
   "cell_type": "code",
   "execution_count": 45,
   "id": "387d80db",
   "metadata": {
    "ExecuteTime": {
     "end_time": "2022-08-03T10:19:25.155524Z",
     "start_time": "2022-08-03T10:19:25.109690Z"
    }
   },
   "outputs": [],
   "source": [
    "# 분석을 위한 변수들을 선택한다.\n",
    "anal_df = anal_df[[\"ID\", \"DGROUP_NAME\"]]"
   ]
  },
  {
   "cell_type": "code",
   "execution_count": 46,
   "id": "48630ca8",
   "metadata": {
    "ExecuteTime": {
     "end_time": "2022-08-03T10:23:24.559550Z",
     "start_time": "2022-08-03T10:19:25.157524Z"
    }
   },
   "outputs": [
    {
     "name": "stderr",
     "output_type": "stream",
     "text": [
      "100%|███████████████████████████████████████████| 60000/60000 [03:59<00:00, 250.66it/s]\n"
     ]
    },
    {
     "data": {
      "text/plain": [
       "[['남성세트'], ['남성세트'], ['남성세트'], ['남성세트'], ['남성세트']]"
      ]
     },
     "execution_count": 46,
     "metadata": {},
     "output_type": "execute_result"
    }
   ],
   "source": [
    "# 연관성 분석을 위해서 리스트 형식으로 변환 한다.\n",
    "uni_id = list(pd.unique(anal_df['ID']))\n",
    "records = []\n",
    "for _id in tqdm(uni_id[:60000]):\n",
    "    dname = list(anal_df[anal_df['ID'].isin([_id])]['DGROUP_NAME'])\n",
    "    records.append(dname)\n",
    "\n",
    "records[:5]"
   ]
  },
  {
   "cell_type": "code",
   "execution_count": 47,
   "id": "93dbbc8e",
   "metadata": {
    "ExecuteTime": {
     "end_time": "2022-08-03T10:23:24.606336Z",
     "start_time": "2022-08-03T10:23:24.561644Z"
    }
   },
   "outputs": [
    {
     "data": {
      "text/html": [
       "<div>\n",
       "<style scoped>\n",
       "    .dataframe tbody tr th:only-of-type {\n",
       "        vertical-align: middle;\n",
       "    }\n",
       "\n",
       "    .dataframe tbody tr th {\n",
       "        vertical-align: top;\n",
       "    }\n",
       "\n",
       "    .dataframe thead th {\n",
       "        text-align: right;\n",
       "    }\n",
       "</style>\n",
       "<table border=\"1\" class=\"dataframe\">\n",
       "  <thead>\n",
       "    <tr style=\"text-align: right;\">\n",
       "      <th></th>\n",
       "      <th>고데기/아이론</th>\n",
       "      <th>골프팬츠</th>\n",
       "      <th>기능성웨어</th>\n",
       "      <th>기모팬츠</th>\n",
       "      <th>기타</th>\n",
       "      <th>남성내복(세트)</th>\n",
       "      <th>남성세트</th>\n",
       "      <th>노와이어 브라팬티세트</th>\n",
       "      <th>니트/가디건셋트</th>\n",
       "      <th>등산화</th>\n",
       "      <th>...</th>\n",
       "      <th>크림(영양/탄력/리프팅)</th>\n",
       "      <th>토트백</th>\n",
       "      <th>파우더/팩트/트윈케익</th>\n",
       "      <th>패션가발</th>\n",
       "      <th>패턴/스트라이프니트</th>\n",
       "      <th>팩/마스크</th>\n",
       "      <th>팬티</th>\n",
       "      <th>피부&amp;바디마사지/관리기</th>\n",
       "      <th>헤어젤/스프레이</th>\n",
       "      <th>효도/컴포트화</th>\n",
       "    </tr>\n",
       "  </thead>\n",
       "  <tbody>\n",
       "    <tr>\n",
       "      <th>0</th>\n",
       "      <td>0</td>\n",
       "      <td>0</td>\n",
       "      <td>0</td>\n",
       "      <td>0</td>\n",
       "      <td>0</td>\n",
       "      <td>0</td>\n",
       "      <td>True</td>\n",
       "      <td>0</td>\n",
       "      <td>0</td>\n",
       "      <td>0</td>\n",
       "      <td>...</td>\n",
       "      <td>0</td>\n",
       "      <td>0</td>\n",
       "      <td>0</td>\n",
       "      <td>0</td>\n",
       "      <td>0</td>\n",
       "      <td>0</td>\n",
       "      <td>0</td>\n",
       "      <td>0</td>\n",
       "      <td>0</td>\n",
       "      <td>0</td>\n",
       "    </tr>\n",
       "    <tr>\n",
       "      <th>1</th>\n",
       "      <td>0</td>\n",
       "      <td>0</td>\n",
       "      <td>0</td>\n",
       "      <td>0</td>\n",
       "      <td>0</td>\n",
       "      <td>0</td>\n",
       "      <td>True</td>\n",
       "      <td>0</td>\n",
       "      <td>0</td>\n",
       "      <td>0</td>\n",
       "      <td>...</td>\n",
       "      <td>0</td>\n",
       "      <td>0</td>\n",
       "      <td>0</td>\n",
       "      <td>0</td>\n",
       "      <td>0</td>\n",
       "      <td>0</td>\n",
       "      <td>0</td>\n",
       "      <td>0</td>\n",
       "      <td>0</td>\n",
       "      <td>0</td>\n",
       "    </tr>\n",
       "    <tr>\n",
       "      <th>2</th>\n",
       "      <td>0</td>\n",
       "      <td>0</td>\n",
       "      <td>0</td>\n",
       "      <td>0</td>\n",
       "      <td>0</td>\n",
       "      <td>0</td>\n",
       "      <td>True</td>\n",
       "      <td>0</td>\n",
       "      <td>0</td>\n",
       "      <td>0</td>\n",
       "      <td>...</td>\n",
       "      <td>0</td>\n",
       "      <td>0</td>\n",
       "      <td>0</td>\n",
       "      <td>0</td>\n",
       "      <td>0</td>\n",
       "      <td>0</td>\n",
       "      <td>0</td>\n",
       "      <td>0</td>\n",
       "      <td>0</td>\n",
       "      <td>0</td>\n",
       "    </tr>\n",
       "    <tr>\n",
       "      <th>3</th>\n",
       "      <td>0</td>\n",
       "      <td>0</td>\n",
       "      <td>0</td>\n",
       "      <td>0</td>\n",
       "      <td>0</td>\n",
       "      <td>0</td>\n",
       "      <td>True</td>\n",
       "      <td>0</td>\n",
       "      <td>0</td>\n",
       "      <td>0</td>\n",
       "      <td>...</td>\n",
       "      <td>0</td>\n",
       "      <td>0</td>\n",
       "      <td>0</td>\n",
       "      <td>0</td>\n",
       "      <td>0</td>\n",
       "      <td>0</td>\n",
       "      <td>0</td>\n",
       "      <td>0</td>\n",
       "      <td>0</td>\n",
       "      <td>0</td>\n",
       "    </tr>\n",
       "    <tr>\n",
       "      <th>4</th>\n",
       "      <td>0</td>\n",
       "      <td>0</td>\n",
       "      <td>0</td>\n",
       "      <td>0</td>\n",
       "      <td>0</td>\n",
       "      <td>0</td>\n",
       "      <td>True</td>\n",
       "      <td>0</td>\n",
       "      <td>0</td>\n",
       "      <td>0</td>\n",
       "      <td>...</td>\n",
       "      <td>0</td>\n",
       "      <td>0</td>\n",
       "      <td>0</td>\n",
       "      <td>0</td>\n",
       "      <td>0</td>\n",
       "      <td>0</td>\n",
       "      <td>0</td>\n",
       "      <td>0</td>\n",
       "      <td>0</td>\n",
       "      <td>0</td>\n",
       "    </tr>\n",
       "  </tbody>\n",
       "</table>\n",
       "<p>5 rows × 53 columns</p>\n",
       "</div>"
      ],
      "text/plain": [
       "   고데기/아이론  골프팬츠  기능성웨어  기모팬츠  기타  남성내복(세트)  남성세트  노와이어 브라팬티세트  니트/가디건셋트  등산화  \\\n",
       "0        0     0      0     0   0         0  True            0         0    0   \n",
       "1        0     0      0     0   0         0  True            0         0    0   \n",
       "2        0     0      0     0   0         0  True            0         0    0   \n",
       "3        0     0      0     0   0         0  True            0         0    0   \n",
       "4        0     0      0     0   0         0  True            0         0    0   \n",
       "\n",
       "   ...  크림(영양/탄력/리프팅)  토트백  파우더/팩트/트윈케익  패션가발  패턴/스트라이프니트  팩/마스크  팬티  \\\n",
       "0  ...              0    0            0     0           0      0   0   \n",
       "1  ...              0    0            0     0           0      0   0   \n",
       "2  ...              0    0            0     0           0      0   0   \n",
       "3  ...              0    0            0     0           0      0   0   \n",
       "4  ...              0    0            0     0           0      0   0   \n",
       "\n",
       "   피부&바디마사지/관리기  헤어젤/스프레이  효도/컴포트화  \n",
       "0             0         0        0  \n",
       "1             0         0        0  \n",
       "2             0         0        0  \n",
       "3             0         0        0  \n",
       "4             0         0        0  \n",
       "\n",
       "[5 rows x 53 columns]"
      ]
     },
     "execution_count": 47,
     "metadata": {},
     "output_type": "execute_result"
    }
   ],
   "source": [
    "te = TransactionEncoder()\n",
    "te_ary = te.fit_transform(records, sparse=True)\n",
    "te_df = pd.DataFrame.sparse.from_spmatrix(te_ary, columns=te.columns_)\n",
    "te_df.head()"
   ]
  },
  {
   "cell_type": "code",
   "execution_count": 90,
   "id": "1f3ad971",
   "metadata": {
    "ExecuteTime": {
     "end_time": "2022-08-03T10:35:52.400858Z",
     "start_time": "2022-08-03T10:35:52.308788Z"
    }
   },
   "outputs": [
    {
     "name": "stdout",
     "output_type": "stream",
     "text": [
      "\r",
      "Processing 600 combinations | Sampling itemset size 2\r",
      "Processing 24 combinations | Sampling itemset size 3\n"
     ]
    }
   ],
   "source": [
    "# apriori() 함수를 사용하여 연관성 분석을 수행한다. 분석 결과를 적절하게 도출하려면 support 값과 confidence 값을 조절하면서 분석을 수행해야 한다. # nolint\n",
    "frequent_itemset = apriori(te_df,\n",
    "                           min_support=0.0005,\n",
    "                           use_colnames=True,\n",
    "                           verbose=1)\n",
    "frequent_itemset['length'] = frequent_itemset['itemsets'].map(lambda x: len(x))\n",
    "frequent_itemset.sort_values('support', ascending=True, inplace=True)"
   ]
  },
  {
   "cell_type": "code",
   "execution_count": 91,
   "id": "2798d00a",
   "metadata": {
    "ExecuteTime": {
     "end_time": "2022-08-03T10:35:54.739323Z",
     "start_time": "2022-08-03T10:35:54.732323Z"
    }
   },
   "outputs": [
    {
     "data": {
      "text/html": [
       "<div>\n",
       "<style scoped>\n",
       "    .dataframe tbody tr th:only-of-type {\n",
       "        vertical-align: middle;\n",
       "    }\n",
       "\n",
       "    .dataframe tbody tr th {\n",
       "        vertical-align: top;\n",
       "    }\n",
       "\n",
       "    .dataframe thead th {\n",
       "        text-align: right;\n",
       "    }\n",
       "</style>\n",
       "<table border=\"1\" class=\"dataframe\">\n",
       "  <thead>\n",
       "    <tr style=\"text-align: right;\">\n",
       "      <th></th>\n",
       "      <th>support</th>\n",
       "      <th>itemsets</th>\n",
       "      <th>length</th>\n",
       "    </tr>\n",
       "  </thead>\n",
       "  <tbody>\n",
       "    <tr>\n",
       "      <th>28</th>\n",
       "      <td>0.000517</td>\n",
       "      <td>(등산화, 선글라스)</td>\n",
       "      <td>2</td>\n",
       "    </tr>\n",
       "    <tr>\n",
       "      <th>30</th>\n",
       "      <td>0.000550</td>\n",
       "      <td>(반팔, 선글라스)</td>\n",
       "      <td>2</td>\n",
       "    </tr>\n",
       "    <tr>\n",
       "      <th>24</th>\n",
       "      <td>0.000550</td>\n",
       "      <td>(효도/컴포트화)</td>\n",
       "      <td>1</td>\n",
       "    </tr>\n",
       "    <tr>\n",
       "      <th>25</th>\n",
       "      <td>0.000600</td>\n",
       "      <td>(바지, 기타)</td>\n",
       "      <td>2</td>\n",
       "    </tr>\n",
       "    <tr>\n",
       "      <th>29</th>\n",
       "      <td>0.000767</td>\n",
       "      <td>(라운드넥티셔츠, 라운드넥)</td>\n",
       "      <td>2</td>\n",
       "    </tr>\n",
       "  </tbody>\n",
       "</table>\n",
       "</div>"
      ],
      "text/plain": [
       "     support         itemsets  length\n",
       "28  0.000517      (등산화, 선글라스)       2\n",
       "30  0.000550       (반팔, 선글라스)       2\n",
       "24  0.000550        (효도/컴포트화)       1\n",
       "25  0.000600         (바지, 기타)       2\n",
       "29  0.000767  (라운드넥티셔츠, 라운드넥)       2"
      ]
     },
     "execution_count": 91,
     "metadata": {},
     "output_type": "execute_result"
    }
   ],
   "source": [
    "frequent_itemset[:5]"
   ]
  },
  {
   "cell_type": "code",
   "execution_count": 92,
   "id": "8f18a4c6",
   "metadata": {
    "ExecuteTime": {
     "end_time": "2022-08-03T10:35:56.420451Z",
     "start_time": "2022-08-03T10:35:56.404936Z"
    }
   },
   "outputs": [],
   "source": [
    "association_rules_df = association_rules(\n",
    "    frequent_itemset,\n",
    "    metric='confidence',\n",
    "    min_threshold=0.0005,\n",
    ")"
   ]
  },
  {
   "cell_type": "code",
   "execution_count": 93,
   "id": "1c416232",
   "metadata": {
    "ExecuteTime": {
     "end_time": "2022-08-03T10:35:56.854578Z",
     "start_time": "2022-08-03T10:35:56.840580Z"
    }
   },
   "outputs": [
    {
     "data": {
      "text/html": [
       "<div>\n",
       "<style scoped>\n",
       "    .dataframe tbody tr th:only-of-type {\n",
       "        vertical-align: middle;\n",
       "    }\n",
       "\n",
       "    .dataframe tbody tr th {\n",
       "        vertical-align: top;\n",
       "    }\n",
       "\n",
       "    .dataframe thead th {\n",
       "        text-align: right;\n",
       "    }\n",
       "</style>\n",
       "<table border=\"1\" class=\"dataframe\">\n",
       "  <thead>\n",
       "    <tr style=\"text-align: right;\">\n",
       "      <th></th>\n",
       "      <th>antecedents</th>\n",
       "      <th>consequents</th>\n",
       "      <th>antecedent support</th>\n",
       "      <th>consequent support</th>\n",
       "      <th>support</th>\n",
       "      <th>confidence</th>\n",
       "      <th>lift</th>\n",
       "      <th>leverage</th>\n",
       "      <th>conviction</th>\n",
       "    </tr>\n",
       "  </thead>\n",
       "  <tbody>\n",
       "    <tr>\n",
       "      <th>0</th>\n",
       "      <td>(등산화)</td>\n",
       "      <td>(선글라스)</td>\n",
       "      <td>0.175783</td>\n",
       "      <td>0.184767</td>\n",
       "      <td>0.000517</td>\n",
       "      <td>0.002939</td>\n",
       "      <td>0.015908</td>\n",
       "      <td>-0.031962</td>\n",
       "      <td>0.817637</td>\n",
       "    </tr>\n",
       "    <tr>\n",
       "      <th>1</th>\n",
       "      <td>(선글라스)</td>\n",
       "      <td>(등산화)</td>\n",
       "      <td>0.184767</td>\n",
       "      <td>0.175783</td>\n",
       "      <td>0.000517</td>\n",
       "      <td>0.002796</td>\n",
       "      <td>0.015908</td>\n",
       "      <td>-0.031962</td>\n",
       "      <td>0.826528</td>\n",
       "    </tr>\n",
       "    <tr>\n",
       "      <th>2</th>\n",
       "      <td>(반팔)</td>\n",
       "      <td>(선글라스)</td>\n",
       "      <td>0.007000</td>\n",
       "      <td>0.184767</td>\n",
       "      <td>0.000550</td>\n",
       "      <td>0.078571</td>\n",
       "      <td>0.425247</td>\n",
       "      <td>-0.000743</td>\n",
       "      <td>0.884749</td>\n",
       "    </tr>\n",
       "    <tr>\n",
       "      <th>3</th>\n",
       "      <td>(선글라스)</td>\n",
       "      <td>(반팔)</td>\n",
       "      <td>0.184767</td>\n",
       "      <td>0.007000</td>\n",
       "      <td>0.000550</td>\n",
       "      <td>0.002977</td>\n",
       "      <td>0.425247</td>\n",
       "      <td>-0.000743</td>\n",
       "      <td>0.995965</td>\n",
       "    </tr>\n",
       "    <tr>\n",
       "      <th>4</th>\n",
       "      <td>(바지)</td>\n",
       "      <td>(기타)</td>\n",
       "      <td>0.003217</td>\n",
       "      <td>0.072233</td>\n",
       "      <td>0.000600</td>\n",
       "      <td>0.186528</td>\n",
       "      <td>2.582305</td>\n",
       "      <td>0.000368</td>\n",
       "      <td>1.140503</td>\n",
       "    </tr>\n",
       "  </tbody>\n",
       "</table>\n",
       "</div>"
      ],
      "text/plain": [
       "  antecedents consequents  antecedent support  consequent support   support  \\\n",
       "0       (등산화)      (선글라스)            0.175783            0.184767  0.000517   \n",
       "1      (선글라스)       (등산화)            0.184767            0.175783  0.000517   \n",
       "2        (반팔)      (선글라스)            0.007000            0.184767  0.000550   \n",
       "3      (선글라스)        (반팔)            0.184767            0.007000  0.000550   \n",
       "4        (바지)        (기타)            0.003217            0.072233  0.000600   \n",
       "\n",
       "   confidence      lift  leverage  conviction  \n",
       "0    0.002939  0.015908 -0.031962    0.817637  \n",
       "1    0.002796  0.015908 -0.031962    0.826528  \n",
       "2    0.078571  0.425247 -0.000743    0.884749  \n",
       "3    0.002977  0.425247 -0.000743    0.995965  \n",
       "4    0.186528  2.582305  0.000368    1.140503  "
      ]
     },
     "execution_count": 93,
     "metadata": {},
     "output_type": "execute_result"
    }
   ],
   "source": [
    "association_rules_df[:5]"
   ]
  },
  {
   "cell_type": "code",
   "execution_count": 94,
   "id": "174e22f0",
   "metadata": {
    "ExecuteTime": {
     "end_time": "2022-08-03T10:35:57.578379Z",
     "start_time": "2022-08-03T10:35:57.500017Z"
    }
   },
   "outputs": [
    {
     "data": {
      "image/png": "[encoded data removed]",
      "text/plain": [
       "<Figure size 1080x720 with 1 Axes>"
      ]
     },
     "metadata": {
      "needs_background": "light"
     },
     "output_type": "display_data"
    }
   ],
   "source": [
    "# 78개의 룰에 대한 분석 결과를 시각화 한다.\n",
    "support = association_rules_df['support']\n",
    "confidence = association_rules_df['confidence']\n",
    "\n",
    "plt.figure(figsize=(15, 10))\n",
    "scatter = plt.scatter(support, confidence)\n",
    "plt.xlabel('support')\n",
    "plt.ylabel('confidence')\n",
    "plt.show()"
   ]
  },
  {
   "cell_type": "code",
   "execution_count": 95,
   "id": "c0998c33",
   "metadata": {
    "ExecuteTime": {
     "end_time": "2022-08-03T10:35:58.627769Z",
     "start_time": "2022-08-03T10:35:58.548821Z"
    }
   },
   "outputs": [
    {
     "data": {
      "image/png": "[encoded data removed]",
      "text/plain": [
       "<Figure size 720x504 with 1 Axes>"
      ]
     },
     "metadata": {},
     "output_type": "display_data"
    }
   ],
   "source": [
    "# 각 상품에 대한 연관성을 관계도를 이용하여 보여준다. 이를 통해서 대분류별 1회 구매 시에 구매 특성을 알 수 있다.\n",
    "# plot(arules_result, method=\"graph\", control=list(type=\"items\"))\n",
    "g = nx.Graph()\n",
    "g = nx.from_pandas_edgelist(association_rules_df,\n",
    "                            source='antecedents',\n",
    "                            target='consequents')\n",
    "\n",
    "plt.figure(figsize=(10, 7))\n",
    "pos = nx.spring_layout(g, k=0.15)\n",
    "nx.draw_networkx(g,\n",
    "                 pos,\n",
    "                 node_size=25,\n",
    "                 node_color='blue',\n",
    "                 font_family='NanumGothic')\n",
    "plt.show()"
   ]
  },
  {
   "cell_type": "code",
   "execution_count": 96,
   "id": "7fd41281",
   "metadata": {
    "ExecuteTime": {
     "end_time": "2022-08-03T10:35:59.248961Z",
     "start_time": "2022-08-03T10:35:59.236673Z"
    }
   },
   "outputs": [],
   "source": [
    "# 연관성 분석 결과를 CSV 파일로 저장한다.\n",
    "association_rules_df.to_csv('result.csv')"
   ]
  },
  {
   "cell_type": "code",
   "execution_count": 97,
   "id": "5b884303",
   "metadata": {
    "ExecuteTime": {
     "end_time": "2022-08-03T10:36:00.735361Z",
     "start_time": "2022-08-03T10:36:00.716847Z"
    }
   },
   "outputs": [],
   "source": [
    "# 등산화 한가지 분류에 대한 룰을 선택하여 시각화\n",
    "# 연관성 분석을 수행한 결과 만들어지는 arules_result에서 등산화 관련 부분만 추출한다.\n",
    "test = association_rules_df[\n",
    "    association_rules_df['antecedents'].astype(str).str.contains('등산화')\n",
    "    | association_rules_df['consequents'].astype(str).str.contains('등산화')]"
   ]
  },
  {
   "cell_type": "code",
   "execution_count": 98,
   "id": "269b162a",
   "metadata": {
    "ExecuteTime": {
     "end_time": "2022-08-03T10:36:01.342793Z",
     "start_time": "2022-08-03T10:36:01.268735Z"
    }
   },
   "outputs": [
    {
     "data": {
      "image/png": "[encoded data removed]",
      "text/plain": [
       "<Figure size 720x504 with 1 Axes>"
      ]
     },
     "metadata": {},
     "output_type": "display_data"
    }
   ],
   "source": [
    "# 반팔이나 바지를 구매한 고객은 등산화도 같이 구매하는 연관성을 도출했다. 따라서, 향후 고객들이 반팔이나 바지를 구매할 때 등산화 구매를 추천해줄 수 있다. # nolint\n",
    "g = nx.Graph()\n",
    "g = nx.from_pandas_edgelist(test, source='antecedents', target='consequents')\n",
    "\n",
    "plt.figure(figsize=(10, 7))\n",
    "pos = nx.spring_layout(g, k=0.15)\n",
    "nx.draw_networkx(g,\n",
    "                 pos,\n",
    "                 node_size=25,\n",
    "                 node_color='blue',\n",
    "                 font_family='NanumGothic')\n",
    "plt.show()"
   ]
  }
 ],
 "metadata": {
  "kernelspec": {
   "display_name": "Python 3 (ipykernel)",
   "language": "python",
   "name": "python3"
  },
  "language_info": {
   "codemirror_mode": {
    "name": "ipython",
    "version": 3
   },
   "file_extension": ".py",
   "mimetype": "text/x-python",
   "name": "python",
   "nbconvert_exporter": "python",
   "pygments_lexer": "ipython3",
   "version": "3.7.13"
  },
  "toc": {
   "base_numbering": 1,
   "nav_menu": {},
   "number_sections": true,
   "sideBar": true,
   "skip_h1_title": false,
   "title_cell": "Table of Contents",
   "title_sidebar": "Contents",
   "toc_cell": false,
   "toc_position": {},
   "toc_section_display": true,
   "toc_window_display": false
  },
  "varInspector": {
   "cols": {
    "lenName": 16,
    "lenType": 16,
    "lenVar": 40
   },
   "kernels_config": {
    "python": {
     "delete_cmd_postfix": "",
     "delete_cmd_prefix": "del ",
     "library": "var_list.py",
     "varRefreshCmd": "print(var_dic_list())"
    },
    "r": {
     "delete_cmd_postfix": ") ",
     "delete_cmd_prefix": "rm(",
     "library": "var_list.r",
     "varRefreshCmd": "cat(var_dic_list()) "
    }
   },
   "types_to_exclude": [
    "module",
    "function",
    "builtin_function_or_method",
    "instance",
    "_Feature"
   ],
   "window_display": false
  }
 },
 "nbformat": 4,
 "nbformat_minor": 5
}
