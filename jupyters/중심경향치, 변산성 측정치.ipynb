{
 "cells": [
  {
   "cell_type": "markdown",
   "id": "850bb801",
   "metadata": {},
   "source": [
    "# 중심경향치(central tendency measures)\n",
    "\n",
    "- 자료의 중심을 나타내는 숫자\n",
    "- 자료 전체를 대표\n",
    "- 평균, 중간값, 최빈값 등이 있다."
   ]
  },
  {
   "cell_type": "markdown",
   "id": "eb80649f",
   "metadata": {},
   "source": [
    "## 산술평균\n",
    "\n",
    "- 평균(mean): 자료의 합을 자료의 갯수로 나눈 값"
   ]
  },
  {
   "cell_type": "markdown",
   "id": "ecf2611e",
   "metadata": {},
   "source": [
    "## 중간값\n",
    "\n",
    "- 중간값(median): 자료를 크기 순으로 정렬했을 때 정 가운데 있는 값\n",
    "- 자료의 상위 50%와 하위 50%를 가르는 지점\n",
    "- '중앙값' 또는 '중위수'라고도 한다."
   ]
  },
  {
   "cell_type": "markdown",
   "id": "c32ed6bd",
   "metadata": {},
   "source": [
    "## 최빈값\n",
    "\n",
    "- 최빈값(mode): 가장 빈번하게 관찰/측정되는 값"
   ]
  },
  {
   "cell_type": "code",
   "execution_count": 2,
   "id": "71fe22ed",
   "metadata": {
    "ExecuteTime": {
     "end_time": "2022-06-29T06:44:07.094608Z",
     "start_time": "2022-06-29T06:44:07.076643Z"
    }
   },
   "outputs": [
    {
     "data": {
      "text/plain": [
       "ModeResult(mode=array([100]), count=array([2]))"
      ]
     },
     "execution_count": 2,
     "metadata": {},
     "output_type": "execute_result"
    }
   ],
   "source": [
    "from scipy.stats import mode\n",
    "\n",
    "x = [100, 100, 200, 400, 500]\n",
    "mode(x)"
   ]
  },
  {
   "cell_type": "code",
   "execution_count": 17,
   "id": "2f41bbb8",
   "metadata": {
    "ExecuteTime": {
     "end_time": "2022-06-29T06:56:58.413956Z",
     "start_time": "2022-06-29T06:56:58.404395Z"
    }
   },
   "outputs": [
    {
     "data": {
      "text/plain": [
       "1"
      ]
     },
     "execution_count": 17,
     "metadata": {},
     "output_type": "execute_result"
    }
   ],
   "source": [
    "import numpy as np\n",
    "\n",
    "a = [0, 1, 2, 3, 1, 1, 1, 2, 1, 1, 1, 2, 1, 1, 1, 2, 1, 1, 1]\n",
    "\n",
    "re = np.unique(a, return_counts=True)\n",
    "max_index = list(re[1]).index(np.max(re[1]))\n",
    "re[0][max_index]"
   ]
  },
  {
   "cell_type": "markdown",
   "id": "f225966c",
   "metadata": {},
   "source": [
    "# 변산성 측정치(분산, 표준편차, 범위, 사분위간 범위)\n",
    "\n",
    "- 변산성(variability): 자료가 흩어져 있는 정도, 혹은 개체에 따라 변할 수 있는 정도\n",
    "- 중심경향치가 자료가 무엇을 중심으로 모여있는가(혹은 흩어져 있는가)를 나타내는 것이라면,\n",
    "- 변산성 측정치는, 그 모여있는 정도(혹은 흩어져 있는 정도)를 의미함"
   ]
  },
  {
   "cell_type": "markdown",
   "id": "92b3d066",
   "metadata": {},
   "source": [
    "## 범위(range)\n",
    "\n",
    "- 자료가 갖는 최댓값과 최소값 사이의 거리, 즉 자료가 얼마나 퍼져있는가를 나타냄\n",
    "- 범위 = 최댓값 - 최솟값 "
   ]
  },
  {
   "cell_type": "markdown",
   "id": "aae2934b",
   "metadata": {},
   "source": [
    "## 분산\n",
    "\n",
    "- 평균에서 데이터가 벗어난 정도를 수치화한 값\n",
    "- 각각의 데이터에서 평균값을 빼고, 그것을 제곱하여 평균을 구함\n",
    "- 분산이 크면: 데이터가 평균에서 많이 벗어나 있다.\n",
    "- 분산이 작으면: 데이터가 평균 주변에 모여 있다.\n",
    "\n",
    "### 분산성 측정\n",
    "\n",
    "- 데이터의 퍼짐정도\n",
    "- 편차(평균과 값의 차이)\n",
    "- 분산(평균과 값의 차이를 제곱한 자료의 합의 평균)\n",
    "- 표준편차(분산 ** 0.5 또는 루트(분산)"
   ]
  },
  {
   "cell_type": "code",
   "execution_count": 23,
   "id": "88d397d8",
   "metadata": {
    "ExecuteTime": {
     "end_time": "2022-06-29T07:13:23.980548Z",
     "start_time": "2022-06-29T07:13:23.970590Z"
    }
   },
   "outputs": [
    {
     "data": {
      "text/plain": [
       "(17.5, 18.75, 4.330127018922194, 4.330127018922194)"
      ]
     },
     "execution_count": 23,
     "metadata": {},
     "output_type": "execute_result"
    }
   ],
   "source": [
    "a = [20, 10, 20, 20]\n",
    "# 평균, 분산, 편차\n",
    "np.mean(a), np.var(a), np.std(a), np.var(a)**.5"
   ]
  },
  {
   "cell_type": "code",
   "execution_count": 24,
   "id": "83b073f1",
   "metadata": {
    "ExecuteTime": {
     "end_time": "2022-06-29T07:13:25.100517Z",
     "start_time": "2022-06-29T07:13:25.088631Z"
    }
   },
   "outputs": [
    {
     "data": {
      "text/plain": [
       "(17.5, 277.25, 16.650825805346713, 16.650825805346713)"
      ]
     },
     "execution_count": 24,
     "metadata": {},
     "output_type": "execute_result"
    }
   ],
   "source": [
    "a = [1, 27, 2, 40]\n",
    "# 평균, 분산, 편차\n",
    "np.mean(a), np.var(a), np.std(a), np.var(a)**.5"
   ]
  },
  {
   "cell_type": "code",
   "execution_count": 40,
   "id": "82de5135",
   "metadata": {
    "ExecuteTime": {
     "end_time": "2022-06-29T07:24:05.100791Z",
     "start_time": "2022-06-29T07:24:05.088730Z"
    }
   },
   "outputs": [
    {
     "name": "stdout",
     "output_type": "stream",
     "text": [
      "6.0 6.0\n",
      "8.0 8.0\n"
     ]
    }
   ],
   "source": [
    "# 모집단(n개) 표본집단(n-1개)\n",
    "# var, std할 때, 넘파이는 기본 모집단 판다스는 기본 표본집단\n",
    "# ddof 옵션에서 모집단, 표본집단 선택가능함\n",
    "\n",
    "# var에서 ddof=0은 모집단, ddof=1은 표본집단\n",
    "# np.var은 ddof=0이 기본 / df[필드명].var은 ddof=1이 기본\n",
    "# 참고 n개에서 n-1, n-2, n-3 하는 작업을 자유도 라고도 함\n",
    "\n",
    "a = [2, 2, 4, 8]\n",
    "# 모집단의 분산\n",
    "print(np.sum((a - np.mean(a))**2) / len(a), np.var(a))\n",
    "# 표본집단의 분산\n",
    "print(np.sum((a - np.mean(a))**2) / (len(a) - 1), np.var(a, ddof=1))"
   ]
  },
  {
   "cell_type": "code",
   "execution_count": 39,
   "id": "04eed2c6",
   "metadata": {
    "ExecuteTime": {
     "end_time": "2022-06-29T07:23:45.499862Z",
     "start_time": "2022-06-29T07:23:45.246499Z"
    }
   },
   "outputs": [
    {
     "data": {
      "text/plain": [
       "(8.0, 6.0)"
      ]
     },
     "execution_count": 39,
     "metadata": {},
     "output_type": "execute_result"
    }
   ],
   "source": [
    "import pandas as pd\n",
    "\n",
    "df = pd.DataFrame({'data': a})\n",
    "df['data'].var(), df['data'].var(ddof=0)"
   ]
  },
  {
   "cell_type": "markdown",
   "id": "5221b0b9",
   "metadata": {},
   "source": [
    "## 표준편차\n",
    "\n",
    "- 평균에서 데이터가 벗어난 정도를 수치화한 값"
   ]
  },
  {
   "cell_type": "markdown",
   "id": "476876a2",
   "metadata": {},
   "source": [
    "## 사분위간 범위\n",
    "\n",
    "- 사분위간 범위(IQR, InterQuartile Range)는 제3사분위수에서 제1사분위수 간의 범위\n",
    "- 사분위수란 전체 데이터를 작은 값부터 큰 값까지 순서대로 나열한 후 4등분 하였을 때, 각 지점에 해당하는 값\n",
    "    - 제1사분위수(Q1): 25% 지점\n",
    "    - 제2사분위수(Q2): 50% 지점 = 중간값\n",
    "    - 제3사분위수(Q3): 75%\n",
    "- 제1사분위수와 제3사분위수 사이의 구간에는 항상 전체 데이터의 50%가 포함 됨\n",
    "- 사분위는 임의로 정하는 기준이므로 필요에 따라 십분위 등으로 변경가능"
   ]
  },
  {
   "cell_type": "markdown",
   "id": "a4f797a8",
   "metadata": {},
   "source": [
    "## 변산성 측정치를 이용한 이상점 진단\n",
    "\n",
    "- 대부분의 자료는 중심경향치 주변에 몰려있음\n",
    "- 변산성 측정치를 기준으로 벗어난 정도를 파악할 수 있음\n",
    "    - 평균에서 벗어난 정도를 판달할 때는 표준편차를 사용\n",
    "        - 평균에서 표준편차의 n배 떨어져 있으면 \"n 표준편차\"와 같이 표현\n",
    "    - 중간값에서 벗어난 정도를 판단할 때는 IQR을 사용\n",
    "- 중심경향치에서 크게 벗어났다면 이상점으로 의심할 수 있음"
   ]
  }
 ],
 "metadata": {
  "kernelspec": {
   "display_name": "Python 3 (ipykernel)",
   "language": "python",
   "name": "python3"
  },
  "language_info": {
   "codemirror_mode": {
    "name": "ipython",
    "version": 3
   },
   "file_extension": ".py",
   "mimetype": "text/x-python",
   "name": "python",
   "nbconvert_exporter": "python",
   "pygments_lexer": "ipython3",
   "version": "3.9.12"
  },
  "toc": {
   "base_numbering": 1,
   "nav_menu": {},
   "number_sections": true,
   "sideBar": true,
   "skip_h1_title": false,
   "title_cell": "Table of Contents",
   "title_sidebar": "Contents",
   "toc_cell": false,
   "toc_position": {},
   "toc_section_display": true,
   "toc_window_display": false
  },
  "varInspector": {
   "cols": {
    "lenName": 16,
    "lenType": 16,
    "lenVar": 40
   },
   "kernels_config": {
    "python": {
     "delete_cmd_postfix": "",
     "delete_cmd_prefix": "del ",
     "library": "var_list.py",
     "varRefreshCmd": "print(var_dic_list())"
    },
    "r": {
     "delete_cmd_postfix": ") ",
     "delete_cmd_prefix": "rm(",
     "library": "var_list.r",
     "varRefreshCmd": "cat(var_dic_list()) "
    }
   },
   "types_to_exclude": [
    "module",
    "function",
    "builtin_function_or_method",
    "instance",
    "_Feature"
   ],
   "window_display": false
  }
 },
 "nbformat": 4,
 "nbformat_minor": 5
}
