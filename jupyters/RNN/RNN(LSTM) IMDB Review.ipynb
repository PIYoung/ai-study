{
 "cells": [
  {
   "cell_type": "code",
   "execution_count": 1,
   "id": "81a8a93f",
   "metadata": {
    "ExecuteTime": {
     "end_time": "2022-08-05T05:08:20.865312Z",
     "start_time": "2022-08-05T05:08:17.274429Z"
    }
   },
   "outputs": [],
   "source": [
    "import numpy as np\n",
    "import matplotlib.pyplot as plt\n",
    "from tensorflow.keras.datasets import imdb"
   ]
  },
  {
   "cell_type": "code",
   "execution_count": 2,
   "id": "ba48d974",
   "metadata": {
    "ExecuteTime": {
     "end_time": "2022-08-05T05:08:35.408813Z",
     "start_time": "2022-08-05T05:08:32.664022Z"
    }
   },
   "outputs": [
    {
     "name": "stdout",
     "output_type": "stream",
     "text": [
      "훈련용 리뷰 개수 : 25000\n",
      "테스트용 리뷰 개수 : 25000\n",
      "카테고리 : 2\n"
     ]
    }
   ],
   "source": [
    "(X_train, y_train), (X_test, y_test) = imdb.load_data()\n",
    "\n",
    "print('훈련용 리뷰 개수 : {}'.format(len(X_train)))\n",
    "print('테스트용 리뷰 개수 : {}'.format(len(X_test)))\n",
    "num_classes = len(set(y_train))\n",
    "print('카테고리 : {}'.format(num_classes))"
   ]
  },
  {
   "cell_type": "code",
   "execution_count": 3,
   "id": "16ee1f55",
   "metadata": {
    "ExecuteTime": {
     "end_time": "2022-08-05T05:08:48.070725Z",
     "start_time": "2022-08-05T05:08:48.055681Z"
    }
   },
   "outputs": [
    {
     "name": "stdout",
     "output_type": "stream",
     "text": [
      "첫번째 훈련용 리뷰 : [1, 14, 22, 16, 43, 530, 973, 1622, 1385, 65, 458, 4468, 66, 3941, 4, 173, 36, 256, 5, 25, 100, 43, 838, 112, 50, 670, 22665, 9, 35, 480, 284, 5, 150, 4, 172, 112, 167, 21631, 336, 385, 39, 4, 172, 4536, 1111, 17, 546, 38, 13, 447, 4, 192, 50, 16, 6, 147, 2025, 19, 14, 22, 4, 1920, 4613, 469, 4, 22, 71, 87, 12, 16, 43, 530, 38, 76, 15, 13, 1247, 4, 22, 17, 515, 17, 12, 16, 626, 18, 19193, 5, 62, 386, 12, 8, 316, 8, 106, 5, 4, 2223, 5244, 16, 480, 66, 3785, 33, 4, 130, 12, 16, 38, 619, 5, 25, 124, 51, 36, 135, 48, 25, 1415, 33, 6, 22, 12, 215, 28, 77, 52, 5, 14, 407, 16, 82, 10311, 8, 4, 107, 117, 5952, 15, 256, 4, 31050, 7, 3766, 5, 723, 36, 71, 43, 530, 476, 26, 400, 317, 46, 7, 4, 12118, 1029, 13, 104, 88, 4, 381, 15, 297, 98, 32, 2071, 56, 26, 141, 6, 194, 7486, 18, 4, 226, 22, 21, 134, 476, 26, 480, 5, 144, 30, 5535, 18, 51, 36, 28, 224, 92, 25, 104, 4, 226, 65, 16, 38, 1334, 88, 12, 16, 283, 5, 16, 4472, 113, 103, 32, 15, 16, 5345, 19, 178, 32]\n",
      "첫번째 훈련용 리뷰의 레이블 : 1\n"
     ]
    }
   ],
   "source": [
    "print('첫번째 훈련용 리뷰 :', X_train[0])\n",
    "print('첫번째 훈련용 리뷰의 레이블 :', y_train[0])"
   ]
  },
  {
   "cell_type": "code",
   "execution_count": 6,
   "id": "d4e36651",
   "metadata": {
    "ExecuteTime": {
     "end_time": "2022-08-05T05:10:04.086644Z",
     "start_time": "2022-08-05T05:10:03.817843Z"
    }
   },
   "outputs": [
    {
     "name": "stdout",
     "output_type": "stream",
     "text": [
      "리뷰의 최대 길이 : 2494\n",
      "리뷰의 평균 길이 : 238.71364\n"
     ]
    },
    {
     "data": {
      "image/png": "[encoded data removed]",
      "text/plain": [
       "<Figure size 1296x720 with 2 Axes>"
      ]
     },
     "metadata": {
      "needs_background": "light"
     },
     "output_type": "display_data"
    }
   ],
   "source": [
    "reviews_length = [len(review) for review in X_train]\n",
    "\n",
    "print('리뷰의 최대 길이 : {}'.format(np.max(reviews_length)))\n",
    "print('리뷰의 평균 길이 : {}'.format(np.mean(reviews_length)))\n",
    "\n",
    "plt.figure(figsize=(18, 10))\n",
    "\n",
    "plt.subplot(1, 2, 1)\n",
    "plt.boxplot(reviews_length)\n",
    "\n",
    "plt.subplot(1, 2, 2)\n",
    "plt.hist(reviews_length, bins=50)\n",
    "\n",
    "plt.show()"
   ]
  },
  {
   "cell_type": "code",
   "execution_count": 7,
   "id": "76759b1d",
   "metadata": {
    "ExecuteTime": {
     "end_time": "2022-08-05T05:10:28.775262Z",
     "start_time": "2022-08-05T05:10:28.768262Z"
    }
   },
   "outputs": [
    {
     "name": "stdout",
     "output_type": "stream",
     "text": [
      "각 레이블에 대한 빈도수:\n",
      "[[    0     1]\n",
      " [12500 12500]]\n"
     ]
    }
   ],
   "source": [
    "unique_elements, counts_elements = np.unique(y_train, return_counts=True)\n",
    "print(\"각 레이블에 대한 빈도수:\")\n",
    "print(np.asarray((unique_elements, counts_elements)))"
   ]
  },
  {
   "cell_type": "code",
   "execution_count": 8,
   "id": "51a84294",
   "metadata": {
    "ExecuteTime": {
     "end_time": "2022-08-05T05:10:42.635118Z",
     "start_time": "2022-08-05T05:10:42.263700Z"
    }
   },
   "outputs": [
    {
     "name": "stdout",
     "output_type": "stream",
     "text": [
      "Downloading data from https://storage.googleapis.com/tensorflow/tf-keras-datasets/imdb_word_index.json\n",
      "1646592/1641221 [==============================] - 0s 0us/step\n",
      "1654784/1641221 [==============================] - 0s 0us/step\n"
     ]
    }
   ],
   "source": [
    "word_to_index = imdb.get_word_index()\n",
    "index_to_word = {}\n",
    "for key, value in word_to_index.items():\n",
    "    index_to_word[value + 3] = key"
   ]
  },
  {
   "cell_type": "code",
   "execution_count": 9,
   "id": "67c0aa25",
   "metadata": {
    "ExecuteTime": {
     "end_time": "2022-08-05T05:10:49.668141Z",
     "start_time": "2022-08-05T05:10:49.656632Z"
    }
   },
   "outputs": [
    {
     "name": "stdout",
     "output_type": "stream",
     "text": [
      "빈도수 상위 1등 단어 : the\n"
     ]
    }
   ],
   "source": [
    "print('빈도수 상위 1등 단어 : {}'.format(index_to_word[4]))"
   ]
  },
  {
   "cell_type": "code",
   "execution_count": 10,
   "id": "a727e2cd",
   "metadata": {
    "ExecuteTime": {
     "end_time": "2022-08-05T05:10:54.751155Z",
     "start_time": "2022-08-05T05:10:54.743916Z"
    }
   },
   "outputs": [
    {
     "name": "stdout",
     "output_type": "stream",
     "text": [
      "빈도수 상위 3938등 단어 : suited\n"
     ]
    }
   ],
   "source": [
    "print('빈도수 상위 3938등 단어 : {}'.format(index_to_word[3941]))"
   ]
  },
  {
   "cell_type": "code",
   "execution_count": 11,
   "id": "7cd2024f",
   "metadata": {
    "ExecuteTime": {
     "end_time": "2022-08-05T05:10:59.781750Z",
     "start_time": "2022-08-05T05:10:59.775732Z"
    }
   },
   "outputs": [
    {
     "name": "stdout",
     "output_type": "stream",
     "text": [
      "<sos> this film was just brilliant casting location scenery story direction everyone's really suited the part they played and you could just imagine being there robert redford's is an amazing actor and now the same being director norman's father came from the same scottish island as myself so i loved the fact there was a real connection with this film the witty remarks throughout the film were great it was just brilliant so much that i bought the film as soon as it was released for retail and would recommend it to everyone to watch and the fly fishing was amazing really cried at the end it was so sad and you know what they say if you cry at a film it must have been good and this definitely was also congratulations to the two little boy's that played the part's of norman and paul they were just brilliant children are often left out of the praising list i think because the stars that play them all grown up are such a big profile for the whole film but these children are amazing and should be praised for what they have done don't you think the whole story was so lovely because it was true and was someone's life after all that was shared with us all\n"
     ]
    }
   ],
   "source": [
    "for index, token in enumerate((\"<pad>\", \"<sos>\", \"<unk>\")):\n",
    "    index_to_word[index] = token\n",
    "\n",
    "print(' '.join([index_to_word[index] for index in X_train[0]]))"
   ]
  },
  {
   "cell_type": "code",
   "execution_count": 12,
   "id": "82a59127",
   "metadata": {
    "ExecuteTime": {
     "end_time": "2022-08-05T05:11:23.812011Z",
     "start_time": "2022-08-05T05:11:20.520262Z"
    }
   },
   "outputs": [],
   "source": [
    "import re\n",
    "from tensorflow.keras.datasets import imdb\n",
    "from tensorflow.keras.preprocessing.sequence import pad_sequences\n",
    "from tensorflow.keras.models import Sequential\n",
    "from tensorflow.keras.layers import Dense, GRU, Embedding\n",
    "from tensorflow.keras.callbacks import EarlyStopping, ModelCheckpoint\n",
    "from tensorflow.keras.models import load_model\n",
    "\n",
    "vocab_size = 10000\n",
    "max_len = 500\n",
    "\n",
    "(X_train, y_train), (X_test, y_test) = imdb.load_data(num_words=vocab_size)\n",
    "\n",
    "X_train = pad_sequences(X_train, maxlen=max_len)\n",
    "X_test = pad_sequences(X_test, maxlen=max_len)"
   ]
  },
  {
   "cell_type": "code",
   "execution_count": 13,
   "id": "2a9827cb",
   "metadata": {
    "ExecuteTime": {
     "end_time": "2022-08-05T05:13:31.820207Z",
     "start_time": "2022-08-05T05:11:38.770597Z"
    },
    "scrolled": true
   },
   "outputs": [
    {
     "name": "stdout",
     "output_type": "stream",
     "text": [
      "Epoch 1/15\n",
      "313/313 [==============================] - 15s 35ms/step - loss: 0.4941 - acc: 0.7515 - val_loss: 1.3446 - val_acc: 0.6110\n",
      "\n",
      "Epoch 00001: val_acc improved from -inf to 0.61100, saving model to GRU_model.h5\n",
      "Epoch 2/15\n",
      "313/313 [==============================] - 10s 33ms/step - loss: 0.3207 - acc: 0.8712 - val_loss: 0.3163 - val_acc: 0.8696\n",
      "\n",
      "Epoch 00002: val_acc improved from 0.61100 to 0.86960, saving model to GRU_model.h5\n",
      "Epoch 3/15\n",
      "313/313 [==============================] - 10s 33ms/step - loss: 0.2452 - acc: 0.9071 - val_loss: 0.2987 - val_acc: 0.8842\n",
      "\n",
      "Epoch 00003: val_acc improved from 0.86960 to 0.88420, saving model to GRU_model.h5\n",
      "Epoch 4/15\n",
      "313/313 [==============================] - 10s 32ms/step - loss: 0.1944 - acc: 0.9266 - val_loss: 0.3006 - val_acc: 0.8940\n",
      "\n",
      "Epoch 00004: val_acc improved from 0.88420 to 0.89400, saving model to GRU_model.h5\n",
      "Epoch 5/15\n",
      "313/313 [==============================] - 11s 34ms/step - loss: 0.1561 - acc: 0.9420 - val_loss: 0.3779 - val_acc: 0.8810\n",
      "\n",
      "Epoch 00005: val_acc did not improve from 0.89400\n",
      "Epoch 6/15\n",
      "313/313 [==============================] - 11s 34ms/step - loss: 0.1248 - acc: 0.9557 - val_loss: 0.2763 - val_acc: 0.8968\n",
      "\n",
      "Epoch 00006: val_acc improved from 0.89400 to 0.89680, saving model to GRU_model.h5\n",
      "Epoch 7/15\n",
      "313/313 [==============================] - 11s 35ms/step - loss: 0.0963 - acc: 0.9672 - val_loss: 0.2992 - val_acc: 0.8922\n",
      "\n",
      "Epoch 00007: val_acc did not improve from 0.89680\n",
      "Epoch 8/15\n",
      "313/313 [==============================] - 11s 35ms/step - loss: 0.0755 - acc: 0.9748 - val_loss: 0.3480 - val_acc: 0.8798\n",
      "\n",
      "Epoch 00008: val_acc did not improve from 0.89680\n",
      "Epoch 9/15\n",
      "313/313 [==============================] - 11s 35ms/step - loss: 0.0540 - acc: 0.9825 - val_loss: 0.4141 - val_acc: 0.8844\n",
      "\n",
      "Epoch 00009: val_acc did not improve from 0.89680\n",
      "Epoch 10/15\n",
      "313/313 [==============================] - 11s 35ms/step - loss: 0.0372 - acc: 0.9883 - val_loss: 0.4520 - val_acc: 0.8818\n",
      "\n",
      "Epoch 00010: val_acc did not improve from 0.89680\n",
      "Epoch 00010: early stopping\n"
     ]
    }
   ],
   "source": [
    "embedding_dim = 100\n",
    "hidden_units = 128\n",
    "\n",
    "model = Sequential()\n",
    "model.add(Embedding(vocab_size, embedding_dim))\n",
    "model.add(GRU(hidden_units))\n",
    "model.add(Dense(1, activation='sigmoid'))\n",
    "\n",
    "es = EarlyStopping(monitor='val_loss', mode='min', verbose=1, patience=4)\n",
    "mc = ModelCheckpoint('GRU_model.h5',\n",
    "                     monitor='val_acc',\n",
    "                     mode='max',\n",
    "                     verbose=1,\n",
    "                     save_best_only=True)\n",
    "\n",
    "model.compile(optimizer='rmsprop', loss='binary_crossentropy', metrics=['acc'])\n",
    "history = model.fit(X_train,\n",
    "                    y_train,\n",
    "                    epochs=15,\n",
    "                    callbacks=[es, mc],\n",
    "                    batch_size=64,\n",
    "                    validation_split=0.2)"
   ]
  },
  {
   "cell_type": "code",
   "execution_count": 14,
   "id": "ac35ad60",
   "metadata": {
    "ExecuteTime": {
     "end_time": "2022-08-05T05:14:15.959915Z",
     "start_time": "2022-08-05T05:14:05.110618Z"
    }
   },
   "outputs": [
    {
     "name": "stdout",
     "output_type": "stream",
     "text": [
      "782/782 [==============================] - 10s 13ms/step - loss: 0.3065 - acc: 0.8841\n",
      "\n",
      " 테스트 정확도: 0.8841\n"
     ]
    }
   ],
   "source": [
    "loaded_model = load_model('GRU_model.h5')\n",
    "print(\"\\n 테스트 정확도: %.4f\" % (loaded_model.evaluate(X_test, y_test)[1]))"
   ]
  },
  {
   "cell_type": "code",
   "execution_count": 15,
   "id": "09cedcab",
   "metadata": {
    "ExecuteTime": {
     "end_time": "2022-08-05T05:14:29.235147Z",
     "start_time": "2022-08-05T05:14:29.217119Z"
    }
   },
   "outputs": [],
   "source": [
    "def sentiment_predict(new_sentence):\n",
    "    # 알파벳과 숫자를 제외하고 모두 제거 및 알파벳 소문자화\n",
    "    new_sentence = re.sub('[^0-9a-zA-Z ]', '', new_sentence).lower()\n",
    "    encoded = []\n",
    "\n",
    "    # 띄어쓰기 단위 토큰화 후 정수 인코딩\n",
    "    for word in new_sentence.split():\n",
    "        try:\n",
    "            # 단어 집합의 크기를 10,000으로 제한.\n",
    "            if word_to_index[word] <= 10000:\n",
    "                encoded.append(word_to_index[word] + 3)\n",
    "            else:\n",
    "                # 10,000 이상의 숫자는 <unk> 토큰으로 변환.\n",
    "                encoded.append(2)\n",
    "        # 단어 집합에 없는 단어는 <unk> 토큰으로 변환.\n",
    "        except KeyError:\n",
    "            encoded.append(2)\n",
    "\n",
    "    pad_sequence = pad_sequences([encoded], maxlen=max_len)\n",
    "    score = float(loaded_model.predict(pad_sequence))  # 예측\n",
    "\n",
    "    if (score > 0.5):\n",
    "        print(\"{:.2f}% 확률로 긍정 리뷰입니다.\".format(score * 100))\n",
    "    else:\n",
    "        print(\"{:.2f}% 확률로 부정 리뷰입니다.\".format((1 - score) * 100))"
   ]
  },
  {
   "cell_type": "code",
   "execution_count": 16,
   "id": "6d64fac6",
   "metadata": {
    "ExecuteTime": {
     "end_time": "2022-08-05T05:14:31.090649Z",
     "start_time": "2022-08-05T05:14:30.784002Z"
    }
   },
   "outputs": [
    {
     "name": "stdout",
     "output_type": "stream",
     "text": [
      "98.79% 확률로 부정 리뷰입니다.\n"
     ]
    }
   ],
   "source": [
    "test_input = \"This movie was just way too overrated. The fighting was not professional and in slow motion. I was expecting more from a 200 million budget movie. The little sister of T.Challa was just trying too hard to be funny. The story was really dumb as well. Don't watch this movie if you are going because others say its great unless you are a Black Panther fan or Marvels fan.\"\n",
    "\n",
    "sentiment_predict(test_input)"
   ]
  },
  {
   "cell_type": "code",
   "execution_count": 17,
   "id": "24abd7d6",
   "metadata": {
    "ExecuteTime": {
     "end_time": "2022-08-05T05:14:32.528542Z",
     "start_time": "2022-08-05T05:14:32.432450Z"
    }
   },
   "outputs": [
    {
     "name": "stdout",
     "output_type": "stream",
     "text": [
      "99.31% 확률로 긍정 리뷰입니다.\n"
     ]
    }
   ],
   "source": [
    "test_input = \" I was lucky enough to be included in the group to see the advanced screening in Melbourne on the 15th of April, 2012. And, firstly, I need to say a big thank-you to Disney and Marvel Studios. \\\n",
    "Now, the film... how can I even begin to explain how I feel about this film? It is, as the title of this review says a 'comic book triumph'. I went into the film with very, very high expectations and I was not disappointed. \\\n",
    "Seeing Joss Whedon's direction and envisioning of the film come to life on the big screen is perfect. The script is amazingly detailed and laced with sharp wit a humor. The special effects are literally mind-blowing and the action scenes are both hard-hitting and beautifully choreographed.\"\n",
    "\n",
    "sentiment_predict(test_input)"
   ]
  }
 ],
 "metadata": {
  "kernelspec": {
   "display_name": "Python 3 (ipykernel)",
   "language": "python",
   "name": "python3"
  },
  "language_info": {
   "codemirror_mode": {
    "name": "ipython",
    "version": 3
   },
   "file_extension": ".py",
   "mimetype": "text/x-python",
   "name": "python",
   "nbconvert_exporter": "python",
   "pygments_lexer": "ipython3",
   "version": "3.7.13"
  },
  "toc": {
   "base_numbering": 1,
   "nav_menu": {},
   "number_sections": true,
   "sideBar": true,
   "skip_h1_title": false,
   "title_cell": "Table of Contents",
   "title_sidebar": "Contents",
   "toc_cell": false,
   "toc_position": {},
   "toc_section_display": true,
   "toc_window_display": false
  },
  "varInspector": {
   "cols": {
    "lenName": 16,
    "lenType": 16,
    "lenVar": 40
   },
   "kernels_config": {
    "python": {
     "delete_cmd_postfix": "",
     "delete_cmd_prefix": "del ",
     "library": "var_list.py",
     "varRefreshCmd": "print(var_dic_list())"
    },
    "r": {
     "delete_cmd_postfix": ") ",
     "delete_cmd_prefix": "rm(",
     "library": "var_list.r",
     "varRefreshCmd": "cat(var_dic_list()) "
    }
   },
   "types_to_exclude": [
    "module",
    "function",
    "builtin_function_or_method",
    "instance",
    "_Feature"
   ],
   "window_display": false
  }
 },
 "nbformat": 4,
 "nbformat_minor": 5
}
