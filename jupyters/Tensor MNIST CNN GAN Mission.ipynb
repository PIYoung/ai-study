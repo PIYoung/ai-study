{
 "cells": [
  {
   "cell_type": "code",
   "execution_count": 26,
   "id": "46119d92",
   "metadata": {
    "ExecuteTime": {
     "end_time": "2022-07-29T06:33:11.373721Z",
     "start_time": "2022-07-29T06:33:11.357058Z"
    }
   },
   "outputs": [],
   "source": [
    "import numpy as np\n",
    "import matplotlib.pyplot as plt\n",
    "\n",
    "import tensorflow as tf\n",
    "from tensorflow.keras.datasets import fashion_mnist\n",
    "from tensorflow.keras.layers import Input, Dense, Flatten, Reshape, Activation, Dropout\n",
    "from tensorflow.keras.layers import BatchNormalization, Conv2D, Conv2DTranspose, LeakyReLU, MaxPool2D\n",
    "from tensorflow.keras.models import Model, Sequential\n",
    "from tensorflow.keras import backend as K\n",
    "from tensorflow.keras.optimizers import Adam"
   ]
  },
  {
   "cell_type": "code",
   "execution_count": 62,
   "id": "6c16d90a",
   "metadata": {
    "ExecuteTime": {
     "end_time": "2022-07-29T07:21:45.924241Z",
     "start_time": "2022-07-29T07:21:45.503273Z"
    }
   },
   "outputs": [],
   "source": [
    "(x_train, y_train), (x_test, y_test) = fashion_mnist.load_data()\n",
    "x_train = x_train.astype('float32') / 255.\n",
    "y_train = y_train.astype('float32') / 255."
   ]
  },
  {
   "cell_type": "code",
   "execution_count": 63,
   "id": "aaf34572",
   "metadata": {
    "ExecuteTime": {
     "end_time": "2022-07-29T07:21:46.064962Z",
     "start_time": "2022-07-29T07:21:46.059984Z"
    }
   },
   "outputs": [
    {
     "data": {
      "text/plain": [
       "((60000, 28, 28), (60000,))"
      ]
     },
     "execution_count": 63,
     "metadata": {},
     "output_type": "execute_result"
    }
   ],
   "source": [
    "x_train.shape, y_train.shape"
   ]
  },
  {
   "cell_type": "code",
   "execution_count": 64,
   "id": "65711c22",
   "metadata": {
    "ExecuteTime": {
     "end_time": "2022-07-29T07:21:46.566344Z",
     "start_time": "2022-07-29T07:21:46.557091Z"
    }
   },
   "outputs": [],
   "source": [
    "zdim = 32\n",
    "\n",
    "\n",
    "def conv2d_block(x, channel):\n",
    "    x = Conv2D(channel, 3, padding=\"same\")(x)\n",
    "    x = BatchNormalization()(x)\n",
    "    x = Activation(\"LeakyReLU\")(x)\n",
    "\n",
    "    x = Conv2D(channel, 3, padding=\"same\")(x)\n",
    "    x = BatchNormalization()(x)\n",
    "    x = Activation(\"LeakyReLU\")(x)\n",
    "\n",
    "    return x"
   ]
  },
  {
   "cell_type": "code",
   "execution_count": 65,
   "id": "89cef9e1",
   "metadata": {
    "ExecuteTime": {
     "end_time": "2022-07-29T07:21:47.252254Z",
     "start_time": "2022-07-29T07:21:47.125322Z"
    },
    "scrolled": true
   },
   "outputs": [
    {
     "name": "stdout",
     "output_type": "stream",
     "text": [
      "Model: \"model_20\"\n",
      "_________________________________________________________________\n",
      "Layer (type)                 Output Shape              Param #   \n",
      "=================================================================\n",
      "input_30 (InputLayer)        [(None, 28, 28, 1)]       0         \n",
      "_________________________________________________________________\n",
      "conv2d_44 (Conv2D)           (None, 28, 28, 28)        280       \n",
      "_________________________________________________________________\n",
      "batch_normalization_59 (Batc (None, 28, 28, 28)        112       \n",
      "_________________________________________________________________\n",
      "activation_58 (Activation)   (None, 28, 28, 28)        0         \n",
      "_________________________________________________________________\n",
      "conv2d_45 (Conv2D)           (None, 28, 28, 28)        7084      \n",
      "_________________________________________________________________\n",
      "batch_normalization_60 (Batc (None, 28, 28, 28)        112       \n",
      "_________________________________________________________________\n",
      "activation_59 (Activation)   (None, 28, 28, 28)        0         \n",
      "_________________________________________________________________\n",
      "max_pooling2d_20 (MaxPooling (None, 14, 14, 28)        0         \n",
      "_________________________________________________________________\n",
      "dropout_25 (Dropout)         (None, 14, 14, 28)        0         \n",
      "_________________________________________________________________\n",
      "conv2d_46 (Conv2D)           (None, 14, 14, 64)        16192     \n",
      "_________________________________________________________________\n",
      "batch_normalization_61 (Batc (None, 14, 14, 64)        256       \n",
      "_________________________________________________________________\n",
      "activation_60 (Activation)   (None, 14, 14, 64)        0         \n",
      "_________________________________________________________________\n",
      "conv2d_47 (Conv2D)           (None, 14, 14, 64)        36928     \n",
      "_________________________________________________________________\n",
      "batch_normalization_62 (Batc (None, 14, 14, 64)        256       \n",
      "_________________________________________________________________\n",
      "activation_61 (Activation)   (None, 14, 14, 64)        0         \n",
      "_________________________________________________________________\n",
      "max_pooling2d_21 (MaxPooling (None, 7, 7, 64)          0         \n",
      "_________________________________________________________________\n",
      "dropout_26 (Dropout)         (None, 7, 7, 64)          0         \n",
      "_________________________________________________________________\n",
      "conv2d_48 (Conv2D)           (None, 7, 7, 128)         73856     \n",
      "_________________________________________________________________\n",
      "batch_normalization_63 (Batc (None, 7, 7, 128)         512       \n",
      "_________________________________________________________________\n",
      "activation_62 (Activation)   (None, 7, 7, 128)         0         \n",
      "_________________________________________________________________\n",
      "conv2d_49 (Conv2D)           (None, 7, 7, 128)         147584    \n",
      "_________________________________________________________________\n",
      "batch_normalization_64 (Batc (None, 7, 7, 128)         512       \n",
      "_________________________________________________________________\n",
      "activation_63 (Activation)   (None, 7, 7, 128)         0         \n",
      "_________________________________________________________________\n",
      "max_pooling2d_22 (MaxPooling (None, 3, 3, 128)         0         \n",
      "_________________________________________________________________\n",
      "dropout_27 (Dropout)         (None, 3, 3, 128)         0         \n",
      "_________________________________________________________________\n",
      "flatten_5 (Flatten)          (None, 1152)              0         \n",
      "_________________________________________________________________\n",
      "dense_74 (Dense)             (None, 128)               147584    \n",
      "_________________________________________________________________\n",
      "leaky_re_lu_120 (LeakyReLU)  (None, 128)               0         \n",
      "_________________________________________________________________\n",
      "dense_75 (Dense)             (None, 64)                8256      \n",
      "_________________________________________________________________\n",
      "leaky_re_lu_121 (LeakyReLU)  (None, 64)                0         \n",
      "_________________________________________________________________\n",
      "dense_76 (Dense)             (None, 12)                780       \n",
      "_________________________________________________________________\n",
      "leaky_re_lu_122 (LeakyReLU)  (None, 12)                0         \n",
      "_________________________________________________________________\n",
      "dense_77 (Dense)             (None, 32)                416       \n",
      "=================================================================\n",
      "Total params: 440,720\n",
      "Trainable params: 439,840\n",
      "Non-trainable params: 880\n",
      "_________________________________________________________________\n"
     ]
    }
   ],
   "source": [
    "encoder_input = Input((28, 28, 1))\n",
    "\n",
    "x = conv2d_block(encoder_input, 28)\n",
    "x = MaxPool2D((2, 2))(x)\n",
    "x = Dropout(0.1)(x)\n",
    "\n",
    "x = conv2d_block(x, 64)\n",
    "x = MaxPool2D((2, 2))(x)\n",
    "x = Dropout(0.1)(x)\n",
    "\n",
    "x = conv2d_block(x, 128)\n",
    "x = MaxPool2D((2, 2))(x)\n",
    "x = Dropout(0.1)(x)\n",
    "\n",
    "x = Flatten()(x)\n",
    "\n",
    "x = Dense(128)(x)\n",
    "x = LeakyReLU(0.2)(x)\n",
    "x = Dense(64)(x)\n",
    "x = LeakyReLU(0.2)(x)\n",
    "x = Dense(12)(x)\n",
    "x = LeakyReLU(0.2)(x)\n",
    "\n",
    "encoder_output = Dense(zdim)(x)\n",
    "\n",
    "model_encoder = Model(encoder_input, encoder_output)\n",
    "model_encoder.summary()"
   ]
  },
  {
   "cell_type": "code",
   "execution_count": 80,
   "id": "7fcb035b",
   "metadata": {
    "ExecuteTime": {
     "end_time": "2022-07-29T07:23:23.793328Z",
     "start_time": "2022-07-29T07:23:23.717549Z"
    }
   },
   "outputs": [
    {
     "name": "stdout",
     "output_type": "stream",
     "text": [
      "Model: \"model_29\"\n",
      "_________________________________________________________________\n",
      "Layer (type)                 Output Shape              Param #   \n",
      "=================================================================\n",
      "input_37 (InputLayer)        [(None, 32)]              0         \n",
      "_________________________________________________________________\n",
      "dense_90 (Dense)             (None, 256)               8448      \n",
      "_________________________________________________________________\n",
      "leaky_re_lu_141 (LeakyReLU)  (None, 256)               0         \n",
      "_________________________________________________________________\n",
      "dense_91 (Dense)             (None, 1568)              402976    \n",
      "_________________________________________________________________\n",
      "reshape_20 (Reshape)         (None, 7, 7, 32)          0         \n",
      "_________________________________________________________________\n",
      "conv2d_transpose_73 (Conv2DT (None, 14, 14, 32)        4128      \n",
      "_________________________________________________________________\n",
      "batch_normalization_77 (Batc (None, 14, 14, 32)        128       \n",
      "_________________________________________________________________\n",
      "activation_76 (Activation)   (None, 14, 14, 32)        0         \n",
      "_________________________________________________________________\n",
      "conv2d_transpose_74 (Conv2DT (None, 28, 28, 1)         129       \n",
      "_________________________________________________________________\n",
      "batch_normalization_78 (Batc (None, 28, 28, 1)         4         \n",
      "_________________________________________________________________\n",
      "activation_77 (Activation)   (None, 28, 28, 1)         0         \n",
      "=================================================================\n",
      "Total params: 415,813\n",
      "Trainable params: 415,747\n",
      "Non-trainable params: 66\n",
      "_________________________________________________________________\n"
     ]
    }
   ],
   "source": [
    "decoder_input = Input(shape=(zdim, ))\n",
    "\n",
    "x = Dense(256)(decoder_input)\n",
    "x = LeakyReLU(0.2)(x)\n",
    "x = Dense(1568)(x)\n",
    "\n",
    "x = Reshape((7, 7, 32))(x)\n",
    "\n",
    "x = Conv2DTranspose(32, 2, 2, padding=\"same\")(x)\n",
    "x = BatchNormalization()(x)\n",
    "x = Activation(\"LeakyReLU\")(x)\n",
    "\n",
    "x = Conv2DTranspose(1, 2, 2, padding=\"same\")(x)\n",
    "x = BatchNormalization()(x)\n",
    "x = Activation(\"LeakyReLU\")(x)\n",
    "\n",
    "decoder_output = x\n",
    "\n",
    "model_decoder = Model(decoder_input, decoder_output)\n",
    "model_decoder.summary()"
   ]
  },
  {
   "cell_type": "code",
   "execution_count": 81,
   "id": "554072b4",
   "metadata": {
    "ExecuteTime": {
     "end_time": "2022-07-29T07:23:24.012802Z",
     "start_time": "2022-07-29T07:23:23.950726Z"
    }
   },
   "outputs": [],
   "source": [
    "model_input = encoder_input\n",
    "model_output = model_decoder(encoder_output)\n",
    "\n",
    "model = Model(model_input, model_output)\n",
    "model.compile(optimizer='adam', loss='mse')"
   ]
  },
  {
   "cell_type": "code",
   "execution_count": 82,
   "id": "a57d6fd4",
   "metadata": {
    "ExecuteTime": {
     "end_time": "2022-07-29T07:23:48.402066Z",
     "start_time": "2022-07-29T07:23:24.581907Z"
    }
   },
   "outputs": [
    {
     "name": "stdout",
     "output_type": "stream",
     "text": [
      "Epoch 1/3\n",
      "938/938 [==============================] - 9s 8ms/step - loss: 0.0538 - val_loss: 1720.1754\n",
      "Epoch 2/3\n",
      "938/938 [==============================] - 7s 8ms/step - loss: 0.0180 - val_loss: 1401.8489\n",
      "Epoch 3/3\n",
      "938/938 [==============================] - 7s 8ms/step - loss: 0.0156 - val_loss: 1160.5806\n"
     ]
    },
    {
     "data": {
      "text/plain": [
       "<keras.callbacks.History at 0x27046c5f9c8>"
      ]
     },
     "execution_count": 82,
     "metadata": {},
     "output_type": "execute_result"
    }
   ],
   "source": [
    "model.fit(x_train,\n",
    "          x_train,\n",
    "          epochs=3,\n",
    "          batch_size=64,\n",
    "          shuffle=True,\n",
    "          validation_data=(x_test, x_test))"
   ]
  },
  {
   "cell_type": "code",
   "execution_count": 83,
   "id": "aa972c59",
   "metadata": {
    "ExecuteTime": {
     "end_time": "2022-07-29T07:23:49.836477Z",
     "start_time": "2022-07-29T07:23:49.158725Z"
    }
   },
   "outputs": [],
   "source": [
    "decoded_img = model.predict(x_test)"
   ]
  },
  {
   "cell_type": "code",
   "execution_count": 84,
   "id": "eb9e7b33",
   "metadata": {
    "ExecuteTime": {
     "end_time": "2022-07-29T07:23:51.162340Z",
     "start_time": "2022-07-29T07:23:51.061819Z"
    }
   },
   "outputs": [
    {
     "data": {
      "text/plain": [
       "<matplotlib.image.AxesImage at 0x26f4256f348>"
      ]
     },
     "execution_count": 84,
     "metadata": {},
     "output_type": "execute_result"
    },
    {
     "data": {
      "image/png": "[encoded data removed]",
      "text/plain": [
       "<Figure size 432x288 with 1 Axes>"
      ]
     },
     "metadata": {
      "needs_background": "light"
     },
     "output_type": "display_data"
    }
   ],
   "source": [
    "plt.imshow(decoded_img[0].reshape(28, 28), cmap='gray')"
   ]
  },
  {
   "cell_type": "code",
   "execution_count": 96,
   "id": "9a7bb4b8",
   "metadata": {
    "ExecuteTime": {
     "end_time": "2022-07-29T07:29:33.511680Z",
     "start_time": "2022-07-29T07:29:33.136310Z"
    }
   },
   "outputs": [
    {
     "name": "stdout",
     "output_type": "stream",
     "text": [
      "Model: \"model_36\"\n",
      "_________________________________________________________________\n",
      "Layer (type)                 Output Shape              Param #   \n",
      "=================================================================\n",
      "input_30 (InputLayer)        [(None, 28, 28, 1)]       0         \n",
      "=================================================================\n",
      "Total params: 0\n",
      "Trainable params: 0\n",
      "Non-trainable params: 0\n",
      "_________________________________________________________________\n"
     ]
    },
    {
     "data": {
      "image/png": "[encoded data removed]",
      "text/plain": [
       "<Figure size 1080x216 with 1 Axes>"
      ]
     },
     "metadata": {
      "needs_background": "light"
     },
     "output_type": "display_data"
    },
    {
     "data": {
      "image/png": "[encoded data removed]",
      "text/plain": [
       "<Figure size 1440x288 with 20 Axes>"
      ]
     },
     "metadata": {},
     "output_type": "display_data"
    }
   ],
   "source": [
    "get_layer_name = [layer.name for layer in model.layers]\n",
    "get_output = [layer.output for layer in model.layers]\n",
    "\n",
    "plt.figure(figsize=(15, 3))\n",
    "visual_model = tf.keras.models.Model(inputs=model.input, outputs=get_output[0])\n",
    "visual_model.summary()\n",
    "\n",
    "plt.imshow(x_train[1], cmap='gray')\n",
    "\n",
    "n = 10\n",
    "plt.figure(figsize=(20, 4))\n",
    "for i in range(n):\n",
    "    plt.subplot(2, n, i + 1)\n",
    "    plt.imshow(x_test[i], cmap='gray')\n",
    "    plt.xticks([])\n",
    "    plt.yticks([])\n",
    "    \n",
    "    plt.subplot(2, n, i + n + 1)\n",
    "    plt.imshow(decoded_img[i], cmap='gray')\n",
    "    plt.xticks([])\n",
    "    plt.yticks([])\n",
    "    \n",
    "plt.show()"
   ]
  }
 ],
 "metadata": {
  "kernelspec": {
   "display_name": "Python 3 (ipykernel)",
   "language": "python",
   "name": "python3"
  },
  "language_info": {
   "codemirror_mode": {
    "name": "ipython",
    "version": 3
   },
   "file_extension": ".py",
   "mimetype": "text/x-python",
   "name": "python",
   "nbconvert_exporter": "python",
   "pygments_lexer": "ipython3",
   "version": "3.7.13"
  },
  "toc": {
   "base_numbering": 1,
   "nav_menu": {},
   "number_sections": true,
   "sideBar": true,
   "skip_h1_title": false,
   "title_cell": "Table of Contents",
   "title_sidebar": "Contents",
   "toc_cell": false,
   "toc_position": {},
   "toc_section_display": true,
   "toc_window_display": false
  },
  "varInspector": {
   "cols": {
    "lenName": 16,
    "lenType": 16,
    "lenVar": 40
   },
   "kernels_config": {
    "python": {
     "delete_cmd_postfix": "",
     "delete_cmd_prefix": "del ",
     "library": "var_list.py",
     "varRefreshCmd": "print(var_dic_list())"
    },
    "r": {
     "delete_cmd_postfix": ") ",
     "delete_cmd_prefix": "rm(",
     "library": "var_list.r",
     "varRefreshCmd": "cat(var_dic_list()) "
    }
   },
   "types_to_exclude": [
    "module",
    "function",
    "builtin_function_or_method",
    "instance",
    "_Feature"
   ],
   "window_display": false
  }
 },
 "nbformat": 4,
 "nbformat_minor": 5
}
