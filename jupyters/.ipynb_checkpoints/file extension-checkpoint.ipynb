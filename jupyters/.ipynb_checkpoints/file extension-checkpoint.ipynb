{
 "cells": [
  {
   "cell_type": "code",
   "execution_count": 12,
   "id": "65905681",
   "metadata": {
    "ExecuteTime": {
     "end_time": "2022-06-29T00:43:46.461752Z",
     "start_time": "2022-06-29T00:43:46.429914Z"
    }
   },
   "outputs": [
    {
     "data": {
      "text/plain": [
       "(1193, 1470, 4)"
      ]
     },
     "execution_count": 12,
     "metadata": {},
     "output_type": "execute_result"
    }
   ],
   "source": [
    "from PIL import Image\n",
    "import numpy as np\n",
    "\n",
    "img = Image.open('images/book.png')\n",
    "img = np.array(img)\n",
    "\n",
    "img.shape"
   ]
  },
  {
   "cell_type": "code",
   "execution_count": 14,
   "id": "0bd8f6ef",
   "metadata": {
    "ExecuteTime": {
     "end_time": "2022-06-29T00:43:50.827988Z",
     "start_time": "2022-06-29T00:43:50.820635Z"
    }
   },
   "outputs": [
    {
     "data": {
      "text/plain": [
       "array([[255, 255, 255,   0],\n",
       "       [255, 255, 255,   0],\n",
       "       [255, 255, 255,   0],\n",
       "       ...,\n",
       "       [255, 255, 255,   0],\n",
       "       [255, 255, 255,   0],\n",
       "       [255, 255, 255,   0]], dtype=uint8)"
      ]
     },
     "execution_count": 14,
     "metadata": {},
     "output_type": "execute_result"
    }
   ],
   "source": [
    "img[0]"
   ]
  },
  {
   "cell_type": "code",
   "execution_count": 15,
   "id": "251dcc65",
   "metadata": {
    "ExecuteTime": {
     "end_time": "2022-06-29T00:43:52.280362Z",
     "start_time": "2022-06-29T00:43:52.267951Z"
    }
   },
   "outputs": [
    {
     "data": {
      "text/plain": [
       "(1193, 1470, 3)"
      ]
     },
     "execution_count": 15,
     "metadata": {},
     "output_type": "execute_result"
    }
   ],
   "source": [
    "tmp = np.zeros((1193, 1470, 3))\n",
    "\n",
    "tmp.shape"
   ]
  },
  {
   "cell_type": "code",
   "execution_count": 20,
   "id": "58a24fe6",
   "metadata": {
    "ExecuteTime": {
     "end_time": "2022-06-29T00:45:39.890702Z",
     "start_time": "2022-06-29T00:45:39.883260Z"
    }
   },
   "outputs": [],
   "source": [
    "# set red channel 7\n",
    "img[:, :, 0] = 7\n",
    "# set green channel 7\n",
    "# img[:, :, 1] = 7\n",
    "# set blue channel 7\n",
    "# img[:, :, 2] = 7"
   ]
  },
  {
   "cell_type": "code",
   "execution_count": 25,
   "id": "9b862ed7",
   "metadata": {
    "ExecuteTime": {
     "end_time": "2022-06-29T00:47:35.326404Z",
     "start_time": "2022-06-29T00:47:35.298332Z"
    }
   },
   "outputs": [],
   "source": [
    "# set tmp only img's rgb(except alpha)\n",
    "tmp[:, :, 0] = img[:, :, 0]\n",
    "tmp[:, :, 1] = img[:, :, 1]\n",
    "tmp[:, :, 2] = img[:, :, 2]"
   ]
  },
  {
   "cell_type": "code",
   "execution_count": 30,
   "id": "55b51572",
   "metadata": {
    "ExecuteTime": {
     "end_time": "2022-06-29T00:51:13.564923Z",
     "start_time": "2022-06-29T00:51:13.536035Z"
    }
   },
   "outputs": [
    {
     "data": {
      "text/plain": [
       "(1193, 1470, 4)"
      ]
     },
     "execution_count": 30,
     "metadata": {},
     "output_type": "execute_result"
    }
   ],
   "source": [
    "# 확장자 이름을 바꾼다고 채널이 바뀌지 않음(rgba -> rgb x)\n",
    "img2 = Image.open('images/book.jpg')\n",
    "img2 = np.array(img2)\n",
    "\n",
    "img2.shape"
   ]
  },
  {
   "cell_type": "code",
   "execution_count": 36,
   "id": "630886af",
   "metadata": {
    "ExecuteTime": {
     "end_time": "2022-06-29T01:01:26.506017Z",
     "start_time": "2022-06-29T01:01:26.485085Z"
    }
   },
   "outputs": [
    {
     "name": "stdout",
     "output_type": "stream",
     "text": [
      "b'\\x89PNG\\r\\n\\x1a\\n\\x00\\x00\\x00\\rIHDR'\n"
     ]
    },
    {
     "data": {
      "text/plain": [
       "'000005be000004a9080600000010bf0f'"
      ]
     },
     "execution_count": 36,
     "metadata": {},
     "output_type": "execute_result"
    }
   ],
   "source": [
    "file = open('images/book.png', 'rb')\n",
    "print(file.read(16))\n",
    "file.read(16).hex()"
   ]
  },
  {
   "cell_type": "code",
   "execution_count": 38,
   "id": "0f712959",
   "metadata": {
    "ExecuteTime": {
     "end_time": "2022-06-29T01:10:27.427759Z",
     "start_time": "2022-06-29T01:10:27.414138Z"
    }
   },
   "outputs": [
    {
     "name": "stdout",
     "output_type": "stream",
     "text": [
      "b'\\xff\\xd8\\xff\\xe0\\x00\\x10JFIF\\x00\\x01\\x01\\x01\\x00`'\n"
     ]
    },
    {
     "data": {
      "text/plain": [
       "'00600000ffdb00430001010101010101'"
      ]
     },
     "execution_count": 38,
     "metadata": {},
     "output_type": "execute_result"
    }
   ],
   "source": [
    "file2 = open('images/flower.jpg', 'rb')\n",
    "print(file2.read(16))\n",
    "file2.read(16).hex()"
   ]
  },
  {
   "cell_type": "markdown",
   "id": "a39ec3fd",
   "metadata": {},
   "source": [
    "## 구글검색:\n",
    "\n",
    "- .png의 이해 => 구글검색 '이미지 불러오기 + 픽셀값 알아내기'\n",
    "- .확장자별 헤더값확인 => https://system-0323.tistory.com/15\n",
    "- .바이너리데이터 확인 => 구글검색 '파이썬 jpg 바이너리로 읽기'\n",
    "\n",
    "대량의 데이터 중 몇개의 오류가 있어도 안됨으로 정확한 헤더를 갖는 jpg 3채널로 모두 저장하고 작업하기도함."
   ]
  }
 ],
 "metadata": {
  "kernelspec": {
   "display_name": "Python 3 (ipykernel)",
   "language": "python",
   "name": "python3"
  },
  "language_info": {
   "codemirror_mode": {
    "name": "ipython",
    "version": 3
   },
   "file_extension": ".py",
   "mimetype": "text/x-python",
   "name": "python",
   "nbconvert_exporter": "python",
   "pygments_lexer": "ipython3",
   "version": "3.9.12"
  },
  "toc": {
   "base_numbering": 1,
   "nav_menu": {},
   "number_sections": true,
   "sideBar": true,
   "skip_h1_title": false,
   "title_cell": "Table of Contents",
   "title_sidebar": "Contents",
   "toc_cell": false,
   "toc_position": {},
   "toc_section_display": true,
   "toc_window_display": false
  },
  "varInspector": {
   "cols": {
    "lenName": 16,
    "lenType": 16,
    "lenVar": 40
   },
   "kernels_config": {
    "python": {
     "delete_cmd_postfix": "",
     "delete_cmd_prefix": "del ",
     "library": "var_list.py",
     "varRefreshCmd": "print(var_dic_list())"
    },
    "r": {
     "delete_cmd_postfix": ") ",
     "delete_cmd_prefix": "rm(",
     "library": "var_list.r",
     "varRefreshCmd": "cat(var_dic_list()) "
    }
   },
   "position": {
    "height": "281.844px",
    "left": "678px",
    "right": "20px",
    "top": "10px",
    "width": "271px"
   },
   "types_to_exclude": [
    "module",
    "function",
    "builtin_function_or_method",
    "instance",
    "_Feature"
   ],
   "window_display": true
  }
 },
 "nbformat": 4,
 "nbformat_minor": 5
}
