{
 "cells": [
  {
   "cell_type": "markdown",
   "id": "d9d0c092",
   "metadata": {},
   "source": [
    "# 데이터분석 목적\n",
    "\n",
    "- 지도학습(y값: 레이블을 제공)\n",
    "    - 베이스공식: wx + b => 회귀분석\n",
    "    - 베이스공식 + (0 ~ 1 사이 값으로만 출력) => 이항분류\n",
    "    - 베이스공식 + 이항분류 + 확률값계산 => 다항분류\n",
    "        - AI에서는 다항분류의 softmax의 output값은 y값의 유니크 갯수로 지정\n",
    "- 사이킷런은 이항분류/다항분류 모두 => 다항분류로 나옴\n",
    "    - y 예측값이 2개 일 때는 [확률1 ,확률2]\n",
    "    - y 예측값이 4개 일 때는 [확률1, 확률2, 확률3, 확률4]\n",
    "    - 가장 큰 확률값의 위치를 찾으면 y 예측값이 됨\n",
    "- 인공신경망은 이항분류는 sigmoid, output 1개 / 다항분류는 softmax, output y의 유니크 갯수 값\n",
    "\n",
    "## 회귀분석에서 예측값 공식\n",
    "\n",
    "$\\hat{y} = wx + b$ 예상\n",
    "<br />\n",
    "$y = \\hat{y} + err$ 실제"
   ]
  },
  {
   "cell_type": "code",
   "execution_count": 1,
   "id": "c569e929",
   "metadata": {
    "ExecuteTime": {
     "end_time": "2022-06-30T01:11:04.202462Z",
     "start_time": "2022-06-30T01:11:04.188149Z"
    }
   },
   "outputs": [],
   "source": [
    "# https://wikidocs.net/87222\n",
    "# 이항분류에서는 미리 자료값을 같은 범위로 만드는\n",
    "# 스케일링을 진행하고 작업하는것을 권장함.\n",
    "# https://m.blog.naver.com/gdpresent/221703566189 (옵션)\n",
    "# 구글링: 로지스틱 회귀분석 c값"
   ]
  },
  {
   "cell_type": "code",
   "execution_count": 2,
   "id": "30848a2b",
   "metadata": {
    "ExecuteTime": {
     "end_time": "2022-06-30T01:11:13.504547Z",
     "start_time": "2022-06-30T01:11:13.491781Z"
    }
   },
   "outputs": [],
   "source": [
    "# 메모리내 변수 제거\n",
    "\n",
    "all = [var for var in globals() if var[0] != \"_\"]   # globals() 목록의 첫글자가 _ 로 시작하지 않는 자료의 리스트만 가져와서\n",
    "for var in all:\n",
    "    del globals()[var]    # _로 시작하지 않는 모든 자료 삭제함"
   ]
  },
  {
   "cell_type": "code",
   "execution_count": 27,
   "id": "93b25c0c",
   "metadata": {
    "ExecuteTime": {
     "end_time": "2022-06-30T05:41:39.609395Z",
     "start_time": "2022-06-30T05:41:39.595414Z"
    }
   },
   "outputs": [
    {
     "name": "stdout",
     "output_type": "stream",
     "text": [
      "---테스트-예측값--- \n",
      "[2 1 1]\n",
      "\n",
      "--테스트-실제값--- \n",
      "[1 1 1]\n",
      "\n",
      "--테스트데이터 정확도--- \n",
      "0.6666666666666666\n"
     ]
    },
    {
     "name": "stderr",
     "output_type": "stream",
     "text": [
      "C:\\Users\\HP\\miniconda3\\lib\\site-packages\\sklearn\\linear_model\\_logistic.py:444: ConvergenceWarning: lbfgs failed to converge (status=1):\n",
      "STOP: TOTAL NO. of ITERATIONS REACHED LIMIT.\n",
      "\n",
      "Increase the number of iterations (max_iter) or scale the data as shown in:\n",
      "    https://scikit-learn.org/stable/modules/preprocessing.html\n",
      "Please also refer to the documentation for alternative solver options:\n",
      "    https://scikit-learn.org/stable/modules/linear_model.html#logistic-regression\n",
      "  n_iter_i = _check_optimize_result(\n"
     ]
    }
   ],
   "source": [
    "import numpy as np\n",
    "from sklearn.model_selection import train_test_split\n",
    "from sklearn.linear_model import LogisticRegression\n",
    "from sklearn.metrics import accuracy_score\n",
    "\n",
    "##########데이터 로드\n",
    "\n",
    "x_data = np.array([\n",
    "    [2, 1],\n",
    "    [3, 2],\n",
    "    [3, 4],\n",
    "    [5, 5],\n",
    "    [7, 5],\n",
    "    [2, 5],\n",
    "    [8, 9],\n",
    "    [9, 10],\n",
    "    [6, 12],\n",
    "    [9, 2],\n",
    "    [6, 10],\n",
    "    [2, 4],\n",
    "    [1, 1],\n",
    "    [0, 0]\n",
    "])\n",
    "y_data = np.array([0, 1, 2, 1, 1, 2, 0, 2, 1, 2, 1, 0, 1, 1])\n",
    "labels = ['fail', 'pass']\n",
    "\n",
    "##########데이터 분석\n",
    "\n",
    "##########데이터 전처리\n",
    "\n",
    "x_train, x_test, y_train, y_test = train_test_split(x_data, y_data, \n",
    "                                                    test_size=0.2, random_state=777)\n",
    "\n",
    "##########모델 학습\n",
    "model = LogisticRegression(max_iter=9)  # wx + b(선형회귀) + 시그모이드 공식 + 확률 => 인공신경망의 softmax와 유사\n",
    "model.fit(x_train, y_train)\n",
    "\n",
    "##########모델 검증\n",
    "y_predict = model.predict(x_test)\n",
    "\n",
    "print('---테스트-예측값--- ')\n",
    "print(y_predict)  # \n",
    "print('\\n--테스트-실제값--- ')\n",
    "print(y_test)  # \n",
    "print('\\n--테스트데이터 정확도--- ')\n",
    "print(accuracy_score(y_test, y_predict)) #1.0 #정확도"
   ]
  },
  {
   "cell_type": "code",
   "execution_count": 28,
   "id": "e3a72611",
   "metadata": {
    "ExecuteTime": {
     "end_time": "2022-06-30T05:41:41.307155Z",
     "start_time": "2022-06-30T05:41:41.293132Z"
    }
   },
   "outputs": [
    {
     "name": "stdout",
     "output_type": "stream",
     "text": [
      "[[0.24678509 0.34466205 0.40855285]\n",
      " [0.331247   0.35150402 0.31724898]\n",
      " [0.3132533  0.36526296 0.32148374]]\n",
      "[2 1 1]\n"
     ]
    }
   ],
   "source": [
    "print(model.predict_proba(x_test))\n",
    "print(model.predict(x_test))"
   ]
  },
  {
   "cell_type": "code",
   "execution_count": 29,
   "id": "57c3575e",
   "metadata": {
    "ExecuteTime": {
     "end_time": "2022-06-30T05:41:42.723921Z",
     "start_time": "2022-06-30T05:41:42.701658Z"
    }
   },
   "outputs": [
    {
     "data": {
      "text/plain": [
       "array([[0.33333143, 0.66666857],\n",
       "       [0.33333143, 0.66666857],\n",
       "       [0.33333143, 0.66666857]])"
      ]
     },
     "execution_count": 29,
     "metadata": {},
     "output_type": "execute_result"
    }
   ],
   "source": [
    "x_train = [[2, 3], [2, 3], [2, 3]]\n",
    "y_train = [1, 0, 1]\n",
    "\n",
    "x_test = [[2, 3], [2, 3], [2, 3]]\n",
    "y_test = [1, 2, 3]\n",
    "\n",
    "model = LogisticRegression()\n",
    "model.fit(x_train, y_train)\n",
    "\n",
    "model.predict_proba(x_train)\n",
    "model.predict_proba(x_test)"
   ]
  },
  {
   "cell_type": "markdown",
   "id": "44a8a640",
   "metadata": {},
   "source": [
    "# 비지도 학습"
   ]
  }
 ],
 "metadata": {
  "kernelspec": {
   "display_name": "Python 3 (ipykernel)",
   "language": "python",
   "name": "python3"
  },
  "language_info": {
   "codemirror_mode": {
    "name": "ipython",
    "version": 3
   },
   "file_extension": ".py",
   "mimetype": "text/x-python",
   "name": "python",
   "nbconvert_exporter": "python",
   "pygments_lexer": "ipython3",
   "version": "3.9.12"
  },
  "toc": {
   "base_numbering": 1,
   "nav_menu": {},
   "number_sections": true,
   "sideBar": true,
   "skip_h1_title": false,
   "title_cell": "Table of Contents",
   "title_sidebar": "Contents",
   "toc_cell": false,
   "toc_position": {},
   "toc_section_display": true,
   "toc_window_display": false
  },
  "varInspector": {
   "cols": {
    "lenName": 16,
    "lenType": 16,
    "lenVar": 40
   },
   "kernels_config": {
    "python": {
     "delete_cmd_postfix": "",
     "delete_cmd_prefix": "del ",
     "library": "var_list.py",
     "varRefreshCmd": "print(var_dic_list())"
    },
    "r": {
     "delete_cmd_postfix": ") ",
     "delete_cmd_prefix": "rm(",
     "library": "var_list.r",
     "varRefreshCmd": "cat(var_dic_list()) "
    }
   },
   "types_to_exclude": [
    "module",
    "function",
    "builtin_function_or_method",
    "instance",
    "_Feature"
   ],
   "window_display": false
  }
 },
 "nbformat": 4,
 "nbformat_minor": 5
}
