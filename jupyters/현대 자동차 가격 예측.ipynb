{
 "cells": [
  {
   "cell_type": "code",
   "execution_count": 1,
   "id": "d29120d0",
   "metadata": {
    "ExecuteTime": {
     "end_time": "2022-07-04T07:38:46.815958Z",
     "start_time": "2022-07-04T07:38:39.076370Z"
    }
   },
   "outputs": [],
   "source": [
    "import pandas as pd\n",
    "import tensorflow as tf\n",
    "import numpy as np\n",
    "from sklearn.preprocessing import OneHotEncoder\n",
    "from sklearn.compose import make_column_transformer"
   ]
  },
  {
   "cell_type": "code",
   "execution_count": 4,
   "id": "2e376c3e",
   "metadata": {
    "ExecuteTime": {
     "end_time": "2022-07-04T07:39:31.669210Z",
     "start_time": "2022-07-04T07:39:28.096436Z"
    }
   },
   "outputs": [
    {
     "name": "stdout",
     "output_type": "stream",
     "text": [
      "Collecting openpyxl\n",
      "  Downloading openpyxl-3.0.10-py2.py3-none-any.whl (242 kB)\n",
      "Collecting et-xmlfile\n",
      "  Downloading et_xmlfile-1.1.0-py3-none-any.whl (4.7 kB)\n",
      "Installing collected packages: et-xmlfile, openpyxl\n",
      "Successfully installed et-xmlfile-1.1.0 openpyxl-3.0.10\n"
     ]
    }
   ],
   "source": [
    "!pip install openpyxl"
   ]
  },
  {
   "cell_type": "code",
   "execution_count": 5,
   "id": "5d1ef613",
   "metadata": {
    "ExecuteTime": {
     "end_time": "2022-07-04T07:39:33.844728Z",
     "start_time": "2022-07-04T07:39:32.973834Z"
    }
   },
   "outputs": [],
   "source": [
    "train_df = pd.read_excel(\n",
    "    'https://github.com/cranberryai/todak_todak_python/blob/master/machine_learning/regression/carprice_E1SUl6b.xlsx?raw=true',\n",
    "    sheet_name='train')\n",
    "test_df = pd.read_excel(\n",
    "    'https://github.com/cranberryai/todak_todak_python/blob/master/machine_learning/regression/carprice_E1SUl6b.xlsx?raw=true',\n",
    "    sheet_name='test')"
   ]
  },
  {
   "cell_type": "code",
   "execution_count": 49,
   "id": "010ea495",
   "metadata": {
    "ExecuteTime": {
     "end_time": "2022-07-04T07:56:06.212925Z",
     "start_time": "2022-07-04T07:56:06.204928Z"
    }
   },
   "outputs": [],
   "source": [
    "x_train = train_df.drop(['가격'], axis=1)\n",
    "x_test = test_df.drop(['가격'], axis=1)\n",
    "y_train = train_df[['가격']]\n",
    "y_test = test_df[['가격']]"
   ]
  },
  {
   "cell_type": "code",
   "execution_count": 8,
   "id": "ad805716",
   "metadata": {
    "ExecuteTime": {
     "end_time": "2022-07-04T07:39:48.262585Z",
     "start_time": "2022-07-04T07:39:48.239606Z"
    }
   },
   "outputs": [
    {
     "name": "stdout",
     "output_type": "stream",
     "text": [
      "     년식   종류    연비   마력    토크   연료  하이브리드   배기량    중량 변속기\n",
      "0  2015  준중형  11.8  172  21.0  가솔린      0  1999  1300  자동\n",
      "1  2015  준중형  12.3  204  27.0  가솔린      0  1591  1300  자동\n",
      "2  2015   소형  15.0  100  13.6  가솔린      0  1368  1035  수동\n",
      "3  2014   소형  14.0  140  17.0  가솔린      0  1591  1090  자동\n",
      "4  2015   대형   9.6  175  46.0   디젤      0  2497  1990  자동\n"
     ]
    }
   ],
   "source": [
    "print(x_train.head())"
   ]
  },
  {
   "cell_type": "code",
   "execution_count": 9,
   "id": "a32df045",
   "metadata": {
    "ExecuteTime": {
     "end_time": "2022-07-04T07:39:59.249377Z",
     "start_time": "2022-07-04T07:39:59.213331Z"
    }
   },
   "outputs": [],
   "source": [
    "transformer = make_column_transformer(\n",
    "    (OneHotEncoder(), ['종류', '연료', '변속기']),\n",
    "    remainder='passthrough')\n",
    "transformer.fit(x_train)\n",
    "x_train = transformer.transform(x_train)\n",
    "x_test = transformer.transform(x_test)"
   ]
  },
  {
   "cell_type": "code",
   "execution_count": 10,
   "id": "7be3290b",
   "metadata": {
    "ExecuteTime": {
     "end_time": "2022-07-04T07:40:16.922218Z",
     "start_time": "2022-07-04T07:40:16.868715Z"
    }
   },
   "outputs": [
    {
     "data": {
      "text/html": [
       "<div>\n",
       "<style scoped>\n",
       "    .dataframe tbody tr th:only-of-type {\n",
       "        vertical-align: middle;\n",
       "    }\n",
       "\n",
       "    .dataframe tbody tr th {\n",
       "        vertical-align: top;\n",
       "    }\n",
       "\n",
       "    .dataframe thead th {\n",
       "        text-align: right;\n",
       "    }\n",
       "</style>\n",
       "<table border=\"1\" class=\"dataframe\">\n",
       "  <thead>\n",
       "    <tr style=\"text-align: right;\">\n",
       "      <th></th>\n",
       "      <th>가격</th>\n",
       "      <th>년식</th>\n",
       "      <th>연비</th>\n",
       "      <th>마력</th>\n",
       "      <th>토크</th>\n",
       "      <th>하이브리드</th>\n",
       "      <th>배기량</th>\n",
       "      <th>중량</th>\n",
       "      <th>종류_대형</th>\n",
       "      <th>종류_소형</th>\n",
       "      <th>종류_준중형</th>\n",
       "      <th>종류_중형</th>\n",
       "      <th>연료_LPG</th>\n",
       "      <th>연료_가솔린</th>\n",
       "      <th>연료_디젤</th>\n",
       "      <th>변속기_수동</th>\n",
       "      <th>변속기_자동</th>\n",
       "    </tr>\n",
       "  </thead>\n",
       "  <tbody>\n",
       "    <tr>\n",
       "      <th>0</th>\n",
       "      <td>1885</td>\n",
       "      <td>2015</td>\n",
       "      <td>11.8</td>\n",
       "      <td>172</td>\n",
       "      <td>21.0</td>\n",
       "      <td>0</td>\n",
       "      <td>1999</td>\n",
       "      <td>1300</td>\n",
       "      <td>0</td>\n",
       "      <td>0</td>\n",
       "      <td>1</td>\n",
       "      <td>0</td>\n",
       "      <td>0</td>\n",
       "      <td>1</td>\n",
       "      <td>0</td>\n",
       "      <td>0</td>\n",
       "      <td>1</td>\n",
       "    </tr>\n",
       "    <tr>\n",
       "      <th>1</th>\n",
       "      <td>2190</td>\n",
       "      <td>2015</td>\n",
       "      <td>12.3</td>\n",
       "      <td>204</td>\n",
       "      <td>27.0</td>\n",
       "      <td>0</td>\n",
       "      <td>1591</td>\n",
       "      <td>1300</td>\n",
       "      <td>0</td>\n",
       "      <td>0</td>\n",
       "      <td>1</td>\n",
       "      <td>0</td>\n",
       "      <td>0</td>\n",
       "      <td>1</td>\n",
       "      <td>0</td>\n",
       "      <td>0</td>\n",
       "      <td>1</td>\n",
       "    </tr>\n",
       "    <tr>\n",
       "      <th>2</th>\n",
       "      <td>1135</td>\n",
       "      <td>2015</td>\n",
       "      <td>15.0</td>\n",
       "      <td>100</td>\n",
       "      <td>13.6</td>\n",
       "      <td>0</td>\n",
       "      <td>1368</td>\n",
       "      <td>1035</td>\n",
       "      <td>0</td>\n",
       "      <td>1</td>\n",
       "      <td>0</td>\n",
       "      <td>0</td>\n",
       "      <td>0</td>\n",
       "      <td>1</td>\n",
       "      <td>0</td>\n",
       "      <td>1</td>\n",
       "      <td>0</td>\n",
       "    </tr>\n",
       "    <tr>\n",
       "      <th>3</th>\n",
       "      <td>1645</td>\n",
       "      <td>2014</td>\n",
       "      <td>14.0</td>\n",
       "      <td>140</td>\n",
       "      <td>17.0</td>\n",
       "      <td>0</td>\n",
       "      <td>1591</td>\n",
       "      <td>1090</td>\n",
       "      <td>0</td>\n",
       "      <td>1</td>\n",
       "      <td>0</td>\n",
       "      <td>0</td>\n",
       "      <td>0</td>\n",
       "      <td>1</td>\n",
       "      <td>0</td>\n",
       "      <td>0</td>\n",
       "      <td>1</td>\n",
       "    </tr>\n",
       "    <tr>\n",
       "      <th>4</th>\n",
       "      <td>1960</td>\n",
       "      <td>2015</td>\n",
       "      <td>9.6</td>\n",
       "      <td>175</td>\n",
       "      <td>46.0</td>\n",
       "      <td>0</td>\n",
       "      <td>2497</td>\n",
       "      <td>1990</td>\n",
       "      <td>1</td>\n",
       "      <td>0</td>\n",
       "      <td>0</td>\n",
       "      <td>0</td>\n",
       "      <td>0</td>\n",
       "      <td>0</td>\n",
       "      <td>1</td>\n",
       "      <td>0</td>\n",
       "      <td>1</td>\n",
       "    </tr>\n",
       "    <tr>\n",
       "      <th>...</th>\n",
       "      <td>...</td>\n",
       "      <td>...</td>\n",
       "      <td>...</td>\n",
       "      <td>...</td>\n",
       "      <td>...</td>\n",
       "      <td>...</td>\n",
       "      <td>...</td>\n",
       "      <td>...</td>\n",
       "      <td>...</td>\n",
       "      <td>...</td>\n",
       "      <td>...</td>\n",
       "      <td>...</td>\n",
       "      <td>...</td>\n",
       "      <td>...</td>\n",
       "      <td>...</td>\n",
       "      <td>...</td>\n",
       "      <td>...</td>\n",
       "    </tr>\n",
       "    <tr>\n",
       "      <th>66</th>\n",
       "      <td>3802</td>\n",
       "      <td>2015</td>\n",
       "      <td>8.5</td>\n",
       "      <td>290</td>\n",
       "      <td>34.8</td>\n",
       "      <td>0</td>\n",
       "      <td>3342</td>\n",
       "      <td>1901</td>\n",
       "      <td>0</td>\n",
       "      <td>0</td>\n",
       "      <td>0</td>\n",
       "      <td>1</td>\n",
       "      <td>0</td>\n",
       "      <td>1</td>\n",
       "      <td>0</td>\n",
       "      <td>0</td>\n",
       "      <td>1</td>\n",
       "    </tr>\n",
       "    <tr>\n",
       "      <th>67</th>\n",
       "      <td>1270</td>\n",
       "      <td>2012</td>\n",
       "      <td>13.3</td>\n",
       "      <td>108</td>\n",
       "      <td>13.9</td>\n",
       "      <td>0</td>\n",
       "      <td>1396</td>\n",
       "      <td>1040</td>\n",
       "      <td>0</td>\n",
       "      <td>1</td>\n",
       "      <td>0</td>\n",
       "      <td>0</td>\n",
       "      <td>0</td>\n",
       "      <td>1</td>\n",
       "      <td>0</td>\n",
       "      <td>0</td>\n",
       "      <td>1</td>\n",
       "    </tr>\n",
       "    <tr>\n",
       "      <th>68</th>\n",
       "      <td>2430</td>\n",
       "      <td>2015</td>\n",
       "      <td>12.8</td>\n",
       "      <td>186</td>\n",
       "      <td>41.0</td>\n",
       "      <td>0</td>\n",
       "      <td>1995</td>\n",
       "      <td>1665</td>\n",
       "      <td>0</td>\n",
       "      <td>0</td>\n",
       "      <td>1</td>\n",
       "      <td>0</td>\n",
       "      <td>0</td>\n",
       "      <td>0</td>\n",
       "      <td>1</td>\n",
       "      <td>0</td>\n",
       "      <td>1</td>\n",
       "    </tr>\n",
       "    <tr>\n",
       "      <th>69</th>\n",
       "      <td>2870</td>\n",
       "      <td>2015</td>\n",
       "      <td>17.7</td>\n",
       "      <td>156</td>\n",
       "      <td>19.3</td>\n",
       "      <td>1</td>\n",
       "      <td>1999</td>\n",
       "      <td>1585</td>\n",
       "      <td>0</td>\n",
       "      <td>0</td>\n",
       "      <td>0</td>\n",
       "      <td>1</td>\n",
       "      <td>0</td>\n",
       "      <td>1</td>\n",
       "      <td>0</td>\n",
       "      <td>0</td>\n",
       "      <td>1</td>\n",
       "    </tr>\n",
       "    <tr>\n",
       "      <th>70</th>\n",
       "      <td>3254</td>\n",
       "      <td>2015</td>\n",
       "      <td>13.8</td>\n",
       "      <td>202</td>\n",
       "      <td>45.0</td>\n",
       "      <td>0</td>\n",
       "      <td>2199</td>\n",
       "      <td>1691</td>\n",
       "      <td>1</td>\n",
       "      <td>0</td>\n",
       "      <td>0</td>\n",
       "      <td>0</td>\n",
       "      <td>0</td>\n",
       "      <td>0</td>\n",
       "      <td>1</td>\n",
       "      <td>0</td>\n",
       "      <td>1</td>\n",
       "    </tr>\n",
       "  </tbody>\n",
       "</table>\n",
       "<p>71 rows × 17 columns</p>\n",
       "</div>"
      ],
      "text/plain": [
       "      가격    년식    연비   마력    토크  하이브리드   배기량    중량  종류_대형  종류_소형  종류_준중형  \\\n",
       "0   1885  2015  11.8  172  21.0      0  1999  1300      0      0       1   \n",
       "1   2190  2015  12.3  204  27.0      0  1591  1300      0      0       1   \n",
       "2   1135  2015  15.0  100  13.6      0  1368  1035      0      1       0   \n",
       "3   1645  2014  14.0  140  17.0      0  1591  1090      0      1       0   \n",
       "4   1960  2015   9.6  175  46.0      0  2497  1990      1      0       0   \n",
       "..   ...   ...   ...  ...   ...    ...   ...   ...    ...    ...     ...   \n",
       "66  3802  2015   8.5  290  34.8      0  3342  1901      0      0       0   \n",
       "67  1270  2012  13.3  108  13.9      0  1396  1040      0      1       0   \n",
       "68  2430  2015  12.8  186  41.0      0  1995  1665      0      0       1   \n",
       "69  2870  2015  17.7  156  19.3      1  1999  1585      0      0       0   \n",
       "70  3254  2015  13.8  202  45.0      0  2199  1691      1      0       0   \n",
       "\n",
       "    종류_중형  연료_LPG  연료_가솔린  연료_디젤  변속기_수동  변속기_자동  \n",
       "0       0       0       1      0       0       1  \n",
       "1       0       0       1      0       0       1  \n",
       "2       0       0       1      0       1       0  \n",
       "3       0       0       1      0       0       1  \n",
       "4       0       0       0      1       0       1  \n",
       "..    ...     ...     ...    ...     ...     ...  \n",
       "66      1       0       1      0       0       1  \n",
       "67      0       0       1      0       0       1  \n",
       "68      0       0       0      1       0       1  \n",
       "69      1       0       1      0       0       1  \n",
       "70      0       0       0      1       0       1  \n",
       "\n",
       "[71 rows x 17 columns]"
      ]
     },
     "execution_count": 10,
     "metadata": {},
     "output_type": "execute_result"
    }
   ],
   "source": [
    "pd.get_dummies(train_df)"
   ]
  },
  {
   "cell_type": "code",
   "execution_count": 11,
   "id": "329c2015",
   "metadata": {
    "ExecuteTime": {
     "end_time": "2022-07-04T07:40:52.520206Z",
     "start_time": "2022-07-04T07:40:52.502645Z"
    }
   },
   "outputs": [],
   "source": [
    "from sklearn.preprocessing import MinMaxScaler"
   ]
  },
  {
   "cell_type": "code",
   "execution_count": 12,
   "id": "54894be5",
   "metadata": {
    "ExecuteTime": {
     "end_time": "2022-07-04T07:41:47.855993Z",
     "start_time": "2022-07-04T07:41:47.823615Z"
    }
   },
   "outputs": [],
   "source": [
    "# minmax는 더미변수 값의 0과 1에 변형이 없어서\n",
    "# 별도 변수 분리없이 모두에 적용\n",
    "\n",
    "scaler = MinMaxScaler()\n",
    "scaler_x_train = scaler.fit_transform(x_train)\n",
    "scaler_x_test = scaler.transform(x_test)"
   ]
  },
  {
   "cell_type": "code",
   "execution_count": 15,
   "id": "88d57477",
   "metadata": {
    "ExecuteTime": {
     "end_time": "2022-07-04T07:45:15.895161Z",
     "start_time": "2022-07-04T07:45:15.873445Z"
    }
   },
   "outputs": [
    {
     "data": {
      "text/plain": [
       "(array([[-538.07573372,  463.8614926 ,   10.9448916 ,   63.26934952,\n",
       "          288.56121264, -212.79830412,  -75.76290851, -161.29147786,\n",
       "          161.29147786,  140.42708513, 1666.18511725, 3109.14675071,\n",
       "         -301.08509852,  325.68069979, 6567.11718155,  150.92399575]]),\n",
       " array([-408.18794177]))"
      ]
     },
     "execution_count": 15,
     "metadata": {},
     "output_type": "execute_result"
    }
   ],
   "source": [
    "from sklearn.linear_model import LinearRegression\n",
    "\n",
    "model = LinearRegression()\n",
    "model.fit(scaler_x_train, y_train)\n",
    "model.coef_, model.intercept_"
   ]
  },
  {
   "cell_type": "code",
   "execution_count": 18,
   "id": "7e94854c",
   "metadata": {
    "ExecuteTime": {
     "end_time": "2022-07-04T07:46:48.016101Z",
     "start_time": "2022-07-04T07:46:48.005441Z"
    }
   },
   "outputs": [
    {
     "data": {
      "text/plain": [
       "0.7739730315244938"
      ]
     },
     "execution_count": 18,
     "metadata": {},
     "output_type": "execute_result"
    }
   ],
   "source": [
    "model.score(scaler_x_test, y_test)"
   ]
  },
  {
   "cell_type": "code",
   "execution_count": 67,
   "id": "5af3256f",
   "metadata": {
    "ExecuteTime": {
     "end_time": "2022-07-04T08:03:38.046527Z",
     "start_time": "2022-07-04T08:03:38.021171Z"
    }
   },
   "outputs": [
    {
     "data": {
      "text/html": [
       "<div>\n",
       "<style scoped>\n",
       "    .dataframe tbody tr th:only-of-type {\n",
       "        vertical-align: middle;\n",
       "    }\n",
       "\n",
       "    .dataframe tbody tr th {\n",
       "        vertical-align: top;\n",
       "    }\n",
       "\n",
       "    .dataframe thead th {\n",
       "        text-align: right;\n",
       "    }\n",
       "</style>\n",
       "<table border=\"1\" class=\"dataframe\">\n",
       "  <thead>\n",
       "    <tr style=\"text-align: right;\">\n",
       "      <th></th>\n",
       "      <th>key</th>\n",
       "      <th>coeff</th>\n",
       "    </tr>\n",
       "  </thead>\n",
       "  <tbody>\n",
       "    <tr>\n",
       "      <th>0</th>\n",
       "      <td>년식</td>\n",
       "      <td>-538.075734</td>\n",
       "    </tr>\n",
       "    <tr>\n",
       "      <th>1</th>\n",
       "      <td>연비</td>\n",
       "      <td>-301.085099</td>\n",
       "    </tr>\n",
       "    <tr>\n",
       "      <th>2</th>\n",
       "      <td>마력</td>\n",
       "      <td>-212.798304</td>\n",
       "    </tr>\n",
       "    <tr>\n",
       "      <th>3</th>\n",
       "      <td>토크</td>\n",
       "      <td>-161.291478</td>\n",
       "    </tr>\n",
       "    <tr>\n",
       "      <th>4</th>\n",
       "      <td>하이브리드</td>\n",
       "      <td>-75.762909</td>\n",
       "    </tr>\n",
       "    <tr>\n",
       "      <th>5</th>\n",
       "      <td>배기량</td>\n",
       "      <td>10.944892</td>\n",
       "    </tr>\n",
       "    <tr>\n",
       "      <th>6</th>\n",
       "      <td>중량</td>\n",
       "      <td>63.269350</td>\n",
       "    </tr>\n",
       "    <tr>\n",
       "      <th>7</th>\n",
       "      <td>종류_대형</td>\n",
       "      <td>140.427085</td>\n",
       "    </tr>\n",
       "    <tr>\n",
       "      <th>8</th>\n",
       "      <td>종류_소형</td>\n",
       "      <td>150.923996</td>\n",
       "    </tr>\n",
       "    <tr>\n",
       "      <th>9</th>\n",
       "      <td>종류_준중형</td>\n",
       "      <td>161.291478</td>\n",
       "    </tr>\n",
       "    <tr>\n",
       "      <th>10</th>\n",
       "      <td>종류_중형</td>\n",
       "      <td>288.561213</td>\n",
       "    </tr>\n",
       "    <tr>\n",
       "      <th>11</th>\n",
       "      <td>연료_LPG</td>\n",
       "      <td>325.680700</td>\n",
       "    </tr>\n",
       "    <tr>\n",
       "      <th>12</th>\n",
       "      <td>연료_가솔린</td>\n",
       "      <td>463.861493</td>\n",
       "    </tr>\n",
       "    <tr>\n",
       "      <th>13</th>\n",
       "      <td>연료_디젤</td>\n",
       "      <td>1666.185117</td>\n",
       "    </tr>\n",
       "    <tr>\n",
       "      <th>14</th>\n",
       "      <td>변속기_수동</td>\n",
       "      <td>3109.146751</td>\n",
       "    </tr>\n",
       "    <tr>\n",
       "      <th>15</th>\n",
       "      <td>변속기_자동</td>\n",
       "      <td>6567.117182</td>\n",
       "    </tr>\n",
       "  </tbody>\n",
       "</table>\n",
       "</div>"
      ],
      "text/plain": [
       "       key        coeff\n",
       "0       년식  -538.075734\n",
       "1       연비  -301.085099\n",
       "2       마력  -212.798304\n",
       "3       토크  -161.291478\n",
       "4    하이브리드   -75.762909\n",
       "5      배기량    10.944892\n",
       "6       중량    63.269350\n",
       "7    종류_대형   140.427085\n",
       "8    종류_소형   150.923996\n",
       "9   종류_준중형   161.291478\n",
       "10   종류_중형   288.561213\n",
       "11  연료_LPG   325.680700\n",
       "12  연료_가솔린   463.861493\n",
       "13   연료_디젤  1666.185117\n",
       "14  변속기_수동  3109.146751\n",
       "15  변속기_자동  6567.117182"
      ]
     },
     "execution_count": 67,
     "metadata": {},
     "output_type": "execute_result"
    }
   ],
   "source": [
    "# 변수 중요도는 coef_로 확인한다\n",
    "\n",
    "coeffDf = pd.DataFrame({\n",
    "    'key': pd.get_dummies(train_df.drop(['가격'], axis=1)).columns,\n",
    "    'coeff': model.coef_[0]\n",
    "})\n",
    "\n",
    "coeffDf.sort_values('coeff')"
   ]
  },
  {
   "cell_type": "code",
   "execution_count": 73,
   "id": "e70d3587",
   "metadata": {
    "ExecuteTime": {
     "end_time": "2022-07-04T08:09:56.108888Z",
     "start_time": "2022-07-04T08:09:56.066774Z"
    }
   },
   "outputs": [
    {
     "data": {
      "text/html": [
       "<table class=\"simpletable\">\n",
       "<caption>OLS Regression Results</caption>\n",
       "<tr>\n",
       "  <th>Dep. Variable:</th>           <td>가격</td>        <th>  R-squared:         </th> <td>   0.885</td>\n",
       "</tr>\n",
       "<tr>\n",
       "  <th>Model:</th>                   <td>OLS</td>       <th>  Adj. R-squared:    </th> <td>   0.858</td>\n",
       "</tr>\n",
       "<tr>\n",
       "  <th>Method:</th>             <td>Least Squares</td>  <th>  F-statistic:       </th> <td>   33.58</td>\n",
       "</tr>\n",
       "<tr>\n",
       "  <th>Date:</th>             <td>Mon, 04 Jul 2022</td> <th>  Prob (F-statistic):</th> <td>6.27e-22</td>\n",
       "</tr>\n",
       "<tr>\n",
       "  <th>Time:</th>                 <td>17:09:56</td>     <th>  Log-Likelihood:    </th> <td> -540.77</td>\n",
       "</tr>\n",
       "<tr>\n",
       "  <th>No. Observations:</th>      <td>    71</td>      <th>  AIC:               </th> <td>   1110.</td>\n",
       "</tr>\n",
       "<tr>\n",
       "  <th>Df Residuals:</th>          <td>    57</td>      <th>  BIC:               </th> <td>   1141.</td>\n",
       "</tr>\n",
       "<tr>\n",
       "  <th>Df Model:</th>              <td>    13</td>      <th>                     </th>     <td> </td>   \n",
       "</tr>\n",
       "<tr>\n",
       "  <th>Covariance Type:</th>      <td>nonrobust</td>    <th>                     </th>     <td> </td>   \n",
       "</tr>\n",
       "</table>\n",
       "<table class=\"simpletable\">\n",
       "<tr>\n",
       "    <td></td>       <th>coef</th>     <th>std err</th>      <th>t</th>      <th>P>|t|</th>  <th>[0.025</th>    <th>0.975]</th>  \n",
       "</tr>\n",
       "<tr>\n",
       "  <th>const</th> <td> -195.9302</td> <td>  341.907</td> <td>   -0.573</td> <td> 0.569</td> <td> -880.587</td> <td>  488.727</td>\n",
       "</tr>\n",
       "<tr>\n",
       "  <th>x1</th>    <td> -587.0583</td> <td>  283.102</td> <td>   -2.074</td> <td> 0.043</td> <td>-1153.960</td> <td>  -20.157</td>\n",
       "</tr>\n",
       "<tr>\n",
       "  <th>x2</th>    <td>  414.8789</td> <td>  253.318</td> <td>    1.638</td> <td> 0.107</td> <td>  -92.382</td> <td>  922.140</td>\n",
       "</tr>\n",
       "<tr>\n",
       "  <th>x3</th>    <td>  -38.0377</td> <td>  162.546</td> <td>   -0.234</td> <td> 0.816</td> <td> -363.531</td> <td>  287.455</td>\n",
       "</tr>\n",
       "<tr>\n",
       "  <th>x4</th>    <td>   14.2868</td> <td>  240.580</td> <td>    0.059</td> <td> 0.953</td> <td> -467.466</td> <td>  496.039</td>\n",
       "</tr>\n",
       "<tr>\n",
       "  <th>x5</th>    <td>  223.2511</td> <td>  222.444</td> <td>    1.004</td> <td> 0.320</td> <td> -222.184</td> <td>  668.687</td>\n",
       "</tr>\n",
       "<tr>\n",
       "  <th>x6</th>    <td> -278.1084</td> <td>  190.909</td> <td>   -1.457</td> <td> 0.151</td> <td> -660.397</td> <td>  104.180</td>\n",
       "</tr>\n",
       "<tr>\n",
       "  <th>x7</th>    <td> -141.0730</td> <td>  306.451</td> <td>   -0.460</td> <td> 0.647</td> <td> -754.730</td> <td>  472.584</td>\n",
       "</tr>\n",
       "<tr>\n",
       "  <th>x8</th>    <td> -259.2566</td> <td>  210.255</td> <td>   -1.233</td> <td> 0.223</td> <td> -680.284</td> <td>  161.771</td>\n",
       "</tr>\n",
       "<tr>\n",
       "  <th>x9</th>    <td>   63.3264</td> <td>  169.563</td> <td>    0.373</td> <td> 0.710</td> <td> -276.218</td> <td>  402.870</td>\n",
       "</tr>\n",
       "<tr>\n",
       "  <th>x10</th>   <td>  140.4271</td> <td>  336.952</td> <td>    0.417</td> <td> 0.678</td> <td> -534.308</td> <td>  815.162</td>\n",
       "</tr>\n",
       "<tr>\n",
       "  <th>x11</th>   <td> 1666.1851</td> <td>  759.186</td> <td>    2.195</td> <td> 0.032</td> <td>  145.942</td> <td> 3186.428</td>\n",
       "</tr>\n",
       "<tr>\n",
       "  <th>x12</th>   <td> 3109.1468</td> <td> 1353.780</td> <td>    2.297</td> <td> 0.025</td> <td>  398.250</td> <td> 5820.044</td>\n",
       "</tr>\n",
       "<tr>\n",
       "  <th>x13</th>   <td> -301.0851</td> <td>  604.272</td> <td>   -0.498</td> <td> 0.620</td> <td>-1511.120</td> <td>  908.950</td>\n",
       "</tr>\n",
       "<tr>\n",
       "  <th>x14</th>   <td>  325.6807</td> <td>  502.303</td> <td>    0.648</td> <td> 0.519</td> <td> -680.164</td> <td> 1331.525</td>\n",
       "</tr>\n",
       "<tr>\n",
       "  <th>x15</th>   <td> 6567.1172</td> <td> 1517.244</td> <td>    4.328</td> <td> 0.000</td> <td> 3528.888</td> <td> 9605.346</td>\n",
       "</tr>\n",
       "<tr>\n",
       "  <th>x16</th>   <td>  150.9240</td> <td> 1059.427</td> <td>    0.142</td> <td> 0.887</td> <td>-1970.543</td> <td> 2272.391</td>\n",
       "</tr>\n",
       "</table>\n",
       "<table class=\"simpletable\">\n",
       "<tr>\n",
       "  <th>Omnibus:</th>       <td>25.864</td> <th>  Durbin-Watson:     </th> <td>   1.923</td>\n",
       "</tr>\n",
       "<tr>\n",
       "  <th>Prob(Omnibus):</th> <td> 0.000</td> <th>  Jarque-Bera (JB):  </th> <td> 102.139</td>\n",
       "</tr>\n",
       "<tr>\n",
       "  <th>Skew:</th>          <td> 0.896</td> <th>  Prob(JB):          </th> <td>6.62e-23</td>\n",
       "</tr>\n",
       "<tr>\n",
       "  <th>Kurtosis:</th>      <td> 8.596</td> <th>  Cond. No.          </th> <td>3.64e+16</td>\n",
       "</tr>\n",
       "</table><br/><br/>Notes:<br/>[1] Standard Errors assume that the covariance matrix of the errors is correctly specified.<br/>[2] The smallest eigenvalue is 2.06e-31. This might indicate that there are<br/>strong multicollinearity problems or that the design matrix is singular."
      ],
      "text/plain": [
       "<class 'statsmodels.iolib.summary.Summary'>\n",
       "\"\"\"\n",
       "                            OLS Regression Results                            \n",
       "==============================================================================\n",
       "Dep. Variable:                     가격   R-squared:                       0.885\n",
       "Model:                            OLS   Adj. R-squared:                  0.858\n",
       "Method:                 Least Squares   F-statistic:                     33.58\n",
       "Date:                Mon, 04 Jul 2022   Prob (F-statistic):           6.27e-22\n",
       "Time:                        17:09:56   Log-Likelihood:                -540.77\n",
       "No. Observations:                  71   AIC:                             1110.\n",
       "Df Residuals:                      57   BIC:                             1141.\n",
       "Df Model:                          13                                         \n",
       "Covariance Type:            nonrobust                                         \n",
       "==============================================================================\n",
       "                 coef    std err          t      P>|t|      [0.025      0.975]\n",
       "------------------------------------------------------------------------------\n",
       "const       -195.9302    341.907     -0.573      0.569    -880.587     488.727\n",
       "x1          -587.0583    283.102     -2.074      0.043   -1153.960     -20.157\n",
       "x2           414.8789    253.318      1.638      0.107     -92.382     922.140\n",
       "x3           -38.0377    162.546     -0.234      0.816    -363.531     287.455\n",
       "x4            14.2868    240.580      0.059      0.953    -467.466     496.039\n",
       "x5           223.2511    222.444      1.004      0.320    -222.184     668.687\n",
       "x6          -278.1084    190.909     -1.457      0.151    -660.397     104.180\n",
       "x7          -141.0730    306.451     -0.460      0.647    -754.730     472.584\n",
       "x8          -259.2566    210.255     -1.233      0.223    -680.284     161.771\n",
       "x9            63.3264    169.563      0.373      0.710    -276.218     402.870\n",
       "x10          140.4271    336.952      0.417      0.678    -534.308     815.162\n",
       "x11         1666.1851    759.186      2.195      0.032     145.942    3186.428\n",
       "x12         3109.1468   1353.780      2.297      0.025     398.250    5820.044\n",
       "x13         -301.0851    604.272     -0.498      0.620   -1511.120     908.950\n",
       "x14          325.6807    502.303      0.648      0.519    -680.164    1331.525\n",
       "x15         6567.1172   1517.244      4.328      0.000    3528.888    9605.346\n",
       "x16          150.9240   1059.427      0.142      0.887   -1970.543    2272.391\n",
       "==============================================================================\n",
       "Omnibus:                       25.864   Durbin-Watson:                   1.923\n",
       "Prob(Omnibus):                  0.000   Jarque-Bera (JB):              102.139\n",
       "Skew:                           0.896   Prob(JB):                     6.62e-23\n",
       "Kurtosis:                       8.596   Cond. No.                     3.64e+16\n",
       "==============================================================================\n",
       "\n",
       "Notes:\n",
       "[1] Standard Errors assume that the covariance matrix of the errors is correctly specified.\n",
       "[2] The smallest eigenvalue is 2.06e-31. This might indicate that there are\n",
       "strong multicollinearity problems or that the design matrix is singular.\n",
       "\"\"\""
      ]
     },
     "execution_count": 73,
     "metadata": {},
     "output_type": "execute_result"
    }
   ],
   "source": [
    "# OLS (최소제곱법: )\n",
    "import statsmodels.api as sm\n",
    "\n",
    "x2 = sm.add_constant(scaler_x_train)\n",
    "model_OLS = sm.OLS(train_df['가격'], x2)\n",
    "result = model_OLS.fit()\n",
    "result.summary()"
   ]
  },
  {
   "cell_type": "code",
   "execution_count": 74,
   "id": "c58d0660",
   "metadata": {
    "ExecuteTime": {
     "end_time": "2022-07-04T08:10:32.332116Z",
     "start_time": "2022-07-04T08:10:32.316946Z"
    }
   },
   "outputs": [
    {
     "data": {
      "text/plain": [
       "array([[-538.07573372, -301.08509852, -212.79830412, -161.29147786,\n",
       "         -75.76290851,   10.9448916 ,   63.26934952,  140.42708513,\n",
       "         150.92399575,  161.29147786,  288.56121264,  325.68069979,\n",
       "         463.8614926 , 1666.18511725, 3109.14675071, 6567.11718155]])"
      ]
     },
     "execution_count": 74,
     "metadata": {},
     "output_type": "execute_result"
    }
   ],
   "source": [
    "model.coef_"
   ]
  },
  {
   "cell_type": "code",
   "execution_count": 70,
   "id": "95bda61b",
   "metadata": {
    "ExecuteTime": {
     "end_time": "2022-07-04T08:06:52.870193Z",
     "start_time": "2022-07-04T08:06:52.862194Z"
    }
   },
   "outputs": [
    {
     "data": {
      "text/plain": [
       "(71, 16)"
      ]
     },
     "execution_count": 70,
     "metadata": {},
     "output_type": "execute_result"
    }
   ],
   "source": [
    "scaler_x_train.shape"
   ]
  },
  {
   "cell_type": "code",
   "execution_count": 76,
   "id": "8cd48a23",
   "metadata": {
    "ExecuteTime": {
     "end_time": "2022-07-04T08:19:11.582804Z",
     "start_time": "2022-07-04T08:19:11.565631Z"
    }
   },
   "outputs": [
    {
     "data": {
      "text/plain": [
       "const    -195.930212\n",
       "x1       -587.058287\n",
       "x2        414.878940\n",
       "x3        -38.037661\n",
       "x4         14.286797\n",
       "x5        223.251142\n",
       "x6       -278.108375\n",
       "x7       -141.072979\n",
       "x8       -259.256584\n",
       "x9         63.326372\n",
       "x10       140.427085\n",
       "x11      1666.185117\n",
       "x12      3109.146751\n",
       "x13      -301.085099\n",
       "x14       325.680700\n",
       "x15      6567.117182\n",
       "x16       150.923996\n",
       "dtype: float64"
      ]
     },
     "execution_count": 76,
     "metadata": {},
     "output_type": "execute_result"
    }
   ],
   "source": [
    "result.params # 선형회귀의 coef_와 같음"
   ]
  },
  {
   "cell_type": "code",
   "execution_count": 77,
   "id": "3a115be6",
   "metadata": {
    "ExecuteTime": {
     "end_time": "2022-07-04T08:27:36.190056Z",
     "start_time": "2022-07-04T08:27:36.164078Z"
    }
   },
   "outputs": [
    {
     "ename": "NameError",
     "evalue": "name 'x_data2' is not defined",
     "output_type": "error",
     "traceback": [
      "\u001b[1;31m---------------------------------------------------------------------------\u001b[0m",
      "\u001b[1;31mNameError\u001b[0m                                 Traceback (most recent call last)",
      "Input \u001b[1;32mIn [77]\u001b[0m, in \u001b[0;36m<cell line: 5>\u001b[1;34m()\u001b[0m\n\u001b[0;32m      2\u001b[0m \u001b[38;5;28;01mfrom\u001b[39;00m \u001b[38;5;21;01mstatsmodels\u001b[39;00m\u001b[38;5;21;01m.\u001b[39;00m\u001b[38;5;21;01mstats\u001b[39;00m\u001b[38;5;21;01m.\u001b[39;00m\u001b[38;5;21;01moutliers_influence\u001b[39;00m \u001b[38;5;28;01mimport\u001b[39;00m variance_inflation_factor\n\u001b[0;32m      4\u001b[0m vif \u001b[38;5;241m=\u001b[39m pd\u001b[38;5;241m.\u001b[39mDataFrame()\n\u001b[0;32m      5\u001b[0m vif[\u001b[38;5;124m'\u001b[39m\u001b[38;5;124mVIF Factor\u001b[39m\u001b[38;5;124m'\u001b[39m] \u001b[38;5;241m=\u001b[39m [variance_inflation_factor(\n\u001b[1;32m----> 6\u001b[0m x_data2\u001b[38;5;241m.\u001b[39mvaleus, i) \u001b[38;5;28;01mfor\u001b[39;00m i \u001b[38;5;129;01min\u001b[39;00m \u001b[38;5;28mrange\u001b[39m(\u001b[43mx_data2\u001b[49m\u001b[38;5;241m.\u001b[39mshape[\u001b[38;5;241m1\u001b[39m])]\n\u001b[0;32m      7\u001b[0m vif[\u001b[38;5;124m'\u001b[39m\u001b[38;5;124mfeatures\u001b[39m\u001b[38;5;124m'\u001b[39m] \u001b[38;5;241m=\u001b[39m x_data2\u001b[38;5;241m.\u001b[39mcolumns\n\u001b[0;32m      8\u001b[0m vif\n",
      "\u001b[1;31mNameError\u001b[0m: name 'x_data2' is not defined"
     ]
    }
   ],
   "source": [
    "# 다중공선성 확인\n",
    "from statsmodels.stats.outliers_influence import variance_inflation_factor\n",
    "\n",
    "vif = pd.DataFrame()\n",
    "vif['VIF Factor'] = [\n",
    "    variance_inflation_factor(x_data2.valeus, i)\n",
    "    for i in range(x_data2.shape[1])\n",
    "]\n",
    "vif['features'] = x_data2.columns\n",
    "vif"
   ]
  }
 ],
 "metadata": {
  "kernelspec": {
   "display_name": "Python 3 (ipykernel)",
   "language": "python",
   "name": "python3"
  },
  "language_info": {
   "codemirror_mode": {
    "name": "ipython",
    "version": 3
   },
   "file_extension": ".py",
   "mimetype": "text/x-python",
   "name": "python",
   "nbconvert_exporter": "python",
   "pygments_lexer": "ipython3",
   "version": "3.9.12"
  },
  "toc": {
   "base_numbering": 1,
   "nav_menu": {},
   "number_sections": true,
   "sideBar": true,
   "skip_h1_title": false,
   "title_cell": "Table of Contents",
   "title_sidebar": "Contents",
   "toc_cell": false,
   "toc_position": {},
   "toc_section_display": true,
   "toc_window_display": false
  },
  "varInspector": {
   "cols": {
    "lenName": 16,
    "lenType": 16,
    "lenVar": 40
   },
   "kernels_config": {
    "python": {
     "delete_cmd_postfix": "",
     "delete_cmd_prefix": "del ",
     "library": "var_list.py",
     "varRefreshCmd": "print(var_dic_list())"
    },
    "r": {
     "delete_cmd_postfix": ") ",
     "delete_cmd_prefix": "rm(",
     "library": "var_list.r",
     "varRefreshCmd": "cat(var_dic_list()) "
    }
   },
   "types_to_exclude": [
    "module",
    "function",
    "builtin_function_or_method",
    "instance",
    "_Feature"
   ],
   "window_display": false
  }
 },
 "nbformat": 4,
 "nbformat_minor": 5
}
