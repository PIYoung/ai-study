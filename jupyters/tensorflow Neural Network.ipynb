{
 "cells": [
  {
   "cell_type": "code",
   "execution_count": 49,
   "id": "59868afc",
   "metadata": {
    "ExecuteTime": {
     "end_time": "2022-07-12T02:15:06.441924Z",
     "start_time": "2022-07-12T02:15:06.014910Z"
    }
   },
   "outputs": [
    {
     "name": "stdout",
     "output_type": "stream",
     "text": [
      "WARNING:tensorflow:5 out of the last 5 calls to <function Model.make_train_function.<locals>.train_function at 0x000002CFC1A47940> triggered tf.function retracing. Tracing is expensive and the excessive number of tracings could be due to (1) creating @tf.function repeatedly in a loop, (2) passing tensors with different shapes, (3) passing Python objects instead of tensors. For (1), please define your @tf.function outside of the loop. For (2), @tf.function has reduce_retracing=True option that can avoid unnecessary retracing. For (3), please refer to https://www.tensorflow.org/guide/function#controlling_retracing and https://www.tensorflow.org/api_docs/python/tf/function for  more details.\n",
      "1/1 [==============================] - 0s 228ms/step - loss: 1632.8334 - accuracy: 0.0000e+00\n",
      "<keras.callbacks.History object at 0x000002CFC1250A30>\n",
      "WARNING:tensorflow:5 out of the last 5 calls to <function Model.make_predict_function.<locals>.predict_function at 0x000002CFC16EBDC0> triggered tf.function retracing. Tracing is expensive and the excessive number of tracings could be due to (1) creating @tf.function repeatedly in a loop, (2) passing tensors with different shapes, (3) passing Python objects instead of tensors. For (1), please define your @tf.function outside of the loop. For (2), @tf.function has reduce_retracing=True option that can avoid unnecessary retracing. For (3), please refer to https://www.tensorflow.org/guide/function#controlling_retracing and https://www.tensorflow.org/api_docs/python/tf/function for  more details.\n",
      "1/1 [==============================] - 0s 29ms/step\n",
      "[[0.00316228]\n",
      " [0.00316228]\n",
      " [0.00316228]\n",
      " [0.00316228]\n",
      " [0.00316228]\n",
      " [0.00316228]]\n",
      "WARNING:tensorflow:5 out of the last 5 calls to <function Model.make_test_function.<locals>.test_function at 0x000002CFBD9ACE50> triggered tf.function retracing. Tracing is expensive and the excessive number of tracings could be due to (1) creating @tf.function repeatedly in a loop, (2) passing tensors with different shapes, (3) passing Python objects instead of tensors. For (1), please define your @tf.function outside of the loop. For (2), @tf.function has reduce_retracing=True option that can avoid unnecessary retracing. For (3), please refer to https://www.tensorflow.org/guide/function#controlling_retracing and https://www.tensorflow.org/api_docs/python/tf/function for  more details.\n",
      "1/1 [==============================] - 0s 58ms/step - loss: 1632.7017 - accuracy: 0.0000e+00\n",
      "[1632.70166015625, 0.0]\n"
     ]
    }
   ],
   "source": [
    "import numpy as np\n",
    "import tensorflow as tf\n",
    "from tensorflow import keras\n",
    "from tensorflow.keras import layers\n",
    "\n",
    "x = np.array([1, 2, 3, 4, 5, 6])\n",
    "y = np.array([10, 98, 8, 2, 3, 4])\n",
    "\n",
    "# w값 바꾸지 않기 위해 사용함, 검증용이며 실제에서는 seed하지 않음.\n",
    "tf.random.set_seed(1234)\n",
    "\n",
    "input_layer = tf.keras.layers.InputLayer(input_shape=(1, ))\n",
    "hidden_layer1 = tf.keras.layers.Dense(units=4, activation='relu')\n",
    "hidden_layer2 = tf.keras.layers.Dense(units=2, activation='relu')\n",
    "output_layer = tf.keras.layers.Dense(units=1)\n",
    "\n",
    "# activation이 없으면 활성화함수 wx+b가 되어있는 것임.\n",
    "model = keras.Sequential(\n",
    "    [input_layer, hidden_layer1, hidden_layer2, output_layer])\n",
    "\n",
    "model.compile(  #optimizer='adam',\n",
    "    loss='mse', metrics=['accuracy'])\n",
    "\n",
    "print(model.fit(x, y))\n",
    "print(model.predict(x))\n",
    "print(model.evaluate(x, y))"
   ]
  },
  {
   "cell_type": "code",
   "execution_count": 14,
   "id": "c146f395",
   "metadata": {
    "ExecuteTime": {
     "end_time": "2022-07-12T02:12:49.236552Z",
     "start_time": "2022-07-12T02:12:49.230553Z"
    }
   },
   "outputs": [
    {
     "data": {
      "text/plain": [
       "{'name': 'sequential_3',\n",
       " 'layers': [{'class_name': 'InputLayer',\n",
       "   'config': {'batch_input_shape': (None, 1),\n",
       "    'dtype': 'float32',\n",
       "    'sparse': False,\n",
       "    'ragged': False,\n",
       "    'name': 'input_5'}},\n",
       "  {'class_name': 'Dense',\n",
       "   'config': {'name': 'dense_12',\n",
       "    'trainable': True,\n",
       "    'dtype': 'float32',\n",
       "    'units': 4,\n",
       "    'activation': 'relu',\n",
       "    'use_bias': True,\n",
       "    'kernel_initializer': {'class_name': 'GlorotUniform',\n",
       "     'config': {'seed': None}},\n",
       "    'bias_initializer': {'class_name': 'Zeros', 'config': {}},\n",
       "    'kernel_regularizer': None,\n",
       "    'bias_regularizer': None,\n",
       "    'activity_regularizer': None,\n",
       "    'kernel_constraint': None,\n",
       "    'bias_constraint': None}},\n",
       "  {'class_name': 'Dense',\n",
       "   'config': {'name': 'dense_13',\n",
       "    'trainable': True,\n",
       "    'dtype': 'float32',\n",
       "    'units': 2,\n",
       "    'activation': 'relu',\n",
       "    'use_bias': True,\n",
       "    'kernel_initializer': {'class_name': 'GlorotUniform',\n",
       "     'config': {'seed': None}},\n",
       "    'bias_initializer': {'class_name': 'Zeros', 'config': {}},\n",
       "    'kernel_regularizer': None,\n",
       "    'bias_regularizer': None,\n",
       "    'activity_regularizer': None,\n",
       "    'kernel_constraint': None,\n",
       "    'bias_constraint': None}},\n",
       "  {'class_name': 'Dense',\n",
       "   'config': {'name': 'dense_14',\n",
       "    'trainable': True,\n",
       "    'dtype': 'float32',\n",
       "    'units': 1,\n",
       "    'activation': 'linear',\n",
       "    'use_bias': True,\n",
       "    'kernel_initializer': {'class_name': 'GlorotUniform',\n",
       "     'config': {'seed': None}},\n",
       "    'bias_initializer': {'class_name': 'Zeros', 'config': {}},\n",
       "    'kernel_regularizer': None,\n",
       "    'bias_regularizer': None,\n",
       "    'activity_regularizer': None,\n",
       "    'kernel_constraint': None,\n",
       "    'bias_constraint': None}}]}"
      ]
     },
     "execution_count": 14,
     "metadata": {},
     "output_type": "execute_result"
    }
   ],
   "source": [
    "# 모델의 구성요소를 보여줌(h5로 저장된 모델도 이렇게 볼 수 있음.)\n",
    "model.get_config()"
   ]
  },
  {
   "cell_type": "code",
   "execution_count": 93,
   "id": "39d9fb26",
   "metadata": {
    "ExecuteTime": {
     "end_time": "2022-07-12T02:17:31.452042Z",
     "start_time": "2022-07-12T02:17:31.445150Z"
    }
   },
   "outputs": [
    {
     "data": {
      "text/plain": [
       "[array([[ 0.08334005, -0.29660565,  0.17884266, -0.56124383]],\n",
       "       dtype=float32),\n",
       " array([0., 0., 0., 0.], dtype=float32),\n",
       " array([[-0.34927058, -0.7225988 ],\n",
       "        [ 0.2960987 , -0.39196324],\n",
       "        [-0.32647347, -0.73963904],\n",
       "        [ 0.41159463,  0.43719316]], dtype=float32),\n",
       " array([0., 0.], dtype=float32),\n",
       " array([[ 0.2757995 ],\n",
       "        [-0.55681044]], dtype=float32),\n",
       " array([0.00316228], dtype=float32)]"
      ]
     },
     "execution_count": 93,
     "metadata": {},
     "output_type": "execute_result"
    }
   ],
   "source": [
    "model.get_weights()"
   ]
  },
  {
   "cell_type": "code",
   "execution_count": 95,
   "id": "bfb21c55",
   "metadata": {
    "ExecuteTime": {
     "end_time": "2022-07-12T02:17:40.166529Z",
     "start_time": "2022-07-12T02:17:40.148418Z"
    }
   },
   "outputs": [
    {
     "data": {
      "text/plain": [
       "<bound method Model.get_layer of <keras.engine.sequential.Sequential object at 0x000002CFC16A41C0>>"
      ]
     },
     "execution_count": 95,
     "metadata": {},
     "output_type": "execute_result"
    }
   ],
   "source": [
    "model.get_layerb"
   ]
  },
  {
   "cell_type": "code",
   "execution_count": 10,
   "id": "f8f58b26",
   "metadata": {
    "ExecuteTime": {
     "end_time": "2022-07-12T02:04:42.877869Z",
     "start_time": "2022-07-12T02:04:42.859998Z"
    }
   },
   "outputs": [
    {
     "data": {
      "text/plain": [
       "[<tf.Variable 'dense_12/kernel:0' shape=(1, 4) dtype=float32, numpy=\n",
       " array([[ 0.08334005, -0.29660565,  0.17884266, -0.56124383]],\n",
       "       dtype=float32)>,\n",
       " <tf.Variable 'dense_12/bias:0' shape=(4,) dtype=float32, numpy=array([0., 0., 0., 0.], dtype=float32)>,\n",
       " <tf.Variable 'dense_13/kernel:0' shape=(4, 2) dtype=float32, numpy=\n",
       " array([[-0.34927058, -0.7225988 ],\n",
       "        [ 0.2960987 , -0.39196324],\n",
       "        [-0.32647347, -0.73963904],\n",
       "        [ 0.41159463,  0.43719316]], dtype=float32)>,\n",
       " <tf.Variable 'dense_13/bias:0' shape=(2,) dtype=float32, numpy=array([0., 0.], dtype=float32)>,\n",
       " <tf.Variable 'dense_14/kernel:0' shape=(2, 1) dtype=float32, numpy=\n",
       " array([[ 0.2757995 ],\n",
       "        [-0.55681044]], dtype=float32)>,\n",
       " <tf.Variable 'dense_14/bias:0' shape=(1,) dtype=float32, numpy=array([0.00316228], dtype=float32)>]"
      ]
     },
     "execution_count": 10,
     "metadata": {},
     "output_type": "execute_result"
    }
   ],
   "source": [
    "model.weights"
   ]
  },
  {
   "cell_type": "code",
   "execution_count": 92,
   "id": "4bf9cb56",
   "metadata": {
    "ExecuteTime": {
     "end_time": "2022-07-12T02:15:20.564236Z",
     "start_time": "2022-07-12T02:15:20.555017Z"
    }
   },
   "outputs": [
    {
     "name": "stdout",
     "output_type": "stream",
     "text": [
      "Model: \"sequential_4\"\n",
      "_________________________________________________________________\n",
      " Layer (type)                Output Shape              Param #   \n",
      "=================================================================\n",
      " dense_15 (Dense)            (None, 4)                 8         \n",
      "                                                                 \n",
      " dense_16 (Dense)            (None, 2)                 10        \n",
      "                                                                 \n",
      " dense_17 (Dense)            (None, 1)                 3         \n",
      "                                                                 \n",
      "=================================================================\n",
      "Total params: 21\n",
      "Trainable params: 21\n",
      "Non-trainable params: 0\n",
      "_________________________________________________________________\n"
     ]
    }
   ],
   "source": [
    "model.summary()"
   ]
  },
  {
   "cell_type": "code",
   "execution_count": 11,
   "id": "36b1965d",
   "metadata": {
    "ExecuteTime": {
     "end_time": "2022-07-12T02:06:49.034369Z",
     "start_time": "2022-07-12T02:06:49.006173Z"
    }
   },
   "outputs": [
    {
     "name": "stdout",
     "output_type": "stream",
     "text": [
      "\n",
      "======== Outputs of Hidden Layer ========\n",
      "tf.Tensor(\n",
      "[[0.08334005 0.         0.17884266 0.        ]\n",
      " [0.1666801  0.         0.35768533 0.        ]\n",
      " [0.25002015 0.         0.536528   0.        ]\n",
      " [0.3333602  0.         0.71537066 0.        ]\n",
      " [0.41670024 0.         0.8942133  0.        ]\n",
      " [0.5000403  0.         1.073056   0.        ]], shape=(6, 4), dtype=float32)\n"
     ]
    }
   ],
   "source": [
    "intermediate_layer_model = tf.keras.Model(inputs=model.input, outputs=model.layers[0].output)\n",
    "intermediate_output = intermediate_layer_model(x)\n",
    "\n",
    "print('\\n======== Outputs of Hidden Layer ========')\n",
    "print(intermediate_output)"
   ]
  },
  {
   "cell_type": "code",
   "execution_count": 12,
   "id": "e2cd9411",
   "metadata": {
    "ExecuteTime": {
     "end_time": "2022-07-12T02:07:21.099047Z",
     "start_time": "2022-07-12T02:07:21.090948Z"
    }
   },
   "outputs": [
    {
     "name": "stdout",
     "output_type": "stream",
     "text": [
      "\n",
      "======== Outputs of Hidden Layer ========\n",
      "tf.Tensor(\n",
      "[[0. 0.]\n",
      " [0. 0.]\n",
      " [0. 0.]\n",
      " [0. 0.]\n",
      " [0. 0.]\n",
      " [0. 0.]], shape=(6, 2), dtype=float32)\n"
     ]
    }
   ],
   "source": [
    "intermediate_layer_model = tf.keras.Model(inputs=model.input, outputs=model.layers[1].output)\n",
    "intermediate_output = intermediate_layer_model(x)\n",
    "\n",
    "print('\\n======== Outputs of Hidden Layer ========')\n",
    "print(intermediate_output)"
   ]
  },
  {
   "cell_type": "code",
   "execution_count": 13,
   "id": "4cf4cc3f",
   "metadata": {
    "ExecuteTime": {
     "end_time": "2022-07-12T02:07:22.934255Z",
     "start_time": "2022-07-12T02:07:22.915681Z"
    }
   },
   "outputs": [
    {
     "name": "stdout",
     "output_type": "stream",
     "text": [
      "\n",
      "======== Outputs of Hidden Layer ========\n",
      "tf.Tensor(\n",
      "[[0.00316228]\n",
      " [0.00316228]\n",
      " [0.00316228]\n",
      " [0.00316228]\n",
      " [0.00316228]\n",
      " [0.00316228]], shape=(6, 1), dtype=float32)\n"
     ]
    }
   ],
   "source": [
    "intermediate_layer_model = tf.keras.Model(inputs=model.input, outputs=model.layers[2].output)\n",
    "intermediate_output = intermediate_layer_model(x)\n",
    "\n",
    "print('\\n======== Outputs of Hidden Layer ========')\n",
    "print(intermediate_output)"
   ]
  },
  {
   "cell_type": "code",
   "execution_count": 98,
   "id": "b394e294",
   "metadata": {
    "ExecuteTime": {
     "end_time": "2022-07-12T02:32:42.650259Z",
     "start_time": "2022-07-12T02:32:42.643614Z"
    }
   },
   "outputs": [
    {
     "data": {
      "text/plain": [
       "<tf.Variable 'dense_15/bias:0' shape=(4,) dtype=float32, numpy=array([0., 0., 0., 0.], dtype=float32)>"
      ]
     },
     "execution_count": 98,
     "metadata": {},
     "output_type": "execute_result"
    }
   ],
   "source": [
    "# 0번째 layer의 bias 확인\n",
    "model.layers[0].bias"
   ]
  },
  {
   "cell_type": "code",
   "execution_count": 97,
   "id": "9e089d5a",
   "metadata": {
    "ExecuteTime": {
     "end_time": "2022-07-12T02:32:26.919325Z",
     "start_time": "2022-07-12T02:32:26.910325Z"
    }
   },
   "outputs": [
    {
     "data": {
      "text/plain": [
       "[<tf.Variable 'dense_15/kernel:0' shape=(1, 4) dtype=float32, numpy=\n",
       " array([[ 0.08334005, -0.29660565,  0.17884266, -0.56124383]],\n",
       "       dtype=float32)>,\n",
       " <tf.Variable 'dense_15/bias:0' shape=(4,) dtype=float32, numpy=array([0., 0., 0., 0.], dtype=float32)>]"
      ]
     },
     "execution_count": 97,
     "metadata": {},
     "output_type": "execute_result"
    }
   ],
   "source": [
    "# 1번째 layer의 weights 확인\n",
    "model.layers[0].weights"
   ]
  }
 ],
 "metadata": {
  "kernelspec": {
   "display_name": "Python 3 (ipykernel)",
   "language": "python",
   "name": "python3"
  },
  "language_info": {
   "codemirror_mode": {
    "name": "ipython",
    "version": 3
   },
   "file_extension": ".py",
   "mimetype": "text/x-python",
   "name": "python",
   "nbconvert_exporter": "python",
   "pygments_lexer": "ipython3",
   "version": "3.9.12"
  },
  "varInspector": {
   "cols": {
    "lenName": 16,
    "lenType": 16,
    "lenVar": 40
   },
   "kernels_config": {
    "python": {
     "delete_cmd_postfix": "",
     "delete_cmd_prefix": "del ",
     "library": "var_list.py",
     "varRefreshCmd": "print(var_dic_list())"
    },
    "r": {
     "delete_cmd_postfix": ") ",
     "delete_cmd_prefix": "rm(",
     "library": "var_list.r",
     "varRefreshCmd": "cat(var_dic_list()) "
    }
   },
   "types_to_exclude": [
    "module",
    "function",
    "builtin_function_or_method",
    "instance",
    "_Feature"
   ],
   "window_display": false
  }
 },
 "nbformat": 4,
 "nbformat_minor": 5
}
