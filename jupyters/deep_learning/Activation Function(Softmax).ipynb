{
 "cells": [
  {
   "cell_type": "code",
   "execution_count": 1,
   "id": "f7fe88f8",
   "metadata": {
    "ExecuteTime": {
     "end_time": "2022-07-12T04:49:56.214381Z",
     "start_time": "2022-07-12T04:49:56.204381Z"
    }
   },
   "outputs": [
    {
     "data": {
      "text/plain": [
       "[1, 1, 0, 3, 2, 3]"
      ]
     },
     "execution_count": 1,
     "metadata": {},
     "output_type": "execute_result"
    }
   ],
   "source": [
    "yList = ['가방', '가방', '신발', '핸드폰', '티셔츠', '핸드폰']\n",
    "ydata = []\n",
    "\n",
    "for y in yList:\n",
    "    if y == '신발':\n",
    "        ydata.append(0)\n",
    "    elif y == '가방':\n",
    "        ydata.append(1)\n",
    "    elif y == '티셔츠':\n",
    "        ydata.append(2)\n",
    "    elif y == '핸드폰':\n",
    "        ydata.append(3)\n",
    "\n",
    "ydata"
   ]
  },
  {
   "cell_type": "code",
   "execution_count": 2,
   "id": "de6fe633",
   "metadata": {
    "ExecuteTime": {
     "end_time": "2022-07-12T04:50:41.107059Z",
     "start_time": "2022-07-12T04:50:40.628354Z"
    }
   },
   "outputs": [
    {
     "data": {
      "text/plain": [
       "array([0, 0, 1, 3, 2, 3])"
      ]
     },
     "execution_count": 2,
     "metadata": {},
     "output_type": "execute_result"
    }
   ],
   "source": [
    "from sklearn.preprocessing import LabelEncoder\n",
    "\n",
    "yList = ['가방', '가방', '신발', '핸드폰', '티셔츠', '핸드폰']\n",
    "e = LabelEncoder()\n",
    "e.fit(yList)\n",
    "ydata = e.transform(yList)\n",
    "ydatab"
   ]
  },
  {
   "cell_type": "code",
   "execution_count": 4,
   "id": "9a272f5a",
   "metadata": {
    "ExecuteTime": {
     "end_time": "2022-07-12T04:51:51.463146Z",
     "start_time": "2022-07-12T04:51:49.250006Z"
    }
   },
   "outputs": [
    {
     "data": {
      "text/plain": [
       "array([[1., 0., 0., 0.],\n",
       "       [1., 0., 0., 0.],\n",
       "       [0., 1., 0., 0.],\n",
       "       [0., 0., 0., 1.],\n",
       "       [0., 0., 1., 0.],\n",
       "       [0., 0., 0., 1.]], dtype=float32)"
      ]
     },
     "execution_count": 4,
     "metadata": {},
     "output_type": "execute_result"
    }
   ],
   "source": [
    "import numpy as np\n",
    "import tensorflow as tf\n",
    "\n",
    "yList = ['가방', '가방', '신발', '핸드폰', '티셔츠', '핸드폰']\n",
    "np.unique(ydata), max(np.unique(ydata))\n",
    "\n",
    "y_encoded = tf.keras.utils.to_categorical(ydata)\n",
    "y_encoded"
   ]
  },
  {
   "cell_type": "code",
   "execution_count": 7,
   "id": "84bc8ca1",
   "metadata": {
    "ExecuteTime": {
     "end_time": "2022-07-12T04:58:46.214825Z",
     "start_time": "2022-07-12T04:58:46.172571Z"
    }
   },
   "outputs": [],
   "source": [
    "input_layer = tf.keras.layers.InputLayer(input_shape=(4, ))\n",
    "output_layer = tf.keras.layers.Dense(units=4, activation='softmax')\n",
    "\n",
    "model = tf.keras.Sequential([input_layer, output_layer])\n",
    "model.compile(loss='categorical_crossentropy', metrics=['accuracy'])"
   ]
  }
 ],
 "metadata": {
  "kernelspec": {
   "display_name": "Python 3 (ipykernel)",
   "language": "python",
   "name": "python3"
  },
  "language_info": {
   "codemirror_mode": {
    "name": "ipython",
    "version": 3
   },
   "file_extension": ".py",
   "mimetype": "text/x-python",
   "name": "python",
   "nbconvert_exporter": "python",
   "pygments_lexer": "ipython3",
   "version": "3.9.12"
  },
  "varInspector": {
   "cols": {
    "lenName": 16,
    "lenType": 16,
    "lenVar": 40
   },
   "kernels_config": {
    "python": {
     "delete_cmd_postfix": "",
     "delete_cmd_prefix": "del ",
     "library": "var_list.py",
     "varRefreshCmd": "print(var_dic_list())"
    },
    "r": {
     "delete_cmd_postfix": ") ",
     "delete_cmd_prefix": "rm(",
     "library": "var_list.r",
     "varRefreshCmd": "cat(var_dic_list()) "
    }
   },
   "types_to_exclude": [
    "module",
    "function",
    "builtin_function_or_method",
    "instance",
    "_Feature"
   ],
   "window_display": false
  }
 },
 "nbformat": 4,
 "nbformat_minor": 5
}
