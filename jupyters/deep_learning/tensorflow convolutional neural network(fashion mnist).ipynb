{
 "cells": [
  {
   "cell_type": "code",
   "execution_count": 22,
   "id": "25a4c474",
   "metadata": {
    "ExecuteTime": {
     "end_time": "2022-07-14T07:59:21.363349Z",
     "start_time": "2022-07-14T07:59:21.359347Z"
    }
   },
   "outputs": [],
   "source": [
    "import numpy as np\n",
    "\n",
    "import tensorflow as tf\n",
    "from tensorflow import keras\n",
    "from tensorflow.keras import datasets, layers, models"
   ]
  },
  {
   "cell_type": "code",
   "execution_count": 30,
   "id": "08e19f46",
   "metadata": {
    "ExecuteTime": {
     "end_time": "2022-07-14T08:00:34.432408Z",
     "start_time": "2022-07-14T08:00:34.152186Z"
    }
   },
   "outputs": [],
   "source": [
    "(train_images,\n",
    " train_labels), (test_images,\n",
    "                 test_labels) = keras.datasets.fashion_mnist.load_data()"
   ]
  },
  {
   "cell_type": "code",
   "execution_count": 34,
   "id": "98023616",
   "metadata": {
    "ExecuteTime": {
     "end_time": "2022-07-14T08:00:40.712403Z",
     "start_time": "2022-07-14T08:00:40.568022Z"
    }
   },
   "outputs": [],
   "source": [
    "train_images = train_images.astype('float32') / 255.0\n",
    "test_images = test_images.astype('float32') / 255.0"
   ]
  },
  {
   "cell_type": "code",
   "execution_count": 35,
   "id": "bac25d80",
   "metadata": {
    "ExecuteTime": {
     "end_time": "2022-07-14T08:00:42.050291Z",
     "start_time": "2022-07-14T08:00:42.032138Z"
    }
   },
   "outputs": [
    {
     "data": {
      "text/plain": [
       "((60000, 28, 28, 1), (60000,))"
      ]
     },
     "execution_count": 35,
     "metadata": {},
     "output_type": "execute_result"
    }
   ],
   "source": [
    "np.shape(train_images), np.shape(train_labels)"
   ]
  },
  {
   "cell_type": "code",
   "execution_count": 36,
   "id": "fb3ceedc",
   "metadata": {
    "ExecuteTime": {
     "end_time": "2022-07-14T08:00:42.641933Z",
     "start_time": "2022-07-14T08:00:42.630937Z"
    }
   },
   "outputs": [],
   "source": [
    "train_images = np.reshape(train_images, (60000, 28, 28, 1))\n",
    "test_images = np.reshape(test_images, (10000, 28, 28, 1))"
   ]
  },
  {
   "cell_type": "code",
   "execution_count": 41,
   "id": "81aef5af",
   "metadata": {
    "ExecuteTime": {
     "end_time": "2022-07-14T08:07:22.161042Z",
     "start_time": "2022-07-14T08:04:21.286156Z"
    }
   },
   "outputs": [
    {
     "name": "stdout",
     "output_type": "stream",
     "text": [
      "Epoch 1/10\n",
      "1875/1875 [==============================] - 16s 8ms/step - loss: 0.5039 - accuracy: 0.8142 - val_loss: 0.3651 - val_accuracy: 0.8684\n",
      "Epoch 2/10\n",
      "1875/1875 [==============================] - 17s 9ms/step - loss: 0.3279 - accuracy: 0.8797 - val_loss: 0.3090 - val_accuracy: 0.8882\n",
      "Epoch 3/10\n",
      "1875/1875 [==============================] - 19s 10ms/step - loss: 0.2805 - accuracy: 0.8982 - val_loss: 0.3112 - val_accuracy: 0.8870\n",
      "Epoch 4/10\n",
      "1875/1875 [==============================] - 18s 10ms/step - loss: 0.2468 - accuracy: 0.9093 - val_loss: 0.2763 - val_accuracy: 0.8996\n",
      "Epoch 5/10\n",
      "1875/1875 [==============================] - 19s 10ms/step - loss: 0.2251 - accuracy: 0.9170 - val_loss: 0.2633 - val_accuracy: 0.9061\n",
      "Epoch 6/10\n",
      "1875/1875 [==============================] - 19s 10ms/step - loss: 0.2051 - accuracy: 0.9242 - val_loss: 0.2708 - val_accuracy: 0.8999\n",
      "Epoch 7/10\n",
      "1875/1875 [==============================] - 18s 10ms/step - loss: 0.1875 - accuracy: 0.9303 - val_loss: 0.2594 - val_accuracy: 0.9080\n",
      "Epoch 8/10\n",
      "1875/1875 [==============================] - 19s 10ms/step - loss: 0.1717 - accuracy: 0.9365 - val_loss: 0.2696 - val_accuracy: 0.9024\n",
      "Epoch 9/10\n",
      "1875/1875 [==============================] - 18s 10ms/step - loss: 0.1564 - accuracy: 0.9413 - val_loss: 0.2713 - val_accuracy: 0.9067\n",
      "Epoch 10/10\n",
      "1875/1875 [==============================] - 18s 10ms/step - loss: 0.1470 - accuracy: 0.9450 - val_loss: 0.2829 - val_accuracy: 0.9101\n"
     ]
    },
    {
     "data": {
      "text/plain": [
       "<keras.callbacks.History at 0x254d513f370>"
      ]
     },
     "execution_count": 41,
     "metadata": {},
     "output_type": "execute_result"
    }
   ],
   "source": [
    "model = models.Sequential()\n",
    "model.add(layers.Conv2D(32, (3, 3), activation='relu',\n",
    "                        input_shape=(28, 28, 1)))\n",
    "model.add(layers.MaxPooling2D((2, 2)))\n",
    "\n",
    "model.add(layers.Conv2D(64, (3, 3), activation='relu'))\n",
    "model.add(layers.MaxPooling2D((2, 2)))\n",
    "\n",
    "model.add(layers.Conv2D(64, (3, 3), activation='relu'))\n",
    "\n",
    "model.add(layers.Flatten())\n",
    "model.add(layers.Dense(64, activation='relu'))\n",
    "model.add(layers.Dense(10, activation='softmax'))\n",
    "\n",
    "model.compile(optimizer='adam',\n",
    "              loss='sparse_categorical_crossentropy',\n",
    "              metrics=['accuracy'])\n",
    "\n",
    "model.fit(train_images,\n",
    "          train_labels,\n",
    "          epochs=10,\n",
    "          validation_data=(test_images, test_labels))"
   ]
  },
  {
   "cell_type": "code",
   "execution_count": 42,
   "id": "4396b922",
   "metadata": {
    "ExecuteTime": {
     "end_time": "2022-07-14T08:07:24.966454Z",
     "start_time": "2022-07-14T08:07:24.020958Z"
    }
   },
   "outputs": [
    {
     "name": "stdout",
     "output_type": "stream",
     "text": [
      "313/313 - 1s - loss: 0.2829 - accuracy: 0.9101 - 899ms/epoch - 3ms/step\n"
     ]
    }
   ],
   "source": [
    "test_loss, test_acc = model.evaluate(test_images, test_labels, verbose=2)"
   ]
  },
  {
   "cell_type": "code",
   "execution_count": 43,
   "id": "dc9efaf6",
   "metadata": {
    "ExecuteTime": {
     "end_time": "2022-07-14T08:07:25.012629Z",
     "start_time": "2022-07-14T08:07:24.999063Z"
    }
   },
   "outputs": [
    {
     "name": "stdout",
     "output_type": "stream",
     "text": [
      "0.910099983215332\n"
     ]
    }
   ],
   "source": [
    "print(test_acc)"
   ]
  }
 ],
 "metadata": {
  "kernelspec": {
   "display_name": "Python 3 (ipykernel)",
   "language": "python",
   "name": "python3"
  },
  "language_info": {
   "codemirror_mode": {
    "name": "ipython",
    "version": 3
   },
   "file_extension": ".py",
   "mimetype": "text/x-python",
   "name": "python",
   "nbconvert_exporter": "python",
   "pygments_lexer": "ipython3",
   "version": "3.9.12"
  },
  "toc": {
   "base_numbering": 1,
   "nav_menu": {},
   "number_sections": true,
   "sideBar": true,
   "skip_h1_title": false,
   "title_cell": "Table of Contents",
   "title_sidebar": "Contents",
   "toc_cell": false,
   "toc_position": {},
   "toc_section_display": true,
   "toc_window_display": false
  },
  "varInspector": {
   "cols": {
    "lenName": 16,
    "lenType": 16,
    "lenVar": 40
   },
   "kernels_config": {
    "python": {
     "delete_cmd_postfix": "",
     "delete_cmd_prefix": "del ",
     "library": "var_list.py",
     "varRefreshCmd": "print(var_dic_list())"
    },
    "r": {
     "delete_cmd_postfix": ") ",
     "delete_cmd_prefix": "rm(",
     "library": "var_list.r",
     "varRefreshCmd": "cat(var_dic_list()) "
    }
   },
   "types_to_exclude": [
    "module",
    "function",
    "builtin_function_or_method",
    "instance",
    "_Feature"
   ],
   "window_display": false
  }
 },
 "nbformat": 4,
 "nbformat_minor": 5
}
