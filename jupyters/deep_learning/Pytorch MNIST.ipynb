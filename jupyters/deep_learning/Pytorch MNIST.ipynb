{
 "cells": [
  {
   "cell_type": "code",
   "execution_count": 1,
   "id": "d7676d8e",
   "metadata": {
    "ExecuteTime": {
     "end_time": "2022-07-26T07:07:45.948753Z",
     "start_time": "2022-07-26T07:07:44.803847Z"
    }
   },
   "outputs": [
    {
     "name": "stderr",
     "output_type": "stream",
     "text": [
      "C:\\Users\\HP\\miniconda3\\envs\\gpu2.6\\lib\\site-packages\\tqdm\\auto.py:22: TqdmWarning: IProgress not found. Please update jupyter and ipywidgets. See https://ipywidgets.readthedocs.io/en/stable/user_install.html\n",
      "  from .autonotebook import tqdm as notebook_tqdm\n",
      "C:\\Users\\HP\\miniconda3\\envs\\gpu2.6\\lib\\site-packages\\torchvision\\io\\image.py:13: UserWarning: Failed to load image Python extension: \n",
      "  warn(f\"Failed to load image Python extension: {e}\")\n"
     ]
    }
   ],
   "source": [
    "#### -- 1-1. 모듈 불러오기 -- ####\n",
    "# Pytorch 라이브러리 불러오기\n",
    "import torch\n",
    "# 딥러닝 네트워크의 기본 구성요소를 포함한 torch.nn 모듈 불러오기\n",
    "import torch.nn as nn\n",
    "# 딥러닝에 자주 사용되는 함수가 포함된 모듈 불러오기\n",
    "import torch.nn.functional as F\n",
    "# 가중치 추정에 필요한 최적화 알고리즘 모듈 불러오기\n",
    "import torch.optim as optim\n",
    "# datasets, transforms 모듈 불러오기\n",
    "from torchvision import datasets, transforms\n",
    "\n",
    "# 시각화 모듈 불러오기\n",
    "from matplotlib import pyplot as plt\n",
    "# 주피터 노트북 사용자는 코드 실행 시 브라우저에서 바로 그림을 보려면\n",
    "# 꼭 필요한 코드입니다.\n",
    "%matplotlib inline"
   ]
  },
  {
   "cell_type": "code",
   "execution_count": 2,
   "id": "3adbe5ba",
   "metadata": {
    "ExecuteTime": {
     "end_time": "2022-07-26T07:08:24.979797Z",
     "start_time": "2022-07-26T07:08:24.973799Z"
    }
   },
   "outputs": [
    {
     "name": "stdout",
     "output_type": "stream",
     "text": [
      "Current cuda device is cuda\n"
     ]
    }
   ],
   "source": [
    "#### -- 1-2. 분석 환경 설정 -- ####\n",
    "is_cuda = torch.cuda.is_available()\n",
    "device = torch.device('cuda' if is_cuda else 'cpu')\n",
    "\n",
    "print('Current cuda device is', device)"
   ]
  },
  {
   "cell_type": "code",
   "execution_count": 3,
   "id": "c5700197",
   "metadata": {
    "ExecuteTime": {
     "end_time": "2022-07-26T07:08:28.290938Z",
     "start_time": "2022-07-26T07:08:28.283418Z"
    }
   },
   "outputs": [],
   "source": [
    "#### -- 1-3. Hyper-parameter 지정 -- ####\n",
    "# 모델 가중치를 한 번 업데이트시킬 떄 사용되는 샘플 단위 개수\n",
    "# batch_size == 미니 배치 사이즈\n",
    "batch_size = 50\n",
    "# 가중치 업데이트의 정도(학습률)\n",
    "learning_rate = 0.0001\n",
    "# 학습 데이터를 모두 사용하여 학습하는 기본 단위 횟수\n",
    "epoch_num = 15"
   ]
  },
  {
   "cell_type": "code",
   "execution_count": 4,
   "id": "c0278e0e",
   "metadata": {
    "ExecuteTime": {
     "end_time": "2022-07-26T07:08:31.503119Z",
     "start_time": "2022-07-26T07:08:30.091599Z"
    }
   },
   "outputs": [
    {
     "name": "stdout",
     "output_type": "stream",
     "text": [
      "Downloading http://yann.lecun.com/exdb/mnist/train-images-idx3-ubyte.gz\n",
      "Downloading http://yann.lecun.com/exdb/mnist/train-images-idx3-ubyte.gz to ./data\\MNIST\\raw\\train-images-idx3-ubyte.gz\n"
     ]
    },
    {
     "name": "stderr",
     "output_type": "stream",
     "text": [
      "100%|████████████████████████████████████████████████| 9912422/9912422 [00:00<00:00, 34858832.52it/s]\n"
     ]
    },
    {
     "name": "stdout",
     "output_type": "stream",
     "text": [
      "Extracting ./data\\MNIST\\raw\\train-images-idx3-ubyte.gz to ./data\\MNIST\\raw\n",
      "\n",
      "Downloading http://yann.lecun.com/exdb/mnist/train-labels-idx1-ubyte.gz\n",
      "Downloading http://yann.lecun.com/exdb/mnist/train-labels-idx1-ubyte.gz to ./data\\MNIST\\raw\\train-labels-idx1-ubyte.gz\n"
     ]
    },
    {
     "name": "stderr",
     "output_type": "stream",
     "text": [
      "100%|██████████████████████████████████████████████████████████████████| 28881/28881 [00:00<?, ?it/s]"
     ]
    },
    {
     "name": "stdout",
     "output_type": "stream",
     "text": [
      "Extracting ./data\\MNIST\\raw\\train-labels-idx1-ubyte.gz to ./data\\MNIST\\raw\n",
      "\n",
      "Downloading http://yann.lecun.com/exdb/mnist/t10k-images-idx3-ubyte.gz\n"
     ]
    },
    {
     "name": "stderr",
     "output_type": "stream",
     "text": [
      "\n"
     ]
    },
    {
     "name": "stdout",
     "output_type": "stream",
     "text": [
      "Downloading http://yann.lecun.com/exdb/mnist/t10k-images-idx3-ubyte.gz to ./data\\MNIST\\raw\\t10k-images-idx3-ubyte.gz\n"
     ]
    },
    {
     "name": "stderr",
     "output_type": "stream",
     "text": [
      "100%|████████████████████████████████████████████████| 1648877/1648877 [00:00<00:00, 13968957.96it/s]\n"
     ]
    },
    {
     "name": "stdout",
     "output_type": "stream",
     "text": [
      "Extracting ./data\\MNIST\\raw\\t10k-images-idx3-ubyte.gz to ./data\\MNIST\\raw\n",
      "\n",
      "Downloading http://yann.lecun.com/exdb/mnist/t10k-labels-idx1-ubyte.gz\n",
      "Downloading http://yann.lecun.com/exdb/mnist/t10k-labels-idx1-ubyte.gz to ./data\\MNIST\\raw\\t10k-labels-idx1-ubyte.gz\n"
     ]
    },
    {
     "name": "stderr",
     "output_type": "stream",
     "text": [
      "100%|████████████████████████████████████████████████████████████████████| 4542/4542 [00:00<?, ?it/s]"
     ]
    },
    {
     "name": "stdout",
     "output_type": "stream",
     "text": [
      "Extracting ./data\\MNIST\\raw\\t10k-labels-idx1-ubyte.gz to ./data\\MNIST\\raw\n",
      "\n",
      "number of training data:  60000\n",
      "number of test data:  10000\n"
     ]
    },
    {
     "name": "stderr",
     "output_type": "stream",
     "text": [
      "\n"
     ]
    }
   ],
   "source": [
    "#### -- 2-1. MNIST 데이터 불러오기 -- ####\n",
    "train_data = datasets.MNIST(root='./data',\n",
    "                            train=True,\n",
    "                            download=True,\n",
    "                            transform=transforms.ToTensor())\n",
    "test_data = datasets.MNIST(root='./data',\n",
    "                           train=False,\n",
    "                           transform=transforms.ToTensor())\n",
    "\n",
    "print('number of training data: ', len(train_data))\n",
    "print('number of test data: ', len(test_data))"
   ]
  },
  {
   "cell_type": "code",
   "execution_count": 5,
   "id": "6466a2bc",
   "metadata": {
    "ExecuteTime": {
     "end_time": "2022-07-26T07:08:35.982113Z",
     "start_time": "2022-07-26T07:08:35.906625Z"
    }
   },
   "outputs": [
    {
     "data": {
      "image/png": "[encoded data removed]",
      "text/plain": [
       "<Figure size 432x288 with 1 Axes>"
      ]
     },
     "metadata": {
      "needs_background": "light"
     },
     "output_type": "display_data"
    }
   ],
   "source": [
    "#### -- 2-2. MNIST 데이터 확인하기 -- ####\n",
    "image, label = train_data[0]\n",
    "\n",
    "plt.imshow(image.squeeze().numpy(), cmap='gray')\n",
    "plt.title('label : %s' % label)\n",
    "plt.show()"
   ]
  },
  {
   "cell_type": "code",
   "execution_count": 6,
   "id": "c59516b9",
   "metadata": {
    "ExecuteTime": {
     "end_time": "2022-07-26T07:08:38.314378Z",
     "start_time": "2022-07-26T07:08:38.283527Z"
    }
   },
   "outputs": [
    {
     "name": "stdout",
     "output_type": "stream",
     "text": [
      "name            | type                      | size\n",
      "Num of Batch    |                           | 1200\n",
      "first_batch     | <class 'list'>            | 2\n",
      "first_batch[0]  | <class 'torch.Tensor'>    | torch.Size([50, 1, 28, 28])\n",
      "first_batch[1]  | <class 'torch.Tensor'>    | torch.Size([50])\n"
     ]
    }
   ],
   "source": [
    "#### -- 2-3. Mini-Batch 구성하기 -- ####\n",
    "train_loader = torch.utils.data.DataLoader(dataset=train_data,\n",
    "                                           batch_size=batch_size,\n",
    "                                           shuffle=True)\n",
    "test_loader = torch.utils.data.DataLoader(dataset=test_data,\n",
    "                                          batch_size=batch_size,\n",
    "                                          shuffle=True)\n",
    "\n",
    "first_batch = train_loader.__iter__().__next__()\n",
    "print('{:15s} | {:<25s} | {}'.format('name', 'type', 'size'))\n",
    "print('{:15s} | {:<25s} | {}'.format('Num of Batch', '', len(train_loader)))\n",
    "print('{:15s} | {:<25s} | {}'.format('first_batch', str(type(first_batch)),\n",
    "                                     len(first_batch)))\n",
    "print('{:15s} | {:<25s} | {}'.format('first_batch[0]',\n",
    "                                     str(type(first_batch[0])),\n",
    "                                     first_batch[0].shape))\n",
    "print('{:15s} | {:<25s} | {}'.format('first_batch[1]',\n",
    "                                     str(type(first_batch[1])),\n",
    "                                     first_batch[1].shape))"
   ]
  },
  {
   "cell_type": "code",
   "execution_count": 7,
   "id": "a895a242",
   "metadata": {
    "ExecuteTime": {
     "end_time": "2022-07-26T07:08:42.346639Z",
     "start_time": "2022-07-26T07:08:42.338589Z"
    }
   },
   "outputs": [],
   "source": [
    "#### -- 3-1. CNN 구조 설계하기 -- ####\n",
    "class CNN(nn.Module):\n",
    "\n",
    "    def __init__(self):\n",
    "        super(CNN, self).__init__()\n",
    "        self.conv1 = nn.Conv2d(1, 32, 3, 1)\n",
    "        self.conv2 = nn.Conv2d(32, 64, 3, 1)\n",
    "        self.dropout1 = nn.Dropout2d(0.25)\n",
    "        self.dropout2 = nn.Dropout2d(0.5)\n",
    "        self.fc1 = nn.Linear(9216, 128)\n",
    "        self.fc2 = nn.Linear(128, 10)\n",
    "\n",
    "    def forward(self, x):\n",
    "        x = self.conv1(x)\n",
    "        x = F.relu(x)\n",
    "        x = self.conv2(x)\n",
    "        x = F.relu(x)\n",
    "        x = F.max_pool2d(x, 2)\n",
    "        x = self.dropout1(x)\n",
    "        x = torch.flatten(x, 1)\n",
    "        x = self.fc1(x)\n",
    "        x = F.relu(x)\n",
    "        x = self.dropout2(x)\n",
    "        x = self.fc2(x)\n",
    "        output = F.log_softmax(x, dim=1)\n",
    "        return output"
   ]
  },
  {
   "cell_type": "code",
   "execution_count": 8,
   "id": "c45c95f7",
   "metadata": {
    "ExecuteTime": {
     "end_time": "2022-07-26T07:08:44.312492Z",
     "start_time": "2022-07-26T07:08:44.218633Z"
    }
   },
   "outputs": [],
   "source": [
    "#### -- 3-2. Optimizer 및 손실함수 정의 -- ####\n",
    "model = CNN().to(device)\n",
    "optimizer = optim.Adam(model.parameters(), lr=learning_rate)\n",
    "criterion = nn.CrossEntropyLoss()"
   ]
  },
  {
   "cell_type": "code",
   "execution_count": 9,
   "id": "5418dc5d",
   "metadata": {
    "ExecuteTime": {
     "end_time": "2022-07-26T07:08:45.694268Z",
     "start_time": "2022-07-26T07:08:45.690236Z"
    }
   },
   "outputs": [
    {
     "name": "stdout",
     "output_type": "stream",
     "text": [
      "CNN(\n",
      "  (conv1): Conv2d(1, 32, kernel_size=(3, 3), stride=(1, 1))\n",
      "  (conv2): Conv2d(32, 64, kernel_size=(3, 3), stride=(1, 1))\n",
      "  (dropout1): Dropout2d(p=0.25, inplace=False)\n",
      "  (dropout2): Dropout2d(p=0.5, inplace=False)\n",
      "  (fc1): Linear(in_features=9216, out_features=128, bias=True)\n",
      "  (fc2): Linear(in_features=128, out_features=10, bias=True)\n",
      ")\n"
     ]
    }
   ],
   "source": [
    "#### -- 3-3. 설계한 CNN 모형 확인하기 -- ####\n",
    "print(model)"
   ]
  },
  {
   "cell_type": "code",
   "execution_count": 10,
   "id": "d08a9ace",
   "metadata": {
    "ExecuteTime": {
     "end_time": "2022-07-26T07:10:20.087908Z",
     "start_time": "2022-07-26T07:08:48.939331Z"
    }
   },
   "outputs": [
    {
     "name": "stderr",
     "output_type": "stream",
     "text": [
      "C:\\Users\\HP\\miniconda3\\envs\\gpu2.6\\lib\\site-packages\\torch\\nn\\functional.py:1331: UserWarning: dropout2d: Received a 2-D input to dropout2d, which is deprecated and will result in an error in a future release. To retain the behavior and silence this warning, please use dropout instead. Note that dropout2d exists to provide channel-wise dropout on inputs with 2 spatial dimensions, a channel dimension, and an optional batch dimension (i.e. 3D or 4D inputs).\n",
      "  warnings.warn(warn_msg)\n"
     ]
    },
    {
     "name": "stdout",
     "output_type": "stream",
     "text": [
      "Train Step: 1000\tLoss: 0.476\n",
      "Train Step: 2000\tLoss: 0.256\n",
      "Train Step: 3000\tLoss: 0.135\n",
      "Train Step: 4000\tLoss: 0.142\n",
      "Train Step: 5000\tLoss: 0.166\n",
      "Train Step: 6000\tLoss: 0.262\n",
      "Train Step: 7000\tLoss: 0.038\n",
      "Train Step: 8000\tLoss: 0.015\n",
      "Train Step: 9000\tLoss: 0.041\n",
      "Train Step: 10000\tLoss: 0.047\n",
      "Train Step: 11000\tLoss: 0.039\n",
      "Train Step: 12000\tLoss: 0.084\n",
      "Train Step: 13000\tLoss: 0.107\n",
      "Train Step: 14000\tLoss: 0.031\n",
      "Train Step: 15000\tLoss: 0.034\n",
      "Train Step: 16000\tLoss: 0.034\n",
      "Train Step: 17000\tLoss: 0.017\n",
      "Train Step: 18000\tLoss: 0.044\n"
     ]
    }
   ],
   "source": [
    "#### -- 3-4. 모델 학습하기 -- ###\n",
    "model.train()\n",
    "i = 1\n",
    "for epoch in range(epoch_num):\n",
    "    for data, target in train_loader:\n",
    "        data = data.to(device)\n",
    "        target = target.to(device)\n",
    "        optimizer.zero_grad()\n",
    "        output = model(data)\n",
    "        loss = criterion(output, target)\n",
    "        loss.backward()\n",
    "        optimizer.step()\n",
    "        if i % 1000 == 0:\n",
    "            print('Train Step: {}\\tLoss: {:.3f}'.format(i, loss.item()))\n",
    "        i += 1"
   ]
  },
  {
   "cell_type": "code",
   "execution_count": 11,
   "id": "63a3e2a9",
   "metadata": {
    "ExecuteTime": {
     "end_time": "2022-07-26T07:10:56.178471Z",
     "start_time": "2022-07-26T07:10:55.316899Z"
    }
   },
   "outputs": [
    {
     "name": "stdout",
     "output_type": "stream",
     "text": [
      "Test set: Accuracy: 98.98%\n"
     ]
    }
   ],
   "source": [
    "#### -- 4. 모델 평가하기 -- ###\n",
    "model.eval()\n",
    "correct = 0\n",
    "for data, target in test_loader:\n",
    "    #     data, target = Variable(data, volatile=True), Variable(target)\n",
    "    data = data.to(device)\n",
    "    target = target.to(device)\n",
    "    output = model(data)\n",
    "    prediction = output.data.max(1)[1]\n",
    "    correct += prediction.eq(target.data).sum()\n",
    "\n",
    "print('Test set: Accuracy: {:.2f}%'.format(100. * correct /\n",
    "                                           len(test_loader.dataset)))"
   ]
  },
  {
   "cell_type": "code",
   "execution_count": 12,
   "id": "4da856de",
   "metadata": {
    "ExecuteTime": {
     "end_time": "2022-07-26T07:10:57.964100Z",
     "start_time": "2022-07-26T07:10:57.947965Z"
    }
   },
   "outputs": [
    {
     "data": {
      "text/plain": [
       "tensor(9898, device='cuda:0')"
      ]
     },
     "execution_count": 12,
     "metadata": {},
     "output_type": "execute_result"
    }
   ],
   "source": [
    "correct"
   ]
  },
  {
   "cell_type": "code",
   "execution_count": 14,
   "id": "e3163c23",
   "metadata": {
    "ExecuteTime": {
     "end_time": "2022-07-26T07:24:10.280567Z",
     "start_time": "2022-07-26T07:24:10.267290Z"
    }
   },
   "outputs": [
    {
     "data": {
      "text/plain": [
       "tensor([True, True, True, True, True, True, True, True, True, True, True, True,\n",
       "        True, True, True, True, True, True, True, True, True, True, True, True,\n",
       "        True, True, True, True, True, True, True, True, True, True, True, True,\n",
       "        True, True, True, True, True, True, True, True, True, True, True, True,\n",
       "        True, True], device='cuda:0')"
      ]
     },
     "execution_count": 14,
     "metadata": {},
     "output_type": "execute_result"
    }
   ],
   "source": [
    "prediction.eq(target.data)"
   ]
  }
 ],
 "metadata": {
  "kernelspec": {
   "display_name": "Python 3 (ipykernel)",
   "language": "python",
   "name": "python3"
  },
  "language_info": {
   "codemirror_mode": {
    "name": "ipython",
    "version": 3
   },
   "file_extension": ".py",
   "mimetype": "text/x-python",
   "name": "python",
   "nbconvert_exporter": "python",
   "pygments_lexer": "ipython3",
   "version": "3.7.13"
  },
  "toc": {
   "base_numbering": 1,
   "nav_menu": {},
   "number_sections": true,
   "sideBar": true,
   "skip_h1_title": false,
   "title_cell": "Table of Contents",
   "title_sidebar": "Contents",
   "toc_cell": false,
   "toc_position": {},
   "toc_section_display": true,
   "toc_window_display": false
  },
  "varInspector": {
   "cols": {
    "lenName": 16,
    "lenType": 16,
    "lenVar": 40
   },
   "kernels_config": {
    "python": {
     "delete_cmd_postfix": "",
     "delete_cmd_prefix": "del ",
     "library": "var_list.py",
     "varRefreshCmd": "print(var_dic_list())"
    },
    "r": {
     "delete_cmd_postfix": ") ",
     "delete_cmd_prefix": "rm(",
     "library": "var_list.r",
     "varRefreshCmd": "cat(var_dic_list()) "
    }
   },
   "types_to_exclude": [
    "module",
    "function",
    "builtin_function_or_method",
    "instance",
    "_Feature"
   ],
   "window_display": false
  }
 },
 "nbformat": 4,
 "nbformat_minor": 5
}
