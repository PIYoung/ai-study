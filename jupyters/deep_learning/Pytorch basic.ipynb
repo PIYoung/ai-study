{
 "cells": [
  {
   "cell_type": "code",
   "execution_count": 1,
   "id": "be4a309d",
   "metadata": {
    "ExecuteTime": {
     "end_time": "2022-07-26T05:32:47.211946Z",
     "start_time": "2022-07-26T05:32:46.621347Z"
    }
   },
   "outputs": [
    {
     "name": "stderr",
     "output_type": "stream",
     "text": [
      "C:\\Users\\HP\\miniconda3\\envs\\gpu2.6\\lib\\site-packages\\tqdm\\auto.py:22: TqdmWarning: IProgress not found. Please update jupyter and ipywidgets. See https://ipywidgets.readthedocs.io/en/stable/user_install.html\n",
      "  from .autonotebook import tqdm as notebook_tqdm\n"
     ]
    }
   ],
   "source": [
    "import torch\n",
    "import numpy as np"
   ]
  },
  {
   "cell_type": "code",
   "execution_count": 5,
   "id": "ab24fd4a",
   "metadata": {
    "ExecuteTime": {
     "end_time": "2022-07-26T05:20:44.037437Z",
     "start_time": "2022-07-26T05:20:44.018177Z"
    }
   },
   "outputs": [
    {
     "data": {
      "text/plain": [
       "'2.6.0'"
      ]
     },
     "execution_count": 5,
     "metadata": {},
     "output_type": "execute_result"
    }
   ],
   "source": [
    "tf.__version__"
   ]
  },
  {
   "cell_type": "code",
   "execution_count": 2,
   "id": "23cee05f",
   "metadata": {
    "ExecuteTime": {
     "end_time": "2022-07-26T05:32:47.227578Z",
     "start_time": "2022-07-26T05:32:47.213875Z"
    }
   },
   "outputs": [
    {
     "data": {
      "text/plain": [
       "'1.12.0'"
      ]
     },
     "execution_count": 2,
     "metadata": {},
     "output_type": "execute_result"
    }
   ],
   "source": [
    "torch.__version__"
   ]
  },
  {
   "cell_type": "code",
   "execution_count": 3,
   "id": "191cb3aa",
   "metadata": {
    "ExecuteTime": {
     "end_time": "2022-07-26T05:32:47.242771Z",
     "start_time": "2022-07-26T05:32:47.229699Z"
    }
   },
   "outputs": [
    {
     "data": {
      "text/plain": [
       "(tensor([2, 4, 6]), tensor([0.3333, 0.6667, 1.0000]))"
      ]
     },
     "execution_count": 3,
     "metadata": {},
     "output_type": "execute_result"
    }
   ],
   "source": [
    "x1 = torch.tensor([1, 2, 3])\n",
    "\n",
    "torch.add(x1, x1), torch.div(x1, 3)"
   ]
  },
  {
   "cell_type": "code",
   "execution_count": 4,
   "id": "bdbd9e9a",
   "metadata": {
    "ExecuteTime": {
     "end_time": "2022-07-26T05:32:47.258771Z",
     "start_time": "2022-07-26T05:32:47.243716Z"
    }
   },
   "outputs": [
    {
     "data": {
      "text/plain": [
       "array([20])"
      ]
     },
     "execution_count": 4,
     "metadata": {},
     "output_type": "execute_result"
    }
   ],
   "source": [
    "x1 = [1, 2, 3]\n",
    "x2 = [[2], [3], [4]]\n",
    "\n",
    "np.dot(x1, x2)"
   ]
  },
  {
   "cell_type": "code",
   "execution_count": 5,
   "id": "81325d06",
   "metadata": {
    "ExecuteTime": {
     "end_time": "2022-07-26T05:32:47.273792Z",
     "start_time": "2022-07-26T05:32:47.259781Z"
    }
   },
   "outputs": [
    {
     "data": {
      "text/plain": [
       "(tensor([20]), tensor([20]))"
      ]
     },
     "execution_count": 5,
     "metadata": {},
     "output_type": "execute_result"
    }
   ],
   "source": [
    "x1 = torch.tensor([1, 2, 3])\n",
    "x2 = torch.tensor([[2], [3], [4]])\n",
    "\n",
    "x1 @ x2, torch.matmul(x1, x2)"
   ]
  },
  {
   "cell_type": "code",
   "execution_count": 34,
   "id": "5851314a",
   "metadata": {
    "ExecuteTime": {
     "end_time": "2022-07-26T05:53:08.035046Z",
     "start_time": "2022-07-26T05:53:07.964359Z"
    }
   },
   "outputs": [
    {
     "data": {
      "text/plain": [
       "(0.4798874197428482, 0.8865742292268798)"
      ]
     },
     "execution_count": 34,
     "metadata": {},
     "output_type": "execute_result"
    },
    {
     "data": {
      "image/png": "[encoded data removed]",
      "text/plain": [
       "<Figure size 432x288 with 1 Axes>"
      ]
     },
     "metadata": {
      "needs_background": "light"
     },
     "output_type": "display_data"
    }
   ],
   "source": [
    "import numpy as np\n",
    "import math\n",
    "import matplotlib.pyplot as plt\n",
    "\n",
    "x = np.random.rand(100)\n",
    "y = x * 0.2 + 0.5\n",
    "\n",
    "plt.scatter(x, y)\n",
    "\n",
    "a = np.random.randn()  # bias\n",
    "b = np.random.randn()  # weight\n",
    "a, b"
   ]
  },
  {
   "cell_type": "code",
   "execution_count": 47,
   "id": "d5bb8ec3",
   "metadata": {
    "ExecuteTime": {
     "end_time": "2022-07-26T06:19:12.562075Z",
     "start_time": "2022-07-26T06:19:12.483434Z"
    }
   },
   "outputs": [
    {
     "name": "stdout",
     "output_type": "stream",
     "text": [
      "99 0.0341967403977976\n",
      "199 0.00200235857504096\n",
      "299 0.00011724625848160463\n",
      "399 6.865246464486712e-06\n",
      "499 4.0198817112450616e-07\n",
      "599 2.353804638463604e-08\n",
      "699 1.3782485839249496e-09\n",
      "799 8.070207390753731e-11\n",
      "899 4.725435462767634e-12\n",
      "999 2.7669351288262537e-13\n",
      "1099 1.6201533280654204e-14\n",
      "1199 9.486658125043366e-16\n",
      "1299 5.554824526438589e-17\n",
      "1399 3.252575746137723e-18\n",
      "1499 1.9045156983407847e-19\n",
      "1599 1.1151875751366693e-20\n",
      "1699 6.529928224413477e-22\n",
      "1799 3.823623537118459e-23\n",
      "1899 2.237689635349278e-24\n",
      "1999 1.3121554844848632e-25\n"
     ]
    }
   ],
   "source": [
    "x = np.random.rand(100)\n",
    "y = x * 0.2 + 0.5\n",
    "\n",
    "a = np.random.randn()  # bias\n",
    "b = np.random.randn()  # weight\n",
    "\n",
    "learning_rate = 1e-3\n",
    "batch_size = 20\n",
    "for t in range(2000):\n",
    "    start = 0\n",
    "    end = start + batch_size\n",
    "\n",
    "    for batch in range(5):\n",
    "        y_pred = a + b * x[start:end]\n",
    "\n",
    "        loss = np.square(y_pred - y[start:end]).sum()\n",
    "\n",
    "        grad_y_pred = 2.0 * (y_pred - y[start:end])\n",
    "        grad_a = grad_y_pred.sum()\n",
    "        grad_b = (grad_y_pred * x[start:end]).sum()\n",
    "\n",
    "        a -= learning_rate * grad_a\n",
    "        b -= learning_rate * grad_b\n",
    "\n",
    "        start = end\n",
    "        end = start + batch_size\n",
    "\n",
    "    if t % 100 == 99:\n",
    "        print(t, loss)\n",
    "\n",
    "#         plt.scatter(x, y)\n",
    "#         plt.scatter(x, y_pred)\n",
    "#         plt.show()"
   ]
  },
  {
   "cell_type": "markdown",
   "id": "95df9243",
   "metadata": {},
   "source": [
    "# 텐서(Tensor)\n",
    "\n",
    "## 준비 운동: numpy\n",
    "\n",
    "PyTorch를 소개하기 전에, 먼저 NumPy를 사용하여 신경망을 구성해보겠습니다.\n",
    "\n",
    "<br />\n",
    "\n",
    "NumPy는 n-차원 배열 객체와 이러한 배열들을 조작하기 위한 다양한 함수들을 제공합니다. NumPy는 과학 분야의 연산을 위한 포괄적인 프레임워크(generic framework)입니다; NumPy는 연산 그래프(computation graph)나 딥러닝, 변화도(gradient)에 대해서는 알지 못합니다. 하지만 NumPy 연산을 사용하여 신경망의 순전파 단계와 역전파 단계를 직접 구현함으로써, 3차 다항식이 사인(sine) 함수에 근사하도록 만들 수 있습니다:"
   ]
  },
  {
   "cell_type": "code",
   "execution_count": 31,
   "id": "10a963ff",
   "metadata": {
    "ExecuteTime": {
     "end_time": "2022-07-26T05:45:47.526238Z",
     "start_time": "2022-07-26T05:45:47.358695Z"
    }
   },
   "outputs": [
    {
     "name": "stdout",
     "output_type": "stream",
     "text": [
      "99 443.220588432074\n",
      "199 312.37859231070786\n",
      "299 221.0906069772037\n",
      "399 157.35175342970425\n",
      "499 112.81633334092461\n",
      "599 81.67733448868121\n",
      "699 59.89076886769022\n",
      "799 44.6381162745146\n",
      "899 33.953421450076384\n",
      "999 26.464367967146362\n",
      "1099 21.212327981232633\n",
      "1199 17.52718851287684\n",
      "1299 14.940205878276977\n",
      "1399 13.123285082902708\n",
      "1499 11.846637705875862\n",
      "1599 10.949232977434528\n",
      "1699 10.318161548697358\n",
      "1799 9.874213483590982\n",
      "1899 9.561792353118717\n",
      "1999 9.341857178060526\n",
      "Result: y = 0.02349445696012298 + 0.8622415086432949 x + -0.004053184775072537 x^2 + -0.0941128108176445 x^3\n"
     ]
    }
   ],
   "source": [
    "##### -*- coding: utf-8 -*-\n",
    "import numpy as np\n",
    "import math\n",
    "\n",
    "# 무작위로 입력과 출력 데이터를 생성합니다\n",
    "x = np.linspace(-math.pi, math.pi, 2000)\n",
    "y = np.sin(x)\n",
    "\n",
    "# 무작위로 가중치를 초기화합니다\n",
    "a = np.random.randn()\n",
    "b = np.random.randn()\n",
    "c = np.random.randn()\n",
    "d = np.random.randn()\n",
    "\n",
    "learning_rate = 1e-6\n",
    "for t in range(2000):\n",
    "    # 순전파 단계: 예측값 y를 계산합니다\n",
    "    # y = a + b x + c x^2 + d x^3\n",
    "    y_pred = a + b * x + c * x**2 + d * x**3\n",
    "\n",
    "    # 손실(loss)을 계산하고 출력합니다\n",
    "    loss = np.square(y_pred - y).sum()\n",
    "    if t % 100 == 99:\n",
    "        print(t, loss)\n",
    "\n",
    "    # 손실에 따른 a, b, c, d의 변화도(gradient)를 계산하고 역전파합니다.\n",
    "    grad_y_pred = 2.0 * (y_pred - y)\n",
    "    grad_a = grad_y_pred.sum()\n",
    "    grad_b = (grad_y_pred * x).sum()\n",
    "    grad_c = (grad_y_pred * x**2).sum()\n",
    "    grad_d = (grad_y_pred * x**3).sum()\n",
    "\n",
    "    # 가중치를 갱신합니다.\n",
    "    a -= learning_rate * grad_a\n",
    "    b -= learning_rate * grad_b\n",
    "    c -= learning_rate * grad_c\n",
    "    d -= learning_rate * grad_d\n",
    "\n",
    "print(f'Result: y = {a} + {b} x + {c} x^2 + {d} x^3')"
   ]
  },
  {
   "cell_type": "markdown",
   "id": "31d5c988",
   "metadata": {},
   "source": [
    "# 파이토치(PyTorch): 텐서(Tensor)\n",
    "\n",
    "NumPy는 훌륭한 프레임워크지만, GPU를 사용하여 수치 연산을 가속화할 수는 없습니다. 현대의 심층 신경망에서 GPU는 종종 50배 또는 그 이상 의 속도 향상을 제공하기 때문에, 안타깝게도 NumPy는 현대의 딥러닝에는 충분치 않습니다.\n",
    "\n",
    "<br />\n",
    "\n",
    "이번에는 PyTorch의 가장 핵심적인 개념인 텐서(Tensor) 에 대해서 알아보겠습니다. PyTorch 텐서(Tensor)는 개념적으로 NumPy 배열과 동일합니다: 텐서(Tensor)는 n-차원 배열이며, PyTorch는 이러한 텐서들의 연산을 위한 다양한 기능들을 제공합니다. NumPy 배열처럼 PyTorch Tensor는 딥러닝이나 연산 그래프, 변화도는 알지 못하며, 과학적 분야의 연산을 위한 포괄적인 도구입니다. 텐서는 연산 그래프와 변화도를 추적할 수도 있지만, 과학적 연산을 위한 일반적인 도구로도 유용합니다.\n",
    "\n",
    "<br />\n",
    "\n",
    "또한 NumPy와는 다르게, PyTorch 텐서는 GPU를 사용하여 수치 연산을 가속할 수 있습니다. PyTorch 텐서를 GPU에서 실행하기 위해서는 단지 적절한 장치를 지정해주기만 하면 됩니다.\n",
    "\n",
    "<br />\n",
    "\n",
    "여기에서는 PyTorch 텐서를 사용하여 3차 다항식을 사인(sine) 함수에 근사해보겠습니다. 위의 NumPy 예제에서와 같이 신경망의 순전파 단계와 역전파 단계는 직접 구현하겠습니다:"
   ]
  },
  {
   "cell_type": "code",
   "execution_count": 32,
   "id": "7e981d56",
   "metadata": {
    "ExecuteTime": {
     "end_time": "2022-07-26T05:45:49.711599Z",
     "start_time": "2022-07-26T05:45:49.574113Z"
    }
   },
   "outputs": [
    {
     "name": "stdout",
     "output_type": "stream",
     "text": [
      "99 2215.392333984375\n",
      "199 1468.0916748046875\n",
      "299 973.887451171875\n",
      "399 647.0584106445312\n",
      "499 430.9167785644531\n",
      "599 287.9748229980469\n",
      "699 193.4414520263672\n",
      "799 130.9221649169922\n",
      "899 89.57478332519531\n",
      "999 62.229183197021484\n",
      "1099 44.143646240234375\n",
      "1199 32.182456970214844\n",
      "1299 24.271419525146484\n",
      "1399 19.039030075073242\n",
      "1499 15.578316688537598\n",
      "1599 13.28935718536377\n",
      "1699 11.775406837463379\n",
      "1799 10.77399730682373\n",
      "1899 10.111625671386719\n",
      "1999 9.673480987548828\n",
      "Result: y = -0.0024371780455112457 + 0.8283830285072327 x + 0.0004204551805742085 x^2 + -0.08929673582315445 x^3\n"
     ]
    }
   ],
   "source": [
    "# -*- coding: utf-8 -*-\n",
    "\n",
    "import torch\n",
    "import math\n",
    "\n",
    "dtype = torch.float\n",
    "device = torch.device(\"cpu\")\n",
    "# device = torch.device(\"cuda:0\") # GPU에서 실행하려면 이 주석을 제거하세요\n",
    "\n",
    "# 무작위로 입력과 출력 데이터를 생성합니다\n",
    "x = torch.linspace(-math.pi, math.pi, 2000, device=device, dtype=dtype)\n",
    "y = torch.sin(x)\n",
    "\n",
    "# 무작위로 가중치를 초기화합니다\n",
    "a = torch.randn((), device=device, dtype=dtype)\n",
    "b = torch.randn((), device=device, dtype=dtype)\n",
    "c = torch.randn((), device=device, dtype=dtype)\n",
    "d = torch.randn((), device=device, dtype=dtype)\n",
    "\n",
    "learning_rate = 1e-6\n",
    "for t in range(2000):\n",
    "    # 순전파 단계: 예측값 y를 계산합니다\n",
    "    y_pred = a + b * x + c * x**2 + d * x**3\n",
    "\n",
    "    # 손실(loss)을 계산하고 출력합니다\n",
    "    loss = (y_pred - y).pow(2).sum().item()\n",
    "    if t % 100 == 99:\n",
    "        print(t, loss)\n",
    "\n",
    "    # 손실에 따른 a, b, c, d의 변화도(gradient)를 계산하고 역전파합니다.\n",
    "    grad_y_pred = 2.0 * (y_pred - y)\n",
    "    grad_a = grad_y_pred.sum()\n",
    "    grad_b = (grad_y_pred * x).sum()\n",
    "    grad_c = (grad_y_pred * x**2).sum()\n",
    "    grad_d = (grad_y_pred * x**3).sum()\n",
    "\n",
    "    # 가중치를 갱신합니다.\n",
    "    a -= learning_rate * grad_a\n",
    "    b -= learning_rate * grad_b\n",
    "    c -= learning_rate * grad_c\n",
    "    d -= learning_rate * grad_d\n",
    "\n",
    "print(\n",
    "    f'Result: y = {a.item()} + {b.item()} x + {c.item()} x^2 + {d.item()} x^3')"
   ]
  },
  {
   "cell_type": "markdown",
   "id": "1ee45a4f",
   "metadata": {},
   "source": [
    "# Autograd\n",
    "\n",
    "## PyTorch: 텐서(Tensor)와 autograd\n",
    "\n",
    "위의 예제들에서는 신경망의 순전파 단계와 역전파 단계를 직접 구현해보았습니다. 작은 2계층(2-layer) 신경망에서는 역전파 단계를 직접 구현하는 것이 큰일이 아니지만, 복잡한 대규모 신경망에서는 매우 아슬아슬한 일일 것입니다.\n",
    "\n",
    "<br />\n",
    "\n",
    "다행히도, 자동 미분 을 사용하여 신경망의 역전파 단계 연산을 자동화할 수 있습니다. PyTorch의 autograd 패키지는 정확히 이런 기능을 제공합니다. Autograd를 사용하면, 신경망의 순전파 단계에서 연산 그래프(computational graph) 를 정의하게 됩니다; 이 그래프의 노드(node)는 텐서(tensor)이고, 엣지(edge)는 입력 텐서로부터 출력 텐서를 만들어내는 함수가 됩니다. 이 그래프를 통해 역전파를 하게 되면 변화도를 쉽게 계산할 수 있습니다.\n",
    "\n",
    "<br />\n",
    "\n",
    "이는 복잡하게 들리겠지만, 실제로 사용하는 것은 매우 간단합니다. 각 텐서는 연산그래프에서 노드로 표현됩니다. 만약 x 가 x.requires_grad=True 인 텐서라면 x.grad 어떤 스칼라 값에 대한 x 의 변화도를 갖는 또 다른 텐서입니다.\n",
    "\n",
    "<br />\n",
    "\n",
    "여기서는 PyTorch 텐서와 autograd를 사용하여 3차 다항식을 사인파(sine wave)에 근사하는 예제를 구현해보겠습니다; 이제 더 이상 신경망의 역전파 단계를 직접 구현할 필요가 없습니다:"
   ]
  },
  {
   "cell_type": "code",
   "execution_count": 16,
   "id": "d5878c80",
   "metadata": {
    "ExecuteTime": {
     "end_time": "2022-07-26T05:38:48.386481Z",
     "start_time": "2022-07-26T05:38:48.139687Z"
    }
   },
   "outputs": [
    {
     "name": "stdout",
     "output_type": "stream",
     "text": [
      "99 2493.330810546875\n",
      "199 1702.544677734375\n",
      "299 1164.775146484375\n",
      "399 798.656005859375\n",
      "499 549.1165161132812\n",
      "599 378.8406982421875\n",
      "699 262.51837158203125\n",
      "799 182.96229553222656\n",
      "899 128.48916625976562\n",
      "999 91.14778900146484\n",
      "1099 65.52105712890625\n",
      "1199 47.91383743286133\n",
      "1299 35.802955627441406\n",
      "1399 27.46338653564453\n",
      "1499 21.71442985534668\n",
      "1599 17.747055053710938\n",
      "1699 15.00619888305664\n",
      "1799 13.110745429992676\n",
      "1899 11.798589706420898\n",
      "1999 10.889333724975586\n",
      "Result: y = -0.04147902503609657 + 0.8342239260673523 x + 0.007155821193009615 x^2 + -0.09012755006551743 x^3\n"
     ]
    }
   ],
   "source": [
    "# -*- coding: utf-8 -*-\n",
    "import torch\n",
    "import math\n",
    "\n",
    "dtype = torch.float\n",
    "device = torch.device(\"cpu\")\n",
    "# device = torch.device(\"cuda:0\") # GPU에서 실행하려면 이 주석을 제거하세요\n",
    "\n",
    "# 입력값과 출력값을 갖는 텐서들을 생성합니다.\n",
    "# requires_grad=False가 기본값으로 설정되어 역전파 단계 중에 이 텐서들에 대한 변화도를\n",
    "# 계산할 필요가 없음을 나타냅니다.\n",
    "x = torch.linspace(-math.pi, math.pi, 2000, device=device, dtype=dtype)\n",
    "y = torch.sin(x)\n",
    "\n",
    "# 가중치를 갖는 임의의 텐서를 생성합니다. 3차 다항식이므로 4개의 가중치가 필요합니다:\n",
    "# y = a + b x + c x^2 + d x^3\n",
    "# requires_grad=True로 설정하여 역전파 단계 중에 이 텐서들에 대한 변화도를 계산할 필요가\n",
    "# 있음을 나타냅니다.\n",
    "a = torch.randn((), device=device, dtype=dtype, requires_grad=True)\n",
    "b = torch.randn((), device=device, dtype=dtype, requires_grad=True)\n",
    "c = torch.randn((), device=device, dtype=dtype, requires_grad=True)\n",
    "d = torch.randn((), device=device, dtype=dtype, requires_grad=True)\n",
    "\n",
    "learning_rate = 1e-6\n",
    "for t in range(2000):\n",
    "    # 순전파 단계: 텐서들 간의 연산을 사용하여 예측값 y를 계산합니다.\n",
    "    y_pred = a + b * x + c * x**2 + d * x**3\n",
    "\n",
    "    # 텐서들간의 연산을 사용하여 손실(loss)을 계산하고 출력합니다.\n",
    "    # 이 때 손실은 (1,) shape을 갖는 텐서입니다.\n",
    "    # loss.item() 으로 손실이 갖고 있는 스칼라 값을 가져올 수 있습니다.\n",
    "    loss = (y_pred - y).pow(2).sum()\n",
    "    if t % 100 == 99:\n",
    "        print(t, loss.item())\n",
    "\n",
    "    # autograd 를 사용하여 역전파 단계를 계산합니다. 이는 requires_grad=True를 갖는\n",
    "    # 모든 텐서들에 대한 손실의 변화도를 계산합니다.\n",
    "    # 이후 a.grad와 b.grad, c.grad, d.grad는 각각 a, b, c, d에 대한 손실의 변화도를\n",
    "    # 갖는 텐서가 됩니다.\n",
    "    loss.backward()\n",
    "\n",
    "    # 경사하강법(gradient descent)를 사용하여 가중치를 직접 갱신합니다.\n",
    "    # torch.no_grad()로 감싸는 이유는, 가중치들이 requires_grad=True 지만\n",
    "    # autograd에서는 이를 추적하지 않을 것이기 때문입니다.\n",
    "    with torch.no_grad():\n",
    "        a -= learning_rate * a.grad\n",
    "        b -= learning_rate * b.grad\n",
    "        c -= learning_rate * c.grad\n",
    "        d -= learning_rate * d.grad\n",
    "\n",
    "        # 가중치 갱신 후에는 변화도를 직접 0으로 만듭니다.\n",
    "        a.grad = None\n",
    "        b.grad = None\n",
    "        c.grad = None\n",
    "        d.grad = None\n",
    "\n",
    "print(\n",
    "    f'Result: y = {a.item()} + {b.item()} x + {c.item()} x^2 + {d.item()} x^3')"
   ]
  },
  {
   "cell_type": "markdown",
   "id": "d3511c4e",
   "metadata": {},
   "source": [
    "# PyTorch: 새 autograd Function 정의하기\n",
    "\n",
    "내부적으로, autograd의 기본(primitive) 연산자는 실제로 텐서를 조작하는 2개의 함수입니다. forward 함수는 입력 텐서로부터 출력 텐서를 계산합니다. backward 함수는 어떤 스칼라 값에 대한 출력 텐서의 변화도(gradient)를 전달받고, 동일한 스칼라 값에 대한 입력 텐서의 변화도를 계산합니다.\n",
    "\n",
    "<br />\n",
    "\n",
    "PyTorch에서 torch.autograd.Function 의 하위클래스(subclass)를 정의하고 forward 와 backward 함수를 구현함으로써 사용자 정의 autograd 연산자를 손쉽게 정의할 수 있습니다. 그 후, 인스턴스(instance)를 생성하고 이를 함수처럼 호출하고, 입력 데이터를 갖는 텐서를 전달하는 식으로 새로운 autograd 연산자를 사용할 수 있습니다.\n",
    "\n",
    "<br />\n",
    "\n",
    "이 예제에서는 y=a+bx+cx^2+dx^3y=a+bx+cx \n",
    "2\n",
    " +dx \n",
    "3\n",
    "  대신 y=a+b P_3(c+dx)y=a+bP \n",
    "3\n",
    "​\n",
    " (c+dx) 로 모델을 정의합니다. 여기서 P_3(x)=\\frac{1}{2}\\left(5x^3-3x\\right)P \n",
    "3\n",
    "​\n",
    " (x)= \n",
    "2\n",
    "1\n",
    "​\n",
    " (5x \n",
    "3\n",
    " −3x) 은 3차 르장드르 다항식(Legendre polynomial) 입니다. P_3P \n",
    "3\n",
    "​\n",
    "  의 순전파와 역전파 연산을 위한 새로운 autograd Function를 작성하고, 이를 사용하여 모델을 구현합니다:"
   ]
  },
  {
   "cell_type": "code",
   "execution_count": 17,
   "id": "d70e5ecd",
   "metadata": {
    "ExecuteTime": {
     "end_time": "2022-07-26T05:39:59.116643Z",
     "start_time": "2022-07-26T05:39:58.773160Z"
    }
   },
   "outputs": [
    {
     "name": "stdout",
     "output_type": "stream",
     "text": [
      "99 209.95834350585938\n",
      "199 144.66018676757812\n",
      "299 100.70249938964844\n",
      "399 71.03519439697266\n",
      "499 50.97850799560547\n",
      "599 37.403133392333984\n",
      "699 28.206867218017578\n",
      "799 21.973188400268555\n",
      "899 17.7457275390625\n",
      "999 14.877889633178711\n",
      "1099 12.931766510009766\n",
      "1199 11.610918045043945\n",
      "1299 10.714258193969727\n",
      "1399 10.10548210144043\n",
      "1499 9.692106246948242\n",
      "1599 9.411375045776367\n",
      "1699 9.220745086669922\n",
      "1799 9.091285705566406\n",
      "1899 9.003361701965332\n",
      "1999 8.943639755249023\n",
      "Result: y = -5.423830273798558e-09 + -2.208526849746704 * P3(1.3320399228078372e-09 + 0.2554861009120941 x)\n"
     ]
    }
   ],
   "source": [
    "# -*- coding: utf-8 -*-\n",
    "import torch\n",
    "import math\n",
    "\n",
    "\n",
    "class LegendrePolynomial3(torch.autograd.Function):\n",
    "    \"\"\"\n",
    "    torch.autograd.Function을 상속받아 사용자 정의 autograd Function을 구현하고,\n",
    "    텐서 연산을 하는 순전파 단계와 역전파 단계를 구현해보겠습니다.\n",
    "    \"\"\"\n",
    "\n",
    "    @staticmethod\n",
    "    def forward(ctx, input):\n",
    "        \"\"\"\n",
    "        순전파 단계에서는 입력을 갖는 텐서를 받아 출력을 갖는 텐서를 반환합니다.\n",
    "        ctx는 컨텍스트 객체(context object)로 역전파 연산을 위한 정보 저장에 사용합니다.\n",
    "        ctx.save_for_backward 메소드를 사용하여 역전파 단계에서 사용할 어떤 객체도\n",
    "        저장(cache)해 둘 수 있습니다.\n",
    "        \"\"\"\n",
    "        ctx.save_for_backward(input)\n",
    "        return 0.5 * (5 * input**3 - 3 * input)\n",
    "\n",
    "    @staticmethod\n",
    "    def backward(ctx, grad_output):\n",
    "        \"\"\"\n",
    "        역전파 단계에서는 출력에 대한 손실(loss)의 변화도(gradient)를 갖는 텐서를 받고,\n",
    "        입력에 대한 손실의 변화도를 계산해야 합니다.\n",
    "        \"\"\"\n",
    "        input, = ctx.saved_tensors\n",
    "        return grad_output * 1.5 * (5 * input**2 - 1)\n",
    "\n",
    "\n",
    "dtype = torch.float\n",
    "device = torch.device(\"cpu\")\n",
    "# device = torch.device(\"cuda:0\") # GPU에서 실행하려면 이 주석을 제거하세요\n",
    "\n",
    "# 입력값과 출력값을 갖는 텐서들을 생성합니다.\n",
    "# requires_grad=False가 기본값으로 설정되어 역전파 단계 중에 이 텐서들에 대한 변화도를 계산할\n",
    "# 필요가 없음을 나타냅니다.\n",
    "x = torch.linspace(-math.pi, math.pi, 2000, device=device, dtype=dtype)\n",
    "y = torch.sin(x)\n",
    "\n",
    "# 가중치를 갖는 임의의 텐서를 생성합니다. 3차 다항식이므로 4개의 가중치가 필요합니다:\n",
    "# y = a + b * P3(c + d * x)\n",
    "# 이 가중치들이 수렴(convergence)하기 위해서는 정답으로부터 너무 멀리 떨어지지 않은 값으로\n",
    "# 초기화가 되어야 합니다.\n",
    "# requires_grad=True로 설정하여 역전파 단계 중에 이 텐서들에 대한 변화도를 계산할 필요가\n",
    "# 있음을 나타냅니다.\n",
    "a = torch.full((), 0.0, device=device, dtype=dtype, requires_grad=True)\n",
    "b = torch.full((), -1.0, device=device, dtype=dtype, requires_grad=True)\n",
    "c = torch.full((), 0.0, device=device, dtype=dtype, requires_grad=True)\n",
    "d = torch.full((), 0.3, device=device, dtype=dtype, requires_grad=True)\n",
    "\n",
    "learning_rate = 5e-6\n",
    "for t in range(2000):\n",
    "    # 사용자 정의 Function을 적용하기 위해 Function.apply 메소드를 사용합니다.\n",
    "    # 여기에 'P3'라고 이름을 붙였습니다.\n",
    "    P3 = LegendrePolynomial3.apply\n",
    "\n",
    "    # 순전파 단계: 연산을 하여 예측값 y를 계산합니다;\n",
    "    # 사용자 정의 autograd 연산을 사용하여 P3를 계산합니다.\n",
    "    y_pred = a + b * P3(c + d * x)\n",
    "\n",
    "    # 손실을 계산하고 출력합니다.\n",
    "    loss = (y_pred - y).pow(2).sum()\n",
    "    if t % 100 == 99:\n",
    "        print(t, loss.item())\n",
    "\n",
    "    # autograd를 사용하여 역전파 단계를 계산합니다.\n",
    "    loss.backward()\n",
    "\n",
    "    # 경사하강법(gradient descent)을 사용하여 가중치를 갱신합니다.\n",
    "    with torch.no_grad():\n",
    "        a -= learning_rate * a.grad\n",
    "        b -= learning_rate * b.grad\n",
    "        c -= learning_rate * c.grad\n",
    "        d -= learning_rate * d.grad\n",
    "\n",
    "        # 가중치 갱신 후에는 변화도를 직접 0으로 만듭니다.\n",
    "        a.grad = None\n",
    "        b.grad = None\n",
    "        c.grad = None\n",
    "        d.grad = None\n",
    "\n",
    "print(f'Result: y = {a.item()} + {b.item()} * P3({c.item()} + {d.item()} x)')"
   ]
  },
  {
   "cell_type": "markdown",
   "id": "b0ab1a67",
   "metadata": {},
   "source": [
    "# nn 모듈\n",
    "\n",
    "## PyTorch: nn\n",
    "\n",
    "연산 그래프와 autograd는 복잡한 연산자를 정의하고 도함수(derivative)를 자동으로 계산하는 매우 강력한 패러다임(paradigm)입니다; 하지만 대규모 신경망에서는 autograd 그 자체만으로는 너무 저수준(low-level)일 수 있습니다.\n",
    "\n",
    "<br />\n",
    "\n",
    "신경망을 구성하는 것을 종종 연산을 계층(layer) 에 배열(arrange)하는 것으로 생각하는데, 이 중 일부는 학습 도중 최적화가 될 학습 가능한 매개변수 를 갖고 있습니다.\n",
    "\n",
    "<br />\n",
    "\n",
    "텐서플로우(Tensorflow)에서는, Keras 와 TensorFlow-Slim, TFLearn 같은 패키지들이 연산 그래프를 고수준(high-level)으로 추상화(abstraction)하여 제공하므로 신경망을 구축하는데 유용합니다.\n",
    "\n",
    "<br />\n",
    "\n",
    "파이토치(PyTorch)에서는 nn 패키지가 동일한 목적으로 제공됩니다. nn 패키지는 신경망 계층(layer)과 거의 비슷한 Module 의 집합을 정의합니다. Module은 입력 텐서를 받고 출력 텐서를 계산하는 한편, 학습 가능한 매개변수를 갖는 텐서들을 내부 상태(internal state)로 갖습니다. nn 패키지는 또한 신경망을 학습시킬 때 주로 사용하는 유용한 손실 함수(loss function)들도 정의하고 있습니다.\n",
    "\n",
    "<br />\n",
    "\n",
    "이 예제에서는 nn 패키지를 사용하여 다항식 모델을 구현해보겠습니다:"
   ]
  },
  {
   "cell_type": "code",
   "execution_count": 19,
   "id": "7e598bc0",
   "metadata": {
    "ExecuteTime": {
     "end_time": "2022-07-26T05:40:44.967624Z",
     "start_time": "2022-07-26T05:40:44.333175Z"
    }
   },
   "outputs": [
    {
     "name": "stdout",
     "output_type": "stream",
     "text": [
      "99 543.414306640625\n",
      "199 369.8157043457031\n",
      "299 252.83221435546875\n",
      "399 173.9260711669922\n",
      "499 120.65179443359375\n",
      "599 84.64757537841797\n",
      "699 60.290367126464844\n",
      "799 43.795143127441406\n",
      "899 32.61254119873047\n",
      "999 25.023345947265625\n",
      "1099 19.867082595825195\n",
      "1199 16.36003303527832\n",
      "1299 13.971920013427734\n",
      "1399 12.343976974487305\n",
      "1499 11.232932090759277\n",
      "1599 10.473804473876953\n",
      "1699 9.954517364501953\n",
      "1799 9.598885536193848\n",
      "1899 9.355057716369629\n",
      "1999 9.187700271606445\n",
      "Result: y = 0.015926653519272804 + 0.8450703620910645 x + -0.0027476127725094557 x^2 + -0.09167036414146423 x^3\n"
     ]
    }
   ],
   "source": [
    "# -*- coding: utf-8 -*-\n",
    "import torch\n",
    "import math\n",
    "\n",
    "# 입력값과 출력값을 갖는 텐서들을 생성합니다.\n",
    "x = torch.linspace(-math.pi, math.pi, 2000)\n",
    "y = torch.sin(x)\n",
    "\n",
    "# 이 예제에서, 출력 y는 (x, x^2, x^3)의 선형 함수이므로, 선형 계층 신경망으로 간주할 수 있습니다.\n",
    "# (x, x^2, x^3)를 위한 텐서를 준비합니다.\n",
    "p = torch.tensor([1, 2, 3])\n",
    "xx = x.unsqueeze(-1).pow(p)\n",
    "\n",
    "# 위 코드에서, x.unsqueeze(-1)은 (2000, 1)의 shape을, p는 (3,)의 shape을 가지므로,\n",
    "# 이 경우 브로드캐스트(broadcast)가 적용되어 (2000, 3)의 shape을 갖는 텐서를 얻습니다.\n",
    "\n",
    "# nn 패키지를 사용하여 모델을 순차적 계층(sequence of layers)으로 정의합니다.\n",
    "# nn.Sequential은 다른 Module을 포함하는 Module로, 포함되는 Module들을 순차적으로 적용하여\n",
    "# 출력을 생성합니다. 각각의 Linear Module은 선형 함수(linear function)를 사용하여 입력으로부터\n",
    "# 출력을 계산하고, 내부 Tensor에 가중치와 편향을 저장합니다.\n",
    "# Flatten 계층은 선형 계층의 출력을 `y` 의 shape과 맞도록(match) 1D 텐서로 폅니다(flatten).\n",
    "model = torch.nn.Sequential(torch.nn.Linear(3, 1), torch.nn.Flatten(0, 1))\n",
    "\n",
    "# 또한 nn 패키지에는 주로 사용되는 손실 함수(loss function)들에 대한 정의도 포함되어 있습니다;\n",
    "# 여기에서는 평균 제곱 오차(MSE; Mean Squared Error)를 손실 함수로 사용하겠습니다.\n",
    "loss_fn = torch.nn.MSELoss(reduction='sum')\n",
    "\n",
    "learning_rate = 1e-6\n",
    "for t in range(2000):\n",
    "\n",
    "    # 순전파 단계: x를 모델에 전달하여 예측값 y를 계산합니다. Module 객체는 __call__ 연산자를\n",
    "    # 덮어써서(override) 함수처럼 호출할 수 있도록 합니다. 이렇게 함으로써 입력 데이터의 텐서를 Module에 전달하여\n",
    "    # 출력 데이터의 텐서를 생성합니다.\n",
    "    y_pred = model(xx)\n",
    "\n",
    "    # 손실을 계산하고 출력합니다. 예측한 y와 정답인 y를 갖는 텐서들을 전달하고,\n",
    "    # 손실 함수는 손실(loss)을 갖는 텐서를 반환합니다.\n",
    "    loss = loss_fn(y_pred, y)\n",
    "    if t % 100 == 99:\n",
    "        print(t, loss.item())\n",
    "\n",
    "    # 역전파 단계를 실행하기 전에 변화도(gradient)를 0으로 만듭니다.\n",
    "    model.zero_grad()\n",
    "\n",
    "    # 역전파 단계: 모델의 학습 가능한 모든 매개변수에 대해 손실의 변화도를 계산합니다.\n",
    "    # 내부적으로 각 Module의 매개변수는 requires_grad=True일 때 텐서에 저장되므로,\n",
    "    # 아래 호출은 모델의 모든 학습 가능한 매개변수의 변화도를 계산하게 됩니다.\n",
    "    loss.backward()\n",
    "\n",
    "    # 경사하강법을 사용하여 가중치를 갱신합니다.\n",
    "    # 각 매개변수는 텐서이므로, 이전에 했던 것처럼 변화도에 접근할 수 있습니다.\n",
    "    with torch.no_grad():\n",
    "        for param in model.parameters():\n",
    "            param -= learning_rate * param.grad\n",
    "\n",
    "# list의 첫번째 항목에 접근하는 것처럼 `model` 의 첫번째 계층(layer)에 접근할 수 있습니다.\n",
    "linear_layer = model[0]\n",
    "\n",
    "# 선형 계층에서, 매개변수는 `weights` 와 `bias` 로 저장됩니다.\n",
    "print(\n",
    "    f'Result: y = {linear_layer.bias.item()} + {linear_layer.weight[:, 0].item()} x + {linear_layer.weight[:, 1].item()} x^2 + {linear_layer.weight[:, 2].item()} x^3'\n",
    ")"
   ]
  },
  {
   "cell_type": "markdown",
   "id": "9c7e0573",
   "metadata": {},
   "source": [
    "# PyTorch: optim\n",
    "\n",
    "지금까지는 torch.no_grad() 로 학습 가능한 매개변수를 갖는 텐서들을 직접 조작하여 모델의 가중치(weight)를 갱신하였습니다. 이것은 확률적 경사하강법(SGD; stochastic gradient descent)와 같은 간단한 최적화 알고리즘에서는 크게 부담이 되지 않지만, 실제로 신경망을 학습할 때는 AdaGrad, RMSProp, Adam 등과 같은 더 정교한 옵티마이저(optimizer)를 사용하곤 합니다.\n",
    "\n",
    "<br />\n",
    "\n",
    "PyTorch의 optim 패키지는 최적화 알고리즘에 대한 아이디어를 추상화하고 일반적으로 사용하는 최적화 알고리즘의 구현체(implementation)를 제공합니다.\n",
    "\n",
    "<br />\n",
    "\n",
    "이 예제에서는 지금까지와 같이 nn 패키지를 사용하여 모델을 정의하지만, 모델을 최적화할 때는 optim 패키지가 제공하는 RMSProp 알고리즘을 사용하겠습니다:"
   ]
  },
  {
   "cell_type": "code",
   "execution_count": 21,
   "id": "2a4dcef6",
   "metadata": {
    "ExecuteTime": {
     "end_time": "2022-07-26T05:41:22.861033Z",
     "start_time": "2022-07-26T05:41:22.098741Z"
    }
   },
   "outputs": [
    {
     "name": "stdout",
     "output_type": "stream",
     "text": [
      "99 41337.13671875\n",
      "199 21424.572265625\n",
      "299 10235.53515625\n",
      "399 4220.0166015625\n",
      "499 1563.9051513671875\n",
      "599 770.6644287109375\n",
      "699 620.6376342773438\n",
      "799 554.2670288085938\n",
      "899 478.76318359375\n",
      "999 392.20501708984375\n",
      "1099 302.8414306640625\n",
      "1199 220.4913787841797\n",
      "1299 151.10459899902344\n",
      "1399 96.72209930419922\n",
      "1499 57.21223831176758\n",
      "1599 31.287988662719727\n",
      "1699 16.825889587402344\n",
      "1799 10.662384033203125\n",
      "1899 9.029495239257812\n",
      "1999 8.852485656738281\n",
      "Result: y = -0.00043136649765074253 + 0.8541528582572937 x + -0.00043182179797440767 x^2 + -0.09322238713502884 x^3\n"
     ]
    }
   ],
   "source": [
    "# -*- coding: utf-8 -*-\n",
    "import torch\n",
    "import math\n",
    "\n",
    "# 입력값과 출력값을 갖는 텐서들을 생성합니다.\n",
    "x = torch.linspace(-math.pi, math.pi, 2000)\n",
    "y = torch.sin(x)\n",
    "\n",
    "# 입력 텐서 (x, x^2, x^3)를 준비합니다.\n",
    "p = torch.tensor([1, 2, 3])\n",
    "xx = x.unsqueeze(-1).pow(p)\n",
    "\n",
    "# nn 패키지를 사용하여 모델과 손실 함수를 정의합니다.\n",
    "model = torch.nn.Sequential(torch.nn.Linear(3, 1), torch.nn.Flatten(0, 1))\n",
    "loss_fn = torch.nn.MSELoss(reduction='sum')\n",
    "\n",
    "# optim 패키지를 사용하여 모델의 가중치를 갱신할 optimizer를 정의합니다.\n",
    "# 여기서는 RMSprop을 사용하겠습니다; optim 패키지는 다른 다양한 최적화 알고리즘을 포함하고 있습니다.\n",
    "# RMSprop 생성자의 첫번째 인자는 어떤 텐서가 갱신되어야 하는지를 알려줍니다.\n",
    "learning_rate = 1e-3\n",
    "optimizer = torch.optim.RMSprop(model.parameters(), lr=learning_rate)\n",
    "for t in range(2000):\n",
    "    # 순전파 단계: 모델에 x를 전달하여 예측값 y를 계산합니다.\n",
    "    y_pred = model(xx)\n",
    "\n",
    "    # 손실을 계산하고 출력합니다.\n",
    "    loss = loss_fn(y_pred, y)\n",
    "    if t % 100 == 99:\n",
    "        print(t, loss.item())\n",
    "\n",
    "    # 역전파 단계 전에, optimizer 객체를 사용하여 (모델의 학습 가능한 가중치인) 갱신할\n",
    "    # 변수들에 대한 모든 변화도(gradient)를 0으로 만듭니다. 이렇게 하는 이유는 기본적으로\n",
    "    # .backward()를 호출할 때마다 변화도가 버퍼(buffer)에 (덮어쓰지 않고) 누적되기\n",
    "    # 때문입니다. 더 자세한 내용은 torch.autograd.backward에 대한 문서를 참조하세요.\n",
    "    optimizer.zero_grad()\n",
    "\n",
    "    # 역전파 단계: 모델의 매개변수들에 대한 손실의 변화도를 계산합니다.\n",
    "    loss.backward()\n",
    "\n",
    "    # optimizer의 step 함수를 호출하면 매개변수가 갱신됩니다.\n",
    "    optimizer.step()\n",
    "\n",
    "linear_layer = model[0]\n",
    "print(\n",
    "    f'Result: y = {linear_layer.bias.item()} + {linear_layer.weight[:, 0].item()} x + {linear_layer.weight[:, 1].item()} x^2 + {linear_layer.weight[:, 2].item()} x^3'\n",
    ")"
   ]
  },
  {
   "cell_type": "code",
   "execution_count": null,
   "id": "1443c2db",
   "metadata": {},
   "outputs": [],
   "source": []
  },
  {
   "cell_type": "code",
   "execution_count": null,
   "id": "303435c9",
   "metadata": {},
   "outputs": [],
   "source": []
  },
  {
   "cell_type": "code",
   "execution_count": 13,
   "id": "9e114f51",
   "metadata": {
    "ExecuteTime": {
     "end_time": "2022-07-26T05:34:35.465968Z",
     "start_time": "2022-07-26T05:34:07.683355Z"
    }
   },
   "outputs": [
    {
     "name": "stdout",
     "output_type": "stream",
     "text": [
      "Epoch 1\n",
      "-------------------------------\n",
      "loss: 2.299851  [    0/60000]\n",
      "loss: 2.289385  [ 6400/60000]\n",
      "loss: 2.266608  [12800/60000]\n",
      "loss: 2.264034  [19200/60000]\n",
      "loss: 2.231870  [25600/60000]\n",
      "loss: 2.208578  [32000/60000]\n",
      "loss: 2.219257  [38400/60000]\n",
      "loss: 2.184103  [44800/60000]\n",
      "loss: 2.173617  [51200/60000]\n",
      "loss: 2.141301  [57600/60000]\n",
      "Test Error: \n",
      " Accuracy: 45.6%, Avg loss: 2.135323 \n",
      "\n",
      "Epoch 2\n",
      "-------------------------------\n",
      "loss: 2.147756  [    0/60000]\n",
      "loss: 2.138874  [ 6400/60000]\n",
      "loss: 2.072557  [12800/60000]\n",
      "loss: 2.095316  [19200/60000]\n",
      "loss: 2.026911  [25600/60000]\n",
      "loss: 1.968050  [32000/60000]\n",
      "loss: 2.001400  [38400/60000]\n",
      "loss: 1.918399  [44800/60000]\n",
      "loss: 1.918442  [51200/60000]\n",
      "loss: 1.843862  [57600/60000]\n",
      "Test Error: \n",
      " Accuracy: 57.1%, Avg loss: 1.840044 \n",
      "\n",
      "Epoch 3\n",
      "-------------------------------\n",
      "loss: 1.875583  [    0/60000]\n",
      "loss: 1.846477  [ 6400/60000]\n",
      "loss: 1.718971  [12800/60000]\n",
      "loss: 1.770299  [19200/60000]\n",
      "loss: 1.645234  [25600/60000]\n",
      "loss: 1.601387  [32000/60000]\n",
      "loss: 1.625708  [38400/60000]\n",
      "loss: 1.528671  [44800/60000]\n",
      "loss: 1.551517  [51200/60000]\n",
      "loss: 1.450091  [57600/60000]\n",
      "Test Error: \n",
      " Accuracy: 61.8%, Avg loss: 1.463639 \n",
      "\n",
      "Epoch 4\n",
      "-------------------------------\n",
      "loss: 1.529515  [    0/60000]\n",
      "loss: 1.500005  [ 6400/60000]\n",
      "loss: 1.345521  [12800/60000]\n",
      "loss: 1.433828  [19200/60000]\n",
      "loss: 1.303404  [25600/60000]\n",
      "loss: 1.304598  [32000/60000]\n",
      "loss: 1.323046  [38400/60000]\n",
      "loss: 1.247045  [44800/60000]\n",
      "loss: 1.284288  [51200/60000]\n",
      "loss: 1.194207  [57600/60000]\n",
      "Test Error: \n",
      " Accuracy: 64.1%, Avg loss: 1.210932 \n",
      "\n",
      "Epoch 5\n",
      "-------------------------------\n",
      "loss: 1.283403  [    0/60000]\n",
      "loss: 1.269946  [ 6400/60000]\n",
      "loss: 1.102548  [12800/60000]\n",
      "loss: 1.227277  [19200/60000]\n",
      "loss: 1.092392  [25600/60000]\n",
      "loss: 1.119758  [32000/60000]\n",
      "loss: 1.145353  [38400/60000]\n",
      "loss: 1.077907  [44800/60000]\n",
      "loss: 1.122853  [51200/60000]\n",
      "loss: 1.047913  [57600/60000]\n",
      "Test Error: \n",
      " Accuracy: 65.3%, Avg loss: 1.058611 \n",
      "\n",
      "Done!\n"
     ]
    }
   ],
   "source": [
    "epochs = 5\n",
    "for t in range(epochs):\n",
    "    print(f\"Epoch {t+1}\\n-------------------------------\")\n",
    "    train(train_dataloader, model, loss_fn, optimizer)\n",
    "    test(test_dataloader, model, loss_fn)\n",
    "print(\"Done!\")"
   ]
  },
  {
   "cell_type": "code",
   "execution_count": 12,
   "id": "026a8e67",
   "metadata": {
    "ExecuteTime": {
     "end_time": "2022-07-26T05:34:07.022084Z",
     "start_time": "2022-07-26T05:34:07.011308Z"
    }
   },
   "outputs": [],
   "source": [
    "def test(dataloader, model, loss_fn):\n",
    "    size = len(dataloader.dataset)\n",
    "    num_batches = len(dataloader)\n",
    "    model.eval()\n",
    "    test_loss, correct = 0, 0\n",
    "    with torch.no_grad():\n",
    "        for X, y in dataloader:\n",
    "            X, y = X.to(device), y.to(device)\n",
    "            pred = model(X)\n",
    "            test_loss += loss_fn(pred, y).item()\n",
    "            correct += (pred.argmax(1) == y).type(torch.float).sum().item()\n",
    "    test_loss /= num_batches\n",
    "    correct /= size\n",
    "    print(\n",
    "        f\"Test Error: \\n Accuracy: {(100*correct):>0.1f}%, Avg loss: {test_loss:>8f} \\n\"\n",
    "    )"
   ]
  },
  {
   "cell_type": "code",
   "execution_count": 11,
   "id": "bbf14713",
   "metadata": {
    "ExecuteTime": {
     "end_time": "2022-07-26T05:34:06.349162Z",
     "start_time": "2022-07-26T05:34:06.340163Z"
    }
   },
   "outputs": [],
   "source": [
    "def train(dataloader, model, loss_fn, optimizer):\n",
    "    size = len(dataloader.dataset)\n",
    "    for batch, (X, y) in enumerate(dataloader):\n",
    "        X, y = X.to(device), y.to(device)\n",
    "\n",
    "        # 예측 오류 계산\n",
    "        pred = model(X)\n",
    "        loss = loss_fn(pred, y)\n",
    "\n",
    "        # 역전파\n",
    "        optimizer.zero_grad()\n",
    "        loss.backward()\n",
    "        optimizer.step()\n",
    "\n",
    "        if batch % 100 == 0:\n",
    "            loss, current = loss.item(), batch * len(X)\n",
    "            print(f\"loss: {loss:>7f}  [{current:>5d}/{size:>5d}]\")"
   ]
  },
  {
   "cell_type": "code",
   "execution_count": 10,
   "id": "88901d49",
   "metadata": {
    "ExecuteTime": {
     "end_time": "2022-07-26T05:34:05.684225Z",
     "start_time": "2022-07-26T05:34:05.667225Z"
    }
   },
   "outputs": [],
   "source": [
    "loss_fn = nn.CrossEntropyLoss()\n",
    "optimizer = torch.optim.SGD(model.parameters(), lr=1e-3)"
   ]
  }
 ],
 "metadata": {
  "kernelspec": {
   "display_name": "Python 3 (ipykernel)",
   "language": "python",
   "name": "python3"
  },
  "language_info": {
   "codemirror_mode": {
    "name": "ipython",
    "version": 3
   },
   "file_extension": ".py",
   "mimetype": "text/x-python",
   "name": "python",
   "nbconvert_exporter": "python",
   "pygments_lexer": "ipython3",
   "version": "3.7.13"
  },
  "toc": {
   "base_numbering": 1,
   "nav_menu": {},
   "number_sections": true,
   "sideBar": true,
   "skip_h1_title": false,
   "title_cell": "Table of Contents",
   "title_sidebar": "Contents",
   "toc_cell": false,
   "toc_position": {},
   "toc_section_display": true,
   "toc_window_display": false
  },
  "varInspector": {
   "cols": {
    "lenName": 16,
    "lenType": 16,
    "lenVar": 40
   },
   "kernels_config": {
    "python": {
     "delete_cmd_postfix": "",
     "delete_cmd_prefix": "del ",
     "library": "var_list.py",
     "varRefreshCmd": "print(var_dic_list())"
    },
    "r": {
     "delete_cmd_postfix": ") ",
     "delete_cmd_prefix": "rm(",
     "library": "var_list.r",
     "varRefreshCmd": "cat(var_dic_list()) "
    }
   },
   "types_to_exclude": [
    "module",
    "function",
    "builtin_function_or_method",
    "instance",
    "_Feature"
   ],
   "window_display": false
  }
 },
 "nbformat": 4,
 "nbformat_minor": 5
}
