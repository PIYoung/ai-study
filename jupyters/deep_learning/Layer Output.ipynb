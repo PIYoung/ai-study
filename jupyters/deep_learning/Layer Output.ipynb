{
 "cells": [
  {
   "cell_type": "code",
   "execution_count": 48,
   "id": "573b9653",
   "metadata": {
    "ExecuteTime": {
     "end_time": "2022-07-29T01:51:57.609346Z",
     "start_time": "2022-07-29T01:51:57.594409Z"
    }
   },
   "outputs": [],
   "source": [
    "import numpy as np\n",
    "import pandas as pd\n",
    "import matplotlib.pyplot as plt\n",
    "\n",
    "from skimage.transform import resize\n",
    "\n",
    "import tensorflow as tf\n",
    "from tensorflow import keras\n",
    "from tensorflow.keras import datasets, layers, models\n",
    "from tensorflow.keras.layers import Dense, Input, Conv2D\n",
    "from tensorflow.keras.models import Sequential, Model\n",
    "from tensorflow.keras.optimizers import Adam"
   ]
  },
  {
   "cell_type": "code",
   "execution_count": 49,
   "id": "94eb9bc5",
   "metadata": {
    "ExecuteTime": {
     "end_time": "2022-07-29T01:51:58.125891Z",
     "start_time": "2022-07-29T01:51:57.926101Z"
    }
   },
   "outputs": [],
   "source": [
    "(train_images, train_labels), (test_images,\n",
    "                               test_labels) = datasets.mnist.load_data()\n",
    "\n",
    "train_images = train_images.reshape((60000, 28, 28, 1))[:50]\n",
    "test_images = test_images.reshape((10000, 28, 28, 1))[:50]\n",
    "train_labels = train_labels[:50]\n",
    "test_labels = test_labels[:50]"
   ]
  },
  {
   "cell_type": "code",
   "execution_count": 50,
   "id": "87da0a9c",
   "metadata": {
    "ExecuteTime": {
     "end_time": "2022-07-29T01:51:58.545870Z",
     "start_time": "2022-07-29T01:51:58.463775Z"
    }
   },
   "outputs": [
    {
     "data": {
      "text/plain": [
       "<matplotlib.image.AxesImage at 0x166f1ee4a08>"
      ]
     },
     "execution_count": 50,
     "metadata": {},
     "output_type": "execute_result"
    },
    {
     "data": {
      "image/png": "[encoded data removed]",
      "text/plain": [
       "<Figure size 1080x216 with 1 Axes>"
      ]
     },
     "metadata": {
      "needs_background": "light"
     },
     "output_type": "display_data"
    }
   ],
   "source": [
    "plt.figure(figsize=(15, 3))\n",
    "\n",
    "train_images = resize(train_images, (50, 10, 10, 1))\n",
    "test_images = resize(train_images, (50, 10, 10, 1))\n",
    "\n",
    "np.shape(train_images)\n",
    "\n",
    "plt.imshow(np.hstack(train_images[:10]), cmap='gray')"
   ]
  },
  {
   "cell_type": "code",
   "execution_count": 51,
   "id": "1d505192",
   "metadata": {
    "ExecuteTime": {
     "end_time": "2022-07-29T01:51:59.451226Z",
     "start_time": "2022-07-29T01:51:59.433529Z"
    }
   },
   "outputs": [
    {
     "data": {
      "text/html": [
       "<div>\n",
       "<style scoped>\n",
       "    .dataframe tbody tr th:only-of-type {\n",
       "        vertical-align: middle;\n",
       "    }\n",
       "\n",
       "    .dataframe tbody tr th {\n",
       "        vertical-align: top;\n",
       "    }\n",
       "\n",
       "    .dataframe thead th {\n",
       "        text-align: right;\n",
       "    }\n",
       "</style>\n",
       "<table border=\"1\" class=\"dataframe\">\n",
       "  <thead>\n",
       "    <tr style=\"text-align: right;\">\n",
       "      <th></th>\n",
       "      <th>0</th>\n",
       "      <th>1</th>\n",
       "      <th>2</th>\n",
       "      <th>3</th>\n",
       "      <th>4</th>\n",
       "      <th>5</th>\n",
       "      <th>6</th>\n",
       "      <th>7</th>\n",
       "      <th>8</th>\n",
       "      <th>9</th>\n",
       "    </tr>\n",
       "  </thead>\n",
       "  <tbody>\n",
       "    <tr>\n",
       "      <th>0</th>\n",
       "      <td>0.000000</td>\n",
       "      <td>0.000000e+00</td>\n",
       "      <td>0.000000e+00</td>\n",
       "      <td>3.779813e-09</td>\n",
       "      <td>5.703982e-07</td>\n",
       "      <td>0.000004</td>\n",
       "      <td>1.042152e-05</td>\n",
       "      <td>0.000015</td>\n",
       "      <td>8.009369e-06</td>\n",
       "      <td>1.619335e-08</td>\n",
       "    </tr>\n",
       "    <tr>\n",
       "      <th>1</th>\n",
       "      <td>0.000000</td>\n",
       "      <td>3.493966e-07</td>\n",
       "      <td>7.807178e-04</td>\n",
       "      <td>7.999273e-03</td>\n",
       "      <td>2.619184e-02</td>\n",
       "      <td>0.059819</td>\n",
       "      <td>1.155171e-01</td>\n",
       "      <td>0.155306</td>\n",
       "      <td>7.679844e-02</td>\n",
       "      <td>1.519801e-04</td>\n",
       "    </tr>\n",
       "    <tr>\n",
       "      <th>2</th>\n",
       "      <td>0.000000</td>\n",
       "      <td>9.857660e-05</td>\n",
       "      <td>1.036307e-01</td>\n",
       "      <td>5.545328e-01</td>\n",
       "      <td>7.500384e-01</td>\n",
       "      <td>0.815209</td>\n",
       "      <td>6.413300e-01</td>\n",
       "      <td>0.491694</td>\n",
       "      <td>1.539254e-01</td>\n",
       "      <td>2.481732e-04</td>\n",
       "    </tr>\n",
       "    <tr>\n",
       "      <th>3</th>\n",
       "      <td>0.000000</td>\n",
       "      <td>2.617595e-05</td>\n",
       "      <td>5.656854e-02</td>\n",
       "      <td>4.300613e-01</td>\n",
       "      <td>8.046835e-01</td>\n",
       "      <td>0.233121</td>\n",
       "      <td>1.624373e-01</td>\n",
       "      <td>0.008346</td>\n",
       "      <td>1.218553e-03</td>\n",
       "      <td>5.837837e-07</td>\n",
       "    </tr>\n",
       "    <tr>\n",
       "      <th>4</th>\n",
       "      <td>0.000000</td>\n",
       "      <td>9.748591e-09</td>\n",
       "      <td>1.279662e-04</td>\n",
       "      <td>2.502775e-02</td>\n",
       "      <td>5.374982e-01</td>\n",
       "      <td>0.290856</td>\n",
       "      <td>3.380014e-02</td>\n",
       "      <td>0.000305</td>\n",
       "      <td>1.190274e-08</td>\n",
       "      <td>0.000000e+00</td>\n",
       "    </tr>\n",
       "    <tr>\n",
       "      <th>5</th>\n",
       "      <td>0.000000</td>\n",
       "      <td>0.000000e+00</td>\n",
       "      <td>6.266862e-09</td>\n",
       "      <td>2.610279e-04</td>\n",
       "      <td>6.696573e-02</td>\n",
       "      <td>0.564458</td>\n",
       "      <td>5.666593e-01</td>\n",
       "      <td>0.047100</td>\n",
       "      <td>1.411354e-05</td>\n",
       "      <td>0.000000e+00</td>\n",
       "    </tr>\n",
       "    <tr>\n",
       "      <th>6</th>\n",
       "      <td>0.000000</td>\n",
       "      <td>4.497760e-08</td>\n",
       "      <td>3.063738e-05</td>\n",
       "      <td>3.220381e-03</td>\n",
       "      <td>7.633813e-02</td>\n",
       "      <td>0.401042</td>\n",
       "      <td>8.656932e-01</td>\n",
       "      <td>0.157746</td>\n",
       "      <td>1.073702e-04</td>\n",
       "      <td>0.000000e+00</td>\n",
       "    </tr>\n",
       "    <tr>\n",
       "      <th>7</th>\n",
       "      <td>0.000008</td>\n",
       "      <td>5.200728e-03</td>\n",
       "      <td>7.889449e-02</td>\n",
       "      <td>3.434775e-01</td>\n",
       "      <td>7.748787e-01</td>\n",
       "      <td>0.739755</td>\n",
       "      <td>3.174749e-01</td>\n",
       "      <td>0.021589</td>\n",
       "      <td>2.289392e-06</td>\n",
       "      <td>0.000000e+00</td>\n",
       "    </tr>\n",
       "    <tr>\n",
       "      <th>8</th>\n",
       "      <td>0.000387</td>\n",
       "      <td>2.102920e-01</td>\n",
       "      <td>6.982965e-01</td>\n",
       "      <td>7.215174e-01</td>\n",
       "      <td>3.777502e-01</td>\n",
       "      <td>0.048582</td>\n",
       "      <td>1.853358e-03</td>\n",
       "      <td>0.000010</td>\n",
       "      <td>1.813034e-10</td>\n",
       "      <td>0.000000e+00</td>\n",
       "    </tr>\n",
       "    <tr>\n",
       "      <th>9</th>\n",
       "      <td>0.000029</td>\n",
       "      <td>1.430609e-02</td>\n",
       "      <td>3.384249e-02</td>\n",
       "      <td>1.997844e-02</td>\n",
       "      <td>1.852532e-03</td>\n",
       "      <td>0.000012</td>\n",
       "      <td>1.298005e-08</td>\n",
       "      <td>0.000000</td>\n",
       "      <td>0.000000e+00</td>\n",
       "      <td>0.000000e+00</td>\n",
       "    </tr>\n",
       "  </tbody>\n",
       "</table>\n",
       "</div>"
      ],
      "text/plain": [
       "          0             1             2             3             4         5  \\\n",
       "0  0.000000  0.000000e+00  0.000000e+00  3.779813e-09  5.703982e-07  0.000004   \n",
       "1  0.000000  3.493966e-07  7.807178e-04  7.999273e-03  2.619184e-02  0.059819   \n",
       "2  0.000000  9.857660e-05  1.036307e-01  5.545328e-01  7.500384e-01  0.815209   \n",
       "3  0.000000  2.617595e-05  5.656854e-02  4.300613e-01  8.046835e-01  0.233121   \n",
       "4  0.000000  9.748591e-09  1.279662e-04  2.502775e-02  5.374982e-01  0.290856   \n",
       "5  0.000000  0.000000e+00  6.266862e-09  2.610279e-04  6.696573e-02  0.564458   \n",
       "6  0.000000  4.497760e-08  3.063738e-05  3.220381e-03  7.633813e-02  0.401042   \n",
       "7  0.000008  5.200728e-03  7.889449e-02  3.434775e-01  7.748787e-01  0.739755   \n",
       "8  0.000387  2.102920e-01  6.982965e-01  7.215174e-01  3.777502e-01  0.048582   \n",
       "9  0.000029  1.430609e-02  3.384249e-02  1.997844e-02  1.852532e-03  0.000012   \n",
       "\n",
       "              6         7             8             9  \n",
       "0  1.042152e-05  0.000015  8.009369e-06  1.619335e-08  \n",
       "1  1.155171e-01  0.155306  7.679844e-02  1.519801e-04  \n",
       "2  6.413300e-01  0.491694  1.539254e-01  2.481732e-04  \n",
       "3  1.624373e-01  0.008346  1.218553e-03  5.837837e-07  \n",
       "4  3.380014e-02  0.000305  1.190274e-08  0.000000e+00  \n",
       "5  5.666593e-01  0.047100  1.411354e-05  0.000000e+00  \n",
       "6  8.656932e-01  0.157746  1.073702e-04  0.000000e+00  \n",
       "7  3.174749e-01  0.021589  2.289392e-06  0.000000e+00  \n",
       "8  1.853358e-03  0.000010  1.813034e-10  0.000000e+00  \n",
       "9  1.298005e-08  0.000000  0.000000e+00  0.000000e+00  "
      ]
     },
     "execution_count": 51,
     "metadata": {},
     "output_type": "execute_result"
    }
   ],
   "source": [
    "pd.DataFrame(np.vstack(train_images[0]).reshape(10, 10))"
   ]
  },
  {
   "cell_type": "code",
   "execution_count": 52,
   "id": "8f7e62b6",
   "metadata": {
    "ExecuteTime": {
     "end_time": "2022-07-29T01:52:00.513667Z",
     "start_time": "2022-07-29T01:52:00.504942Z"
    }
   },
   "outputs": [
    {
     "data": {
      "text/html": [
       "<div>\n",
       "<style scoped>\n",
       "    .dataframe tbody tr th:only-of-type {\n",
       "        vertical-align: middle;\n",
       "    }\n",
       "\n",
       "    .dataframe tbody tr th {\n",
       "        vertical-align: top;\n",
       "    }\n",
       "\n",
       "    .dataframe thead th {\n",
       "        text-align: right;\n",
       "    }\n",
       "</style>\n",
       "<table border=\"1\" class=\"dataframe\">\n",
       "  <thead>\n",
       "    <tr style=\"text-align: right;\">\n",
       "      <th></th>\n",
       "      <th>0</th>\n",
       "      <th>1</th>\n",
       "      <th>2</th>\n",
       "      <th>3</th>\n",
       "      <th>4</th>\n",
       "      <th>5</th>\n",
       "      <th>6</th>\n",
       "      <th>7</th>\n",
       "      <th>8</th>\n",
       "      <th>9</th>\n",
       "    </tr>\n",
       "  </thead>\n",
       "  <tbody>\n",
       "    <tr>\n",
       "      <th>0</th>\n",
       "      <td>0</td>\n",
       "      <td>0</td>\n",
       "      <td>0</td>\n",
       "      <td>0</td>\n",
       "      <td>0</td>\n",
       "      <td>0</td>\n",
       "      <td>0</td>\n",
       "      <td>0</td>\n",
       "      <td>0</td>\n",
       "      <td>0</td>\n",
       "    </tr>\n",
       "    <tr>\n",
       "      <th>1</th>\n",
       "      <td>0</td>\n",
       "      <td>0</td>\n",
       "      <td>0</td>\n",
       "      <td>0</td>\n",
       "      <td>0</td>\n",
       "      <td>0</td>\n",
       "      <td>1</td>\n",
       "      <td>1</td>\n",
       "      <td>0</td>\n",
       "      <td>0</td>\n",
       "    </tr>\n",
       "    <tr>\n",
       "      <th>2</th>\n",
       "      <td>0</td>\n",
       "      <td>0</td>\n",
       "      <td>1</td>\n",
       "      <td>5</td>\n",
       "      <td>7</td>\n",
       "      <td>8</td>\n",
       "      <td>6</td>\n",
       "      <td>4</td>\n",
       "      <td>1</td>\n",
       "      <td>0</td>\n",
       "    </tr>\n",
       "    <tr>\n",
       "      <th>3</th>\n",
       "      <td>0</td>\n",
       "      <td>0</td>\n",
       "      <td>0</td>\n",
       "      <td>4</td>\n",
       "      <td>8</td>\n",
       "      <td>2</td>\n",
       "      <td>1</td>\n",
       "      <td>0</td>\n",
       "      <td>0</td>\n",
       "      <td>0</td>\n",
       "    </tr>\n",
       "    <tr>\n",
       "      <th>4</th>\n",
       "      <td>0</td>\n",
       "      <td>0</td>\n",
       "      <td>0</td>\n",
       "      <td>0</td>\n",
       "      <td>5</td>\n",
       "      <td>2</td>\n",
       "      <td>0</td>\n",
       "      <td>0</td>\n",
       "      <td>0</td>\n",
       "      <td>0</td>\n",
       "    </tr>\n",
       "    <tr>\n",
       "      <th>5</th>\n",
       "      <td>0</td>\n",
       "      <td>0</td>\n",
       "      <td>0</td>\n",
       "      <td>0</td>\n",
       "      <td>0</td>\n",
       "      <td>5</td>\n",
       "      <td>5</td>\n",
       "      <td>0</td>\n",
       "      <td>0</td>\n",
       "      <td>0</td>\n",
       "    </tr>\n",
       "    <tr>\n",
       "      <th>6</th>\n",
       "      <td>0</td>\n",
       "      <td>0</td>\n",
       "      <td>0</td>\n",
       "      <td>0</td>\n",
       "      <td>0</td>\n",
       "      <td>4</td>\n",
       "      <td>8</td>\n",
       "      <td>1</td>\n",
       "      <td>0</td>\n",
       "      <td>0</td>\n",
       "    </tr>\n",
       "    <tr>\n",
       "      <th>7</th>\n",
       "      <td>0</td>\n",
       "      <td>0</td>\n",
       "      <td>0</td>\n",
       "      <td>3</td>\n",
       "      <td>7</td>\n",
       "      <td>7</td>\n",
       "      <td>3</td>\n",
       "      <td>0</td>\n",
       "      <td>0</td>\n",
       "      <td>0</td>\n",
       "    </tr>\n",
       "    <tr>\n",
       "      <th>8</th>\n",
       "      <td>0</td>\n",
       "      <td>2</td>\n",
       "      <td>6</td>\n",
       "      <td>7</td>\n",
       "      <td>3</td>\n",
       "      <td>0</td>\n",
       "      <td>0</td>\n",
       "      <td>0</td>\n",
       "      <td>0</td>\n",
       "      <td>0</td>\n",
       "    </tr>\n",
       "    <tr>\n",
       "      <th>9</th>\n",
       "      <td>0</td>\n",
       "      <td>0</td>\n",
       "      <td>0</td>\n",
       "      <td>0</td>\n",
       "      <td>0</td>\n",
       "      <td>0</td>\n",
       "      <td>0</td>\n",
       "      <td>0</td>\n",
       "      <td>0</td>\n",
       "      <td>0</td>\n",
       "    </tr>\n",
       "  </tbody>\n",
       "</table>\n",
       "</div>"
      ],
      "text/plain": [
       "   0  1  2  3  4  5  6  7  8  9\n",
       "0  0  0  0  0  0  0  0  0  0  0\n",
       "1  0  0  0  0  0  0  1  1  0  0\n",
       "2  0  0  1  5  7  8  6  4  1  0\n",
       "3  0  0  0  4  8  2  1  0  0  0\n",
       "4  0  0  0  0  5  2  0  0  0  0\n",
       "5  0  0  0  0  0  5  5  0  0  0\n",
       "6  0  0  0  0  0  4  8  1  0  0\n",
       "7  0  0  0  3  7  7  3  0  0  0\n",
       "8  0  2  6  7  3  0  0  0  0  0\n",
       "9  0  0  0  0  0  0  0  0  0  0"
      ]
     },
     "execution_count": 52,
     "metadata": {},
     "output_type": "execute_result"
    }
   ],
   "source": [
    "train_images = (train_images * 10).astype('int32')\n",
    "test_images = (test_images * 10).astype('int32')\n",
    "\n",
    "pd.DataFrame(np.vstack(train_images[0]).reshape(10, 10))"
   ]
  },
  {
   "cell_type": "code",
   "execution_count": 54,
   "id": "869a7be8",
   "metadata": {
    "ExecuteTime": {
     "end_time": "2022-07-29T01:53:36.799070Z",
     "start_time": "2022-07-29T01:53:36.706723Z"
    }
   },
   "outputs": [
    {
     "data": {
      "text/plain": [
       "<matplotlib.image.AxesImage at 0x167bd312448>"
      ]
     },
     "execution_count": 54,
     "metadata": {},
     "output_type": "execute_result"
    },
    {
     "data": {
      "image/png": "[encoded data removed]",
      "text/plain": [
       "<Figure size 432x288 with 1 Axes>"
      ]
     },
     "metadata": {
      "needs_background": "light"
     },
     "output_type": "display_data"
    }
   ],
   "source": [
    "plt.imshow(train_images[0], cmap='gray')"
   ]
  },
  {
   "cell_type": "code",
   "execution_count": 55,
   "id": "105337e2",
   "metadata": {
    "ExecuteTime": {
     "end_time": "2022-07-29T01:53:44.050203Z",
     "start_time": "2022-07-29T01:53:44.001073Z"
    }
   },
   "outputs": [],
   "source": [
    "model = models.Sequential()\n",
    "model.add(layers.Conv2D(1, (3, 3), activation='relu', input_shape=(10, 10, 1)))\n",
    "model.add(layers.MaxPooling2D((2, 2)))\n",
    "model.add(layers.Conv2D(2, (3, 3), activation='relu'))\n",
    "\n",
    "model.add(layers.Flatten())\n",
    "model.add(layers.Dense(2, activation='relu'))\n",
    "model.add(layers.Dense(10, activation='softmax'))"
   ]
  },
  {
   "cell_type": "code",
   "execution_count": 56,
   "id": "2436954d",
   "metadata": {
    "ExecuteTime": {
     "end_time": "2022-07-29T01:53:44.406116Z",
     "start_time": "2022-07-29T01:53:44.399474Z"
    }
   },
   "outputs": [
    {
     "name": "stdout",
     "output_type": "stream",
     "text": [
      "Model: \"sequential_1\"\n",
      "_________________________________________________________________\n",
      "Layer (type)                 Output Shape              Param #   \n",
      "=================================================================\n",
      "conv2d_2 (Conv2D)            (None, 8, 8, 1)           10        \n",
      "_________________________________________________________________\n",
      "max_pooling2d_1 (MaxPooling2 (None, 4, 4, 1)           0         \n",
      "_________________________________________________________________\n",
      "conv2d_3 (Conv2D)            (None, 2, 2, 2)           20        \n",
      "_________________________________________________________________\n",
      "flatten_1 (Flatten)          (None, 8)                 0         \n",
      "_________________________________________________________________\n",
      "dense_2 (Dense)              (None, 2)                 18        \n",
      "_________________________________________________________________\n",
      "dense_3 (Dense)              (None, 10)                30        \n",
      "=================================================================\n",
      "Total params: 78\n",
      "Trainable params: 78\n",
      "Non-trainable params: 0\n",
      "_________________________________________________________________\n"
     ]
    }
   ],
   "source": [
    "model.summary()"
   ]
  },
  {
   "cell_type": "code",
   "execution_count": 57,
   "id": "a6d5a052",
   "metadata": {
    "ExecuteTime": {
     "end_time": "2022-07-29T01:53:48.989942Z",
     "start_time": "2022-07-29T01:53:48.969621Z"
    }
   },
   "outputs": [
    {
     "data": {
      "text/plain": [
       "[<KerasTensor: shape=(None, 8, 8, 1) dtype=float32 (created by layer 'conv2d_2')>,\n",
       " <KerasTensor: shape=(None, 4, 4, 1) dtype=float32 (created by layer 'max_pooling2d_1')>,\n",
       " <KerasTensor: shape=(None, 2, 2, 2) dtype=float32 (created by layer 'conv2d_3')>,\n",
       " <KerasTensor: shape=(None, 8) dtype=float32 (created by layer 'flatten_1')>,\n",
       " <KerasTensor: shape=(None, 2) dtype=float32 (created by layer 'dense_2')>,\n",
       " <KerasTensor: shape=(None, 10) dtype=float32 (created by layer 'dense_3')>]"
      ]
     },
     "execution_count": 57,
     "metadata": {},
     "output_type": "execute_result"
    }
   ],
   "source": [
    "get_layer_name = [layer.name for layer in model.layers]\n",
    "get_output = [layer.output for layer in model.layers]\n",
    "get_output"
   ]
  },
  {
   "cell_type": "code",
   "execution_count": 58,
   "id": "782309a9",
   "metadata": {
    "ExecuteTime": {
     "end_time": "2022-07-29T01:54:12.759389Z",
     "start_time": "2022-07-29T01:54:12.691713Z"
    }
   },
   "outputs": [
    {
     "name": "stdout",
     "output_type": "stream",
     "text": [
      "Model: \"model_6\"\n",
      "_________________________________________________________________\n",
      "Layer (type)                 Output Shape              Param #   \n",
      "=================================================================\n",
      "conv2d_2_input (InputLayer)  [(None, 10, 10, 1)]       0         \n",
      "_________________________________________________________________\n",
      "conv2d_2 (Conv2D)            (None, 8, 8, 1)           10        \n",
      "=================================================================\n",
      "Total params: 10\n",
      "Trainable params: 10\n",
      "Non-trainable params: 0\n",
      "_________________________________________________________________\n"
     ]
    }
   ],
   "source": [
    "visual_model = tf.keras.models.Model(inputs=model.input, outputs=get_output[0])\n",
    "visual_model.summary()\n",
    "test_img = np.expand_dims(test_images[0], axis=0)\n",
    "feature_maps = visual_model.predict(test_img)"
   ]
  },
  {
   "cell_type": "code",
   "execution_count": 59,
   "id": "bca6621a",
   "metadata": {
    "ExecuteTime": {
     "end_time": "2022-07-29T01:55:04.028354Z",
     "start_time": "2022-07-29T01:55:04.018355Z"
    }
   },
   "outputs": [
    {
     "data": {
      "text/plain": [
       "(2,\n",
       " array([[[[-0.46005493]],\n",
       " \n",
       "         [[-0.40739295]],\n",
       " \n",
       "         [[ 0.33151543]]],\n",
       " \n",
       " \n",
       "        [[[ 0.20788842]],\n",
       " \n",
       "         [[ 0.4746729 ]],\n",
       " \n",
       "         [[ 0.00352412]]],\n",
       " \n",
       " \n",
       "        [[[-0.564068  ]],\n",
       " \n",
       "         [[ 0.36241257]],\n",
       " \n",
       "         [[ 0.08974451]]]], dtype=float32),\n",
       " array([0.], dtype=float32))"
      ]
     },
     "execution_count": 59,
     "metadata": {},
     "output_type": "execute_result"
    }
   ],
   "source": [
    "len(visual_model.get_weights()),\\\n",
    "visual_model.get_weights()[0],\\\n",
    "visual_model.get_weights()[1]"
   ]
  },
  {
   "cell_type": "code",
   "execution_count": 14,
   "id": "7ead79c4",
   "metadata": {
    "ExecuteTime": {
     "end_time": "2022-07-29T01:48:17.544519Z",
     "start_time": "2022-07-29T01:48:17.534519Z"
    }
   },
   "outputs": [],
   "source": [
    "setW = np.array([[-0.4318703, 0.08380783, -0.23193197],\n",
    "                 [0.05313462, 0.25442973, 0.33345792],\n",
    "                 [-0.22227043, -0.02131751, 0.17737235]])\n",
    "setB = np.array([-0.00019932])\n",
    "\n",
    "setW = setW.reshape(3, 3, 1, 1)\n",
    "weights = setW, setB\n",
    "visual_model.set_weights(weights)"
   ]
  },
  {
   "cell_type": "code",
   "execution_count": 15,
   "id": "63826157",
   "metadata": {
    "ExecuteTime": {
     "end_time": "2022-07-29T01:48:23.284761Z",
     "start_time": "2022-07-29T01:48:23.273997Z"
    }
   },
   "outputs": [
    {
     "data": {
      "text/plain": [
       "((3, 3, 1, 1),\n",
       " array([[-0.4318703 ,  0.08380783, -0.23193197],\n",
       "        [ 0.05313462,  0.25442973,  0.33345792],\n",
       "        [-0.22227043, -0.02131751,  0.17737235]], dtype=float32),\n",
       " array([-0.00019932], dtype=float32))"
      ]
     },
     "execution_count": 15,
     "metadata": {},
     "output_type": "execute_result"
    }
   ],
   "source": [
    "w = visual_model.get_weights()[0]\n",
    "b = visual_model.get_weights()[1]\n",
    "np.shape(w), np.vstack(w).reshape(3, 3), b"
   ]
  },
  {
   "cell_type": "code",
   "execution_count": 16,
   "id": "e9d23ea8",
   "metadata": {
    "ExecuteTime": {
     "end_time": "2022-07-29T01:48:31.819375Z",
     "start_time": "2022-07-29T01:48:31.811513Z"
    }
   },
   "outputs": [
    {
     "data": {
      "text/plain": [
       "(array([[-0.        ,  0.        , -0.        ],\n",
       "        [ 0.        ,  0.        ,  0.        ],\n",
       "        [-0.        , -0.        ,  0.17737235]]),\n",
       " array([0.17717303], dtype=float32))"
      ]
     },
     "execution_count": 16,
     "metadata": {},
     "output_type": "execute_result"
    }
   ],
   "source": [
    "wVal = np.vstack(w).reshape(3, 3)\n",
    "img = np.vstack(train_images[0]).reshape(10, 10)\n",
    "img[:3, :3] * wVal, np.sum(img[:3, :3] * wVal) + b"
   ]
  },
  {
   "cell_type": "code",
   "execution_count": 17,
   "id": "fc8215f9",
   "metadata": {
    "ExecuteTime": {
     "end_time": "2022-07-29T01:48:35.720626Z",
     "start_time": "2022-07-29T01:48:35.704030Z"
    }
   },
   "outputs": [
    {
     "name": "stdout",
     "output_type": "stream",
     "text": [
      "▶--- 0:3, 0:3 에서 스트라이드 1한  높이 0:3, 너비 1:4 인덱싱값 \n",
      "[[0 0 0]\n",
      " [0 0 0]\n",
      " [0 1 5]]\n",
      "\n",
      "▶-- img[0:3, 1:4] * w\n",
      "[[-0.          0.         -0.        ]\n",
      " [ 0.          0.          0.        ]\n",
      " [-0.         -0.02131751  0.88686176]]\n",
      "\n",
      "▶-- img[0:3, 1:4] * w의 합 + b\n"
     ]
    },
    {
     "data": {
      "text/plain": [
       "array([0.86534494], dtype=float32)"
      ]
     },
     "execution_count": 17,
     "metadata": {},
     "output_type": "execute_result"
    }
   ],
   "source": [
    "wVal = np.vstack(w).reshape(3, 3)\n",
    "img = np.vstack(train_images[0]).reshape(10, 10)\n",
    "print('▶--- 0:3, 0:3 에서 스트라이드 1한  높이 0:3, 너비 1:4 인덱싱값 ')\n",
    "print(img[0:3, 1:4])\n",
    "\n",
    "print('\\n▶-- img[0:3, 1:4] * w')\n",
    "print(img[0:3, 1:4] * wVal)\n",
    "\n",
    "print('\\n▶-- img[0:3, 1:4] * w의 합 + b')\n",
    "np.sum(img[0:3, 1:4] * wVal) + b"
   ]
  },
  {
   "cell_type": "code",
   "execution_count": 18,
   "id": "15f47d82",
   "metadata": {
    "ExecuteTime": {
     "end_time": "2022-07-29T01:48:42.682125Z",
     "start_time": "2022-07-29T01:48:42.593217Z"
    }
   },
   "outputs": [
    {
     "data": {
      "text/html": [
       "<div>\n",
       "<style scoped>\n",
       "    .dataframe tbody tr th:only-of-type {\n",
       "        vertical-align: middle;\n",
       "    }\n",
       "\n",
       "    .dataframe tbody tr th {\n",
       "        vertical-align: top;\n",
       "    }\n",
       "\n",
       "    .dataframe thead th {\n",
       "        text-align: right;\n",
       "    }\n",
       "</style>\n",
       "<table border=\"1\" class=\"dataframe\">\n",
       "  <thead>\n",
       "    <tr style=\"text-align: right;\">\n",
       "      <th></th>\n",
       "      <th>0</th>\n",
       "      <th>1</th>\n",
       "      <th>2</th>\n",
       "      <th>3</th>\n",
       "      <th>4</th>\n",
       "      <th>5</th>\n",
       "      <th>6</th>\n",
       "      <th>7</th>\n",
       "    </tr>\n",
       "  </thead>\n",
       "  <tbody>\n",
       "    <tr>\n",
       "      <th>0</th>\n",
       "      <td>0.000000</td>\n",
       "      <td>0.000000</td>\n",
       "      <td>0.466185</td>\n",
       "      <td>1.431679</td>\n",
       "      <td>2.087464</td>\n",
       "      <td>1.874020</td>\n",
       "      <td>0.948141</td>\n",
       "      <td>0.327784</td>\n",
       "    </tr>\n",
       "    <tr>\n",
       "      <th>1</th>\n",
       "      <td>0.000000</td>\n",
       "      <td>0.000000</td>\n",
       "      <td>0.000000</td>\n",
       "      <td>0.000000</td>\n",
       "      <td>0.000000</td>\n",
       "      <td>0.000000</td>\n",
       "      <td>0.000000</td>\n",
       "      <td>0.000000</td>\n",
       "    </tr>\n",
       "    <tr>\n",
       "      <th>2</th>\n",
       "      <td>0.376617</td>\n",
       "      <td>1.996235</td>\n",
       "      <td>2.275506</td>\n",
       "      <td>0.434068</td>\n",
       "      <td>0.000000</td>\n",
       "      <td>0.000000</td>\n",
       "      <td>0.000000</td>\n",
       "      <td>0.000000</td>\n",
       "    </tr>\n",
       "    <tr>\n",
       "      <th>3</th>\n",
       "      <td>0.000000</td>\n",
       "      <td>1.506469</td>\n",
       "      <td>4.089482</td>\n",
       "      <td>0.422468</td>\n",
       "      <td>0.000000</td>\n",
       "      <td>0.288828</td>\n",
       "      <td>0.472767</td>\n",
       "      <td>0.000000</td>\n",
       "    </tr>\n",
       "    <tr>\n",
       "      <th>4</th>\n",
       "      <td>0.000000</td>\n",
       "      <td>0.000000</td>\n",
       "      <td>1.883087</td>\n",
       "      <td>1.802202</td>\n",
       "      <td>0.000000</td>\n",
       "      <td>0.000000</td>\n",
       "      <td>0.000000</td>\n",
       "      <td>0.170443</td>\n",
       "    </tr>\n",
       "    <tr>\n",
       "      <th>5</th>\n",
       "      <td>0.000000</td>\n",
       "      <td>0.000000</td>\n",
       "      <td>0.000000</td>\n",
       "      <td>2.838894</td>\n",
       "      <td>4.593320</td>\n",
       "      <td>0.000000</td>\n",
       "      <td>0.000000</td>\n",
       "      <td>0.000000</td>\n",
       "    </tr>\n",
       "    <tr>\n",
       "      <th>6</th>\n",
       "      <td>0.000000</td>\n",
       "      <td>0.654273</td>\n",
       "      <td>1.088384</td>\n",
       "      <td>0.000000</td>\n",
       "      <td>0.000000</td>\n",
       "      <td>0.000000</td>\n",
       "      <td>0.000000</td>\n",
       "      <td>0.000000</td>\n",
       "    </tr>\n",
       "    <tr>\n",
       "      <th>7</th>\n",
       "      <td>0.000000</td>\n",
       "      <td>0.000000</td>\n",
       "      <td>0.000000</td>\n",
       "      <td>0.000000</td>\n",
       "      <td>0.000000</td>\n",
       "      <td>0.000000</td>\n",
       "      <td>0.000000</td>\n",
       "      <td>0.000000</td>\n",
       "    </tr>\n",
       "  </tbody>\n",
       "</table>\n",
       "</div>"
      ],
      "text/plain": [
       "          0         1         2         3         4         5         6  \\\n",
       "0  0.000000  0.000000  0.466185  1.431679  2.087464  1.874020  0.948141   \n",
       "1  0.000000  0.000000  0.000000  0.000000  0.000000  0.000000  0.000000   \n",
       "2  0.376617  1.996235  2.275506  0.434068  0.000000  0.000000  0.000000   \n",
       "3  0.000000  1.506469  4.089482  0.422468  0.000000  0.288828  0.472767   \n",
       "4  0.000000  0.000000  1.883087  1.802202  0.000000  0.000000  0.000000   \n",
       "5  0.000000  0.000000  0.000000  2.838894  4.593320  0.000000  0.000000   \n",
       "6  0.000000  0.654273  1.088384  0.000000  0.000000  0.000000  0.000000   \n",
       "7  0.000000  0.000000  0.000000  0.000000  0.000000  0.000000  0.000000   \n",
       "\n",
       "          7  \n",
       "0  0.327784  \n",
       "1  0.000000  \n",
       "2  0.000000  \n",
       "3  0.000000  \n",
       "4  0.170443  \n",
       "5  0.000000  \n",
       "6  0.000000  \n",
       "7  0.000000  "
      ]
     },
     "execution_count": 18,
     "metadata": {},
     "output_type": "execute_result"
    },
    {
     "data": {
      "image/png": "[encoded data removed]",
      "text/plain": [
       "<Figure size 432x288 with 1 Axes>"
      ]
     },
     "metadata": {
      "needs_background": "light"
     },
     "output_type": "display_data"
    }
   ],
   "source": [
    "len(feature_maps[0][0])\n",
    "plt.imshow(feature_maps[0], cmap='gray')\n",
    "pd.DataFrame(np.vstack(feature_maps[0]).reshape(8, 8))"
   ]
  },
  {
   "cell_type": "code",
   "execution_count": 19,
   "id": "65e5c214",
   "metadata": {
    "ExecuteTime": {
     "end_time": "2022-07-29T01:48:53.117736Z",
     "start_time": "2022-07-29T01:48:53.112886Z"
    }
   },
   "outputs": [],
   "source": [
    "layer0 = feature_maps.copy()"
   ]
  },
  {
   "cell_type": "code",
   "execution_count": 20,
   "id": "582e7c0c",
   "metadata": {
    "ExecuteTime": {
     "end_time": "2022-07-29T01:48:56.470199Z",
     "start_time": "2022-07-29T01:48:56.393798Z"
    }
   },
   "outputs": [
    {
     "name": "stdout",
     "output_type": "stream",
     "text": [
      "Model: \"model_1\"\n",
      "_________________________________________________________________\n",
      "Layer (type)                 Output Shape              Param #   \n",
      "=================================================================\n",
      "conv2d_input (InputLayer)    [(None, 10, 10, 1)]       0         \n",
      "_________________________________________________________________\n",
      "conv2d (Conv2D)              (None, 8, 8, 1)           10        \n",
      "_________________________________________________________________\n",
      "max_pooling2d (MaxPooling2D) (None, 4, 4, 1)           0         \n",
      "=================================================================\n",
      "Total params: 10\n",
      "Trainable params: 10\n",
      "Non-trainable params: 0\n",
      "_________________________________________________________________\n"
     ]
    }
   ],
   "source": [
    "visual_model = tf.keras.models.Model(inputs=model.input, outputs=get_output[1])\n",
    "visual_model.summary()\n",
    "test_img = np.expand_dims(test_images[0], axis=0)\n",
    "feature_maps = visual_model.predict(test_img)"
   ]
  },
  {
   "cell_type": "code",
   "execution_count": 21,
   "id": "b1473e02",
   "metadata": {
    "ExecuteTime": {
     "end_time": "2022-07-29T01:49:00.081644Z",
     "start_time": "2022-07-29T01:49:00.065637Z"
    }
   },
   "outputs": [
    {
     "data": {
      "text/plain": [
       "array([[2.6310093 , 4.992998  , 2.6713052 , 1.0994523 ],\n",
       "       [0.2577803 , 2.93569   , 0.        , 0.        ],\n",
       "       [0.53191775, 2.331755  , 2.2812119 , 0.0529353 ],\n",
       "       [3.2710578 , 2.146567  , 0.9660892 , 0.        ]], dtype=float32)"
      ]
     },
     "execution_count": 21,
     "metadata": {},
     "output_type": "execute_result"
    }
   ],
   "source": [
    "maxpoolResult = np.vstack(feature_maps[0].reshape(4, 4))\n",
    "maxpoolResult"
   ]
  },
  {
   "cell_type": "code",
   "execution_count": 22,
   "id": "92bbda2e",
   "metadata": {
    "ExecuteTime": {
     "end_time": "2022-07-29T01:49:03.180866Z",
     "start_time": "2022-07-29T01:49:03.096727Z"
    }
   },
   "outputs": [
    {
     "data": {
      "image/png": "[encoded data removed]",
      "text/plain": [
       "<Figure size 432x288 with 1 Axes>"
      ]
     },
     "metadata": {
      "needs_background": "light"
     },
     "output_type": "display_data"
    },
    {
     "data": {
      "text/html": [
       "<div>\n",
       "<style scoped>\n",
       "    .dataframe tbody tr th:only-of-type {\n",
       "        vertical-align: middle;\n",
       "    }\n",
       "\n",
       "    .dataframe tbody tr th {\n",
       "        vertical-align: top;\n",
       "    }\n",
       "\n",
       "    .dataframe thead th {\n",
       "        text-align: right;\n",
       "    }\n",
       "</style>\n",
       "<table border=\"1\" class=\"dataframe\">\n",
       "  <thead>\n",
       "    <tr style=\"text-align: right;\">\n",
       "      <th></th>\n",
       "      <th>0</th>\n",
       "      <th>1</th>\n",
       "      <th>2</th>\n",
       "      <th>3</th>\n",
       "    </tr>\n",
       "  </thead>\n",
       "  <tbody>\n",
       "    <tr>\n",
       "      <th>0</th>\n",
       "      <td>2.631009</td>\n",
       "      <td>4.992998</td>\n",
       "      <td>2.671305</td>\n",
       "      <td>1.099452</td>\n",
       "    </tr>\n",
       "    <tr>\n",
       "      <th>1</th>\n",
       "      <td>0.257780</td>\n",
       "      <td>2.935690</td>\n",
       "      <td>0.000000</td>\n",
       "      <td>0.000000</td>\n",
       "    </tr>\n",
       "    <tr>\n",
       "      <th>2</th>\n",
       "      <td>0.531918</td>\n",
       "      <td>2.331755</td>\n",
       "      <td>2.281212</td>\n",
       "      <td>0.052935</td>\n",
       "    </tr>\n",
       "    <tr>\n",
       "      <th>3</th>\n",
       "      <td>3.271058</td>\n",
       "      <td>2.146567</td>\n",
       "      <td>0.966089</td>\n",
       "      <td>0.000000</td>\n",
       "    </tr>\n",
       "  </tbody>\n",
       "</table>\n",
       "</div>"
      ],
      "text/plain": [
       "          0         1         2         3\n",
       "0  2.631009  4.992998  2.671305  1.099452\n",
       "1  0.257780  2.935690  0.000000  0.000000\n",
       "2  0.531918  2.331755  2.281212  0.052935\n",
       "3  3.271058  2.146567  0.966089  0.000000"
      ]
     },
     "execution_count": 22,
     "metadata": {},
     "output_type": "execute_result"
    }
   ],
   "source": [
    "plt.imshow(feature_maps[0], cmap='gray')\n",
    "plt.show()\n",
    "pd.DataFrame(np.vstack(feature_maps[0]).reshape(4, 4))"
   ]
  },
  {
   "cell_type": "code",
   "execution_count": 23,
   "id": "24ae0075",
   "metadata": {
    "ExecuteTime": {
     "end_time": "2022-07-29T01:49:08.358503Z",
     "start_time": "2022-07-29T01:49:08.224828Z"
    }
   },
   "outputs": [
    {
     "name": "stdout",
     "output_type": "stream",
     "text": [
      "Model: \"model_2\"\n",
      "_________________________________________________________________\n",
      "Layer (type)                 Output Shape              Param #   \n",
      "=================================================================\n",
      "conv2d_input (InputLayer)    [(None, 10, 10, 1)]       0         \n",
      "_________________________________________________________________\n",
      "conv2d (Conv2D)              (None, 8, 8, 1)           10        \n",
      "_________________________________________________________________\n",
      "max_pooling2d (MaxPooling2D) (None, 4, 4, 1)           0         \n",
      "_________________________________________________________________\n",
      "conv2d_1 (Conv2D)            (None, 2, 2, 2)           20        \n",
      "=================================================================\n",
      "Total params: 30\n",
      "Trainable params: 30\n",
      "Non-trainable params: 0\n",
      "_________________________________________________________________\n"
     ]
    }
   ],
   "source": [
    "visual_model = tf.keras.models.Model(inputs=model.input, outputs=get_output[2])\n",
    "visual_model.summary()\n",
    "test_img = np.expand_dims(test_images[0], axis=0)\n",
    "feature_maps = visual_model.predict(test_img)"
   ]
  },
  {
   "cell_type": "code",
   "execution_count": 24,
   "id": "4a77bad7",
   "metadata": {
    "ExecuteTime": {
     "end_time": "2022-07-29T01:49:12.115918Z",
     "start_time": "2022-07-29T01:49:12.093058Z"
    }
   },
   "outputs": [
    {
     "name": "stdout",
     "output_type": "stream",
     "text": [
      "4\n",
      "[[-0.4318703   0.08380783 -0.23193197]\n",
      " [ 0.05313462  0.25442973  0.33345792]\n",
      " [-0.22227043 -0.02131751  0.17737235]] [-0.00019932]\n",
      "(3, 3, 1, 1) (1,)\n",
      "----------------------------------------------------------------------------------------------------\n",
      "[[[[ 0.4657503   0.42467466]]\n",
      "\n",
      "  [[ 0.3300648  -0.09850338]]\n",
      "\n",
      "  [[ 0.1203098  -0.08474708]]]\n",
      "\n",
      "\n",
      " [[[ 0.42534575  0.16345796]]\n",
      "\n",
      "  [[ 0.02168235  0.47138217]]\n",
      "\n",
      "  [[ 0.02882835 -0.32172263]]]\n",
      "\n",
      "\n",
      " [[[-0.38981542  0.28360602]]\n",
      "\n",
      "  [[ 0.22772965  0.23231772]]\n",
      "\n",
      "  [[-0.29981     0.07301286]]]] [0. 0.]\n"
     ]
    }
   ],
   "source": [
    "print(len(visual_model.get_weights()))\n",
    "w = visual_model.get_weights()[0]\n",
    "b = visual_model.get_weights()[1]\n",
    "print(np.vstack(w).reshape(3, 3), b)\n",
    "print(np.shape(w), np.shape(b))\n",
    "print('-' * 100)\n",
    "w = visual_model.get_weights()[2]\n",
    "b = visual_model.get_weights()[3]\n",
    "print(w, b)"
   ]
  },
  {
   "cell_type": "code",
   "execution_count": 25,
   "id": "ebae7a2d",
   "metadata": {
    "ExecuteTime": {
     "end_time": "2022-07-29T01:49:16.992813Z",
     "start_time": "2022-07-29T01:49:16.968491Z"
    }
   },
   "outputs": [],
   "source": [
    "setW = np.array([[-0.4318703, 0.08380783, -0.23193197],\n",
    "                 [0.05313462, 0.25442973, 0.33345792],\n",
    "                 [-0.22227043, -0.02131751, 0.17737235]])\n",
    "setB = np.array([-0.00019932])\n",
    "\n",
    "w2 = visual_model.get_weights()[2]\n",
    "b2 = visual_model.get_weights()[3]\n",
    "setW = setW.reshape(3, 3, 1, 1)\n",
    "\n",
    "weights = [setW, setB, w2, b2]\n",
    "visual_model.set_weights(weights)"
   ]
  },
  {
   "cell_type": "code",
   "execution_count": 26,
   "id": "637677c0",
   "metadata": {
    "ExecuteTime": {
     "end_time": "2022-07-29T01:49:19.081108Z",
     "start_time": "2022-07-29T01:49:19.058814Z"
    }
   },
   "outputs": [
    {
     "data": {
      "text/plain": [
       "(array([[[[ 0.4657503 ,  0.42467466]],\n",
       " \n",
       "         [[ 0.3300648 , -0.09850338]],\n",
       " \n",
       "         [[ 0.1203098 , -0.08474708]]],\n",
       " \n",
       " \n",
       "        [[[ 0.42534575,  0.16345796]],\n",
       " \n",
       "         [[ 0.02168235,  0.47138217]],\n",
       " \n",
       "         [[ 0.02882835, -0.32172263]]],\n",
       " \n",
       " \n",
       "        [[[-0.38981542,  0.28360602]],\n",
       " \n",
       "         [[ 0.22772965,  0.23231772]],\n",
       " \n",
       "         [[-0.29981   ,  0.07301286]]]], dtype=float32),\n",
       " array([0., 0.], dtype=float32))"
      ]
     },
     "execution_count": 26,
     "metadata": {},
     "output_type": "execute_result"
    }
   ],
   "source": [
    "len(visual_model.get_weights())\n",
    "w = visual_model.get_weights()[2]\n",
    "b = visual_model.get_weights()[3]\n",
    "w, b"
   ]
  },
  {
   "cell_type": "code",
   "execution_count": 27,
   "id": "d335cda1",
   "metadata": {
    "ExecuteTime": {
     "end_time": "2022-07-29T01:49:23.236051Z",
     "start_time": "2022-07-29T01:49:23.216418Z"
    }
   },
   "outputs": [
    {
     "data": {
      "text/plain": [
       "[array([[[[-0.4318703 ]],\n",
       " \n",
       "         [[ 0.08380783]],\n",
       " \n",
       "         [[-0.23193197]]],\n",
       " \n",
       " \n",
       "        [[[ 0.05313462]],\n",
       " \n",
       "         [[ 0.25442973]],\n",
       " \n",
       "         [[ 0.33345792]]],\n",
       " \n",
       " \n",
       "        [[[-0.22227043]],\n",
       " \n",
       "         [[-0.02131751]],\n",
       " \n",
       "         [[ 0.17737235]]]], dtype=float32),\n",
       " array([-0.00019932], dtype=float32),\n",
       " array([[[[ 0.4657503 ,  0.42467466]],\n",
       " \n",
       "         [[ 0.3300648 , -0.09850338]],\n",
       " \n",
       "         [[ 0.1203098 , -0.08474708]]],\n",
       " \n",
       " \n",
       "        [[[ 0.42534575,  0.16345796]],\n",
       " \n",
       "         [[ 0.02168235,  0.47138217]],\n",
       " \n",
       "         [[ 0.02882835, -0.32172263]]],\n",
       " \n",
       " \n",
       "        [[[-0.38981542,  0.28360602]],\n",
       " \n",
       "         [[ 0.22772965,  0.23231772]],\n",
       " \n",
       "         [[-0.29981   ,  0.07301286]]]], dtype=float32),\n",
       " array([0., 0.], dtype=float32)]"
      ]
     },
     "execution_count": 27,
     "metadata": {},
     "output_type": "execute_result"
    }
   ],
   "source": [
    "visual_model.get_weights()"
   ]
  },
  {
   "cell_type": "code",
   "execution_count": 28,
   "id": "04d0ce5b",
   "metadata": {
    "ExecuteTime": {
     "end_time": "2022-07-29T01:49:27.476331Z",
     "start_time": "2022-07-29T01:49:27.467280Z"
    }
   },
   "outputs": [
    {
     "data": {
      "text/plain": [
       "array([[2.6310093 , 4.992998  , 2.6713052 , 1.0994523 ],\n",
       "       [0.2577803 , 2.93569   , 0.        , 0.        ],\n",
       "       [0.53191775, 2.331755  , 2.2812119 , 0.0529353 ],\n",
       "       [3.2710578 , 2.146567  , 0.9660892 , 0.        ]], dtype=float32)"
      ]
     },
     "execution_count": 28,
     "metadata": {},
     "output_type": "execute_result"
    }
   ],
   "source": [
    "maxpoolResult"
   ]
  },
  {
   "cell_type": "code",
   "execution_count": 29,
   "id": "a4123145",
   "metadata": {
    "ExecuteTime": {
     "end_time": "2022-07-29T01:49:30.745017Z",
     "start_time": "2022-07-29T01:49:30.713173Z"
    }
   },
   "outputs": [
    {
     "name": "stdout",
     "output_type": "stream",
     "text": [
      "maxpoolResult 값\n",
      "[[2.6310093  4.992998   2.6713052 ]\n",
      " [0.2577803  2.93569    0.        ]\n",
      " [0.53191775 2.331755   2.2812119 ]]\n",
      "\n",
      "▶피처1값 ----------------------------------------------------------------------------------------------------\n",
      "[[ 0.4657503   0.3300648   0.1203098 ]\n",
      " [ 0.42534575  0.02168235  0.02882835]\n",
      " [-0.38981542  0.22772965 -0.29981   ]]\n",
      "\n",
      "▶피처2값 ----------------------------------------------------------------------------------------------------\n",
      "[[ 0.42467466 -0.09850338 -0.08474708]\n",
      " [ 0.16345796  0.47138217 -0.32172263]\n",
      " [ 0.28360602  0.23231772  0.07301286]]\n",
      "\n",
      "▶[0:3,0:3]*피처1값+b[0]합 --------------------------------------------------\n",
      "3.007819\n",
      "\n",
      "▶[0:3,0:3]*피처2값+b[1]합 --------------------------------------------------\n"
     ]
    },
    {
     "data": {
      "text/plain": [
       "2.6841996"
      ]
     },
     "execution_count": 29,
     "metadata": {},
     "output_type": "execute_result"
    }
   ],
   "source": [
    "f1 = w[:, :, :, 0]\n",
    "f2 = w[:, :, :, 1]\n",
    "\n",
    "print('maxpoolResult 값')\n",
    "print(maxpoolResult[:3, :3])\n",
    "print(\n",
    "    '\\n▶피처1값',\n",
    "    '-' * 100,\n",
    ")\n",
    "print(f1.reshape(3, 3))\n",
    "print(\n",
    "    '\\n▶피처2값',\n",
    "    '-' * 100,\n",
    ")\n",
    "print(f2.reshape(3, 3))\n",
    "\n",
    "print('\\n▶[0:3,0:3]*피처1값+b[0]합', '-' * 50)\n",
    "print(np.sum(maxpoolResult[:3, :3] * f1.reshape(3, 3)) + b[0])\n",
    "\n",
    "print('\\n▶[0:3,0:3]*피처2값+b[1]합', '-' * 50)\n",
    "np.sum(maxpoolResult[:3, :3] * f2.reshape(3, 3)) + b[1]"
   ]
  },
  {
   "cell_type": "code",
   "execution_count": 30,
   "id": "aee6e27a",
   "metadata": {
    "ExecuteTime": {
     "end_time": "2022-07-29T01:49:34.532506Z",
     "start_time": "2022-07-29T01:49:34.521254Z"
    }
   },
   "outputs": [
    {
     "data": {
      "text/plain": [
       "array([[[[3.007819  , 2.6841996 ],\n",
       "         [4.1828275 , 3.4390843 ]],\n",
       "\n",
       "        [[0.35568473, 1.7693881 ],\n",
       "         [1.793331  , 3.5193682 ]]]], dtype=float32)"
      ]
     },
     "execution_count": 30,
     "metadata": {},
     "output_type": "execute_result"
    }
   ],
   "source": [
    "feature_maps"
   ]
  },
  {
   "cell_type": "code",
   "execution_count": 31,
   "id": "8cefb95c",
   "metadata": {
    "ExecuteTime": {
     "end_time": "2022-07-29T01:49:37.182122Z",
     "start_time": "2022-07-29T01:49:37.169592Z"
    }
   },
   "outputs": [
    {
     "name": "stdout",
     "output_type": "stream",
     "text": [
      "maxpoolResult 값\n",
      "[[4.992998  2.6713052 1.0994523]\n",
      " [2.93569   0.        0.       ]\n",
      " [2.331755  2.2812119 0.0529353]]\n",
      "\n",
      "▶피처1값 ----------------------------------------------------------------------------------------------------\n",
      "[[ 0.4657503   0.3300648   0.1203098 ]\n",
      " [ 0.42534575  0.02168235  0.02882835]\n",
      " [-0.38981542  0.22772965 -0.29981   ]]\n",
      "\n",
      "▶피처2값 ----------------------------------------------------------------------------------------------------\n",
      "[[ 0.4657503   0.3300648   0.1203098 ]\n",
      " [ 0.42534575  0.02168235  0.02882835]\n",
      " [-0.38981542  0.22772965 -0.29981   ]]\n",
      "\n",
      "▶[0:3,0:3]*피처1값+b[0]합 --------------------------------------------------\n",
      "4.1828275\n",
      "\n",
      "▶[0:3,0:3]*피처2값+b[1]합 --------------------------------------------------\n"
     ]
    },
    {
     "data": {
      "text/plain": [
       "3.4390843"
      ]
     },
     "execution_count": 31,
     "metadata": {},
     "output_type": "execute_result"
    }
   ],
   "source": [
    "f1 = w[:, :, :, 0]\n",
    "f2 = w[:, :, :, 1]\n",
    "\n",
    "print('maxpoolResult 값')\n",
    "print(maxpoolResult[0:3, 1:4])\n",
    "print(\n",
    "    '\\n▶피처1값',\n",
    "    '-' * 100,\n",
    ")\n",
    "print(f1.reshape(3, 3))\n",
    "print(\n",
    "    '\\n▶피처2값',\n",
    "    '-' * 100,\n",
    ")\n",
    "print(f1.reshape(3, 3))\n",
    "\n",
    "print('\\n▶[0:3,0:3]*피처1값+b[0]합', '-' * 50)\n",
    "print(np.sum(maxpoolResult[0:3, 1:4] * f1.reshape(3, 3)) + b[0])\n",
    "\n",
    "print('\\n▶[0:3,0:3]*피처2값+b[1]합', '-' * 50)\n",
    "np.sum(maxpoolResult[0:3, 1:4] * f2.reshape(3, 3)) + b[0]"
   ]
  },
  {
   "cell_type": "code",
   "execution_count": 32,
   "id": "520149cf",
   "metadata": {
    "ExecuteTime": {
     "end_time": "2022-07-29T01:49:40.913785Z",
     "start_time": "2022-07-29T01:49:40.897341Z"
    }
   },
   "outputs": [
    {
     "name": "stdout",
     "output_type": "stream",
     "text": [
      "maxpoolResult 값\n",
      "[[0.2577803  2.93569    0.        ]\n",
      " [0.53191775 2.331755   2.2812119 ]\n",
      " [3.2710578  2.146567   0.9660892 ]]\n",
      "\n",
      "▶피처1값 ----------------------------------------------------------------------------------------------------\n",
      "[[ 0.4657503   0.3300648   0.1203098 ]\n",
      " [ 0.42534575  0.02168235  0.02882835]\n",
      " [-0.38981542  0.22772965 -0.29981   ]]\n",
      "\n",
      "▶피처2값 ----------------------------------------------------------------------------------------------------\n",
      "[[ 0.42467466 -0.09850338 -0.08474708]\n",
      " [ 0.16345796  0.47138217 -0.32172263]\n",
      " [ 0.28360602  0.23231772  0.07301286]]\n",
      "\n",
      "▶[0:3,0:3]*피처1값+b[0]합 --------------------------------------------------\n",
      "0.35568467\n",
      "\n",
      "▶[0:3,0:3]*피처2값+b[1]합 --------------------------------------------------\n"
     ]
    },
    {
     "data": {
      "text/plain": [
       "1.7693881"
      ]
     },
     "execution_count": 32,
     "metadata": {},
     "output_type": "execute_result"
    }
   ],
   "source": [
    "f1 = w[:, :, :, 0]\n",
    "f2 = w[:, :, :, 1]\n",
    "\n",
    "print('maxpoolResult 값')\n",
    "print(maxpoolResult[1:4, 0:3])\n",
    "print(\n",
    "    '\\n▶피처1값',\n",
    "    '-' * 100,\n",
    ")\n",
    "print(f1.reshape(3, 3))\n",
    "print(\n",
    "    '\\n▶피처2값',\n",
    "    '-' * 100,\n",
    ")\n",
    "print(f2.reshape(3, 3))\n",
    "\n",
    "print('\\n▶[0:3,0:3]*피처1값+b[0]합', '-' * 50)\n",
    "print(np.sum(maxpoolResult[1:4, 0:3] * f1.reshape(3, 3)) + b[0])\n",
    "\n",
    "print('\\n▶[0:3,0:3]*피처2값+b[1]합', '-' * 50)\n",
    "np.sum(maxpoolResult[1:4, 0:3] * f2.reshape(3, 3)) + b[0]"
   ]
  },
  {
   "cell_type": "code",
   "execution_count": 33,
   "id": "79588188",
   "metadata": {
    "ExecuteTime": {
     "end_time": "2022-07-29T01:49:44.406683Z",
     "start_time": "2022-07-29T01:49:44.392967Z"
    }
   },
   "outputs": [
    {
     "name": "stdout",
     "output_type": "stream",
     "text": [
      "maxpoolResult 값\n",
      "[[2.93569   0.        0.       ]\n",
      " [2.331755  2.2812119 0.0529353]\n",
      " [2.146567  0.9660892 0.       ]]\n",
      "\n",
      "▶피처1값 ----------------------------------------------------------------------------------------------------\n",
      "[[ 0.4657503   0.3300648   0.1203098 ]\n",
      " [ 0.42534575  0.02168235  0.02882835]\n",
      " [-0.38981542  0.22772965 -0.29981   ]]\n",
      "\n",
      "▶피처2값 ----------------------------------------------------------------------------------------------------\n",
      "[[ 0.4657503   0.3300648   0.1203098 ]\n",
      " [ 0.42534575  0.02168235  0.02882835]\n",
      " [-0.38981542  0.22772965 -0.29981   ]]\n",
      "\n",
      "▶[0:3,0:3]*피처1값+b[0]합 --------------------------------------------------\n",
      "1.7933309\n",
      "\n",
      "▶[0:3,0:3]*피처2값+b[1]합 --------------------------------------------------\n"
     ]
    },
    {
     "data": {
      "text/plain": [
       "3.5193682"
      ]
     },
     "execution_count": 33,
     "metadata": {},
     "output_type": "execute_result"
    }
   ],
   "source": [
    "f1 = w[:, :, :, 0]\n",
    "f2 = w[:, :, :, 1]\n",
    "\n",
    "print('maxpoolResult 값')\n",
    "print(maxpoolResult[1:4, 1:4])\n",
    "print(\n",
    "    '\\n▶피처1값',\n",
    "    '-' * 100,\n",
    ")\n",
    "print(f1.reshape(3, 3))\n",
    "print(\n",
    "    '\\n▶피처2값',\n",
    "    '-' * 100,\n",
    ")\n",
    "print(f1.reshape(3, 3))\n",
    "\n",
    "print('\\n▶[0:3,0:3]*피처1값+b[0]합', '-' * 50)\n",
    "print(np.sum(maxpoolResult[1:4, 1:4] * f1.reshape(3, 3)) + b[0])\n",
    "\n",
    "print('\\n▶[0:3,0:3]*피처2값+b[1]합', '-' * 50)\n",
    "np.sum(maxpoolResult[1:4, 1:4] * f2.reshape(3, 3)) + b[0]"
   ]
  },
  {
   "cell_type": "code",
   "execution_count": 34,
   "id": "cd63b7c1",
   "metadata": {
    "ExecuteTime": {
     "end_time": "2022-07-29T01:49:48.111963Z",
     "start_time": "2022-07-29T01:49:48.104805Z"
    }
   },
   "outputs": [
    {
     "data": {
      "text/plain": [
       "array([[[[3.007819  , 2.6841996 ],\n",
       "         [4.1828275 , 3.4390843 ]],\n",
       "\n",
       "        [[0.35568473, 1.7693881 ],\n",
       "         [1.793331  , 3.5193682 ]]]], dtype=float32)"
      ]
     },
     "execution_count": 34,
     "metadata": {},
     "output_type": "execute_result"
    }
   ],
   "source": [
    "conv2 = feature_maps\n",
    "conv2"
   ]
  },
  {
   "cell_type": "code",
   "execution_count": 35,
   "id": "b88234a7",
   "metadata": {
    "ExecuteTime": {
     "end_time": "2022-07-29T01:49:50.386119Z",
     "start_time": "2022-07-29T01:49:50.287488Z"
    }
   },
   "outputs": [
    {
     "data": {
      "text/plain": [
       "<matplotlib.image.AxesImage at 0x166f2389d48>"
      ]
     },
     "execution_count": 35,
     "metadata": {},
     "output_type": "execute_result"
    },
    {
     "data": {
      "image/png": "[encoded data removed]",
      "text/plain": [
       "<Figure size 432x288 with 1 Axes>"
      ]
     },
     "metadata": {
      "needs_background": "light"
     },
     "output_type": "display_data"
    }
   ],
   "source": [
    "plt.imshow(feature_maps[0][0], cmap='gray')"
   ]
  },
  {
   "cell_type": "code",
   "execution_count": 36,
   "id": "8276f00f",
   "metadata": {
    "ExecuteTime": {
     "end_time": "2022-07-29T01:49:55.765647Z",
     "start_time": "2022-07-29T01:49:55.670721Z"
    }
   },
   "outputs": [
    {
     "name": "stdout",
     "output_type": "stream",
     "text": [
      "Model: \"model_3\"\n",
      "_________________________________________________________________\n",
      "Layer (type)                 Output Shape              Param #   \n",
      "=================================================================\n",
      "conv2d_input (InputLayer)    [(None, 10, 10, 1)]       0         \n",
      "_________________________________________________________________\n",
      "conv2d (Conv2D)              (None, 8, 8, 1)           10        \n",
      "_________________________________________________________________\n",
      "max_pooling2d (MaxPooling2D) (None, 4, 4, 1)           0         \n",
      "_________________________________________________________________\n",
      "conv2d_1 (Conv2D)            (None, 2, 2, 2)           20        \n",
      "_________________________________________________________________\n",
      "flatten (Flatten)            (None, 8)                 0         \n",
      "=================================================================\n",
      "Total params: 30\n",
      "Trainable params: 30\n",
      "Non-trainable params: 0\n",
      "_________________________________________________________________\n"
     ]
    }
   ],
   "source": [
    "visual_model = tf.keras.models.Model(inputs=model.input, outputs=get_output[3])\n",
    "visual_model.summary()\n",
    "test_img = np.expand_dims(test_images[0], axis=0)\n",
    "feature_maps = visual_model.predict(test_img)"
   ]
  },
  {
   "cell_type": "code",
   "execution_count": 37,
   "id": "8c0bfa95",
   "metadata": {
    "ExecuteTime": {
     "end_time": "2022-07-29T01:49:58.694171Z",
     "start_time": "2022-07-29T01:49:58.677874Z"
    }
   },
   "outputs": [
    {
     "data": {
      "text/plain": [
       "4"
      ]
     },
     "execution_count": 37,
     "metadata": {},
     "output_type": "execute_result"
    }
   ],
   "source": [
    "len(visual_model.get_weights())"
   ]
  },
  {
   "cell_type": "code",
   "execution_count": 38,
   "id": "e0a4c868",
   "metadata": {
    "ExecuteTime": {
     "end_time": "2022-07-29T01:50:00.842652Z",
     "start_time": "2022-07-29T01:50:00.826219Z"
    }
   },
   "outputs": [
    {
     "data": {
      "text/plain": [
       "array([[3.007819  , 2.6841996 , 4.1828275 , 3.4390843 , 0.35568473,\n",
       "        1.7693881 , 1.793331  , 3.5193682 ]], dtype=float32)"
      ]
     },
     "execution_count": 38,
     "metadata": {},
     "output_type": "execute_result"
    }
   ],
   "source": [
    "feature_maps"
   ]
  },
  {
   "cell_type": "code",
   "execution_count": 39,
   "id": "f24b6424",
   "metadata": {
    "ExecuteTime": {
     "end_time": "2022-07-29T01:50:07.324838Z",
     "start_time": "2022-07-29T01:50:07.209396Z"
    }
   },
   "outputs": [
    {
     "name": "stdout",
     "output_type": "stream",
     "text": [
      "Model: \"model_4\"\n",
      "_________________________________________________________________\n",
      "Layer (type)                 Output Shape              Param #   \n",
      "=================================================================\n",
      "conv2d_input (InputLayer)    [(None, 10, 10, 1)]       0         \n",
      "_________________________________________________________________\n",
      "conv2d (Conv2D)              (None, 8, 8, 1)           10        \n",
      "_________________________________________________________________\n",
      "max_pooling2d (MaxPooling2D) (None, 4, 4, 1)           0         \n",
      "_________________________________________________________________\n",
      "conv2d_1 (Conv2D)            (None, 2, 2, 2)           20        \n",
      "_________________________________________________________________\n",
      "flatten (Flatten)            (None, 8)                 0         \n",
      "_________________________________________________________________\n",
      "dense (Dense)                (None, 2)                 18        \n",
      "=================================================================\n",
      "Total params: 48\n",
      "Trainable params: 48\n",
      "Non-trainable params: 0\n",
      "_________________________________________________________________\n",
      "WARNING:tensorflow:5 out of the last 5 calls to <function Model.make_predict_function.<locals>.predict_function at 0x00000166FB44C828> triggered tf.function retracing. Tracing is expensive and the excessive number of tracings could be due to (1) creating @tf.function repeatedly in a loop, (2) passing tensors with different shapes, (3) passing Python objects instead of tensors. For (1), please define your @tf.function outside of the loop. For (2), @tf.function has experimental_relax_shapes=True option that relaxes argument shapes that can avoid unnecessary retracing. For (3), please refer to https://www.tensorflow.org/guide/function#controlling_retracing and https://www.tensorflow.org/api_docs/python/tf/function for  more details.\n"
     ]
    }
   ],
   "source": [
    "visual_model = tf.keras.models.Model(inputs=model.input, outputs=get_output[4])\n",
    "visual_model.summary()\n",
    "test_img = np.expand_dims(test_images[0], axis=0)\n",
    "feature_maps = visual_model.predict(test_img)"
   ]
  },
  {
   "cell_type": "code",
   "execution_count": 40,
   "id": "1f4461e6",
   "metadata": {
    "ExecuteTime": {
     "end_time": "2022-07-29T01:50:10.814186Z",
     "start_time": "2022-07-29T01:50:10.792900Z"
    }
   },
   "outputs": [
    {
     "data": {
      "text/plain": [
       "6"
      ]
     },
     "execution_count": 40,
     "metadata": {},
     "output_type": "execute_result"
    }
   ],
   "source": [
    "len(visual_model.get_weights())"
   ]
  },
  {
   "cell_type": "code",
   "execution_count": 41,
   "id": "810808b3",
   "metadata": {
    "ExecuteTime": {
     "end_time": "2022-07-29T01:50:13.179701Z",
     "start_time": "2022-07-29T01:50:12.994334Z"
    }
   },
   "outputs": [
    {
     "ename": "NameError",
     "evalue": "name 'flatten' is not defined",
     "output_type": "error",
     "traceback": [
      "\u001b[1;31m-------------------------------------------------\u001b[0m",
      "\u001b[1;31mNameError\u001b[0m       Traceback (most recent call last)",
      "\u001b[1;32m~\\AppData\\Local\\Temp\\ipykernel_22000\\39229933.py\u001b[0m in \u001b[0;36m<module>\u001b[1;34m\u001b[0m\n\u001b[1;32m----> 1\u001b[1;33m \u001b[0mflatten\u001b[0m\u001b[1;33m\u001b[0m\u001b[1;33m\u001b[0m\u001b[0m\n\u001b[0m",
      "\u001b[1;31mNameError\u001b[0m: name 'flatten' is not defined"
     ]
    }
   ],
   "source": [
    "flatten"
   ]
  },
  {
   "cell_type": "code",
   "execution_count": 42,
   "id": "8f761311",
   "metadata": {
    "ExecuteTime": {
     "end_time": "2022-07-29T01:50:15.952620Z",
     "start_time": "2022-07-29T01:50:15.930028Z"
    }
   },
   "outputs": [
    {
     "data": {
      "text/plain": [
       "(array([[-0.08328271, -0.6201209 ],\n",
       "        [-0.64177316, -0.16175026],\n",
       "        [ 0.7119651 , -0.14700055],\n",
       "        [-0.1377818 , -0.65200895],\n",
       "        [-0.43558487,  0.11100549],\n",
       "        [-0.00390428,  0.10601991],\n",
       "        [ 0.5623026 , -0.29918393],\n",
       "        [-0.19677615, -0.7697816 ]], dtype=float32),\n",
       " array([0., 0.], dtype=float32))"
      ]
     },
     "execution_count": 42,
     "metadata": {},
     "output_type": "execute_result"
    }
   ],
   "source": [
    "w = visual_model.get_weights()[4]\n",
    "b = visual_model.get_weights()[5]\n",
    "w, b"
   ]
  },
  {
   "cell_type": "code",
   "execution_count": 43,
   "id": "fee26f3d",
   "metadata": {
    "ExecuteTime": {
     "end_time": "2022-07-29T01:50:24.283062Z",
     "start_time": "2022-07-29T01:50:24.264935Z"
    }
   },
   "outputs": [
    {
     "data": {
      "text/plain": [
       "array([[0.68609744, 0.        ]], dtype=float32)"
      ]
     },
     "execution_count": 43,
     "metadata": {},
     "output_type": "execute_result"
    }
   ],
   "source": [
    "feature_maps"
   ]
  },
  {
   "cell_type": "code",
   "execution_count": 44,
   "id": "b779e27c",
   "metadata": {
    "ExecuteTime": {
     "end_time": "2022-07-29T01:50:26.841566Z",
     "start_time": "2022-07-29T01:50:26.729858Z"
    }
   },
   "outputs": [
    {
     "name": "stdout",
     "output_type": "stream",
     "text": [
      "Model: \"model_5\"\n",
      "_________________________________________________________________\n",
      "Layer (type)                 Output Shape              Param #   \n",
      "=================================================================\n",
      "conv2d_input (InputLayer)    [(None, 10, 10, 1)]       0         \n",
      "_________________________________________________________________\n",
      "conv2d (Conv2D)              (None, 8, 8, 1)           10        \n",
      "_________________________________________________________________\n",
      "max_pooling2d (MaxPooling2D) (None, 4, 4, 1)           0         \n",
      "_________________________________________________________________\n",
      "conv2d_1 (Conv2D)            (None, 2, 2, 2)           20        \n",
      "_________________________________________________________________\n",
      "flatten (Flatten)            (None, 8)                 0         \n",
      "_________________________________________________________________\n",
      "dense (Dense)                (None, 2)                 18        \n",
      "_________________________________________________________________\n",
      "dense_1 (Dense)              (None, 10)                30        \n",
      "=================================================================\n",
      "Total params: 78\n",
      "Trainable params: 78\n",
      "Non-trainable params: 0\n",
      "_________________________________________________________________\n",
      "WARNING:tensorflow:6 out of the last 6 calls to <function Model.make_predict_function.<locals>.predict_function at 0x00000167AE718828> triggered tf.function retracing. Tracing is expensive and the excessive number of tracings could be due to (1) creating @tf.function repeatedly in a loop, (2) passing tensors with different shapes, (3) passing Python objects instead of tensors. For (1), please define your @tf.function outside of the loop. For (2), @tf.function has experimental_relax_shapes=True option that relaxes argument shapes that can avoid unnecessary retracing. For (3), please refer to https://www.tensorflow.org/guide/function#controlling_retracing and https://www.tensorflow.org/api_docs/python/tf/function for  more details.\n"
     ]
    }
   ],
   "source": [
    "visual_model = tf.keras.models.Model(inputs=model.input, outputs=get_output[5])\n",
    "visual_model.summary()\n",
    "test_img = np.expand_dims(test_images[0], axis=0)\n",
    "feature_maps = visual_model.predict(test_img)"
   ]
  },
  {
   "cell_type": "code",
   "execution_count": 45,
   "id": "007dee14",
   "metadata": {
    "ExecuteTime": {
     "end_time": "2022-07-29T01:50:30.097018Z",
     "start_time": "2022-07-29T01:50:30.017393Z"
    }
   },
   "outputs": [
    {
     "data": {
      "text/plain": [
       "<matplotlib.image.AxesImage at 0x166f1b34488>"
      ]
     },
     "execution_count": 45,
     "metadata": {},
     "output_type": "execute_result"
    },
    {
     "data": {
      "image/png": "[encoded data removed]",
      "text/plain": [
       "<Figure size 432x288 with 1 Axes>"
      ]
     },
     "metadata": {
      "needs_background": "light"
     },
     "output_type": "display_data"
    }
   ],
   "source": [
    "plt.imshow(feature_maps)"
   ]
  },
  {
   "cell_type": "code",
   "execution_count": null,
   "id": "e269a334",
   "metadata": {},
   "outputs": [],
   "source": []
  }
 ],
 "metadata": {
  "kernelspec": {
   "display_name": "Python 3 (ipykernel)",
   "language": "python",
   "name": "python3"
  },
  "language_info": {
   "codemirror_mode": {
    "name": "ipython",
    "version": 3
   },
   "file_extension": ".py",
   "mimetype": "text/x-python",
   "name": "python",
   "nbconvert_exporter": "python",
   "pygments_lexer": "ipython3",
   "version": "3.7.13"
  },
  "notify_time": "5",
  "toc": {
   "base_numbering": 1,
   "nav_menu": {},
   "number_sections": true,
   "sideBar": true,
   "skip_h1_title": false,
   "title_cell": "Table of Contents",
   "title_sidebar": "Contents",
   "toc_cell": false,
   "toc_position": {},
   "toc_section_display": true,
   "toc_window_display": false
  },
  "varInspector": {
   "cols": {
    "lenName": 16,
    "lenType": 16,
    "lenVar": 40
   },
   "kernels_config": {
    "python": {
     "delete_cmd_postfix": "",
     "delete_cmd_prefix": "del ",
     "library": "var_list.py",
     "varRefreshCmd": "print(var_dic_list())"
    },
    "r": {
     "delete_cmd_postfix": ") ",
     "delete_cmd_prefix": "rm(",
     "library": "var_list.r",
     "varRefreshCmd": "cat(var_dic_list()) "
    }
   },
   "types_to_exclude": [
    "module",
    "function",
    "builtin_function_or_method",
    "instance",
    "_Feature"
   ],
   "window_display": false
  }
 },
 "nbformat": 4,
 "nbformat_minor": 5
}
