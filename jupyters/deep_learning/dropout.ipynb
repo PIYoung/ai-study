{
 "cells": [
  {
   "cell_type": "code",
   "execution_count": 8,
   "id": "3294cdaa",
   "metadata": {
    "ExecuteTime": {
     "end_time": "2022-07-12T05:20:45.620837Z",
     "start_time": "2022-07-12T05:20:45.586668Z"
    }
   },
   "outputs": [
    {
     "name": "stdout",
     "output_type": "stream",
     "text": [
      "tf.Tensor(\n",
      "[[  0.          0.          0.          0.         57.25535     0.\n",
      "    0.          0.          3.4333062   0.       ]\n",
      " [  0.         56.346264    0.          0.          0.          0.\n",
      "    0.          0.          0.          0.       ]\n",
      " [116.77323     0.          0.          0.          0.          0.\n",
      "    0.          0.          0.          0.       ]\n",
      " [  0.          0.          0.          0.          0.          0.\n",
      "    0.          0.          0.          0.       ]], shape=(4, 10), dtype=float32)\n",
      "------------------------------------------\n",
      "tf.Tensor(\n",
      "[[ 5.8386617   3.756418    0.          0.          5.725535    0.\n",
      "   0.          0.          0.34333062  5.087702  ]\n",
      " [ 8.757994    5.6346264   0.          0.          8.588303    0.\n",
      "   0.          0.          0.51499695  7.6315527 ]\n",
      " [11.677323    7.512836    0.          0.         11.45107     0.\n",
      "   0.          0.          0.68666124 10.175404  ]\n",
      " [14.596655    9.391044    0.          0.         14.313837    0.\n",
      "   0.          0.          0.8583281  12.719254  ]], shape=(4, 10), dtype=float32)\n"
     ]
    }
   ],
   "source": [
    "# 드롭아웃의 비율에 대하여서 계속 확인\n",
    "import numpy as np\n",
    "import tensorflow as tf\n",
    "from tensorflow.keras.models import Model\n",
    "from tensorflow.keras.layers import Input, Dropout, Dense\n",
    "\n",
    "X = np.array([20, 30, 40, 50])\n",
    "Y = np.array([50, 60, 20, 30])\n",
    "\n",
    "inputs = Input((1, ))\n",
    "x1 = Dense(3, activation='relu', name='x1')(inputs)\n",
    "x2 = Dense(10, activation='relu', name='x2')(x1)\n",
    "dropout = Dropout(0.9)(x2)\n",
    "#output = Dense(1, activation='sigmoid', name='output')(x2)\n",
    "\n",
    "dropout_model = Model(inputs, dropout)\n",
    "\n",
    "#xs = np.ones([1,10],np.float32)\n",
    "tmp = dropout_model(X, training=True)\n",
    "\n",
    "tmp2 = dropout_model(X, training=False)  # 기본값\n",
    "\n",
    "print(tmp)\n",
    "print('------------------------------------------')\n",
    "print(tmp2)"
   ]
  }
 ],
 "metadata": {
  "kernelspec": {
   "display_name": "Python 3 (ipykernel)",
   "language": "python",
   "name": "python3"
  },
  "language_info": {
   "codemirror_mode": {
    "name": "ipython",
    "version": 3
   },
   "file_extension": ".py",
   "mimetype": "text/x-python",
   "name": "python",
   "nbconvert_exporter": "python",
   "pygments_lexer": "ipython3",
   "version": "3.9.12"
  },
  "varInspector": {
   "cols": {
    "lenName": 16,
    "lenType": 16,
    "lenVar": 40
   },
   "kernels_config": {
    "python": {
     "delete_cmd_postfix": "",
     "delete_cmd_prefix": "del ",
     "library": "var_list.py",
     "varRefreshCmd": "print(var_dic_list())"
    },
    "r": {
     "delete_cmd_postfix": ") ",
     "delete_cmd_prefix": "rm(",
     "library": "var_list.r",
     "varRefreshCmd": "cat(var_dic_list()) "
    }
   },
   "types_to_exclude": [
    "module",
    "function",
    "builtin_function_or_method",
    "instance",
    "_Feature"
   ],
   "window_display": false
  }
 },
 "nbformat": 4,
 "nbformat_minor": 5
}
