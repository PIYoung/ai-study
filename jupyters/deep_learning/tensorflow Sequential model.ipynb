{
 "cells": [
  {
   "cell_type": "code",
   "execution_count": 10,
   "id": "15e2f659",
   "metadata": {
    "ExecuteTime": {
     "end_time": "2022-07-13T04:17:53.177840Z",
     "start_time": "2022-07-13T04:17:53.169842Z"
    }
   },
   "outputs": [],
   "source": [
    "import warnings\n",
    "\n",
    "warnings.filterwarnings('ignore')"
   ]
  },
  {
   "cell_type": "code",
   "execution_count": 1,
   "id": "f9cb7699",
   "metadata": {
    "ExecuteTime": {
     "end_time": "2022-07-13T00:56:19.995435Z",
     "start_time": "2022-07-13T00:56:17.720214Z"
    }
   },
   "outputs": [],
   "source": [
    "import tensorflow as tf\n",
    "from tensorflow import keras\n",
    "from tensorflow.keras import layers"
   ]
  },
  {
   "cell_type": "code",
   "execution_count": 2,
   "id": "b41700dd",
   "metadata": {
    "ExecuteTime": {
     "end_time": "2022-07-13T00:56:20.056778Z",
     "start_time": "2022-07-13T00:56:19.997015Z"
    }
   },
   "outputs": [],
   "source": [
    "# Define Sequential model with 3 layers\n",
    "model = keras.Sequential([\n",
    "    layers.Dense(2, activation=\"relu\", name=\"layer1\"),\n",
    "    layers.Dense(3, activation=\"relu\", name=\"layer2\"),\n",
    "    layers.Dense(4, name=\"layer3\"),\n",
    "])\n",
    "# Call model on a test input\n",
    "x = tf.ones((3, 3))\n",
    "y = model(x)"
   ]
  },
  {
   "cell_type": "code",
   "execution_count": 3,
   "id": "4e50a724",
   "metadata": {
    "ExecuteTime": {
     "end_time": "2022-07-13T00:56:20.072778Z",
     "start_time": "2022-07-13T00:56:20.058779Z"
    }
   },
   "outputs": [],
   "source": [
    "# Create 3 layers\n",
    "layer1 = layers.Dense(2, activation=\"relu\", name=\"layer1\")\n",
    "layer2 = layers.Dense(3, activation=\"relu\", name=\"layer2\")\n",
    "layer3 = layers.Dense(4, name=\"layer3\")\n",
    "\n",
    "# Call layers on a test input\n",
    "x = tf.ones((3, 3))\n",
    "y = layer3(layer2(layer1(x)))"
   ]
  },
  {
   "cell_type": "code",
   "execution_count": 8,
   "id": "b78c3ca7",
   "metadata": {
    "ExecuteTime": {
     "end_time": "2022-07-13T04:17:19.278769Z",
     "start_time": "2022-07-13T04:17:19.193040Z"
    }
   },
   "outputs": [
    {
     "name": "stdout",
     "output_type": "stream",
     "text": [
      "WARNING:tensorflow:Compiled the loaded model, but the compiled metrics have yet to be built. `model.compile_metrics` will be empty until you train or evaluate the model.\n"
     ]
    }
   ],
   "source": [
    "model.save(\"my_model.h5\")"
   ]
  },
  {
   "cell_type": "code",
   "execution_count": 11,
   "id": "4bfcb916",
   "metadata": {
    "ExecuteTime": {
     "end_time": "2022-07-13T04:17:57.106759Z",
     "start_time": "2022-07-13T04:17:57.064995Z"
    }
   },
   "outputs": [
    {
     "name": "stdout",
     "output_type": "stream",
     "text": [
      "WARNING:tensorflow:No training configuration found in the save file, so the model was *not* compiled. Compile it manually.\n"
     ]
    }
   ],
   "source": [
    "del model\n",
    "model = keras.models.load_model('my_model.h5')"
   ]
  },
  {
   "cell_type": "code",
   "execution_count": 12,
   "id": "c71e17db",
   "metadata": {
    "ExecuteTime": {
     "end_time": "2022-07-13T04:18:29.128482Z",
     "start_time": "2022-07-13T04:18:29.113389Z"
    }
   },
   "outputs": [
    {
     "name": "stdout",
     "output_type": "stream",
     "text": [
      "Model: \"sequential\"\n",
      "_________________________________________________________________\n",
      " Layer (type)                Output Shape              Param #   \n",
      "=================================================================\n",
      " layer1 (Dense)              (3, 2)                    8         \n",
      "                                                                 \n",
      " layer2 (Dense)              (3, 3)                    9         \n",
      "                                                                 \n",
      "=================================================================\n",
      "Total params: 17\n",
      "Trainable params: 17\n",
      "Non-trainable params: 0\n",
      "_________________________________________________________________\n"
     ]
    }
   ],
   "source": [
    "model.summary()"
   ]
  },
  {
   "cell_type": "code",
   "execution_count": 14,
   "id": "d2ab5ded",
   "metadata": {
    "ExecuteTime": {
     "end_time": "2022-07-13T04:20:05.827700Z",
     "start_time": "2022-07-13T04:20:05.811076Z"
    }
   },
   "outputs": [
    {
     "data": {
      "text/plain": [
       "<tf.Tensor: shape=(3, 3), dtype=float32, numpy=\n",
       "array([[0.3926014 , 0.18138033, 0.3727493 ],\n",
       "       [0.3926014 , 0.18138033, 0.3727493 ],\n",
       "       [0.3926014 , 0.18138033, 0.3727493 ]], dtype=float32)>"
      ]
     },
     "execution_count": 14,
     "metadata": {},
     "output_type": "execute_result"
    }
   ],
   "source": [
    "# Call layers on a test input\n",
    "model(x)"
   ]
  },
  {
   "cell_type": "code",
   "execution_count": 18,
   "id": "cfe65ece",
   "metadata": {
    "ExecuteTime": {
     "end_time": "2022-07-13T04:24:40.140533Z",
     "start_time": "2022-07-13T04:24:37.978307Z"
    }
   },
   "outputs": [
    {
     "name": "stdout",
     "output_type": "stream",
     "text": [
      "Requirement already satisfied: pydot in c:\\users\\hp\\miniconda3\\lib\\site-packages (1.4.2)\n",
      "Requirement already satisfied: pyparsing>=2.1.4 in c:\\users\\hp\\miniconda3\\lib\\site-packages (from pydot) (3.0.4)\n",
      "Requirement already satisfied: graphviz in c:\\users\\hp\\miniconda3\\lib\\site-packages (0.20)\n"
     ]
    }
   ],
   "source": [
    "!pip install pydot\n",
    "!pip install graphviz"
   ]
  },
  {
   "cell_type": "code",
   "execution_count": 21,
   "id": "8f860edd",
   "metadata": {
    "ExecuteTime": {
     "end_time": "2022-07-13T04:24:58.977581Z",
     "start_time": "2022-07-13T04:24:58.905166Z"
    }
   },
   "outputs": [
    {
     "name": "stdout",
     "output_type": "stream",
     "text": [
      "You must install pydot (`pip install pydot`) and install graphviz (see instructions at https://graphviz.gitlab.io/download/) for plot_model/model_to_dot to work.\n"
     ]
    }
   ],
   "source": [
    "import pydot\n",
    "import graphviz\n",
    "\n",
    "keras.utils.plot_model(model, 'my_first_model.png')"
   ]
  },
  {
   "cell_type": "code",
   "execution_count": 4,
   "id": "0934f9da",
   "metadata": {
    "ExecuteTime": {
     "end_time": "2022-07-13T00:56:20.088890Z",
     "start_time": "2022-07-13T00:56:20.073778Z"
    }
   },
   "outputs": [],
   "source": [
    "# Sequential 모델은 각 레이어에 정확히 하나의 입력 텐서와 하나의 출력 텐서가 있는 일반 레이어 스택\n",
    "model.pop()"
   ]
  },
  {
   "cell_type": "code",
   "execution_count": 7,
   "id": "c5ff9476",
   "metadata": {
    "ExecuteTime": {
     "end_time": "2022-07-13T01:17:08.813223Z",
     "start_time": "2022-07-13T01:17:08.794673Z"
    }
   },
   "outputs": [
    {
     "name": "stdout",
     "output_type": "stream",
     "text": [
      "Model: \"sequential\"\n",
      "_________________________________________________________________\n",
      " Layer (type)                Output Shape              Param #   \n",
      "=================================================================\n",
      " layer1 (Dense)              (3, 2)                    8         \n",
      "                                                                 \n",
      " layer2 (Dense)              (3, 3)                    9         \n",
      "                                                                 \n",
      "=================================================================\n",
      "Total params: 17\n",
      "Trainable params: 17\n",
      "Non-trainable params: 0\n",
      "_________________________________________________________________\n"
     ]
    }
   ],
   "source": [
    "model.summary()"
   ]
  }
 ],
 "metadata": {
  "kernelspec": {
   "display_name": "Python 3 (ipykernel)",
   "language": "python",
   "name": "python3"
  },
  "language_info": {
   "codemirror_mode": {
    "name": "ipython",
    "version": 3
   },
   "file_extension": ".py",
   "mimetype": "text/x-python",
   "name": "python",
   "nbconvert_exporter": "python",
   "pygments_lexer": "ipython3",
   "version": "3.9.12"
  },
  "varInspector": {
   "cols": {
    "lenName": 16,
    "lenType": 16,
    "lenVar": 40
   },
   "kernels_config": {
    "python": {
     "delete_cmd_postfix": "",
     "delete_cmd_prefix": "del ",
     "library": "var_list.py",
     "varRefreshCmd": "print(var_dic_list())"
    },
    "r": {
     "delete_cmd_postfix": ") ",
     "delete_cmd_prefix": "rm(",
     "library": "var_list.r",
     "varRefreshCmd": "cat(var_dic_list()) "
    }
   },
   "types_to_exclude": [
    "module",
    "function",
    "builtin_function_or_method",
    "instance",
    "_Feature"
   ],
   "window_display": false
  }
 },
 "nbformat": 4,
 "nbformat_minor": 5
}
