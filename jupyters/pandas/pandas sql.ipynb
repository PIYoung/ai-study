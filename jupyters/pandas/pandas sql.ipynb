{
 "cells": [
  {
   "cell_type": "code",
   "execution_count": 6,
   "id": "3f85c529",
   "metadata": {
    "ExecuteTime": {
     "end_time": "2022-07-06T06:45:22.288928Z",
     "start_time": "2022-07-06T06:45:22.281929Z"
    }
   },
   "outputs": [],
   "source": [
    "import warnings\n",
    "\n",
    "warnings.filterwarnings('ignore')"
   ]
  },
  {
   "cell_type": "code",
   "execution_count": 7,
   "id": "6ddfe6c2",
   "metadata": {
    "ExecuteTime": {
     "end_time": "2022-07-06T06:45:22.788623Z",
     "start_time": "2022-07-06T06:45:22.770962Z"
    }
   },
   "outputs": [],
   "source": [
    "import numpy as np\n",
    "import pandas as pd\n",
    "import matplotlib.pyplot as plt\n",
    "import seaborn as sns\n",
    "from glob import glob"
   ]
  },
  {
   "cell_type": "code",
   "execution_count": 3,
   "id": "3f090e55",
   "metadata": {
    "ExecuteTime": {
     "end_time": "2022-07-06T06:43:54.515112Z",
     "start_time": "2022-07-06T06:43:37.214161Z"
    }
   },
   "outputs": [],
   "source": [
    "# csv_list = glob('csvs/소상공인시장진흥공단_상가(상권)정보_20220331/*.csv')\n",
    "\n",
    "# df = pd.DataFrame()\n",
    "\n",
    "# for csv in csv_list:\n",
    "#     tmp = pd.read_csv(csv)\n",
    "#     df = df.append(tmp)\n",
    "# df.to_csv('csvs/소상공인.csv', index=False)"
   ]
  },
  {
   "cell_type": "code",
   "execution_count": 49,
   "id": "43113416",
   "metadata": {
    "ExecuteTime": {
     "end_time": "2022-07-06T07:08:58.778403Z",
     "start_time": "2022-07-06T07:08:45.574815Z"
    }
   },
   "outputs": [],
   "source": [
    "df = pd.read_csv('csvs/소상공인.csv')\n",
    "df = df[['상호명', '상권업종대분류명', '상권업종중분류명', '시도명', '시군구명', '행정동명', '경도', '위도']]"
   ]
  },
  {
   "cell_type": "code",
   "execution_count": 50,
   "id": "cff65ebc",
   "metadata": {
    "ExecuteTime": {
     "end_time": "2022-07-06T07:08:59.679225Z",
     "start_time": "2022-07-06T07:08:59.644684Z"
    }
   },
   "outputs": [
    {
     "name": "stdout",
     "output_type": "stream",
     "text": [
      "<class 'pandas.core.frame.DataFrame'>\n",
      "RangeIndex: 2279879 entries, 0 to 2279878\n",
      "Data columns (total 8 columns):\n",
      " #   Column    Dtype  \n",
      "---  ------    -----  \n",
      " 0   상호명       object \n",
      " 1   상권업종대분류명  object \n",
      " 2   상권업종중분류명  object \n",
      " 3   시도명       object \n",
      " 4   시군구명      object \n",
      " 5   행정동명      object \n",
      " 6   경도        float64\n",
      " 7   위도        float64\n",
      "dtypes: float64(2), object(6)\n",
      "memory usage: 139.2+ MB\n"
     ]
    }
   ],
   "source": [
    "df.info()"
   ]
  },
  {
   "cell_type": "code",
   "execution_count": 52,
   "id": "fa8a4a4d",
   "metadata": {
    "ExecuteTime": {
     "end_time": "2022-07-06T07:09:03.019415Z",
     "start_time": "2022-07-06T07:09:03.003731Z"
    }
   },
   "outputs": [
    {
     "data": {
      "text/plain": [
       "2279879"
      ]
     },
     "execution_count": 52,
     "metadata": {},
     "output_type": "execute_result"
    }
   ],
   "source": [
    "# select count(*) from 상가업소정보_201912\n",
    "len(df)"
   ]
  },
  {
   "cell_type": "code",
   "execution_count": 53,
   "id": "aced8cc3",
   "metadata": {
    "ExecuteTime": {
     "end_time": "2022-07-06T07:09:04.482311Z",
     "start_time": "2022-07-06T07:09:04.403321Z"
    }
   },
   "outputs": [
    {
     "data": {
      "text/plain": [
       "array(['강원도', '경기도', '경상남도', '경상북도', '광주광역시', '대구광역시', '대전광역시', '부산광역시',\n",
       "       '서울특별시', '세종특별자치시', '울산광역시', '인천광역시', '전라남도', '전라북도', '제주특별자치도',\n",
       "       '충청남도', '충청북도'], dtype=object)"
      ]
     },
     "execution_count": 53,
     "metadata": {},
     "output_type": "execute_result"
    }
   ],
   "source": [
    "# select distinct 시도명\n",
    "# from 상가업소정보_201912\n",
    "df['시도명'].unique()"
   ]
  },
  {
   "cell_type": "code",
   "execution_count": 54,
   "id": "a88e1f11",
   "metadata": {
    "ExecuteTime": {
     "end_time": "2022-07-06T07:09:06.057836Z",
     "start_time": "2022-07-06T07:09:05.949038Z"
    },
    "scrolled": true
   },
   "outputs": [
    {
     "data": {
      "text/plain": [
       "array(['영등포구', '성동구', '종로구', '송파구', '서초구', '동작구', '강남구', '마포구', '중랑구',\n",
       "       '은평구', '성북구', '강동구', '양천구', '서대문구', '중구', '광진구', '용산구', '관악구',\n",
       "       '강서구', '노원구', '강북구', '구로구', '금천구', '도봉구', '동대문구'], dtype=object)"
      ]
     },
     "execution_count": 54,
     "metadata": {},
     "output_type": "execute_result"
    }
   ],
   "source": [
    "# select distinct 시군구명\n",
    "# from 상가업소정보_201912\n",
    "# where 시도명 = '서울특별시'\n",
    "df[df['시도명'] == '서울특별시']['시군구명'].unique()"
   ]
  },
  {
   "cell_type": "code",
   "execution_count": 55,
   "id": "a43d4b26",
   "metadata": {
    "ExecuteTime": {
     "end_time": "2022-07-06T07:09:08.531417Z",
     "start_time": "2022-07-06T07:09:07.174495Z"
    },
    "scrolled": true
   },
   "outputs": [
    {
     "name": "stdout",
     "output_type": "stream",
     "text": [
      "\n",
      "> 강원도 --------------------------------------------------\n",
      "['강릉시' '평창군' '원주시' '삼척시' '정선군' '영월군' '동해시' '춘천시' '홍천군' '횡성군' '속초시' '철원군'\n",
      " '양양군' '태백시' '양구군' '고성군' '인제군' '화천군']\n",
      "\n",
      "> 경기도 --------------------------------------------------\n",
      "['광명시' '성남시 분당구' '김포시' '부천시' '의정부시' '광주시' '수원시 팔달구' '화성시' '수원시 영통구'\n",
      " '수원시 권선구' '파주시' '평택시' '안산시 단원구' '안산시 상록구' '하남시' '고양시 덕양구' '수원시 장안구'\n",
      " '동두천시' '고양시 일산서구' '포천시' '군포시' '용인시 처인구' '안양시 동안구' '시흥시' '용인시 기흥구'\n",
      " '성남시 수정구' '가평군' '의왕시' '남양주시' '구리시' '양평군' '이천시' '용인시 수지구' '성남시 중원구'\n",
      " '고양시 일산동구' '양주시' '안양시 만안구' '오산시' '안성시' '연천군' '여주시' '과천시' '고양시' '안산시'\n",
      " '용인시' '수원시']\n",
      "\n",
      "> 경상남도 --------------------------------------------------\n",
      "['김해시' '밀양시' '양산시' '함양군' '사천시' '통영시' '창원시 진해구' '거제시' '창원시 성산구' '창원시 의창구'\n",
      " '진주시' '함안군' '창원시 마산합포구' '남해군' '하동군' '거창군' '창원시 마산회원구' '의령군' '합천군' '고성군'\n",
      " '산청군' '창녕군' '창원시']\n",
      "\n",
      "> 경상북도 --------------------------------------------------\n",
      "['구미시' '안동시' '상주시' '경산시' '영덕군' '경주시' '예천군' '김천시' '문경시' '영주시' '영양군' '울진군'\n",
      " '청도군' '포항시 남구' '영천시' '칠곡군' '포항시 북구' '의성군' '봉화군' '청송군' '고령군' '울릉군' '성주군'\n",
      " '군위군']\n",
      "\n",
      "> 광주광역시 --------------------------------------------------\n",
      "['광산구' '남구' '동구' '서구' '북구']\n",
      "\n",
      "> 대구광역시 --------------------------------------------------\n",
      "['서구' '달서구' '동구' '북구' '달성군' '수성구' '중구' '남구']\n",
      "\n",
      "> 대전광역시 --------------------------------------------------\n",
      "['유성구' '서구' '중구' '동구' '대덕구']\n",
      "\n",
      "> 부산광역시 --------------------------------------------------\n",
      "['중구' '동래구' '수영구' '부산진구' '사하구' '해운대구' '북구' '남구' '사상구' '강서구' '영도구' '서구'\n",
      " '연제구' '기장군' '금정구' '동구']\n",
      "\n",
      "> 서울특별시 --------------------------------------------------\n",
      "['영등포구' '성동구' '종로구' '송파구' '서초구' '동작구' '강남구' '마포구' '중랑구' '은평구' '성북구' '강동구'\n",
      " '양천구' '서대문구' '중구' '광진구' '용산구' '관악구' '강서구' '노원구' '강북구' '구로구' '금천구' '도봉구'\n",
      " '동대문구']\n",
      "\n",
      "> 세종특별자치시 --------------------------------------------------\n",
      "['세종특별자치시']\n",
      "\n",
      "> 울산광역시 --------------------------------------------------\n",
      "['남구' '울주군' '동구' '중구' '북구']\n",
      "\n",
      "> 인천광역시 --------------------------------------------------\n",
      "['계양구' '남동구' '연수구' '강화군' '미추홀구' '부평구' '서구' '옹진군' '중구' '동구']\n",
      "\n",
      "> 전라남도 --------------------------------------------------\n",
      "['고흥군' '해남군' '여수시' '목포시' '화순군' '담양군' '순천시' '광양시' '진도군' '신안군' '함평군' '무안군'\n",
      " '장흥군' '나주시' '영암군' '영광군' '보성군' '완도군' '강진군' '곡성군' '장성군' '구례군']\n",
      "\n",
      "> 전라북도 --------------------------------------------------\n",
      "['김제시' '익산시' '남원시' '완주군' '전주시 완산구' '부안군' '전주시 덕진구' '군산시' '임실군' '진안군' '순창군'\n",
      " '무주군' '고창군' '정읍시' '장수군' '전주시']\n",
      "\n",
      "> 제주특별자치도 --------------------------------------------------\n",
      "['서귀포시' '제주시']\n",
      "\n",
      "> 충청남도 --------------------------------------------------\n",
      "['천안시 동남구' '예산군' '서산시' '보령시' '논산시' '홍성군' '천안시 서북구' '당진시' '금산군' '부여군' '태안군'\n",
      " '아산시' '계룡시' '청양군' '공주시' '서천군' '천안시' '홍북읍']\n",
      "\n",
      "> 충청북도 --------------------------------------------------\n",
      "['청주시 서원구' '청주시 상당구' '충주시' '영동군' '청주시 청원구' '제천시' '음성군' '청주시 흥덕구' '보은군'\n",
      " '옥천군' '진천군' '단양군' '괴산군' '증평군']\n"
     ]
    }
   ],
   "source": [
    "for x in df['시도명'].unique():\n",
    "    print(f'\\n> {x} {\"-\" * 50}')\n",
    "    print(df[df['시도명'] == x]['시군구명'].unique())"
   ]
  },
  {
   "cell_type": "code",
   "execution_count": 56,
   "id": "dd116cf0",
   "metadata": {
    "ExecuteTime": {
     "end_time": "2022-07-06T07:09:21.815935Z",
     "start_time": "2022-07-06T07:09:20.053812Z"
    }
   },
   "outputs": [
    {
     "data": {
      "text/plain": [
       "상호명         0\n",
       "상권업종대분류명    0\n",
       "상권업종중분류명    0\n",
       "시도명         0\n",
       "시군구명        0\n",
       "행정동명        0\n",
       "경도          0\n",
       "위도          0\n",
       "dtype: int64"
      ]
     },
     "execution_count": 56,
     "metadata": {},
     "output_type": "execute_result"
    }
   ],
   "source": [
    "df = df.dropna()\n",
    "df.isna().sum()"
   ]
  },
  {
   "cell_type": "code",
   "execution_count": 71,
   "id": "53298a59",
   "metadata": {
    "ExecuteTime": {
     "end_time": "2022-07-06T07:13:40.538567Z",
     "start_time": "2022-07-06T07:13:40.171906Z"
    },
    "scrolled": false
   },
   "outputs": [
    {
     "data": {
      "text/html": [
       "<div>\n",
       "<style scoped>\n",
       "    .dataframe tbody tr th:only-of-type {\n",
       "        vertical-align: middle;\n",
       "    }\n",
       "\n",
       "    .dataframe tbody tr th {\n",
       "        vertical-align: top;\n",
       "    }\n",
       "\n",
       "    .dataframe thead th {\n",
       "        text-align: right;\n",
       "    }\n",
       "</style>\n",
       "<table border=\"1\" class=\"dataframe\">\n",
       "  <thead>\n",
       "    <tr style=\"text-align: right;\">\n",
       "      <th></th>\n",
       "      <th>상호명</th>\n",
       "      <th>시도명</th>\n",
       "      <th>시군구명</th>\n",
       "      <th>행정동명</th>\n",
       "    </tr>\n",
       "  </thead>\n",
       "  <tbody>\n",
       "    <tr>\n",
       "      <th>1430946</th>\n",
       "      <td>공차국악고점</td>\n",
       "      <td>서울특별시</td>\n",
       "      <td>강남구</td>\n",
       "      <td>개포4동</td>\n",
       "    </tr>\n",
       "    <tr>\n",
       "      <th>1516711</th>\n",
       "      <td>공차</td>\n",
       "      <td>서울특별시</td>\n",
       "      <td>강남구</td>\n",
       "      <td>논현1동</td>\n",
       "    </tr>\n",
       "    <tr>\n",
       "      <th>1479230</th>\n",
       "      <td>공차코리아대치점</td>\n",
       "      <td>서울특별시</td>\n",
       "      <td>강남구</td>\n",
       "      <td>대치1동</td>\n",
       "    </tr>\n",
       "    <tr>\n",
       "      <th>1460196</th>\n",
       "      <td>공차</td>\n",
       "      <td>서울특별시</td>\n",
       "      <td>강남구</td>\n",
       "      <td>대치2동</td>\n",
       "    </tr>\n",
       "    <tr>\n",
       "      <th>1629139</th>\n",
       "      <td>공차</td>\n",
       "      <td>서울특별시</td>\n",
       "      <td>강남구</td>\n",
       "      <td>대치4동</td>\n",
       "    </tr>\n",
       "    <tr>\n",
       "      <th>...</th>\n",
       "      <td>...</td>\n",
       "      <td>...</td>\n",
       "      <td>...</td>\n",
       "      <td>...</td>\n",
       "    </tr>\n",
       "    <tr>\n",
       "      <th>1400774</th>\n",
       "      <td>공차</td>\n",
       "      <td>서울특별시</td>\n",
       "      <td>중구</td>\n",
       "      <td>회현동</td>\n",
       "    </tr>\n",
       "    <tr>\n",
       "      <th>1448943</th>\n",
       "      <td>공차</td>\n",
       "      <td>서울특별시</td>\n",
       "      <td>중구</td>\n",
       "      <td>회현동</td>\n",
       "    </tr>\n",
       "    <tr>\n",
       "      <th>1468324</th>\n",
       "      <td>공차</td>\n",
       "      <td>서울특별시</td>\n",
       "      <td>중구</td>\n",
       "      <td>회현동</td>\n",
       "    </tr>\n",
       "    <tr>\n",
       "      <th>1418109</th>\n",
       "      <td>공차</td>\n",
       "      <td>서울특별시</td>\n",
       "      <td>중랑구</td>\n",
       "      <td>면목7동</td>\n",
       "    </tr>\n",
       "    <tr>\n",
       "      <th>1565695</th>\n",
       "      <td>공차</td>\n",
       "      <td>서울특별시</td>\n",
       "      <td>중랑구</td>\n",
       "      <td>상봉2동</td>\n",
       "    </tr>\n",
       "  </tbody>\n",
       "</table>\n",
       "<p>137 rows × 4 columns</p>\n",
       "</div>"
      ],
      "text/plain": [
       "              상호명    시도명 시군구명  행정동명\n",
       "1430946    공차국악고점  서울특별시  강남구  개포4동\n",
       "1516711        공차  서울특별시  강남구  논현1동\n",
       "1479230  공차코리아대치점  서울특별시  강남구  대치1동\n",
       "1460196        공차  서울특별시  강남구  대치2동\n",
       "1629139        공차  서울특별시  강남구  대치4동\n",
       "...           ...    ...  ...   ...\n",
       "1400774        공차  서울특별시   중구   회현동\n",
       "1448943        공차  서울특별시   중구   회현동\n",
       "1468324        공차  서울특별시   중구   회현동\n",
       "1418109        공차  서울특별시  중랑구  면목7동\n",
       "1565695        공차  서울특별시  중랑구  상봉2동\n",
       "\n",
       "[137 rows x 4 columns]"
      ]
     },
     "execution_count": 71,
     "metadata": {},
     "output_type": "execute_result"
    }
   ],
   "source": [
    "# select 상호명, 시도명, 시군구명, 행정동명\n",
    "# from 상가업소정보_201912\n",
    "# where 시도명 = '서울특별시' and 상호명 like '공차%'\n",
    "# order by 시군구명, 행정동명\n",
    "\n",
    "# str.startswith()\n",
    "# str.endswith()\n",
    "# str.contains()\n",
    "tmp_df = df[(df['시도명'] == '서울특별시') & (df['상호명'].str.startswith('공차'))]\n",
    "tmp_df[['상호명', '시도명', '시군구명', '행정동명']].sort_values(by=['시군구명', '행정동명'],\n",
    "                                                   ascending=True)"
   ]
  },
  {
   "cell_type": "code",
   "execution_count": 79,
   "id": "80d5ed91",
   "metadata": {
    "ExecuteTime": {
     "end_time": "2022-07-06T07:21:15.239242Z",
     "start_time": "2022-07-06T07:21:14.884356Z"
    }
   },
   "outputs": [
    {
     "data": {
      "text/plain": [
       "8"
      ]
     },
     "execution_count": 79,
     "metadata": {},
     "output_type": "execute_result"
    }
   ],
   "source": [
    "# pandas에서도 sql이 사용됨\n",
    "find = '을지로동'\n",
    "f = '공차'\n",
    "str_exp = \"행정동명 == @find and 상호명.str.startswith(@f)\"\n",
    "df.query(str_exp).size"
   ]
  }
 ],
 "metadata": {
  "kernelspec": {
   "display_name": "Python 3 (ipykernel)",
   "language": "python",
   "name": "python3"
  },
  "language_info": {
   "codemirror_mode": {
    "name": "ipython",
    "version": 3
   },
   "file_extension": ".py",
   "mimetype": "text/x-python",
   "name": "python",
   "nbconvert_exporter": "python",
   "pygments_lexer": "ipython3",
   "version": "3.9.12"
  },
  "toc": {
   "base_numbering": 1,
   "nav_menu": {},
   "number_sections": true,
   "sideBar": true,
   "skip_h1_title": false,
   "title_cell": "Table of Contents",
   "title_sidebar": "Contents",
   "toc_cell": false,
   "toc_position": {},
   "toc_section_display": true,
   "toc_window_display": false
  },
  "varInspector": {
   "cols": {
    "lenName": 16,
    "lenType": 16,
    "lenVar": 40
   },
   "kernels_config": {
    "python": {
     "delete_cmd_postfix": "",
     "delete_cmd_prefix": "del ",
     "library": "var_list.py",
     "varRefreshCmd": "print(var_dic_list())"
    },
    "r": {
     "delete_cmd_postfix": ") ",
     "delete_cmd_prefix": "rm(",
     "library": "var_list.r",
     "varRefreshCmd": "cat(var_dic_list()) "
    }
   },
   "position": {
    "height": "144.844px",
    "left": "519px",
    "right": "20px",
    "top": "119px",
    "width": "350px"
   },
   "types_to_exclude": [
    "module",
    "function",
    "builtin_function_or_method",
    "instance",
    "_Feature"
   ],
   "window_display": false
  }
 },
 "nbformat": 4,
 "nbformat_minor": 5
}
