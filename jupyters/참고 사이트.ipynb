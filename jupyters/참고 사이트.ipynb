{
 "cells": [
  {
   "cell_type": "markdown",
   "id": "fe2f43c5",
   "metadata": {},
   "source": [
    "# 인공지능"
   ]
  },
  {
   "cell_type": "markdown",
   "id": "c5b318c8",
   "metadata": {},
   "source": [
    "## 프로그래밍"
   ]
  },
  {
   "cell_type": "markdown",
   "id": "c96d3584",
   "metadata": {},
   "source": [
    "### EDA\n",
    "\n",
    "- [MinMaxScaler](https://m.blog.naver.com/wideeyed/221614354947)\n",
    "- [가중치 규제 (regularization) L1, L2 란 야나두 딥러닝](https://rdmkyg.blogspot.com/2021/06/regularization-l1.html)\n",
    "- [L1, L2 regularization, Ridge와 Lasso의 차이점](https://huidea.tistory.com/154)\n",
    "- [맨하탄 거리(Manhattan Distance) 개념과 구현해보기](https://needjarvis.tistory.com/455)\n",
    "- [상관계수 구하는 법](https://bkshin.tistory.com/entry/DATA-20-%EB%8B%A4%EC%A4%91%EA%B3%B5%EC%84%A0%EC%84%B1%EA%B3%BC-VIF)\n",
    "- [피어슨 상관관계(유사도) 이해 및 파이썬 구현하기](https://needjarvis.tistory.com/722)\n",
    "- [하이퍼파라미터 튜닝](https://velog.io/@emseoyk/%ED%95%98%EC%9D%B4%ED%8D%BC%ED%8C%8C%EB%9D%BC%EB%AF%B8%ED%84%B0-%ED%8A%9C%EB%8B%9D)\n",
    "- [다중공선성과 변수 선택](https://datascienceschool.net/03%20machine%20learning/06.04%20%EB%8B%A4%EC%A4%91%EA%B3%B5%EC%84%A0%EC%84%B1%EA%B3%BC%20%EB%B3%80%EC%88%98%20%EC%84%A0%ED%83%9D.html)\n",
    "- [다중공선성(Multicollinearity)과 VIF(Variance Inflation Factors)](https://bkshin.tistory.com/entry/DATA-20-%EB%8B%A4%EC%A4%91%EA%B3%B5%EC%84%A0%EC%84%B1%EA%B3%BC-VIF)\n",
    "- [전진 선택(Forward Selection)과 후진 제거(Backward Elimination)](https://yngie-c.github.io/machine%20learning/2020/09/06/fs_be/)\n",
    "- [주성분분석(PCA)의 이해와 활용](https://darkpgmr.tistory.com/110)\n",
    "- [[ML] PCA, 주성분의 개수는 어떤 기준으로 설정할까?](https://techblog-history-younghunjo1.tistory.com/134)\n",
    "- [XGBoost 알고리즘의 개념 이해](https://bcho.tistory.com/1354)\n",
    "- [모델 상관없이 변수 중요도의 파악](https://soohee410.github.io/iml_permutation_importance)\n",
    "- [ROC 분석](https://m.blog.naver.com/sharp_kiss/221599009671)\n",
    "- [잔차분석](https://ysyblog.tistory.com/120)"
   ]
  },
  {
   "cell_type": "markdown",
   "id": "cb14c6eb",
   "metadata": {},
   "source": [
    "### Modeling\n",
    "\n",
    "- [평균제곱오차(MSE), 평균절대오차(MAE)](https://velog.io/@yuns_u/%ED%8F%89%EA%B7%A0%EC%A0%9C%EA%B3%B1%EC%98%A4%EC%B0%A8MSE-%ED%8F%89%EA%B7%A0%EC%A0%88%EB%8C%80%EC%98%A4%EC%B0%A8MAE)\n",
    "- [[ML/DL] 정밀도와 재현율의 트레이드 오프 정의와 구현](https://continuous-development.tistory.com/m/171)\n",
    "- [더빈-왓슨 검정법](https://m.blog.naver.com/PostView.naver?isHttpsRedirect=true&blogId=jahyone20&logNo=220935609080)\n",
    "- [K-Fold Cross Validation](https://nonmeyet.tistory.com/entry/KFold-Cross-Validation%EA%B5%90%EC%B0%A8%EA%B2%80%EC%A6%9D-%EC%A0%95%EC%9D%98-%EB%B0%8F-%EC%84%A4%EB%AA%85)\n",
    "- [OpenCV - 17. 필터(Filter)와 컨볼루션(Convolution) 연산, 평균 블러링, 가우시안 블러링, 미디언 블러링, 바이레터럴 필터](https://bkshin.tistory.com/entry/OpenCV-17-%ED%95%84%ED%84%B0Filter%EC%99%80-%EC%BB%A8%EB%B3%BC%EB%A3%A8%EC%85%98Convolution-%EC%97%B0%EC%82%B0-%ED%8F%89%EA%B7%A0-%EB%B8%94%EB%9F%AC%EB%A7%81-%EA%B0%80%EC%9A%B0%EC%8B%9C%EC%95%88-%EB%B8%94%EB%9F%AC%EB%A7%81-%EB%AF%B8%EB%94%94%EC%96%B8-%EB%B8%94%EB%9F%AC%EB%A7%81-%EB%B0%94%EC%9D%B4%EB%A0%88%ED%84%B0%EB%9F%B4-%ED%95%84%ED%84%B0)"
   ]
  },
  {
   "cell_type": "markdown",
   "id": "f7ed806b",
   "metadata": {},
   "source": [
    "#### Machine Learning\n",
    "\n",
    "- [KoBERT](https://tech-diary.tistory.com/31)\n",
    "- [Machine Learning Study 혼자 해보기](https://github.com/teddylee777/machine-learning)\n",
    "- [머신 러닝 - epoch, batch size, iteration의 의미](https://m.blog.naver.com/qbxlvnf11/221449297033)\n",
    "- [머신러닝에서의 Bias와 Variance](https://gaussian37.github.io/machine-learning-concept-bias_and_variance/)\n",
    "- [Grid Search](https://huidea.tistory.com/32)\n",
    "- [머신러닝 - 2. 서포트 벡터 머신 (SVM) 개념](https://bkshin.tistory.com/entry/%EB%A8%B8%EC%8B%A0%EB%9F%AC%EB%8B%9D-2%EC%84%9C%ED%8F%AC%ED%8A%B8-%EB%B2%A1%ED%84%B0-%EB%A8%B8%EC%8B%A0-SVM)\n",
    "- [SVM으로 MNIST 분류하기](https://yeoulcoding.me/106)\n",
    "- [NLR / PLR/ RFE 란?](https://meme2.tistory.com/124)\n",
    "- [[NLP] 문서 유사도 분석: (2) 유클리디안 거리(Euclidean Distance)](https://heytech.tistory.com/357)\n",
    "- [회귀분석 (Regression analysis)](https://bioinformaticsandme.tistory.com/70)\n",
    "- [회귀의 종류 및 회귀계수](https://heung-bae-lee.github.io/2020/01/04/machine_learning_01/)\n",
    "- [로지스틱 회귀](https://ratsgo.github.io/machine%20learning/2017/04/02/logistic/)\n",
    "- [Decision Tree](https://leedakyeong.tistory.com/entry/Decision-Tree%EB%9E%80-ID3-%EC%95%8C%EA%B3%A0%EB%A6%AC%EC%A6%98)\n",
    "- [앙상블(Ensemble)모형 / Bagging과 Boosting](https://ybeaning.tistory.com/17)\n",
    "- [[기계학습] 로지스틱 회귀분석(logit, odds, sigmoid 함수)](https://acdongpgm.tistory.com/109)"
   ]
  },
  {
   "cell_type": "markdown",
   "id": "a293f500",
   "metadata": {},
   "source": [
    "#### Deep Learning\n",
    "\n",
    "- [밑바닥부터 시작하는 딥러닝](https://github.com/youbeebee/deeplearning_from_scratch)\n",
    "- [딥다딥러닝](https://github.com/rickiepark/do-it-dl)\n",
    "- [딥러닝 라이즈 : 알파고는 하루아침에 나오지 않았다](https://blog.omnious.com/dibleoning-laijeu--alpagoneun-haluachim-e-naoji-anh-assda)\n",
    "- [퍼셉트론(Perceptron) - 1 딥러닝(Deep Learning)과 인공신경망(Neural Network)의 시작](https://needjarvis.tistory.com/178?category=933540)\n",
    "- [퍼셉트론(Perceptron)](https://wikidocs.net/24958)\n",
    "- [전이 학습(Transfer Learning)](http://www.gisdeveloper.co.kr/?p=8655)\n",
    "- [딥러닝 기초 부수기 - 오차역전파법(backpropagation)](https://ksm2853305.tistory.com/46)\n",
    "- [확률적 경사하강법(SGD)](https://kerpect.tistory.com/183)\n",
    "- [Optimizer 종류 및 정리](https://ganghee-lee.tistory.com/24)\n",
    "- [체인룰](https://newsight.tistory.com/223)\n",
    "- [Relu(Rectified Linear Unit)](https://mongxmongx2.tistory.com/25)\n",
    "- [딥러닝 - 활성화 함수(Activation) 종류 및 비교](https://m.blog.naver.com/PostView.naver?isHttpsRedirect=true&blogId=handuelly&logNo=221824080339)\n",
    "- [딥러닝을 위한 Norm, 노름](http://taewan.kim/post/norm/)\n",
    "- [Tensorflow 회귀](https://www.tensorflow.org/tutorials/keras/regression?hl=ko)\n",
    "- [Tensorflow Keras](https://www.tensorflow.org/guide/keras?hl=ko)\n",
    "- [Tensorflow 순차모델](https://www.tensorflow.org/guide/keras/sequential_model?hl=ko)\n",
    "- [Tensorflow 학습평가](https://www.tensorflow.org/guide/keras/train_and_evaluate/?hl=ko)\n",
    "- [Tensorflow 전이학습](https://www.tensorflow.org/guide/keras/transfer_learning/?hl=ko)\n",
    "- [Tensorflow 함수형API](https://www.tensorflow.org/guide/keras/functional?hl=ko)\n",
    "- [Tensorflow Keras Tuner](https://www.tensorflow.org/tutorials/keras/keras_tuner?hl=ko)\n",
    "- [Tensorflow 과대적합과 과소적합](https://www.tensorflow.org/tutorials/keras/overfit_and_underfit?hl=ko)\n",
    "- [Tensorflow 합성곱 신경망](https://www.tensorflow.org/tutorials/images/cnn?hl=ko)\n",
    "- [Tensorflow - 고수준 api, 저수준 api](https://m.blog.naver.com/PostView.naver?isHttpsRedirect=true&blogId=worb1605&logNo=221407983135)\n",
    "- [Convolution의 정의](https://talkingaboutme.tistory.com/entry/DL-Convolution%EC%9D%98-%EC%A0%95%EC%9D%98)\n",
    "- [Deep Learning 과적합 해결](https://gilbertlim.github.io/deep%20learning/dl_overfitting/)\n",
    "- [Model Capacity](https://itrepo.tistory.com/17)\n",
    "- [[Deep Learning] 5.딥러닝 하이퍼파라미터 튜닝](https://daje0601.tistory.com/197)\n",
    "- [AI 사이언티스트의 숙명 ‘튜닝’… 학습 모델 최적화에 수작업 필수](https://magazine.hankyung.com/business/article/202101061704b)\n",
    "- [[Deep Learning] Batch Normalization (배치 정규화)](https://eehoeskrap.tistory.com/430)\n",
    "- [기울기 소실(Gradient Vanishing)과 폭주(Exploding)](https://wikidocs.net/61375)\n",
    "- [[딥러닝/머신러닝] CNN(Convolutional Neural Networks) 쉽게 이해하기](https://halfundecided.medium.com/%EB%94%A5%EB%9F%AC%EB%8B%9D-%EB%A8%B8%EC%8B%A0%EB%9F%AC%EB%8B%9D-cnn-convolutional-neural-networks-%EC%89%BD%EA%B2%8C-%EC%9D%B4%ED%95%B4%ED%95%98%EA%B8%B0-836869f88375)\n",
    "- [VGG16을 사용해보자](https://kwong3.tistory.com/8)\n",
    "- [[CNN 알고리즘들] VGGNet의 구조 (VGG16)](https://bskyvision.com/504)\n",
    "- [활성화함수(3)-소프트맥스 함수(Softmax)](https://gooopy.tistory.com/53)\n",
    "- [MobileNetV2(2018) 리뷰](https://deep-learning-study.tistory.com/541)\n",
    "- [오토인코더 (AutoEncoder)](https://excelsior-cjh.tistory.com/187)\n",
    "- [오토인코더(AutoEncoder)](https://pebpung.github.io/autoencoder/2021/09/11/Auto-Encoder-1.html)\n",
    "- [<외부기고> [새로운 인공지능 기술 GAN] ② GAN의 개념과 이해](https://www.samsungsds.com/kr/insights/generative-adversarial-network-ai-2.html)"
   ]
  },
  {
   "cell_type": "markdown",
   "id": "c1c26820",
   "metadata": {},
   "source": [
    "---"
   ]
  },
  {
   "cell_type": "markdown",
   "id": "fa9f223a",
   "metadata": {},
   "source": [
    "## 수학\n",
    "\n",
    "- [모두의 인공지능 기초 수학](https://thebook.io/080246)\n",
    "- [[Math] Convolution(합성곱)의 원리와 목적](https://supermemi.tistory.com/104)\n",
    "- [컨볼루션(convolution, 합성곱)](https://m.blog.naver.com/PostView.naver?isHttpsRedirect=true&blogId=sallygarden_ee&logNo=221291514981)"
   ]
  },
  {
   "cell_type": "markdown",
   "id": "c7606b73",
   "metadata": {},
   "source": [
    "### 이산수학\n",
    "\n",
    "- [[Python NumPy] 행렬의 행과 열 바꾸기, 축 바꾸기, 전치행렬 : a.T, np.transpose(a), np.swapaxes(a,0,1)](https://rfriend.tistory.com/289)\n",
    "- [python zip 함수를 이용한 transpose](http://pyengine.blogspot.com/2016/11/python-zip-transpose.html)\n",
    "- [행렬식(Determinant), 외적(Cross Product)](https://blog.naver.com/spin898/221145110501)\n",
    "- [공분산과 공분산 행렬(covariance)](https://kh-mo.github.io/notation/2021/01/02/covariance/)\n",
    "- [다차원 배열의 계산: 행렬의 내적(행렬 곱)](https://m.blog.naver.com/PostView.naver?isHttpsRedirect=true&blogId=cni1577&logNo=221754216275)"
   ]
  },
  {
   "cell_type": "markdown",
   "id": "e99378ef",
   "metadata": {},
   "source": [
    "### 선형대수\n",
    "\n",
    "- [[선형대수학] 놈(norm)이란 무엇인가?](https://bskyvision.com/825)\n",
    "- [[Python NumPy] 선형대수 함수 (Linear Algebra)](https://rfriend.tistory.com/380)\n",
    "- [[선형대수] 내적(inner product) 의미](https://losskatsu.github.io/linear-algebra/innerproduct/#)"
   ]
  },
  {
   "cell_type": "markdown",
   "id": "710de6bc",
   "metadata": {},
   "source": [
    "### 통계학\n",
    "\n",
    "- [어휘 빈도- 문서 역빈도 분석](https://pastime2532.tistory.com/98)\n",
    "- [T-검정](https://bioinformaticsandme.tistory.com/80)\n",
    "- [라쏘(Lasso)](https://inistory.tistory.com/41)\n",
    "- [p-value](https://adnoctum.tistory.com/332)\n",
    "- [귀무가설과 대립가설이란 무엇인가?](https://drhongdatanote.tistory.com/59)\n",
    "- [평균, 편차, 분산, 표준편차](https://hsm-edu.tistory.com/1182)\n",
    "- [정규화(Normalization) vs 표준화(Standardization)](https://heeya-stupidbutstudying.tistory.com/32)\n",
    "- [왜도(skewness) 첨도(kurtosis)](https://m.blog.naver.com/yk60park/222100758577)"
   ]
  },
  {
   "cell_type": "markdown",
   "id": "7a102ebb",
   "metadata": {},
   "source": [
    "---"
   ]
  },
  {
   "cell_type": "markdown",
   "id": "6788fce6",
   "metadata": {},
   "source": [
    "## 기타\n",
    "\n",
    "- [인공지능 개발자 모임](http://aidev.co.kr/)\n",
    "- [한국데이터산업진흥원](https://www.kdata.or.kr/kr/main.do)\n",
    "- [보건의료빅데이터개방시스템](https://opendata.hira.or.kr/home.do)\n",
    "- [TeX_및_LaTeX_수식_문법](http://tomoyo.ivyro.net/123/wiki.php/TeX_%EB%B0%8F_LaTeX_%EC%88%98%EC%8B%9D_%EB%AC%B8%EB%B2%95)\n",
    "- [데이터 사이언스 스쿨](https://datascienceschool.net/01%20python/03.04%20%EA%B8%B0%EC%88%A0%20%ED%86%B5%EA%B3%84.html)\n",
    "- [UCI Machine Learning Repository](https://archive.ics.uci.edu/ml/datasets.php?format=&task=cla&att=&area=&numAtt=&numIns=&type=&sort=nameUp&view=table)\n",
    "- [투빅스](http://www.datamarket.kr/xe/page_QEhq64)\n",
    "- [파이썬 코딩의 기술 - 개정 2판](https://thebook.io/080235/)\n",
    "- [파이썬 코딩 도장](https://dojang.io/course/view.php?id=7)\n",
    "- [생활코딩 - 머신러닝](https://opentutorials.org/course/4548)\n",
    "- [구글 브레인 팀에게 배우는 딥러닝 with TensorFlow.js](https://thebook.io/080237/)\n",
    "- [AI Expert Roadmap](https://i.am.ai/roadmap/#fundamentals)\n",
    "- [BI(Business Intelligence)란 무엇일까?](https://blog.isusystem.com/blog/what-is-bisiness-intelligence/)\n",
    "- [CIFAR-10 이미지 분류를 위한 CNN을 구성해보자! (Keras)](https://gruuuuu.github.io/machine-learning/cifar10-cnn/)\n"
   ]
  },
  {
   "cell_type": "markdown",
   "id": "bd288a7f",
   "metadata": {},
   "source": [
    "---"
   ]
  },
  {
   "cell_type": "markdown",
   "id": "bd6f655a",
   "metadata": {},
   "source": [
    "## Paper Review\n",
    "\n",
    "- [U-Net 논문 리뷰 — U-Net: Convolutional Networks for Biomedical Image Segmentation](https://medium.com/@msmapark2/u-net-%EB%85%BC%EB%AC%B8-%EB%A6%AC%EB%B7%B0-u-net-convolutional-networks-for-biomedical-image-segmentation-456d6901b28a)\n",
    "- [Papers with code(머신러닝 논문 사이트)](https://paperswithcode.com/)"
   ]
  },
  {
   "cell_type": "markdown",
   "id": "cbb18f3a",
   "metadata": {},
   "source": [
    "---"
   ]
  },
  {
   "cell_type": "markdown",
   "id": "4f232f60",
   "metadata": {},
   "source": [
    "## 보강\n",
    "\n",
    "- [snapcamera](https://snapcamera.snapchat.com/)\n",
    "- [SIGGRAPH](https://s2022.siggraph.org/?utm_campaign=Registration%20Google%20Branded%20Search%20Ads&utm_source=search&utm_medium=search&utm_term&utm_content&cpn_id=628e734fede4f87920569773&e_id=60f70f258f0f937b1fd99273&gclid=Cj0KCQjw_viWBhD8ARIsAH1mCd7PFd9Vv7RdjQ_dP7cGV_bK0nM-dIKThDNL13C7MRnXUyPARXz5Q9AaAn2OEALw_wcB)\n",
    "- [Authentic Volumetric Avatars From a Phone Scan](https://s2022.siggraph.org/presentation/?id=papers_524&sess=sess107)\n",
    "- [디지털 트윈](https://ko.wikipedia.org/wiki/%EB%94%94%EC%A7%80%ED%84%B8_%ED%8A%B8%EC%9C%88)\n",
    "- [RGB-D 카메라를 이용한 실시간 가상 현실 평면 추정](https://koreascience.kr/article/JAKO201607564006501.pdf)\n",
    "- [RGBD 카메라 기반 3D reconstruction 동향](https://m.blog.naver.com/PostView.naver?isHttpsRedirect=true&blogId=talesoff&logNo=221460133466)\n",
    "- [Tech at Meta](https://tech.fb.com/ar-vr/)\n",
    "- [NVIDIA Research Shows GauGAN AI Art Demo Now Responds to Words](https://blogs.nvidia.com/blog/2021/11/22/gaugan2-ai-art-demo/)\n",
    "- [Two Minute Papers](https://www.youtube.com/c/K%C3%A1rolyZsolnai)\n",
    "- [PapersWithCode](https://paperswithcode.com/)\n",
    "- [openpose](https://github.com/CMU-Perceptual-Computing-Lab/openpose)\n",
    "- [Deep Learning Monitor](https://deeplearn.org/)\n",
    "- [[Deep Learning] end-to-end trainable neural network](https://eehoeskrap.tistory.com/183)\n",
    "- [What’s the Difference Between Deep Learning Training and Inference?](https://blogs.nvidia.com/blog/2016/08/22/difference-deep-learning-training-inference-ai/)\n",
    "- [Keras – Save and Load Your Deep Learning Models](https://pyimagesearch.com/2018/12/10/keras-save-and-load-your-deep-learning-models/)\n",
    "- [모델 저장과 복원](https://www.tensorflow.org/tutorials/keras/save_and_load?hl=ko)\n",
    "- [Using OpenVINO with OpenCV](https://learnopencv.com/using-openvino-with-opencv/)\n",
    "- [딥러닝 학습/추론과 이에 따른 하드웨어 차이 비교](https://lifeisenjoyable.tistory.com/7)\n",
    "- [MediaPipe](https://google.github.io/mediapipe/)"
   ]
  },
  {
   "cell_type": "markdown",
   "id": "be9a4686",
   "metadata": {},
   "source": [
    "---"
   ]
  },
  {
   "cell_type": "markdown",
   "id": "15864d27",
   "metadata": {},
   "source": [
    "# 프로젝트"
   ]
  },
  {
   "cell_type": "markdown",
   "id": "36ec725f",
   "metadata": {},
   "source": [
    "## 팀 프로젝트"
   ]
  },
  {
   "cell_type": "markdown",
   "id": "2107ec5d",
   "metadata": {},
   "source": [
    "### 3조 <미정>\n",
    "\n",
    "- [서울시 교통사고 현황 (사고유형별) 통계](https://data.seoul.go.kr/dataList/322/S/2/datasetView.do)\n",
    "- [Air Pollution in Seoul](https://www.kaggle.com/datasets/bappekim/air-pollution-in-seoul/code)\n",
    "- [Breast Cancer Wisconsin (Diagnostic) Data Set](https://www.kaggle.com/datasets/uciml/breast-cancer-wisconsin-data)\n",
    "- [Women's Shoe Prices](https://www.kaggle.com/datasets/datafiniti/womens-shoes-prices)\n",
    "- [심장 질환 예측 경진대회](https://dacon.io/competitions/official/235848/data)\n",
    "- [SMS Spam Collection Dataset](https://www.kaggle.com/datasets/uciml/sms-spam-collection-dataset)\n",
    "\n",
    "### 10조 <고인물>\n",
    "\n",
    "- [How can I mix image and data into a CNN](https://stats.stackexchange.com/questions/378338/how-can-i-mix-image-and-data-into-a-cnn)\n",
    "- [Concatenate Image and CSV data Tensorflow](https://stackoverflow.com/questions/68793010/concatenate-image-and-csv-data-tensorflow)\n",
    "- [Skin lesion classification using ensembles of multi-resolution EfficientNets with meta data](https://www.sciencedirect.com/science/article/pii/S2215016120300832#bib0013)\n",
    "- [[tf.data] TensorFlow Input Pipelines](https://seing.tistory.com/160)"
   ]
  },
  {
   "cell_type": "markdown",
   "id": "fe6d26c2",
   "metadata": {},
   "source": [
    "---"
   ]
  },
  {
   "cell_type": "markdown",
   "id": "542b276a",
   "metadata": {},
   "source": [
    "## 개인 프로젝트"
   ]
  },
  {
   "cell_type": "markdown",
   "id": "be92957d",
   "metadata": {},
   "source": [
    "### 자폐(ASD, Autism Spectrum Disorder)관련 사이트\n",
    "\n",
    "- [자폐증 / 자폐 스펙트럼 장애(Autism spectrum disorder)](https://www.amc.seoul.kr/asan/healthinfo/disease/diseaseDetail.do?contentId=31896&tabIndex=0)\n",
    "- [보건복지부 국립나주병원 자폐스펙트럼장애](http://www.najumh.go.kr/html/content.do?depth=fc&menu_cd=02_05_00_01)\n",
    "- [음성 정보를 이용한 자폐아 치료용 로봇의 동작 설계](https://koreascience.kr/article/JAKO201809242560306.pdf)\n",
    "- [서울대·연세대 컨소시엄, ‘자폐스펙트럼장애 예측·진단 기술’ 개발 추진](https://www.medifonews.com/mobile/article.html?no=168093)\n",
    "- [인공지능으로 ‘자폐’ 증상과 심각도 예측](http://www.mdon.co.kr/news/article.html?no=29249)\n",
    "- [자폐 조기 선별을 위한 리빙랩 구축 방법과 데이터 획득 방안 연구](https://www.kci.go.kr/kciportal/ci/sereArticleSearch/ciSereArtiView.kci?sereArticleSearchBean.artiId=ART002615819)\n",
    "- [자폐 스펙트럼 장애(Autism spectrum disorder)의 조기 발견](http://psy.amc.seoul.kr/asan/depts/psy/K/bbsDetail.do?menuId=862&contentId=204786)\n",
    "- [자폐 스펙트럼과 IT 기회요소](https://www.magazinemsv.com/Letter/?q=YToyOntzOjEyOiJrZXl3b3JkX3R5cGUiO3M6MzoiYWxsIjtzOjQ6InBhZ2UiO2k6MTt9&bmode=view&idx=8291684&t=board)\n",
    "- [아스퍼거 증후군](https://www.amc.seoul.kr/asan/healthinfo/disease/diseaseDetail.do?contentId=32718)\n",
    "- [레트 증후군](https://www.amc.seoul.kr/asan/healthinfo/disease/diseaseDetail.do?contentId=32406)\n",
    "- [소아기 붕괴성 장애](https://m.blog.naver.com/PostView.naver?isHttpsRedirect=true&blogId=lhs651104&logNo=220882708192)"
   ]
  },
  {
   "cell_type": "markdown",
   "id": "cc60fc52",
   "metadata": {},
   "source": [
    "---"
   ]
  }
 ],
 "metadata": {
  "kernelspec": {
   "display_name": "Python 3 (ipykernel)",
   "language": "python",
   "name": "python3"
  },
  "language_info": {
   "codemirror_mode": {
    "name": "ipython",
    "version": 3
   },
   "file_extension": ".py",
   "mimetype": "text/x-python",
   "name": "python",
   "nbconvert_exporter": "python",
   "pygments_lexer": "ipython3",
   "version": "3.7.13"
  },
  "toc": {
   "base_numbering": 1,
   "nav_menu": {},
   "number_sections": true,
   "sideBar": true,
   "skip_h1_title": false,
   "title_cell": "Table of Contents",
   "title_sidebar": "Contents",
   "toc_cell": false,
   "toc_position": {},
   "toc_section_display": true,
   "toc_window_display": false
  },
  "varInspector": {
   "cols": {
    "lenName": 16,
    "lenType": 16,
    "lenVar": 40
   },
   "kernels_config": {
    "python": {
     "delete_cmd_postfix": "",
     "delete_cmd_prefix": "del ",
     "library": "var_list.py",
     "varRefreshCmd": "print(var_dic_list())"
    },
    "r": {
     "delete_cmd_postfix": ") ",
     "delete_cmd_prefix": "rm(",
     "library": "var_list.r",
     "varRefreshCmd": "cat(var_dic_list()) "
    }
   },
   "types_to_exclude": [
    "module",
    "function",
    "builtin_function_or_method",
    "instance",
    "_Feature"
   ],
   "window_display": false
  }
 },
 "nbformat": 4,
 "nbformat_minor": 5
}
